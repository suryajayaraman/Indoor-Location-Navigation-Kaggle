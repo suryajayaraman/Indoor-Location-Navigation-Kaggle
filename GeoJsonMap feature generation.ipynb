{
 "cells": [
  {
   "cell_type": "code",
   "execution_count": 1,
   "metadata": {},
   "outputs": [],
   "source": [
    "# standard libraries import\n",
    "import os\n",
    "import glob\n",
    "import json\n",
    "import numpy as np\n",
    "import pandas as pd\n",
    "from pathlib import Path\n",
    "from typing import List, Tuple, Any\n",
    "\n",
    "import cv2\n",
    "import matplotlib.pyplot as plt\n",
    "\n",
    "\n",
    "## reading as df-like format using geopandas library\n",
    "import geopandas as gpd\n",
    "\n",
    "## transformation to lat, long coordinates\n",
    "import pyproj\n",
    "import utm"
   ]
  },
  {
   "cell_type": "code",
   "execution_count": 2,
   "metadata": {},
   "outputs": [],
   "source": [
    "rootDir = Path('metadata')\n",
    "floor_map = {\"B2\": -2, \"B1\": -1, \"F1\": 0, \"F2\": 1, \"F3\": 2, \"F4\": 3, \"F5\": 4, \"F6\": 5, \"F7\": 6, \"F8\": 7, \"F9\": 8,\n",
    "             \"1F\": 0, \"2F\": 1, \"3F\": 2, \"4F\": 3, \"5F\": 4, \"6F\": 5, \"7F\": 6, \"8F\": 7, \"9F\": 8}\n",
    "sampleCsvPath = 'sample_submission.csv'\n",
    "imageOutputDir = 'referencePublicNotebooks/floorDataImages'\n",
    "\n",
    "proj = pyproj.Transformer.from_crs(3857, 4326, always_xy=True)\n",
    "maxFloorDimension = 440.0\n",
    "maxFigureSize = 22.0"
   ]
  },
  {
   "cell_type": "code",
   "execution_count": 3,
   "metadata": {},
   "outputs": [],
   "source": [
    "def generate_target_buildings() -> List[str]:\n",
    "    ssubm = pd.read_csv(sampleCsvPath)\n",
    "    ssubm_df = ssubm[\"site_path_timestamp\"].apply(lambda x: pd.Series(x.split(\"_\")))\n",
    "    buildingsList = sorted(ssubm_df[0].value_counts().index.tolist()) # type: ignore\n",
    "    return buildingsList"
   ]
  },
  {
   "cell_type": "code",
   "execution_count": 4,
   "metadata": {},
   "outputs": [],
   "source": [
    "def get2DPolygonPoints(arr):\n",
    "    polygonPoints = None\n",
    "    numElements = arr.size\n",
    "    if((numElements > 0) and (numElements % 2 == 0)):\n",
    "        polygonPoints = arr.reshape(-1,2)\n",
    "    return polygonPoints\n",
    "\n",
    "def getXYCoordinates(polygonData):\n",
    "    x, y = polygonData.exterior.coords.xy\n",
    "    x, y = np.array(x), np.array(y)\n",
    "    longLat = np.column_stack(proj.transform(x, y))\n",
    "    easting, northing, _, _ = utm.from_latlon(longLat[:,1], longLat[:,0])\n",
    "    utmCoordinates = np.column_stack((easting, northing))\n",
    "    return get2DPolygonPoints(utmCoordinates)\n",
    "    \n",
    "def getReferenceUTMPoint(geoJsonDf):\n",
    "    referenceUTMPoint = np.array([0.0, 0.0])\n",
    "    boundingPolygon = geoJsonDf.loc[0, 'utm']\n",
    "    if((boundingPolygon is not None) and (boundingPolygon.size %2 == 0)):\n",
    "        minx = np.min(boundingPolygon[:,0])\n",
    "        miny = np.min(boundingPolygon[:,1])\n",
    "        referenceUTMPoint = np.array([minx, miny])\n",
    "    return referenceUTMPoint\n",
    "\n",
    "def utmToLocal(origPoint, refPoint):\n",
    "    return origPoint - refPoint"
   ]
  },
  {
   "cell_type": "code",
   "execution_count": 5,
   "metadata": {},
   "outputs": [],
   "source": [
    "def getGeoJsonInfo(jsonFilePath):\n",
    "    # Opening JSON file \n",
    "    f = open(jsonFilePath)\n",
    "    # returns JSON object as  a dictionary \n",
    "    geoJsonData = json.load(f) \n",
    "\n",
    "    boundaryPoints = []\n",
    "    for index, feature in enumerate(geoJsonData['features']):\n",
    "        ## espgs -> latlong -> utm -> local coordinates\n",
    "        pts = np.array(feature['geometry']['coordinates'])\n",
    "        try:    \n",
    "            if len(pts.shape) <= 2:\n",
    "                pts = pts.reshape(-1,2)\n",
    "            else:\n",
    "                pts = np.squeeze(pts, axis=0)\n",
    "            \n",
    "            longLat = np.column_stack(proj.transform(pts[:,0], pts[:,1]))\n",
    "            easting, northing, _, _ = utm.from_latlon(longLat[:,1], longLat[:,0])\n",
    "            utmCoordinates = np.column_stack((easting, northing))\n",
    "            if index == 0:\n",
    "                minx = np.min(utmCoordinates[:,0])\n",
    "                miny = np.min(utmCoordinates[:,1])\n",
    "                leftMostPoint = np.array([minx, miny])\n",
    "            boundaryPoints.append(utmCoordinates - leftMostPoint)\n",
    "        except:\n",
    "            pass\n",
    "            ## print(pts.shape)\n",
    "            ##print(feature['geometry']['coordinates'])\n",
    "    coveredPercentage = (float(len(boundaryPoints)) / float(len(geoJsonData['features']))) * 100.0\n",
    "    ##print(coveredPercentage)\n",
    "    return boundaryPoints"
   ]
  },
  {
   "cell_type": "code",
   "execution_count": 6,
   "metadata": {},
   "outputs": [],
   "source": [
    "def getFloorInfoJson(jsonFilePath):\n",
    "    # Opening JSON file \n",
    "    f = open(jsonFilePath)\n",
    "    # returns JSON object as  a dictionary \n",
    "    floorInfo = json.load(f) \n",
    "    return np.array([floorInfo['map_info']['width'],floorInfo['map_info']['height']])"
   ]
  },
  {
   "cell_type": "code",
   "execution_count": 7,
   "metadata": {},
   "outputs": [],
   "source": [
    "def getFigureSize(floorInfo):\n",
    "    figureSize = np.round((floorInfo/maxFloorDimension)  * maxFigureSize)\n",
    "    return figureSize"
   ]
  },
  {
   "cell_type": "code",
   "execution_count": 8,
   "metadata": {},
   "outputs": [],
   "source": [
    "buildingsList = generate_target_buildings()"
   ]
  },
  {
   "cell_type": "markdown",
   "metadata": {},
   "source": [
    "```python\n",
    "for index,building in enumerate(buildingsList):\n",
    "    ## building = buildingsList[0]\n",
    "    building_path = rootDir / building\n",
    "    folders = sorted(building_path.glob('*'))\n",
    "    print(f\"{index} bdg - {building}\")\n",
    "\n",
    "    for i,folder in enumerate(folders):\n",
    "        ##print(folder.name)\n",
    "        ## geoJson boudnary points\n",
    "        geoJsonPath = sorted(folder.glob(\"*_map.json\"))[0]\n",
    "        break\n",
    "        \n",
    "        floorBoundaryPoints = getGeoJsonInfo(geoJsonPath)\n",
    "        \n",
    "        ## scale of image\n",
    "        floorDataJsonPath = sorted(folder.glob(\"*_info.json\"))[0]\n",
    "        floorInfo = getFloorInfoJson(floorDataJsonPath)\n",
    "        figureSize = getFigureSize(floorInfo)\n",
    "        \n",
    "        plt.ioff()\n",
    "        plt.figure(figsize=(figureSize[0],figureSize[1]), frameon=False)\n",
    "        for polygon in floorBoundaryPoints:\n",
    "            plt.plot(polygon[:,0], polygon[:,1], 'k')\n",
    "        plt.axis('off')\n",
    "        plt.savefig(f\"{imageOutputDir}/{index}_{building}_{folder.name}.png\", dpi=300, bbox_inches='tight', pad_inches=0);\n",
    "        plt.close()\n",
    "    break\n",
    "```        "
   ]
  },
  {
   "cell_type": "code",
   "execution_count": null,
   "metadata": {},
   "outputs": [],
   "source": [
    "##for index,building in enumerate(buildingsList):    \n",
    "##    if index > 3:\n",
    "index = 0 \n",
    "building = buildingsList[index]\n",
    "building_path = rootDir / building\n",
    "folders = sorted(building_path.glob('*'))\n",
    "print(f\"{index} bdg - {building}\")\n",
    "\n",
    "for i,folder in enumerate(folders):\n",
    "    ## geoJson boundary points\n",
    "    geoJsonPath = sorted(folder.glob(\"*_map.json\"))[0]\n",
    "    geoJsonData = gpd.read_file(geoJsonPath).loc[:,['id','geometry']]\n",
    "    print(f\"geoJsonData shape is {geoJsonData.shape}\")\n",
    "\n",
    "    ## scale of image\n",
    "    floorDataJsonPath = sorted(folder.glob(\"*_info.json\"))[0]\n",
    "    floorInfo = getFloorInfoJson(floorDataJsonPath)\n",
    "    figureSize = getFigureSize(floorInfo)\n",
    "\n",
    "    geoJsonData['utm'] = geoJsonData.apply(lambda row : getXYCoordinates(row['geometry']), axis=1)\n",
    "    referenceUTMPoint = getReferenceUTMPoint(geoJsonData)\n",
    "    geoJsonData['localPts'] = geoJsonData.apply(lambda row : utmToLocal(row['utm'], referenceUTMPoint), axis=1)\n",
    "    floorBoundaryPoints = geoJsonData['localPts'].values.tolist()\n",
    "\n",
    "    plt.ioff()\n",
    "    plt.figure(figsize=(figureSize[0],figureSize[1]), frameon=False)\n",
    "    for polygon in floorBoundaryPoints:\n",
    "        if polygon is not None:\n",
    "            plt.plot(polygon[:,0], polygon[:,1], 'k')\n",
    "    plt.axis('off')\n",
    "    plt.savefig(f\"{imageOutputDir}/{index}_{building}_{folder.name}.png\", dpi=300, bbox_inches='tight', pad_inches=0);\n",
    "    plt.close()\n",
    "## break"
   ]
  },
  {
   "cell_type": "markdown",
   "metadata": {},
   "source": [
    "img = np.expand_dims(cv2.imread('5a0546857ecc773753327266_B1.png', cv2.IMREAD_GRAYSCALE), axis=0)\n",
    "temp = np.repeat(img,3,axis=0)\n",
    "print(temp.dtype, temp.shape)"
   ]
  }
 ],
 "metadata": {
  "kernelspec": {
   "display_name": "kaggle",
   "language": "python",
   "name": "kaggle"
  },
  "language_info": {
   "codemirror_mode": {
    "name": "ipython",
    "version": 3
   },
   "file_extension": ".py",
   "mimetype": "text/x-python",
   "name": "python",
   "nbconvert_exporter": "python",
   "pygments_lexer": "ipython3",
   "version": "3.8.8"
  }
 },
 "nbformat": 4,
 "nbformat_minor": 4
}
