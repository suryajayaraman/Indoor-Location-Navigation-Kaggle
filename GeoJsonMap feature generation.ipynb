{
 "cells": [
  {
   "cell_type": "code",
   "execution_count": 11,
   "metadata": {},
   "outputs": [],
   "source": [
    "# standard libraries import\n",
    "import os\n",
    "import glob\n",
    "import json\n",
    "import numpy as np\n",
    "import pandas as pd\n",
    "from pathlib import Path\n",
    "from typing import List, Tuple, Any\n",
    "from tqdm import tqdm\n",
    "\n",
    "import cv2\n",
    "import matplotlib.pyplot as plt\n",
    "import matplotlib.cm as cm\n",
    "\n",
    "from shapely.geometry import Point\n",
    "from shapely.geometry.polygon import Polygon\n",
    "import shapely.ops as so\n",
    "\n",
    "## reading as df-like format using geopandas library\n",
    "import geopandas as gpd"
   ]
  },
  {
   "cell_type": "code",
   "execution_count": 4,
   "metadata": {},
   "outputs": [],
   "source": [
    "rootDir = Path('metadata')\n",
    "floor_map = {\"B2\": -2, \"B1\": -1, \"F1\": 0, \"F2\": 1, \"F3\": 2, \"F4\": 3, \"F5\": 4, \"F6\": 5, \"F7\": 6, \"F8\": 7, \"F9\": 8,\n",
    "             \"1F\": 0, \"2F\": 1, \"3F\": 2, \"4F\": 3, \"5F\": 4, \"6F\": 5, \"7F\": 6, \"8F\": 7, \"9F\": 8}\n",
    "sampleCsvPath = 'sample_submission.csv'\n",
    "imageOutputDir = 'referencePublicNotebooks/floorDataImages'\n",
    "compareImgFolder = 'referencePublicNotebooks/compareImage'\n",
    "##proj = pyproj.Transformer.from_crs(3857, 4326, always_xy=True)\n",
    "maxFloorDimension = 440.0\n",
    "maxFigureSize = 22.0"
   ]
  },
  {
   "cell_type": "code",
   "execution_count": 5,
   "metadata": {},
   "outputs": [],
   "source": [
    "def generate_target_buildings() -> List[str]:\n",
    "    ssubm = pd.read_csv(sampleCsvPath)\n",
    "    ssubm_df = ssubm[\"site_path_timestamp\"].apply(lambda x: pd.Series(x.split(\"_\")))\n",
    "    buildingsList = sorted(ssubm_df[0].value_counts().index.tolist()) # type: ignore\n",
    "    return buildingsList"
   ]
  },
  {
   "cell_type": "code",
   "execution_count": 6,
   "metadata": {},
   "outputs": [],
   "source": [
    "def getFloorInfoJson(jsonFilePath):\n",
    "    # Opening JSON file \n",
    "    f = open(jsonFilePath)\n",
    "    # returns JSON object as  a dictionary \n",
    "    floorInfo = json.load(f) \n",
    "    return np.array([floorInfo['map_info']['width'],floorInfo['map_info']['height']])\n",
    "\n",
    "def getFigureSize(floorInfo):\n",
    "    figureSize = np.round((floorInfo/maxFloorDimension)  * maxFigureSize)\n",
    "    return figureSize"
   ]
  },
  {
   "cell_type": "code",
   "execution_count": 7,
   "metadata": {},
   "outputs": [],
   "source": [
    "def generateImgPaths():\n",
    "    originalImgPaths = []\n",
    "    generatedImgPaths = []\n",
    "\n",
    "    for index,building in enumerate(buildingsList):    \n",
    "        building = buildingsList[index]\n",
    "        building_path = rootDir / building\n",
    "        folders = sorted(building_path.glob('*'))\n",
    "\n",
    "        for i,folder in enumerate(folders):\n",
    "            originalImgPaths.append(str(sorted(folder.glob(\"*_image.png\"))[0]))\n",
    "            generatedImgPaths.append(f\"{imageOutputDir}/{index}_{building}_{folder.name}.png\")\n",
    "    return originalImgPaths, generatedImgPaths"
   ]
  },
  {
   "cell_type": "code",
   "execution_count": 8,
   "metadata": {},
   "outputs": [],
   "source": [
    "buildingsList = generate_target_buildings()"
   ]
  },
  {
   "cell_type": "markdown",
   "metadata": {},
   "source": [
    "```python\n",
    "for index,building in enumerate(buildingsList):    \n",
    "    building = buildingsList[index]\n",
    "    building_path = rootDir / building\n",
    "    folders = sorted(building_path.glob('*'))\n",
    "    print(f\"{index} bdg - {building}\")\n",
    "\n",
    "    for i,folder in enumerate(folders):\n",
    "        print(folder)\n",
    "        ## geoJson boundary points\n",
    "        geoJsonPath = sorted(folder.glob(\"*_map.json\"))[0]\n",
    "        with open(geoJsonPath, 'rb') as inputFile:\n",
    "            geofloor_data = json.load(inputFile)\n",
    "\n",
    "        ## scale of image\n",
    "        floorDataJsonPath = sorted(folder.glob(\"*_info.json\"))[0]\n",
    "        floorInfo = getFloorInfoJson(floorDataJsonPath)\n",
    "        figureSize = getFigureSize(floorInfo)\n",
    "\n",
    "        type_poly = geofloor_data['features'][0]['geometry']['type']\n",
    "        if type_poly == 'Polygon':\n",
    "            polygon = np.array(geofloor_data['features'][0]['geometry']['coordinates'][0])\n",
    "        else:\n",
    "            polygon = np.array(geofloor_data['features'][0]['geometry']['coordinates'][0][0])\n",
    "\n",
    "        floor_polygons = Polygon(polygon)\n",
    "        store_polygons_l = [Polygon(features['geometry']['coordinates'][0]) for features in geofloor_data['features'][1:]]\n",
    "        store_polygons = so.unary_union(store_polygons_l)\n",
    "\n",
    "        ## plot output\n",
    "        plt.ioff()\n",
    "        plt.figure(figsize=(figureSize[0],figureSize[1]), frameon=False)\n",
    "\n",
    "        ## plot floor polygons\n",
    "        xs, ys = floor_polygons.exterior.coords.xy \n",
    "        plt.plot(xs, ys, 'k')        \n",
    "        \n",
    "        ## plot store boundaries\n",
    "        if isinstance(store_polygons, Polygon):\n",
    "            xs, ys = store_polygons.exterior.coords.xy \n",
    "            plt.plot(xs, ys, 'k')        \n",
    "        else:\n",
    "            for geom in store_polygons.geoms:    \n",
    "                xs, ys = geom.exterior.xy   \n",
    "                plt.plot(xs, ys, 'k')        \n",
    "        \n",
    "        plt.axis('off')\n",
    "        plt.savefig(f\"{imageOutputDir}/{index}_{building}_{folder.name}.png\", dpi=300, bbox_inches='tight', pad_inches=0);\n",
    "        plt.close()\n",
    "```             "
   ]
  },
  {
   "cell_type": "code",
   "execution_count": 9,
   "metadata": {},
   "outputs": [],
   "source": [
    "originalImgPaths, generatedImgPaths = generateImgPaths()"
   ]
  },
  {
   "cell_type": "code",
   "execution_count": 17,
   "metadata": {},
   "outputs": [
    {
     "name": "stderr",
     "output_type": "stream",
     "text": [
      "100%|██████████| 139/139 [03:46<00:00,  1.63s/it]\n"
     ]
    }
   ],
   "source": [
    "plt.ioff()\n",
    "\n",
    "for i in tqdm(range(len(originalImgPaths))):\n",
    "    ## subplot to plot\n",
    "    fig, axes = plt.subplots(1, 2, figsize=(16, 6))\n",
    "        \n",
    "    ## read image\n",
    "    origImg = cv2.imread(originalImgPaths[i])\n",
    "    ## origImg = cv2.cvtColor(origImg, cv2.COLOR_BGR2GRAY)\n",
    "    genImg  = cv2.imread(generatedImgPaths[i], cv2.IMREAD_GRAYSCALE)\n",
    "\n",
    "    ## get info from path\n",
    "    buildingName = generatedImgPaths[i].split(\"_\")[1]\n",
    "    floorName    = generatedImgPaths[i].split(\"_\")[-1].split(\".\")[0]\n",
    "\n",
    "    ## plot output\n",
    "    axes[0].imshow(origImg)\n",
    "    axes[0].set_title(f\"{buildingName}_{floorName}_orig\")\n",
    "    axes[0].grid(True)\n",
    "\n",
    "    axes[1].imshow(genImg, cmap=cm.gray)\n",
    "    axes[1].set_title(f\"{buildingName}_{floorName}_gen\")\n",
    "    axes[1].grid(True)\n",
    "    \n",
    "    plt.axis('off')\n",
    "    plt.savefig(f\"{compareImgFolder}/{buildingName}_{floorName}.png\", dpi=200, bbox_inches='tight', pad_inches=0);\n",
    "    plt.close()"
   ]
  },
  {
   "cell_type": "markdown",
   "metadata": {},
   "source": [
    "img = np.expand_dims(cv2.imread('5a0546857ecc773753327266_B1.png', cv2.IMREAD_GRAYSCALE), axis=0)\n",
    "temp = np.repeat(img,3,axis=0)\n",
    "print(temp.dtype, temp.shape)"
   ]
  }
 ],
 "metadata": {
  "kernelspec": {
   "display_name": "Python 3",
   "language": "python",
   "name": "python3"
  },
  "language_info": {
   "codemirror_mode": {
    "name": "ipython",
    "version": 3
   },
   "file_extension": ".py",
   "mimetype": "text/x-python",
   "name": "python",
   "nbconvert_exporter": "python",
   "pygments_lexer": "ipython3",
   "version": "3.8.8"
  }
 },
 "nbformat": 4,
 "nbformat_minor": 4
}
