{
 "cells": [
  {
   "cell_type": "code",
   "execution_count": 1,
   "metadata": {
    "_kg_hide-input": true,
    "execution": {
     "iopub.execute_input": "2021-03-13T06:27:35.161879Z",
     "iopub.status.busy": "2021-03-13T06:27:35.161349Z",
     "iopub.status.idle": "2021-03-13T06:27:35.164331Z",
     "shell.execute_reply": "2021-03-13T06:27:35.163808Z"
    },
    "papermill": {
     "duration": 0.020017,
     "end_time": "2021-03-13T06:27:35.164468",
     "exception": false,
     "start_time": "2021-03-13T06:27:35.144451",
     "status": "completed"
    },
    "tags": []
   },
   "outputs": [],
   "source": [
    "import os\n",
    "import sys\n",
    "import pickle\n",
    "import numpy as np\n",
    "import pandas as pd\n",
    "from glob import glob\n",
    "from tqdm import tqdm\n",
    "\n",
    "import dask\n",
    "from dask.distributed import wait\n",
    "from dask.distributed import Client, wait, LocalCluster"
   ]
  },
  {
   "cell_type": "code",
   "execution_count": 2,
   "metadata": {
    "_kg_hide-input": true,
    "execution": {
     "iopub.execute_input": "2021-03-13T06:27:35.199749Z",
     "iopub.status.busy": "2021-03-13T06:27:35.199143Z",
     "iopub.status.idle": "2021-03-13T06:27:36.425379Z",
     "shell.execute_reply": "2021-03-13T06:27:36.425937Z"
    },
    "papermill": {
     "duration": 1.248822,
     "end_time": "2021-03-13T06:27:36.426135",
     "exception": false,
     "start_time": "2021-03-13T06:27:35.177313",
     "status": "completed"
    },
    "tags": []
   },
   "outputs": [],
   "source": [
    "SENSORS = ['acce','acce_uncali','gyro',\n",
    "           'gyro_uncali','magn','magn_uncali','ahrs']\n",
    "\n",
    "NFEAS = {\n",
    "    'acce': 3,\n",
    "    'acce_uncali': 3,\n",
    "    'gyro': 3,\n",
    "    'gyro_uncali': 3,\n",
    "    'magn': 3,\n",
    "    'magn_uncali': 3,\n",
    "    'ahrs': 3,\n",
    "    'wifi': 1,\n",
    "    'ibeacon': 1,\n",
    "    'waypoint': 3\n",
    "}\n",
    "\n",
    "ACOLS = ['timestamp','x','y','z']\n",
    "        \n",
    "FIELDS = {\n",
    "    'acce': ACOLS,\n",
    "    'acce_uncali': ACOLS,\n",
    "    'gyro': ACOLS,\n",
    "    'gyro_uncali': ACOLS,\n",
    "    'magn': ACOLS,\n",
    "    'magn_uncali': ACOLS,\n",
    "    'ahrs': ACOLS,\n",
    "    'wifi': ['timestamp','ssid','bssid','rssi','last_timestamp'],\n",
    "    'ibeacon': ['timestamp','code','rssi','last_timestamp'],\n",
    "    'waypoint': ['timestamp','x','y']\n",
    "}\n",
    "\n",
    "def to_frame(data, col):\n",
    "    cols = FIELDS[col]\n",
    "    is_dummy = False\n",
    "    if data.shape[0]>0:\n",
    "        df = pd.DataFrame(data, columns=cols)\n",
    "    else:\n",
    "        df = create_dummy_df(cols)\n",
    "        is_dummy = True\n",
    "    for col in df.columns:\n",
    "        if 'timestamp' in col:\n",
    "            df[col] = df[col].astype('int64')\n",
    "    return df, is_dummy\n",
    "\n",
    "def create_dummy_df(cols):\n",
    "    df = pd.DataFrame()\n",
    "    for col in cols:\n",
    "        df[col] = [0]\n",
    "        if col in ['ssid','bssid']:\n",
    "            df[col] = df[col].map(str)\n",
    "    return df"
   ]
  },
  {
   "cell_type": "code",
   "execution_count": 3,
   "metadata": {
    "_kg_hide-input": true,
    "execution": {
     "iopub.execute_input": "2021-03-13T06:27:36.455078Z",
     "iopub.status.busy": "2021-03-13T06:27:36.454513Z",
     "iopub.status.idle": "2021-03-13T06:27:36.471933Z",
     "shell.execute_reply": "2021-03-13T06:27:36.472347Z"
    },
    "papermill": {
     "duration": 0.033124,
     "end_time": "2021-03-13T06:27:36.472503",
     "exception": false,
     "start_time": "2021-03-13T06:27:36.439379",
     "status": "completed"
    },
    "tags": []
   },
   "outputs": [],
   "source": [
    "from dataclasses import dataclass\n",
    "\n",
    "import numpy as np\n",
    "\n",
    "\n",
    "@dataclass\n",
    "class ReadData:\n",
    "    acce: np.ndarray\n",
    "    acce_uncali: np.ndarray\n",
    "    gyro: np.ndarray\n",
    "    gyro_uncali: np.ndarray\n",
    "    magn: np.ndarray\n",
    "    magn_uncali: np.ndarray\n",
    "    ahrs: np.ndarray\n",
    "    wifi: np.ndarray\n",
    "    ibeacon: np.ndarray\n",
    "    waypoint: np.ndarray\n",
    "\n",
    "\n",
    "def read_data_file(data_filename):\n",
    "    acce = []\n",
    "    acce_uncali = []\n",
    "    gyro = []\n",
    "    gyro_uncali = []\n",
    "    magn = []\n",
    "    magn_uncali = []\n",
    "    ahrs = []\n",
    "    wifi = []\n",
    "    ibeacon = []\n",
    "    waypoint = []\n",
    "\n",
    "    with open(data_filename, 'r', encoding='utf-8') as file:\n",
    "        lines = file.readlines()\n",
    "\n",
    "    for line_data in lines:\n",
    "        line_data = line_data.strip()\n",
    "        if not line_data or line_data[0] == '#':\n",
    "            continue\n",
    "\n",
    "        line_data = line_data.split('\\t')\n",
    "\n",
    "        if line_data[1] == 'TYPE_ACCELEROMETER':\n",
    "            acce.append([int(line_data[0]), float(line_data[2]), float(line_data[3]), float(line_data[4])])\n",
    "            continue\n",
    "\n",
    "        if line_data[1] == 'TYPE_ACCELEROMETER_UNCALIBRATED':\n",
    "            acce_uncali.append([int(line_data[0]), float(line_data[2]), float(line_data[3]), float(line_data[4])])\n",
    "            continue\n",
    "\n",
    "        if line_data[1] == 'TYPE_GYROSCOPE':\n",
    "            gyro.append([int(line_data[0]), float(line_data[2]), float(line_data[3]), float(line_data[4])])\n",
    "            continue\n",
    "\n",
    "        if line_data[1] == 'TYPE_GYROSCOPE_UNCALIBRATED':\n",
    "            gyro_uncali.append([int(line_data[0]), float(line_data[2]), float(line_data[3]), float(line_data[4])])\n",
    "            continue\n",
    "\n",
    "        if line_data[1] == 'TYPE_MAGNETIC_FIELD':\n",
    "            magn.append([int(line_data[0]), float(line_data[2]), float(line_data[3]), float(line_data[4])])\n",
    "            continue\n",
    "\n",
    "        if line_data[1] == 'TYPE_MAGNETIC_FIELD_UNCALIBRATED':\n",
    "            magn_uncali.append([int(line_data[0]), float(line_data[2]), float(line_data[3]), float(line_data[4])])\n",
    "            continue\n",
    "\n",
    "        if line_data[1] == 'TYPE_ROTATION_VECTOR':\n",
    "            if len(line_data)>=5:\n",
    "                ahrs.append([int(line_data[0]), float(line_data[2]), float(line_data[3]), float(line_data[4])])\n",
    "            continue\n",
    "\n",
    "        if line_data[1] == 'TYPE_WIFI':\n",
    "            sys_ts = line_data[0]\n",
    "            ssid = line_data[2]\n",
    "            bssid = line_data[3]\n",
    "            rssi = line_data[4]\n",
    "            lastseen_ts = line_data[6]\n",
    "            wifi_data = [sys_ts, ssid, bssid, rssi, lastseen_ts]\n",
    "            wifi.append(wifi_data)\n",
    "            continue\n",
    "\n",
    "        if line_data[1] == 'TYPE_BEACON':\n",
    "            ts = line_data[0]\n",
    "            uuid = line_data[2]\n",
    "            major = line_data[3]\n",
    "            minor = line_data[4]\n",
    "            rssi = line_data[6]\n",
    "            lastts = line_data[-1]\n",
    "            ibeacon_data = [ts, '_'.join([uuid, major, minor]), rssi, lastts]\n",
    "            ibeacon.append(ibeacon_data)\n",
    "            continue\n",
    "\n",
    "        if line_data[1] == 'TYPE_WAYPOINT':\n",
    "            waypoint.append([int(line_data[0]), float(line_data[2]), float(line_data[3])])\n",
    "\n",
    "    acce = np.array(acce)\n",
    "    acce_uncali = np.array(acce_uncali)\n",
    "    gyro = np.array(gyro)\n",
    "    gyro_uncali = np.array(gyro_uncali)\n",
    "    magn = np.array(magn)\n",
    "    magn_uncali = np.array(magn_uncali)\n",
    "    ahrs = np.array(ahrs)\n",
    "    wifi = np.array(wifi)\n",
    "    ibeacon = np.array(ibeacon)\n",
    "    waypoint = np.array(waypoint)\n",
    "\n",
    "    return ReadData(acce, acce_uncali, gyro, gyro_uncali, magn, magn_uncali, ahrs, wifi, ibeacon, waypoint)"
   ]
  },
  {
   "cell_type": "markdown",
   "metadata": {
    "papermill": {
     "duration": 0.012858,
     "end_time": "2021-03-13T06:27:36.498346",
     "exception": false,
     "start_time": "2021-03-13T06:27:36.485488",
     "status": "completed"
    },
    "tags": []
   },
   "source": [
    "The main changes made are these two lines:\n",
    "```\n",
    "lastts = line_data[-1] # last timestamp\n",
    "ibeacon_data = [ts, '_'.join([uuid, major, minor]), rssi, lastts]\n",
    "```"
   ]
  },
  {
   "cell_type": "code",
   "execution_count": 4,
   "metadata": {
    "_kg_hide-input": true,
    "execution": {
     "iopub.execute_input": "2021-03-13T06:27:36.528549Z",
     "iopub.status.busy": "2021-03-13T06:27:36.528020Z",
     "iopub.status.idle": "2021-03-13T06:27:36.536062Z",
     "shell.execute_reply": "2021-03-13T06:27:36.536522Z"
    },
    "papermill": {
     "duration": 0.023515,
     "end_time": "2021-03-13T06:27:36.536656",
     "exception": false,
     "start_time": "2021-03-13T06:27:36.513141",
     "status": "completed"
    },
    "tags": []
   },
   "outputs": [],
   "source": [
    "def get_test_df(PATH):\n",
    "    \"\"\" Function to read submission csv and return as timesorted df\"\"\"\n",
    "    dtest = pd.read_csv(f'{PATH}/sample_submission.csv')\n",
    "    dtest['building'] = dtest['site_path_timestamp'].apply(lambda x: x.split('_')[0])\n",
    "    dtest['path'] = dtest['site_path_timestamp'].apply(lambda x: x.split('_')[1])\n",
    "    dtest['timestamp'] = dtest['site_path_timestamp'].apply(lambda x: x.split('_')[2])\n",
    "    dtest['timestamp'] = dtest['timestamp'].astype('int64')\n",
    "    dtest = dtest.sort_values(['path','timestamp']).reset_index(drop=True)\n",
    "    return dtest\n",
    "\n",
    "\n",
    "def get_test_dfs(PATH, test_files):\n",
    "    \"\"\"\n",
    "    function reads test path files and returns a dict with \n",
    "    key = pathFileName, value  = submission csv for path file\n",
    "    \"\"\"\n",
    "    dtest = get_test_df(PATH)\n",
    "    buildings = set(dtest['building'].values.tolist())\n",
    "    dws = {}\n",
    "    for fname in tqdm(test_files):\n",
    "        path = fname.split('/')[-1].split('.')[0]\n",
    "        mask = dtest['path'] == path\n",
    "        dws[fname] = dtest.loc[mask, ['timestamp','x','y','floor','building','site_path_timestamp']].copy().reset_index(drop=True)\n",
    "    return dws\n",
    "\n",
    "\n",
    "def get_time_gap(name):\n",
    "    \"\"\"\n",
    "    Function reads a path file, finds ibeacon data if present,\n",
    "    returns the gap that maps from fake timestamp to actual timestamp for the \n",
    "    particular path file\n",
    "    \"\"\"\n",
    "    data = read_data_file(name)\n",
    "    db,no_ibeacon = to_frame(data.ibeacon,'ibeacon')\n",
    "    \n",
    "    # ibeacon data not present\n",
    "    if no_ibeacon == True:\n",
    "        if data.wifi.shape[0] > 0:\n",
    "            estimatedGap = max(data.wifi[:,-1].astype('int') - data.wifi[:,0].astype('int'))\n",
    "            return estimatedGap, False\n",
    "    \n",
    "    # ibeacon data is present in given path file\n",
    "    else:\n",
    "        gap = db['last_timestamp'] - db['timestamp']\n",
    "        assert gap.unique().shape[0]==1\n",
    "        return gap.values[0],no_ibeacon\n",
    "\n",
    "def fix_timestamp_test(df, gap):\n",
    "    df['real_timestamp'] = df['timestamp'] + gap\n",
    "    return df"
   ]
  },
  {
   "cell_type": "code",
   "execution_count": 5,
   "metadata": {
    "execution": {
     "iopub.execute_input": "2021-03-13T06:27:36.597481Z",
     "iopub.status.busy": "2021-03-13T06:27:36.596959Z",
     "iopub.status.idle": "2021-03-13T06:27:37.710668Z",
     "shell.execute_reply": "2021-03-13T06:27:37.711064Z"
    },
    "papermill": {
     "duration": 1.129364,
     "end_time": "2021-03-13T06:27:37.711236",
     "exception": false,
     "start_time": "2021-03-13T06:27:36.581872",
     "status": "completed"
    },
    "tags": []
   },
   "outputs": [
    {
     "data": {
      "text/html": [
       "<table style=\"border: 2px solid white;\">\n",
       "<tr>\n",
       "<td style=\"vertical-align: top; border: 0px solid white\">\n",
       "<h3 style=\"text-align: left;\">Client</h3>\n",
       "<ul style=\"text-align: left; list-style: none; margin: 0; padding: 0;\">\n",
       "  <li><b>Scheduler: </b>tcp://127.0.0.1:41831</li>\n",
       "  <li><b>Dashboard: </b><a href='http://127.0.0.1:8787/status' target='_blank'>http://127.0.0.1:8787/status</a></li>\n",
       "</ul>\n",
       "</td>\n",
       "<td style=\"vertical-align: top; border: 0px solid white\">\n",
       "<h3 style=\"text-align: left;\">Cluster</h3>\n",
       "<ul style=\"text-align: left; list-style:none; margin: 0; padding: 0;\">\n",
       "  <li><b>Workers: </b>2</li>\n",
       "  <li><b>Cores: </b>2</li>\n",
       "  <li><b>Memory: </b>7.23 GiB</li>\n",
       "</ul>\n",
       "</td>\n",
       "</tr>\n",
       "</table>"
      ],
      "text/plain": [
       "<Client: 'tcp://127.0.0.1:41831' processes=2 threads=2, memory=7.23 GiB>"
      ]
     },
     "execution_count": 5,
     "metadata": {},
     "output_type": "execute_result"
    }
   ],
   "source": [
    "# set n_workers to number of cores\n",
    "client = Client(n_workers=2, threads_per_worker=1)\n",
    "client"
   ]
  },
  {
   "cell_type": "markdown",
   "metadata": {
    "papermill": {
     "duration": 0.013919,
     "end_time": "2021-03-13T06:27:37.739008",
     "exception": false,
     "start_time": "2021-03-13T06:27:37.725089",
     "status": "completed"
    },
    "tags": []
   },
   "source": [
    "### Read data"
   ]
  },
  {
   "cell_type": "code",
   "execution_count": 6,
   "metadata": {},
   "outputs": [
    {
     "data": {
      "text/html": [
       "<div>\n",
       "<style scoped>\n",
       "    .dataframe tbody tr th:only-of-type {\n",
       "        vertical-align: middle;\n",
       "    }\n",
       "\n",
       "    .dataframe tbody tr th {\n",
       "        vertical-align: top;\n",
       "    }\n",
       "\n",
       "    .dataframe thead th {\n",
       "        text-align: right;\n",
       "    }\n",
       "</style>\n",
       "<table border=\"1\" class=\"dataframe\">\n",
       "  <thead>\n",
       "    <tr style=\"text-align: right;\">\n",
       "      <th></th>\n",
       "      <th>site_path_timestamp</th>\n",
       "      <th>floor</th>\n",
       "      <th>x</th>\n",
       "      <th>y</th>\n",
       "      <th>building</th>\n",
       "      <th>path</th>\n",
       "      <th>timestamp</th>\n",
       "    </tr>\n",
       "  </thead>\n",
       "  <tbody>\n",
       "    <tr>\n",
       "      <th>0</th>\n",
       "      <td>5da1389e4db8ce0c98bd0547_00ff0c9a71cc37a2ebdd0...</td>\n",
       "      <td>0</td>\n",
       "      <td>75.0</td>\n",
       "      <td>75.0</td>\n",
       "      <td>5da1389e4db8ce0c98bd0547</td>\n",
       "      <td>00ff0c9a71cc37a2ebdd0f05</td>\n",
       "      <td>10</td>\n",
       "    </tr>\n",
       "    <tr>\n",
       "      <th>1</th>\n",
       "      <td>5da1389e4db8ce0c98bd0547_00ff0c9a71cc37a2ebdd0...</td>\n",
       "      <td>0</td>\n",
       "      <td>75.0</td>\n",
       "      <td>75.0</td>\n",
       "      <td>5da1389e4db8ce0c98bd0547</td>\n",
       "      <td>00ff0c9a71cc37a2ebdd0f05</td>\n",
       "      <td>4048</td>\n",
       "    </tr>\n",
       "    <tr>\n",
       "      <th>2</th>\n",
       "      <td>5da1389e4db8ce0c98bd0547_00ff0c9a71cc37a2ebdd0...</td>\n",
       "      <td>0</td>\n",
       "      <td>75.0</td>\n",
       "      <td>75.0</td>\n",
       "      <td>5da1389e4db8ce0c98bd0547</td>\n",
       "      <td>00ff0c9a71cc37a2ebdd0f05</td>\n",
       "      <td>12526</td>\n",
       "    </tr>\n",
       "  </tbody>\n",
       "</table>\n",
       "</div>"
      ],
      "text/plain": [
       "                                 site_path_timestamp  floor     x     y  \\\n",
       "0  5da1389e4db8ce0c98bd0547_00ff0c9a71cc37a2ebdd0...      0  75.0  75.0   \n",
       "1  5da1389e4db8ce0c98bd0547_00ff0c9a71cc37a2ebdd0...      0  75.0  75.0   \n",
       "2  5da1389e4db8ce0c98bd0547_00ff0c9a71cc37a2ebdd0...      0  75.0  75.0   \n",
       "\n",
       "                   building                      path  timestamp  \n",
       "0  5da1389e4db8ce0c98bd0547  00ff0c9a71cc37a2ebdd0f05         10  \n",
       "1  5da1389e4db8ce0c98bd0547  00ff0c9a71cc37a2ebdd0f05       4048  \n",
       "2  5da1389e4db8ce0c98bd0547  00ff0c9a71cc37a2ebdd0f05      12526  "
      ]
     },
     "execution_count": 6,
     "metadata": {},
     "output_type": "execute_result"
    }
   ],
   "source": [
    "PATH = '.'\n",
    "#train_files = glob(f'{PATH}/train/*/*/*.txt')\n",
    "dtest = get_test_df(PATH)\n",
    "dtest.head(3)"
   ]
  },
  {
   "cell_type": "code",
   "execution_count": 7,
   "metadata": {
    "execution": {
     "iopub.execute_input": "2021-03-13T06:27:37.772375Z",
     "iopub.status.busy": "2021-03-13T06:27:37.771825Z",
     "iopub.status.idle": "2021-03-13T06:27:39.107962Z",
     "shell.execute_reply": "2021-03-13T06:27:39.107364Z"
    },
    "papermill": {
     "duration": 1.35524,
     "end_time": "2021-03-13T06:27:39.108093",
     "exception": false,
     "start_time": "2021-03-13T06:27:37.752853",
     "status": "completed"
    },
    "tags": []
   },
   "outputs": [],
   "source": [
    "test_sites = dtest['building'].unique()\n",
    "train_files = []\n",
    "for i in test_sites:\n",
    "    train_files.extend(glob(f'{PATH}/train/{i}/*/*.txt'))"
   ]
  },
  {
   "cell_type": "code",
   "execution_count": 8,
   "metadata": {
    "execution": {
     "iopub.execute_input": "2021-03-13T06:27:39.140998Z",
     "iopub.status.busy": "2021-03-13T06:27:39.140175Z",
     "iopub.status.idle": "2021-03-13T06:27:40.671969Z",
     "shell.execute_reply": "2021-03-13T06:27:40.671417Z"
    },
    "papermill": {
     "duration": 1.54956,
     "end_time": "2021-03-13T06:27:40.672100",
     "exception": false,
     "start_time": "2021-03-13T06:27:39.122540",
     "status": "completed"
    },
    "tags": []
   },
   "outputs": [
    {
     "name": "stderr",
     "output_type": "stream",
     "text": [
      "100%|██████████| 626/626 [00:01<00:00, 451.74it/s]\n"
     ]
    }
   ],
   "source": [
    "test_files = glob(f'{PATH}/test/*.txt')\n",
    "test_dfs = get_test_dfs(PATH, test_files)"
   ]
  },
  {
   "cell_type": "code",
   "execution_count": 9,
   "metadata": {},
   "outputs": [
    {
     "name": "stdout",
     "output_type": "stream",
     "text": [
      "10877 626 626\n"
     ]
    }
   ],
   "source": [
    "print(len(train_files), len(test_files), len(list(test_dfs.keys())))"
   ]
  },
  {
   "cell_type": "markdown",
   "metadata": {
    "papermill": {
     "duration": 0.017968,
     "end_time": "2021-03-13T06:27:40.708486",
     "exception": false,
     "start_time": "2021-03-13T06:27:40.690518",
     "status": "completed"
    },
    "tags": []
   },
   "source": [
    "`test_dfs` is a dictionary which maps the file path to its waypoint dataframe."
   ]
  },
  {
   "cell_type": "markdown",
   "metadata": {
    "papermill": {
     "duration": 0.017888,
     "end_time": "2021-03-13T06:27:40.744494",
     "exception": false,
     "start_time": "2021-03-13T06:27:40.726606",
     "status": "completed"
    },
    "tags": []
   },
   "source": [
    "### How to recover the real timestamp\n",
    "\n",
    "In the [webinar](https://youtu.be/xt3OzMC-XMU?t=690), the host mentioned that for `ibeacon`, the `timestamp` and the `last_timestamp` are the same timestamps. We can verify this claim by checking the training ibeacon data. "
   ]
  },
  {
   "cell_type": "code",
   "execution_count": 10,
   "metadata": {},
   "outputs": [
    {
     "name": "stdout",
     "output_type": "stream",
     "text": [
      "   timestamp  code  rssi  last_timestamp\n",
      "0          0     0     0               0\n",
      "True\n"
     ]
    }
   ],
   "source": [
    "fname = train_files[4]\n",
    "fname\n",
    "data = read_data_file(fname)\n",
    "db,no_ibeacon = to_frame(data.ibeacon,'ibeacon')\n",
    "print(db.head())\n",
    "print((db['timestamp']==db['last_timestamp']).all())"
   ]
  },
  {
   "cell_type": "code",
   "execution_count": 11,
   "metadata": {},
   "outputs": [
    {
     "data": {
      "text/plain": [
       "True"
      ]
     },
     "execution_count": 11,
     "metadata": {},
     "output_type": "execute_result"
    }
   ],
   "source": [
    "no_ibeacon"
   ]
  },
  {
   "cell_type": "code",
   "execution_count": 12,
   "metadata": {},
   "outputs": [],
   "source": [
    "wifi_db, no_wifiData = to_frame(data.wifi, 'wifi')"
   ]
  },
  {
   "cell_type": "code",
   "execution_count": 13,
   "metadata": {},
   "outputs": [
    {
     "data": {
      "text/plain": [
       "(363, 5)"
      ]
     },
     "execution_count": 13,
     "metadata": {},
     "output_type": "execute_result"
    }
   ],
   "source": [
    "wifi_db.shape"
   ]
  },
  {
   "cell_type": "code",
   "execution_count": 14,
   "metadata": {},
   "outputs": [
    {
     "data": {
      "text/html": [
       "<div>\n",
       "<style scoped>\n",
       "    .dataframe tbody tr th:only-of-type {\n",
       "        vertical-align: middle;\n",
       "    }\n",
       "\n",
       "    .dataframe tbody tr th {\n",
       "        vertical-align: top;\n",
       "    }\n",
       "\n",
       "    .dataframe thead th {\n",
       "        text-align: right;\n",
       "    }\n",
       "</style>\n",
       "<table border=\"1\" class=\"dataframe\">\n",
       "  <thead>\n",
       "    <tr style=\"text-align: right;\">\n",
       "      <th></th>\n",
       "      <th>timestamp</th>\n",
       "      <th>ssid</th>\n",
       "      <th>bssid</th>\n",
       "      <th>rssi</th>\n",
       "      <th>last_timestamp</th>\n",
       "    </tr>\n",
       "  </thead>\n",
       "  <tbody>\n",
       "    <tr>\n",
       "      <th>0</th>\n",
       "      <td>1573292530396</td>\n",
       "      <td>89ca3c80b5f8d85b205ba7ec76a654db26c553af</td>\n",
       "      <td>f2472445a8662d81689a985992de065e61a47db5</td>\n",
       "      <td>-63</td>\n",
       "      <td>1573292508052</td>\n",
       "    </tr>\n",
       "    <tr>\n",
       "      <th>1</th>\n",
       "      <td>1573292530396</td>\n",
       "      <td>89ca3c80b5f8d85b205ba7ec76a654db26c553af</td>\n",
       "      <td>f910bdb300a735f7d475b31cc192d8aef54c4ede</td>\n",
       "      <td>-65</td>\n",
       "      <td>1573292523371</td>\n",
       "    </tr>\n",
       "    <tr>\n",
       "      <th>2</th>\n",
       "      <td>1573292530396</td>\n",
       "      <td>70bdd3ed8f22721d8347797977d6b6d7377fe00d</td>\n",
       "      <td>732433e46154dc8e3ec32650a8004c5e52bbae67</td>\n",
       "      <td>-67</td>\n",
       "      <td>1573292508064</td>\n",
       "    </tr>\n",
       "    <tr>\n",
       "      <th>3</th>\n",
       "      <td>1573292530396</td>\n",
       "      <td>3c1e7602176e050694e3a5cf8ba5f6f725e3ec51</td>\n",
       "      <td>889bfa434d66eed8c386ccbc90f445932c43f8dd</td>\n",
       "      <td>-69</td>\n",
       "      <td>1573292528847</td>\n",
       "    </tr>\n",
       "    <tr>\n",
       "      <th>4</th>\n",
       "      <td>1573292530396</td>\n",
       "      <td>d0af9d9c2709796ee07a0432de0e26298a64e3e8</td>\n",
       "      <td>11567178cc5ca582a37c4733207c77739e1bf5fd</td>\n",
       "      <td>-69</td>\n",
       "      <td>1573292523065</td>\n",
       "    </tr>\n",
       "  </tbody>\n",
       "</table>\n",
       "</div>"
      ],
      "text/plain": [
       "       timestamp                                      ssid  \\\n",
       "0  1573292530396  89ca3c80b5f8d85b205ba7ec76a654db26c553af   \n",
       "1  1573292530396  89ca3c80b5f8d85b205ba7ec76a654db26c553af   \n",
       "2  1573292530396  70bdd3ed8f22721d8347797977d6b6d7377fe00d   \n",
       "3  1573292530396  3c1e7602176e050694e3a5cf8ba5f6f725e3ec51   \n",
       "4  1573292530396  d0af9d9c2709796ee07a0432de0e26298a64e3e8   \n",
       "\n",
       "                                      bssid rssi  last_timestamp  \n",
       "0  f2472445a8662d81689a985992de065e61a47db5  -63   1573292508052  \n",
       "1  f910bdb300a735f7d475b31cc192d8aef54c4ede  -65   1573292523371  \n",
       "2  732433e46154dc8e3ec32650a8004c5e52bbae67  -67   1573292508064  \n",
       "3  889bfa434d66eed8c386ccbc90f445932c43f8dd  -69   1573292528847  \n",
       "4  11567178cc5ca582a37c4733207c77739e1bf5fd  -69   1573292523065  "
      ]
     },
     "execution_count": 14,
     "metadata": {},
     "output_type": "execute_result"
    }
   ],
   "source": [
    "wifi_db.head()"
   ]
  },
  {
   "cell_type": "markdown",
   "metadata": {
    "papermill": {
     "duration": 0.018701,
     "end_time": "2021-03-13T06:27:41.021974",
     "exception": false,
     "start_time": "2021-03-13T06:27:41.003273",
     "status": "completed"
    },
    "tags": []
   },
   "source": [
    "I also checked every other train files. The claim is true for all of them. Next, let's look at one test ibeacon data. "
   ]
  },
  {
   "cell_type": "code",
   "execution_count": 15,
   "metadata": {
    "execution": {
     "iopub.execute_input": "2021-03-13T06:27:41.064906Z",
     "iopub.status.busy": "2021-03-13T06:27:41.064321Z",
     "iopub.status.idle": "2021-03-13T06:27:41.631359Z",
     "shell.execute_reply": "2021-03-13T06:27:41.630297Z"
    },
    "papermill": {
     "duration": 0.59034,
     "end_time": "2021-03-13T06:27:41.631521",
     "exception": false,
     "start_time": "2021-03-13T06:27:41.041181",
     "status": "completed"
    },
    "tags": []
   },
   "outputs": [
    {
     "data": {
      "text/html": [
       "<div>\n",
       "<style scoped>\n",
       "    .dataframe tbody tr th:only-of-type {\n",
       "        vertical-align: middle;\n",
       "    }\n",
       "\n",
       "    .dataframe tbody tr th {\n",
       "        vertical-align: top;\n",
       "    }\n",
       "\n",
       "    .dataframe thead th {\n",
       "        text-align: right;\n",
       "    }\n",
       "</style>\n",
       "<table border=\"1\" class=\"dataframe\">\n",
       "  <thead>\n",
       "    <tr style=\"text-align: right;\">\n",
       "      <th></th>\n",
       "      <th>timestamp</th>\n",
       "      <th>code</th>\n",
       "      <th>rssi</th>\n",
       "      <th>last_timestamp</th>\n",
       "    </tr>\n",
       "  </thead>\n",
       "  <tbody>\n",
       "    <tr>\n",
       "      <th>0</th>\n",
       "      <td>40672</td>\n",
       "      <td>d7a0f935b19a856d78cbc83a2d3ccc5cacc01891_0716d...</td>\n",
       "      <td>-97</td>\n",
       "      <td>1573385706700</td>\n",
       "    </tr>\n",
       "    <tr>\n",
       "      <th>1</th>\n",
       "      <td>70666</td>\n",
       "      <td>d7a0f935b19a856d78cbc83a2d3ccc5cacc01891_0716d...</td>\n",
       "      <td>-91</td>\n",
       "      <td>1573385736694</td>\n",
       "    </tr>\n",
       "    <tr>\n",
       "      <th>2</th>\n",
       "      <td>72673</td>\n",
       "      <td>d7a0f935b19a856d78cbc83a2d3ccc5cacc01891_0716d...</td>\n",
       "      <td>-97</td>\n",
       "      <td>1573385738701</td>\n",
       "    </tr>\n",
       "  </tbody>\n",
       "</table>\n",
       "</div>"
      ],
      "text/plain": [
       "   timestamp                                               code rssi  \\\n",
       "0      40672  d7a0f935b19a856d78cbc83a2d3ccc5cacc01891_0716d...  -97   \n",
       "1      70666  d7a0f935b19a856d78cbc83a2d3ccc5cacc01891_0716d...  -91   \n",
       "2      72673  d7a0f935b19a856d78cbc83a2d3ccc5cacc01891_0716d...  -97   \n",
       "\n",
       "   last_timestamp  \n",
       "0   1573385706700  \n",
       "1   1573385736694  \n",
       "2   1573385738701  "
      ]
     },
     "execution_count": 15,
     "metadata": {},
     "output_type": "execute_result"
    }
   ],
   "source": [
    "fname = test_files[0]\n",
    "data = read_data_file(fname)\n",
    "db,no_ibeacon = to_frame(data.ibeacon,'ibeacon')\n",
    "db.head()"
   ]
  },
  {
   "cell_type": "markdown",
   "metadata": {
    "papermill": {
     "duration": 0.019524,
     "end_time": "2021-03-13T06:27:41.673750",
     "exception": false,
     "start_time": "2021-03-13T06:27:41.654226",
     "status": "completed"
    },
    "tags": []
   },
   "source": [
    "The `timestamp` and the `last_timestamp` are obviously different. But if we look closely, the gap between them are actually constant."
   ]
  },
  {
   "cell_type": "code",
   "execution_count": 16,
   "metadata": {
    "execution": {
     "iopub.execute_input": "2021-03-13T06:27:41.721918Z",
     "iopub.status.busy": "2021-03-13T06:27:41.721268Z",
     "iopub.status.idle": "2021-03-13T06:27:41.725025Z",
     "shell.execute_reply": "2021-03-13T06:27:41.724584Z"
    },
    "papermill": {
     "duration": 0.030553,
     "end_time": "2021-03-13T06:27:41.725143",
     "exception": false,
     "start_time": "2021-03-13T06:27:41.694590",
     "status": "completed"
    },
    "tags": []
   },
   "outputs": [
    {
     "data": {
      "text/plain": [
       "array([1573385666028])"
      ]
     },
     "execution_count": 16,
     "metadata": {},
     "output_type": "execute_result"
    }
   ],
   "source": [
    "db['gap'] = db['last_timestamp'] - db['timestamp']\n",
    "db['gap'].unique()"
   ]
  },
  {
   "cell_type": "markdown",
   "metadata": {
    "papermill": {
     "duration": 0.019356,
     "end_time": "2021-03-13T06:27:41.764288",
     "exception": false,
     "start_time": "2021-03-13T06:27:41.744932",
     "status": "completed"
    },
    "tags": []
   },
   "source": [
    "Hence, an intuitive guess is this `gap` is artificially introduced when preparing test data and we could use this `gap` to fix timestamps of `waypoints`, `wifi`, etc."
   ]
  },
  {
   "cell_type": "markdown",
   "metadata": {
    "papermill": {
     "duration": 0.019471,
     "end_time": "2021-03-13T06:27:41.803239",
     "exception": false,
     "start_time": "2021-03-13T06:27:41.783768",
     "status": "completed"
    },
    "tags": []
   },
   "source": [
    "#### Fix one test waypoint"
   ]
  },
  {
   "cell_type": "code",
   "execution_count": 17,
   "metadata": {
    "execution": {
     "iopub.execute_input": "2021-03-13T06:27:41.848044Z",
     "iopub.status.busy": "2021-03-13T06:27:41.847495Z",
     "iopub.status.idle": "2021-03-13T06:27:42.258421Z",
     "shell.execute_reply": "2021-03-13T06:27:42.258908Z"
    },
    "papermill": {
     "duration": 0.436305,
     "end_time": "2021-03-13T06:27:42.259081",
     "exception": false,
     "start_time": "2021-03-13T06:27:41.822776",
     "status": "completed"
    },
    "tags": []
   },
   "outputs": [
    {
     "data": {
      "text/html": [
       "<div>\n",
       "<style scoped>\n",
       "    .dataframe tbody tr th:only-of-type {\n",
       "        vertical-align: middle;\n",
       "    }\n",
       "\n",
       "    .dataframe tbody tr th {\n",
       "        vertical-align: top;\n",
       "    }\n",
       "\n",
       "    .dataframe thead th {\n",
       "        text-align: right;\n",
       "    }\n",
       "</style>\n",
       "<table border=\"1\" class=\"dataframe\">\n",
       "  <thead>\n",
       "    <tr style=\"text-align: right;\">\n",
       "      <th></th>\n",
       "      <th>timestamp</th>\n",
       "      <th>real_timestamp</th>\n",
       "      <th>site_path_timestamp</th>\n",
       "    </tr>\n",
       "  </thead>\n",
       "  <tbody>\n",
       "    <tr>\n",
       "      <th>0</th>\n",
       "      <td>13</td>\n",
       "      <td>1573385666041</td>\n",
       "      <td>5d2709e003f801723c32d896_ad733a1791d3fdd215326...</td>\n",
       "    </tr>\n",
       "    <tr>\n",
       "      <th>1</th>\n",
       "      <td>7202</td>\n",
       "      <td>1573385673230</td>\n",
       "      <td>5d2709e003f801723c32d896_ad733a1791d3fdd215326...</td>\n",
       "    </tr>\n",
       "    <tr>\n",
       "      <th>2</th>\n",
       "      <td>17599</td>\n",
       "      <td>1573385683627</td>\n",
       "      <td>5d2709e003f801723c32d896_ad733a1791d3fdd215326...</td>\n",
       "    </tr>\n",
       "    <tr>\n",
       "      <th>3</th>\n",
       "      <td>28262</td>\n",
       "      <td>1573385694290</td>\n",
       "      <td>5d2709e003f801723c32d896_ad733a1791d3fdd215326...</td>\n",
       "    </tr>\n",
       "    <tr>\n",
       "      <th>4</th>\n",
       "      <td>43292</td>\n",
       "      <td>1573385709320</td>\n",
       "      <td>5d2709e003f801723c32d896_ad733a1791d3fdd215326...</td>\n",
       "    </tr>\n",
       "    <tr>\n",
       "      <th>5</th>\n",
       "      <td>50504</td>\n",
       "      <td>1573385716532</td>\n",
       "      <td>5d2709e003f801723c32d896_ad733a1791d3fdd215326...</td>\n",
       "    </tr>\n",
       "    <tr>\n",
       "      <th>6</th>\n",
       "      <td>57090</td>\n",
       "      <td>1573385723118</td>\n",
       "      <td>5d2709e003f801723c32d896_ad733a1791d3fdd215326...</td>\n",
       "    </tr>\n",
       "    <tr>\n",
       "      <th>7</th>\n",
       "      <td>66144</td>\n",
       "      <td>1573385732172</td>\n",
       "      <td>5d2709e003f801723c32d896_ad733a1791d3fdd215326...</td>\n",
       "    </tr>\n",
       "    <tr>\n",
       "      <th>8</th>\n",
       "      <td>76110</td>\n",
       "      <td>1573385742138</td>\n",
       "      <td>5d2709e003f801723c32d896_ad733a1791d3fdd215326...</td>\n",
       "    </tr>\n",
       "    <tr>\n",
       "      <th>9</th>\n",
       "      <td>85614</td>\n",
       "      <td>1573385751642</td>\n",
       "      <td>5d2709e003f801723c32d896_ad733a1791d3fdd215326...</td>\n",
       "    </tr>\n",
       "    <tr>\n",
       "      <th>10</th>\n",
       "      <td>98318</td>\n",
       "      <td>1573385764346</td>\n",
       "      <td>5d2709e003f801723c32d896_ad733a1791d3fdd215326...</td>\n",
       "    </tr>\n",
       "    <tr>\n",
       "      <th>11</th>\n",
       "      <td>107745</td>\n",
       "      <td>1573385773773</td>\n",
       "      <td>5d2709e003f801723c32d896_ad733a1791d3fdd215326...</td>\n",
       "    </tr>\n",
       "  </tbody>\n",
       "</table>\n",
       "</div>"
      ],
      "text/plain": [
       "    timestamp  real_timestamp  \\\n",
       "0          13   1573385666041   \n",
       "1        7202   1573385673230   \n",
       "2       17599   1573385683627   \n",
       "3       28262   1573385694290   \n",
       "4       43292   1573385709320   \n",
       "5       50504   1573385716532   \n",
       "6       57090   1573385723118   \n",
       "7       66144   1573385732172   \n",
       "8       76110   1573385742138   \n",
       "9       85614   1573385751642   \n",
       "10      98318   1573385764346   \n",
       "11     107745   1573385773773   \n",
       "\n",
       "                                  site_path_timestamp  \n",
       "0   5d2709e003f801723c32d896_ad733a1791d3fdd215326...  \n",
       "1   5d2709e003f801723c32d896_ad733a1791d3fdd215326...  \n",
       "2   5d2709e003f801723c32d896_ad733a1791d3fdd215326...  \n",
       "3   5d2709e003f801723c32d896_ad733a1791d3fdd215326...  \n",
       "4   5d2709e003f801723c32d896_ad733a1791d3fdd215326...  \n",
       "5   5d2709e003f801723c32d896_ad733a1791d3fdd215326...  \n",
       "6   5d2709e003f801723c32d896_ad733a1791d3fdd215326...  \n",
       "7   5d2709e003f801723c32d896_ad733a1791d3fdd215326...  \n",
       "8   5d2709e003f801723c32d896_ad733a1791d3fdd215326...  \n",
       "9   5d2709e003f801723c32d896_ad733a1791d3fdd215326...  \n",
       "10  5d2709e003f801723c32d896_ad733a1791d3fdd215326...  \n",
       "11  5d2709e003f801723c32d896_ad733a1791d3fdd215326...  "
      ]
     },
     "execution_count": 17,
     "metadata": {},
     "output_type": "execute_result"
    }
   ],
   "source": [
    "fname = test_files[0]\n",
    "gap,no_ibeacon = get_time_gap(fname)\n",
    "df = fix_timestamp_test(test_dfs[fname], gap)\n",
    "df[['timestamp','real_timestamp','site_path_timestamp']]"
   ]
  },
  {
   "cell_type": "markdown",
   "metadata": {
    "papermill": {
     "duration": 0.020599,
     "end_time": "2021-03-13T06:27:42.301047",
     "exception": false,
     "start_time": "2021-03-13T06:27:42.280448",
     "status": "completed"
    },
    "tags": []
   },
   "source": [
    "### Fix all test waypoints using DASK"
   ]
  },
  {
   "cell_type": "code",
   "execution_count": 18,
   "metadata": {
    "execution": {
     "iopub.execute_input": "2021-03-13T06:27:42.349331Z",
     "iopub.status.busy": "2021-03-13T06:27:42.348780Z",
     "iopub.status.idle": "2021-03-13T06:29:18.184971Z",
     "shell.execute_reply": "2021-03-13T06:29:18.185449Z"
    },
    "papermill": {
     "duration": 95.863712,
     "end_time": "2021-03-13T06:29:18.185621",
     "exception": false,
     "start_time": "2021-03-13T06:27:42.321909",
     "status": "completed"
    },
    "tags": []
   },
   "outputs": [
    {
     "name": "stderr",
     "output_type": "stream",
     "text": [
      "100%|██████████| 626/626 [00:00<00:00, 2653.73it/s]\n",
      "100%|██████████| 626/626 [01:09<00:00,  9.06it/s]\n",
      "100%|██████████| 626/626 [00:01<00:00, 315.16it/s]"
     ]
    },
    {
     "name": "stdout",
     "output_type": "stream",
     "text": [
      "CPU times: user 7.62 s, sys: 498 ms, total: 8.12 s\n",
      "Wall time: 1min 11s\n"
     ]
    },
    {
     "name": "stderr",
     "output_type": "stream",
     "text": [
      "\n"
     ]
    },
    {
     "data": {
      "text/html": [
       "<div>\n",
       "<style scoped>\n",
       "    .dataframe tbody tr th:only-of-type {\n",
       "        vertical-align: middle;\n",
       "    }\n",
       "\n",
       "    .dataframe tbody tr th {\n",
       "        vertical-align: top;\n",
       "    }\n",
       "\n",
       "    .dataframe thead th {\n",
       "        text-align: right;\n",
       "    }\n",
       "</style>\n",
       "<table border=\"1\" class=\"dataframe\">\n",
       "  <thead>\n",
       "    <tr style=\"text-align: right;\">\n",
       "      <th></th>\n",
       "      <th>file</th>\n",
       "      <th>no_ibeacon</th>\n",
       "    </tr>\n",
       "  </thead>\n",
       "  <tbody>\n",
       "    <tr>\n",
       "      <th>0</th>\n",
       "      <td>./test/ad733a1791d3fdd21532677b.txt</td>\n",
       "      <td>False</td>\n",
       "    </tr>\n",
       "    <tr>\n",
       "      <th>1</th>\n",
       "      <td>./test/a1a32c28854aeef857ef79a5.txt</td>\n",
       "      <td>False</td>\n",
       "    </tr>\n",
       "    <tr>\n",
       "      <th>2</th>\n",
       "      <td>./test/29781f56d67d950acd783d29.txt</td>\n",
       "      <td>False</td>\n",
       "    </tr>\n",
       "    <tr>\n",
       "      <th>3</th>\n",
       "      <td>./test/2bdf91b83e265e197ac7b117.txt</td>\n",
       "      <td>False</td>\n",
       "    </tr>\n",
       "    <tr>\n",
       "      <th>4</th>\n",
       "      <td>./test/cbe53b25f9fd9c9acea1e6d1.txt</td>\n",
       "      <td>False</td>\n",
       "    </tr>\n",
       "  </tbody>\n",
       "</table>\n",
       "</div>"
      ],
      "text/plain": [
       "                                  file  no_ibeacon\n",
       "0  ./test/ad733a1791d3fdd21532677b.txt       False\n",
       "1  ./test/a1a32c28854aeef857ef79a5.txt       False\n",
       "2  ./test/29781f56d67d950acd783d29.txt       False\n",
       "3  ./test/2bdf91b83e265e197ac7b117.txt       False\n",
       "4  ./test/cbe53b25f9fd9c9acea1e6d1.txt       False"
      ]
     },
     "execution_count": 18,
     "metadata": {},
     "output_type": "execute_result"
    }
   ],
   "source": [
    "%%time\n",
    "\"\"\"\n",
    "for each test path file, find the time gap based on ibeacon or wifi data\n",
    "futures list holds the gap,ibeacon data for each test path file\n",
    "\"\"\"\n",
    "futures = []\n",
    "for fname in tqdm(test_files, total=len(test_files)):\n",
    "    f = client.submit(get_time_gap,fname)\n",
    "    futures.append(f)\n",
    "\n",
    "\"\"\"\n",
    "futures2 holds the df for each test path file corrected with timestamp\n",
    "dask result df instance\n",
    "\"\"\"\n",
    "futures2 = []\n",
    "no_ibeacon_list = []\n",
    "testFileTimeGap = {}\n",
    "for f,fname in tqdm(zip(futures, test_files), total=len(test_files)):\n",
    "    gap,no_ibeacon = f.result()\n",
    "    testFileTimeGap[fname.split('/')[-1].rstrip('.txt')] = gap\n",
    "    no_ibeacon_list.append(no_ibeacon)\n",
    "    f = client.submit(fix_timestamp_test, test_dfs[fname], gap)\n",
    "    futures2.append(f)\n",
    "    \n",
    "fixed_test_dfs = {}\n",
    "for f,fname in tqdm(zip(futures2, test_files), total=len(test_files)):\n",
    "    fixed_test_dfs[fname] = f.result()\n",
    "    \n",
    "fix_summary = pd.DataFrame({'file':test_files, 'no_ibeacon':no_ibeacon_list})\n",
    "fix_summary.head()"
   ]
  },
  {
   "cell_type": "code",
   "execution_count": 19,
   "metadata": {
    "execution": {
     "iopub.execute_input": "2021-03-13T06:29:18.274486Z",
     "iopub.status.busy": "2021-03-13T06:29:18.273777Z",
     "iopub.status.idle": "2021-03-13T06:29:18.278871Z",
     "shell.execute_reply": "2021-03-13T06:29:18.279320Z"
    },
    "papermill": {
     "duration": 0.051221,
     "end_time": "2021-03-13T06:29:18.279493",
     "exception": false,
     "start_time": "2021-03-13T06:29:18.228272",
     "status": "completed"
    },
    "tags": []
   },
   "outputs": [
    {
     "data": {
      "text/plain": [
       "0.0"
      ]
     },
     "execution_count": 19,
     "metadata": {},
     "output_type": "execute_result"
    }
   ],
   "source": [
    "fix_summary['no_ibeacon'].mean()"
   ]
  },
  {
   "cell_type": "markdown",
   "metadata": {
    "papermill": {
     "duration": 0.044053,
     "end_time": "2021-03-13T06:29:18.458212",
     "exception": false,
     "start_time": "2021-03-13T06:29:18.414159",
     "status": "completed"
    },
    "tags": []
   },
   "source": [
    "**Before fix**"
   ]
  },
  {
   "cell_type": "code",
   "execution_count": 20,
   "metadata": {
    "execution": {
     "iopub.execute_input": "2021-03-13T06:29:18.550068Z",
     "iopub.status.busy": "2021-03-13T06:29:18.549500Z",
     "iopub.status.idle": "2021-03-13T06:29:18.558817Z",
     "shell.execute_reply": "2021-03-13T06:29:18.559237Z"
    },
    "papermill": {
     "duration": 0.057168,
     "end_time": "2021-03-13T06:29:18.559423",
     "exception": false,
     "start_time": "2021-03-13T06:29:18.502255",
     "status": "completed"
    },
    "tags": []
   },
   "outputs": [
    {
     "data": {
      "text/html": [
       "<div>\n",
       "<style scoped>\n",
       "    .dataframe tbody tr th:only-of-type {\n",
       "        vertical-align: middle;\n",
       "    }\n",
       "\n",
       "    .dataframe tbody tr th {\n",
       "        vertical-align: top;\n",
       "    }\n",
       "\n",
       "    .dataframe thead th {\n",
       "        text-align: right;\n",
       "    }\n",
       "</style>\n",
       "<table border=\"1\" class=\"dataframe\">\n",
       "  <thead>\n",
       "    <tr style=\"text-align: right;\">\n",
       "      <th></th>\n",
       "      <th>timestamp</th>\n",
       "      <th>site_path_timestamp</th>\n",
       "    </tr>\n",
       "  </thead>\n",
       "  <tbody>\n",
       "    <tr>\n",
       "      <th>0</th>\n",
       "      <td>15</td>\n",
       "      <td>5da138b74db8ce0c98bd4774_a1a32c28854aeef857ef7...</td>\n",
       "    </tr>\n",
       "    <tr>\n",
       "      <th>1</th>\n",
       "      <td>5922</td>\n",
       "      <td>5da138b74db8ce0c98bd4774_a1a32c28854aeef857ef7...</td>\n",
       "    </tr>\n",
       "    <tr>\n",
       "      <th>2</th>\n",
       "      <td>9719</td>\n",
       "      <td>5da138b74db8ce0c98bd4774_a1a32c28854aeef857ef7...</td>\n",
       "    </tr>\n",
       "    <tr>\n",
       "      <th>3</th>\n",
       "      <td>12942</td>\n",
       "      <td>5da138b74db8ce0c98bd4774_a1a32c28854aeef857ef7...</td>\n",
       "    </tr>\n",
       "    <tr>\n",
       "      <th>4</th>\n",
       "      <td>22163</td>\n",
       "      <td>5da138b74db8ce0c98bd4774_a1a32c28854aeef857ef7...</td>\n",
       "    </tr>\n",
       "  </tbody>\n",
       "</table>\n",
       "</div>"
      ],
      "text/plain": [
       "   timestamp                                site_path_timestamp\n",
       "0         15  5da138b74db8ce0c98bd4774_a1a32c28854aeef857ef7...\n",
       "1       5922  5da138b74db8ce0c98bd4774_a1a32c28854aeef857ef7...\n",
       "2       9719  5da138b74db8ce0c98bd4774_a1a32c28854aeef857ef7...\n",
       "3      12942  5da138b74db8ce0c98bd4774_a1a32c28854aeef857ef7...\n",
       "4      22163  5da138b74db8ce0c98bd4774_a1a32c28854aeef857ef7..."
      ]
     },
     "execution_count": 20,
     "metadata": {},
     "output_type": "execute_result"
    }
   ],
   "source": [
    "fname = test_files[1]\n",
    "test_dfs[fname].head()[['timestamp','site_path_timestamp']]"
   ]
  },
  {
   "cell_type": "markdown",
   "metadata": {
    "papermill": {
     "duration": 0.045977,
     "end_time": "2021-03-13T06:29:18.651497",
     "exception": false,
     "start_time": "2021-03-13T06:29:18.605520",
     "status": "completed"
    },
    "tags": []
   },
   "source": [
    "**After fix**"
   ]
  },
  {
   "cell_type": "code",
   "execution_count": 21,
   "metadata": {
    "execution": {
     "iopub.execute_input": "2021-03-13T06:29:18.743279Z",
     "iopub.status.busy": "2021-03-13T06:29:18.742710Z",
     "iopub.status.idle": "2021-03-13T06:29:18.752706Z",
     "shell.execute_reply": "2021-03-13T06:29:18.753090Z"
    },
    "papermill": {
     "duration": 0.05722,
     "end_time": "2021-03-13T06:29:18.753246",
     "exception": false,
     "start_time": "2021-03-13T06:29:18.696026",
     "status": "completed"
    },
    "tags": []
   },
   "outputs": [
    {
     "data": {
      "text/html": [
       "<div>\n",
       "<style scoped>\n",
       "    .dataframe tbody tr th:only-of-type {\n",
       "        vertical-align: middle;\n",
       "    }\n",
       "\n",
       "    .dataframe tbody tr th {\n",
       "        vertical-align: top;\n",
       "    }\n",
       "\n",
       "    .dataframe thead th {\n",
       "        text-align: right;\n",
       "    }\n",
       "</style>\n",
       "<table border=\"1\" class=\"dataframe\">\n",
       "  <thead>\n",
       "    <tr style=\"text-align: right;\">\n",
       "      <th></th>\n",
       "      <th>timestamp</th>\n",
       "      <th>real_timestamp</th>\n",
       "      <th>site_path_timestamp</th>\n",
       "    </tr>\n",
       "  </thead>\n",
       "  <tbody>\n",
       "    <tr>\n",
       "      <th>0</th>\n",
       "      <td>15</td>\n",
       "      <td>1571884299608</td>\n",
       "      <td>5da138b74db8ce0c98bd4774_a1a32c28854aeef857ef7...</td>\n",
       "    </tr>\n",
       "    <tr>\n",
       "      <th>1</th>\n",
       "      <td>5922</td>\n",
       "      <td>1571884305515</td>\n",
       "      <td>5da138b74db8ce0c98bd4774_a1a32c28854aeef857ef7...</td>\n",
       "    </tr>\n",
       "    <tr>\n",
       "      <th>2</th>\n",
       "      <td>9719</td>\n",
       "      <td>1571884309312</td>\n",
       "      <td>5da138b74db8ce0c98bd4774_a1a32c28854aeef857ef7...</td>\n",
       "    </tr>\n",
       "    <tr>\n",
       "      <th>3</th>\n",
       "      <td>12942</td>\n",
       "      <td>1571884312535</td>\n",
       "      <td>5da138b74db8ce0c98bd4774_a1a32c28854aeef857ef7...</td>\n",
       "    </tr>\n",
       "    <tr>\n",
       "      <th>4</th>\n",
       "      <td>22163</td>\n",
       "      <td>1571884321756</td>\n",
       "      <td>5da138b74db8ce0c98bd4774_a1a32c28854aeef857ef7...</td>\n",
       "    </tr>\n",
       "  </tbody>\n",
       "</table>\n",
       "</div>"
      ],
      "text/plain": [
       "   timestamp  real_timestamp  \\\n",
       "0         15   1571884299608   \n",
       "1       5922   1571884305515   \n",
       "2       9719   1571884309312   \n",
       "3      12942   1571884312535   \n",
       "4      22163   1571884321756   \n",
       "\n",
       "                                 site_path_timestamp  \n",
       "0  5da138b74db8ce0c98bd4774_a1a32c28854aeef857ef7...  \n",
       "1  5da138b74db8ce0c98bd4774_a1a32c28854aeef857ef7...  \n",
       "2  5da138b74db8ce0c98bd4774_a1a32c28854aeef857ef7...  \n",
       "3  5da138b74db8ce0c98bd4774_a1a32c28854aeef857ef7...  \n",
       "4  5da138b74db8ce0c98bd4774_a1a32c28854aeef857ef7...  "
      ]
     },
     "execution_count": 21,
     "metadata": {},
     "output_type": "execute_result"
    }
   ],
   "source": [
    "fixed_test_dfs[fname].head()[['timestamp','real_timestamp','site_path_timestamp']]"
   ]
  },
  {
   "cell_type": "markdown",
   "metadata": {
    "papermill": {
     "duration": 0.044584,
     "end_time": "2021-03-13T06:29:18.844571",
     "exception": false,
     "start_time": "2021-03-13T06:29:18.799987",
     "status": "completed"
    },
    "tags": []
   },
   "source": [
    "You can use the same method to fix test data `wifi` dataframes."
   ]
  },
  {
   "cell_type": "code",
   "execution_count": 22,
   "metadata": {},
   "outputs": [
    {
     "data": {
      "text/plain": [
       "['ad733a1791d3fdd21532677b',\n",
       " 'a1a32c28854aeef857ef79a5',\n",
       " '29781f56d67d950acd783d29',\n",
       " '2bdf91b83e265e197ac7b117',\n",
       " 'cbe53b25f9fd9c9acea1e6d1']"
      ]
     },
     "execution_count": 22,
     "metadata": {},
     "output_type": "execute_result"
    }
   ],
   "source": [
    "list(testFileTimeGap.keys())[0:5]"
   ]
  },
  {
   "cell_type": "code",
   "execution_count": 24,
   "metadata": {},
   "outputs": [],
   "source": [
    "# write time gap for each test path file to file\n",
    "outputFile = open(\"testFileTimeStampGap.pkl\", \"wb\")\n",
    "pickle.dump(testFileTimeGap, outputFile)\n",
    "outputFile.close()"
   ]
  },
  {
   "cell_type": "code",
   "execution_count": null,
   "metadata": {},
   "outputs": [],
   "source": []
  }
 ],
 "metadata": {
  "kernelspec": {
   "display_name": "Python 3",
   "language": "python",
   "name": "python3"
  },
  "language_info": {
   "codemirror_mode": {
    "name": "ipython",
    "version": 3
   },
   "file_extension": ".py",
   "mimetype": "text/x-python",
   "name": "python",
   "nbconvert_exporter": "python",
   "pygments_lexer": "ipython3",
   "version": "3.8.8"
  },
  "papermill": {
   "default_parameters": {},
   "duration": 111.224653,
   "end_time": "2021-03-13T06:29:21.107068",
   "environment_variables": {},
   "exception": null,
   "input_path": "__notebook__.ipynb",
   "output_path": "__notebook__.ipynb",
   "parameters": {},
   "start_time": "2021-03-13T06:27:29.882415",
   "version": "2.2.2"
  }
 },
 "nbformat": 4,
 "nbformat_minor": 4
}
