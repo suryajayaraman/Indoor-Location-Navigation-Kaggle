{
 "cells": [
  {
   "cell_type": "markdown",
   "id": "attended-linux",
   "metadata": {},
   "source": [
    "## Libraries import"
   ]
  },
  {
   "cell_type": "code",
   "execution_count": 1,
   "id": "another-hygiene",
   "metadata": {},
   "outputs": [],
   "source": [
    "import pandas as pd\n",
    "import numpy as np\n",
    "import os\n",
    "import glob\n",
    "\n",
    "# functions and libraires from competition github\n",
    "from dataclasses import dataclass\n",
    "from io_f import read_data_file\n",
    "from visualize_f import visualize_heatmap, visualize_trajectory"
   ]
  },
  {
   "cell_type": "code",
   "execution_count": 2,
   "id": "vietnamese-ensemble",
   "metadata": {},
   "outputs": [],
   "source": [
    "TRAIN_FOLDER = 'train'\n",
    "TEST_FOLDER = 'test'"
   ]
  },
  {
   "cell_type": "markdown",
   "id": "quantitative-result",
   "metadata": {},
   "source": [
    "## helper functions"
   ]
  },
  {
   "cell_type": "code",
   "execution_count": 3,
   "id": "experienced-cornwall",
   "metadata": {},
   "outputs": [],
   "source": [
    "def findFilesSpecificFormat(searchDirectory, fileExtension):\n",
    "    fileExtension = f\"*.{fileExtension}\"\n",
    "    matchingFileFormatList = [file\n",
    "                             for path, subdir, files in os.walk(searchDirectory)\n",
    "                             for file in glob.glob(os.path.join(path, fileExtension))]\n",
    "    return matchingFileFormatList"
   ]
  },
  {
   "cell_type": "code",
   "execution_count": 4,
   "id": "incoming-import",
   "metadata": {},
   "outputs": [],
   "source": [
    "def getSiteTestPathFiles(siteID):\n",
    "    tempdf = testSitePathTimestampData[testSitePathTimestampData.loc[:,0]==siteID]\n",
    "    pathFilesNames = np.unique(tempdf.loc[:,1].values).tolist()\n",
    "    sitePathFilesList = [f\"{TEST_FOLDER}/{x}.txt\" for x in pathFilesNames]\n",
    "    return sitePathFilesList"
   ]
  },
  {
   "cell_type": "code",
   "execution_count": 5,
   "id": "surgical-elephant",
   "metadata": {},
   "outputs": [],
   "source": [
    "def getUniqueWiFiAPList(data):\n",
    "    wifiData = data.wifi\n",
    "    return np.unique(wifiData[:,2]).tolist()"
   ]
  },
  {
   "cell_type": "code",
   "execution_count": 6,
   "id": "coral-telescope",
   "metadata": {},
   "outputs": [],
   "source": [
    "def getWifiAPList(pathFileList):\n",
    "    pathWiFiAPList = [] \n",
    "    \n",
    "    for pathFile in pathFileList:    \n",
    "        # extract pathFile data\n",
    "        pathFileData = read_data_file(pathFile)\n",
    "    \n",
    "        try:\n",
    "            # compute unique WiFi access points list\n",
    "            pathUniqueWiFiAPList = getUniqueWiFiAPList(pathFileData)\n",
    "        except:\n",
    "            print(f\"{pathFile} has issue, output shape = {pathFileData.wifi.shape}\")\n",
    "\n",
    "        #print(f\"There are {len(pathUniqueWiFiAPList)} unique WiFi APs in  {pathFile} pathfile\")\n",
    "        pathWiFiAPList.append(pathUniqueWiFiAPList)\n",
    "    return pathWiFiAPList"
   ]
  },
  {
   "cell_type": "code",
   "execution_count": 7,
   "id": "aggregate-consumer",
   "metadata": {},
   "outputs": [],
   "source": [
    "def getSiteTestDataWiFiInfo(testSitePathList):\n",
    "    siteTestDataWiFiInfo = {}\n",
    "    siteTestDataTotalWiFiAPList  = []\n",
    "    temp = getWifiAPList(testSitePathList)\n",
    "    for idx, pathFile in enumerate(testSitePathList):    \n",
    "        # get path name from file name\n",
    "        pathName = pathFile.split(\"/\")[1].replace(\".txt\", \"\")\n",
    "        siteTestDataWiFiInfo[pathName] = temp[idx]\n",
    "        siteTestDataTotalWiFiAPList.extend(temp[idx])\n",
    "    del(temp)\n",
    "\n",
    "    print(f\"There are {len(siteTestDataTotalWiFiAPList)} wifi APs in samplesite\")\n",
    "    print(f\"There are {len(list(set(siteTestDataTotalWiFiAPList)))} unique wifi APs in samplesite\")  \n",
    "    return siteTestDataWiFiInfo, siteTestDataTotalWiFiAPList"
   ]
  },
  {
   "cell_type": "code",
   "execution_count": 8,
   "id": "becoming-vessel",
   "metadata": {},
   "outputs": [],
   "source": [
    "def getSiteTrainDataWiFiInfo(site, siteFloorList):\n",
    "    siteTrainDataWiFiInfo = {}\n",
    "    siteTrainDataTotalWiFiAPList = []\n",
    "    \n",
    "    # iterate through floors in site\n",
    "    for floor in siteFloorList:\n",
    "        tempList = os.listdir(f\"{TRAIN_FOLDER}/{site}/{floor}\")\n",
    "        floorPathFileList = [f\"{TRAIN_FOLDER}/{site}/{floor}/{x}\" for x in tempList]\n",
    "        print(f\"There are {len(floorPathFileList)} Path files at {site}/{floor} Floor Train data\")\n",
    "\n",
    "        temp = getWifiAPList(floorPathFileList)\n",
    "        siteTrainDataWiFiInfo[floor] = []\n",
    "        for pathIBeaconList in temp:\n",
    "            siteTrainDataWiFiInfo[floor].extend(pathIBeaconList)\n",
    "            siteTrainDataTotalWiFiAPList.extend(pathIBeaconList)\n",
    "        #print(f\"Floor {floor} done\")\n",
    "    return siteTrainDataWiFiInfo, siteTrainDataTotalWiFiAPList"
   ]
  },
  {
   "cell_type": "code",
   "execution_count": 9,
   "id": "forward-tender",
   "metadata": {},
   "outputs": [],
   "source": [
    "def getSiteWiFiDF(siteTestDataWiFiInfo, siteTrainDataWiFiInfo):\n",
    "    site_df = pd.DataFrame()\n",
    "    site_df[\"pathFile\"] = siteTestDataWiFiInfo.keys()\n",
    "\n",
    "    for floor in siteTrainDataWiFiInfo.keys():\n",
    "        floorWiFiAPSet = set(siteTrainDataWiFiInfo[floor])\n",
    "    \n",
    "        WiFiMatchCount = [] \n",
    "        for _,key in enumerate(siteTestDataWiFiInfo.keys()):\n",
    "            testPathWiFiAPSet = set(siteTestDataWiFiInfo[key])\n",
    "            matchlist = list(floorWiFiAPSet.intersection(testPathWiFiAPSet))\n",
    "            # print(f\"{floor} - {key} matchcount = {len(matchlist)}\")\n",
    "            WiFiMatchCount.append(len(matchlist))\n",
    "        \n",
    "        site_df[floor] = WiFiMatchCount\n",
    "    return site_df"
   ]
  },
  {
   "cell_type": "markdown",
   "id": "coupled-navigation",
   "metadata": {},
   "source": [
    "## Parse sampleSubmissionCSV"
   ]
  },
  {
   "cell_type": "code",
   "execution_count": 10,
   "id": "tight-farming",
   "metadata": {},
   "outputs": [],
   "source": [
    "sampleSubmissionCSV = pd.read_csv('sample_submission.csv')\n",
    "testSitePathTimestampData = sampleSubmissionCSV['site_path_timestamp'].str.split('_', expand=True)"
   ]
  },
  {
   "cell_type": "markdown",
   "id": "strong-encyclopedia",
   "metadata": {},
   "source": [
    "```python\n",
    "print(sampleSubmissionCSV.head(3))\n",
    "print(testSitePathTimestampData.head(3))\n",
    "print(\"testSitePathTimestampData.columns = \", testSitePathTimestampData.columns)\n",
    "```"
   ]
  },
  {
   "cell_type": "code",
   "execution_count": 11,
   "id": "executed-optimum",
   "metadata": {},
   "outputs": [
    {
     "name": "stdout",
     "output_type": "stream",
     "text": [
      "Number of train sites 204\n",
      "Number of test sites 24\n"
     ]
    }
   ],
   "source": [
    "# testSites listed as separate folders under train/\n",
    "trainSitesList = os.listdir('train/')\n",
    "uniqueTestSitesList = testSitePathTimestampData.loc[:,0].unique().tolist()\n",
    "print(f\"Number of train sites {len(trainSitesList)}\")\n",
    "print(f\"Number of test sites {len(uniqueTestSitesList)}\")"
   ]
  },
  {
   "cell_type": "markdown",
   "id": "adequate-fluid",
   "metadata": {},
   "source": [
    "## Compute WiFi unique access points for one Test site"
   ]
  },
  {
   "cell_type": "code",
   "execution_count": 12,
   "id": "suitable-space",
   "metadata": {},
   "outputs": [
    {
     "name": "stdout",
     "output_type": "stream",
     "text": [
      "There are 29 PathFiles in site 5a0546857ecc773753327266\n",
      "sample file is test/046cfa46be49fc10834815c6.txt\n"
     ]
    }
   ],
   "source": [
    "sampleTestSite = uniqueTestSitesList[0]\n",
    "sampleTestSitePathList = getSiteTestPathFiles(sampleTestSite) \n",
    "print(f\"There are {len(sampleTestSitePathList)} PathFiles in site {sampleTestSite}\")\n",
    "print(f\"sample file is {sampleTestSitePathList[0]}\")"
   ]
  },
  {
   "cell_type": "markdown",
   "id": "vietnamese-effectiveness",
   "metadata": {},
   "source": [
    "```python\n",
    "# To check if resulting files are present\n",
    "print([os.path.isfile(x) for x in sampleTestSitePathList])\n",
    "```"
   ]
  },
  {
   "cell_type": "code",
   "execution_count": 13,
   "id": "native-bolivia",
   "metadata": {},
   "outputs": [
    {
     "name": "stdout",
     "output_type": "stream",
     "text": [
      "There are 12948 wifi APs in samplesite\n",
      "There are 2435 unique wifi APs in samplesite\n"
     ]
    }
   ],
   "source": [
    "siteTestDataWiFiInfo, siteTestDataTotalWiFiAPList = getSiteTestDataWiFiInfo(sampleTestSitePathList)"
   ]
  },
  {
   "cell_type": "markdown",
   "id": "official-sweet",
   "metadata": {},
   "source": [
    "## Train file WiFi APs list"
   ]
  },
  {
   "cell_type": "code",
   "execution_count": 14,
   "id": "changed-minority",
   "metadata": {},
   "outputs": [
    {
     "name": "stdout",
     "output_type": "stream",
     "text": [
      "Floors at 5a0546857ecc773753327266 Train Data = ['B1', 'F1', 'F2', 'F3', 'F4']\n"
     ]
    }
   ],
   "source": [
    "floorsInSite = os.listdir(f\"{TRAIN_FOLDER}/{sampleTestSite}\")\n",
    "floorsInSite.sort()\n",
    "print(f\"Floors at {sampleTestSite} Train Data = {floorsInSite}\")"
   ]
  },
  {
   "cell_type": "code",
   "execution_count": 15,
   "id": "painful-glucose",
   "metadata": {},
   "outputs": [
    {
     "name": "stdout",
     "output_type": "stream",
     "text": [
      "There are 109 Path files at 5a0546857ecc773753327266/B1 Floor Train data\n",
      "There are 131 Path files at 5a0546857ecc773753327266/F1 Floor Train data\n",
      "There are 110 Path files at 5a0546857ecc773753327266/F2 Floor Train data\n",
      "There are 78 Path files at 5a0546857ecc773753327266/F3 Floor Train data\n",
      "train/5a0546857ecc773753327266/F3/5d8f0954b6e29d0006fb8c0d.txt has issue, output shape = (0,)\n",
      "train/5a0546857ecc773753327266/F3/5d8f0955b6e29d0006fb8c0f.txt has issue, output shape = (0,)\n",
      "There are 86 Path files at 5a0546857ecc773753327266/F4 Floor Train data\n"
     ]
    }
   ],
   "source": [
    "siteTrainDataWiFiInfo, siteTrainDataTotalWiFiAPList = getSiteTrainDataWiFiInfo(sampleTestSite, floorsInSite)"
   ]
  },
  {
   "cell_type": "code",
   "execution_count": 16,
   "id": "signed-method",
   "metadata": {},
   "outputs": [
    {
     "name": "stdout",
     "output_type": "stream",
     "text": [
      "                   pathFile   B1   F1   F2   F3   F4\n",
      "0  046cfa46be49fc10834815c6  213  666  635  509  502\n",
      "1  05d052dde78384b0c543d89c   62  436  417  311  303\n",
      "2  0c06cc9f21d172618d74c6c8  260   90   29   20   19\n"
     ]
    }
   ],
   "source": [
    "site_df = getSiteWiFiDF(siteTestDataWiFiInfo, siteTrainDataWiFiInfo)\n",
    "print(site_df.head(3))\n",
    "site_df.to_csv(f\"{sampleTestSite}_WiFiOutput.csv\")"
   ]
  },
  {
   "cell_type": "code",
   "execution_count": 17,
   "id": "legendary-music",
   "metadata": {},
   "outputs": [
    {
     "name": "stdout",
     "output_type": "stream",
     "text": [
      "There are 196282 Wifi APs in siteTrainData\n",
      "There are 12948 Wifi APs in siteTestData\n"
     ]
    }
   ],
   "source": [
    "print(f\"There are {len(siteTrainDataTotalWiFiAPList)} Wifi APs in siteTrainData\")\n",
    "print(f\"There are {len(siteTestDataTotalWiFiAPList)} Wifi APs in siteTestData\")"
   ]
  },
  {
   "cell_type": "code",
   "execution_count": 18,
   "id": "enormous-costa",
   "metadata": {},
   "outputs": [
    {
     "data": {
      "text/plain": [
       "{'03fa48b34077acca3e2ee12119818aff3961537b',\n",
       " '070b4ece157c69e694b61cfaf938d6da55e1fb9e',\n",
       " '0808e70dba3efac5b7848c717becf732e9ef7796',\n",
       " '0a9f31684c792f921b11500b38a95706b39a5fa7',\n",
       " '10eddac2d4471d6d5c49bcf095320b19a6d4bdab',\n",
       " '1e0fcf079317539437831981bee82b48b1ba1b89',\n",
       " '2da3d98cfc0309d453e09c4393e9457178ab14ef',\n",
       " '33f20983b8fae7222236a28f2fcdbfd0a64d3dae',\n",
       " '3b779dc1191bba796ae24168216743da16859c79',\n",
       " '3e83518fabdba187f3d68e47a4751cce50e936fc',\n",
       " '3eaaaafb58a6d01abb1689cb026adce5ac984caf',\n",
       " '506664c4bcc5d3c999a2431be0e7268cfd9636a4',\n",
       " '587ff76f98133eeb3511ecf035a486ad17f0222d',\n",
       " '598f4d9c4f6bd25f6c0506d3735dcecc0539d77f',\n",
       " '65b6be9211330264ecd5cb06f299a7417cb08f46',\n",
       " '669b8c1073728feae04468bf7884248e1134448c',\n",
       " '6de735923b07f3293ca6f7177b0bd48d5caa48bf',\n",
       " '771204188303e784dec04d86a91f20fb29a27bae',\n",
       " '7b5432c3a5502b81dd93b01010c34ca608befeaa',\n",
       " '8345511a25e86b3bf3b0074f6ad2da416d36f867',\n",
       " '872d90bee8ef74997d3e4e448c94a997c24c2d2e',\n",
       " '8ec25a67ccd966845be3c84a0f12860c616810df',\n",
       " '92704954e59c544bdf0e80de80be3fac346a5e7f',\n",
       " '967d0a3ae00de61ec1ea20079ee0bd6761289c31',\n",
       " '97591d5254123120c956c8e860572937f37acbb4',\n",
       " '9db17095ecfea8a0b1272e833f9b41e9e2eff648',\n",
       " 'ad8036293f2c03890499ede981c01653fd83de86',\n",
       " 'b9957e191c730922ae9200e6f3316e557b8610dd',\n",
       " 'bda2f2b8e54b3ef91b7da841f007b72833574c10',\n",
       " 'be47cae5e9c7b5d73c21f476c8607de13e179502',\n",
       " 'c20ef474dc40efce2ac1c2688122939bab59db13',\n",
       " 'e07ea5345ecfe96846b016433a031a0f997eee5c',\n",
       " 'e45eef4d2c9444be8fd9c25c50f4865f0b5661ed',\n",
       " 'e84b338ad7b21bfc1dc604c9debf314606b229c2',\n",
       " 'eac44e39a087e849fd16ad95552bf8bd53ee58de',\n",
       " 'f09bca21c4fa9f76050476b74adac3c9a2244bc7'}"
      ]
     },
     "execution_count": 18,
     "metadata": {},
     "output_type": "execute_result"
    }
   ],
   "source": [
    "set(siteTestDataTotalWiFiAPList) - set(siteTrainDataTotalWiFiAPList)"
   ]
  }
 ],
 "metadata": {
  "kernelspec": {
   "display_name": "kaggle",
   "language": "python",
   "name": "kaggle"
  },
  "language_info": {
   "codemirror_mode": {
    "name": "ipython",
    "version": 3
   },
   "file_extension": ".py",
   "mimetype": "text/x-python",
   "name": "python",
   "nbconvert_exporter": "python",
   "pygments_lexer": "ipython3",
   "version": "3.8.8"
  }
 },
 "nbformat": 4,
 "nbformat_minor": 5
}
