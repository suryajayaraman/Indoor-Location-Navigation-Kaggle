{
 "cells": [
  {
   "cell_type": "markdown",
   "id": "reliable-plenty",
   "metadata": {},
   "source": [
    "## Libraries import"
   ]
  },
  {
   "cell_type": "code",
   "execution_count": 1,
   "id": "returning-shareware",
   "metadata": {},
   "outputs": [],
   "source": [
    "# common imports\n",
    "import os\n",
    "import glob\n",
    "import random\n",
    "import numpy as np\n",
    "import pandas as pd\n",
    "from scipy.stats import randint\n",
    "\n",
    "# models libraries\n",
    "from lightgbm.sklearn import LGBMRegressor\n",
    "from sklearn.svm import SVR\n",
    "\n",
    "# sklearn imports \n",
    "from sklearn.metrics import mean_squared_error\n",
    "from sklearn.model_selection import GroupKFold, cross_val_score\n",
    "from sklearn.preprocessing import StandardScaler\n",
    "from sklearn.model_selection import RandomizedSearchCV\n",
    "from sklearn.pipeline import make_pipeline\n",
    "\n",
    "# hyperopt imports to perform bayesian optimisation \n",
    "from hyperopt import Trials, anneal, fmin, hp, tpe\n",
    "\n",
    "%matplotlib inline"
   ]
  },
  {
   "cell_type": "markdown",
   "id": "welcome-egyptian",
   "metadata": {},
   "source": [
    "## Helper functions"
   ]
  },
  {
   "cell_type": "code",
   "execution_count": 2,
   "id": "attempted-guide",
   "metadata": {},
   "outputs": [],
   "source": [
    "# the metric used in this competition\n",
    "def comp_metric(xhat, yhat, fhat, x, y, f):\n",
    "    intermediate = np.sqrt(np.power(xhat - x,2) + np.power(yhat-y,2)) + 15 * np.abs(fhat-f)\n",
    "    return intermediate.sum()/xhat.shape[0]\n",
    "\n",
    "def seed_everything(seed=42):\n",
    "    random.seed(seed)\n",
    "    os.environ['PYTHONHASHSEED'] = str(seed)\n",
    "    np.random.seed(seed)\n",
    "    #torch.manual_seed(seed)\n",
    "    #torch.cuda.manual_seed(seed)\n",
    "    #torch.backends.cudnn.deterministic = True\n",
    "\n",
    "SEED = 42\n",
    "seed_everything(SEED)\n",
    "\n",
    "\n",
    "# cv strategy \n",
    "N_FOLDS = 5\n",
    "folds = GroupKFold(n_splits=N_FOLDS)\n",
    "\n",
    "# which optimisation to perform\n",
    "perform_RandomCVSearch = False\n",
    "perform_hyperoptParsenEstimator = False\n",
    "perform_hyperoptSimpleAnnealing = True\n",
    "\n",
    "# number of experiments to perform \n",
    "n_iter = 3"
   ]
  },
  {
   "cell_type": "markdown",
   "id": "great-aquarium",
   "metadata": {},
   "source": [
    "## Read sample data"
   ]
  },
  {
   "cell_type": "code",
   "execution_count": 3,
   "id": "organized-broadway",
   "metadata": {},
   "outputs": [
    {
     "name": "stdout",
     "output_type": "stream",
     "text": [
      "24 24\n"
     ]
    }
   ],
   "source": [
    "feature_dir = \"referencePublicNotebooks/1000Features\"\n",
    "\n",
    "# get our train and test files\n",
    "train_files = sorted(glob.glob(os.path.join(feature_dir, 'train/*_train.csv')))\n",
    "test_files = sorted(glob.glob(os.path.join(feature_dir, 'test/*_test.csv')))\n",
    "ssubm = pd.read_csv('sample_submission.csv', index_col=0)\n",
    "print(len(train_files),len(test_files))"
   ]
  },
  {
   "cell_type": "code",
   "execution_count": 4,
   "id": "banner-console",
   "metadata": {},
   "outputs": [
    {
     "name": "stdout",
     "output_type": "stream",
     "text": [
      "(9296, 945)\n"
     ]
    },
    {
     "data": {
      "text/html": [
       "<div>\n",
       "<style scoped>\n",
       "    .dataframe tbody tr th:only-of-type {\n",
       "        vertical-align: middle;\n",
       "    }\n",
       "\n",
       "    .dataframe tbody tr th {\n",
       "        vertical-align: top;\n",
       "    }\n",
       "\n",
       "    .dataframe thead th {\n",
       "        text-align: right;\n",
       "    }\n",
       "</style>\n",
       "<table border=\"1\" class=\"dataframe\">\n",
       "  <thead>\n",
       "    <tr style=\"text-align: right;\">\n",
       "      <th></th>\n",
       "      <th>000840e5c600de293cea57f13326f273c86c3988</th>\n",
       "      <th>00ad587dcb9c7ce3788b92e22777a22ee0efea31</th>\n",
       "      <th>00af060fc145ee6a6a50475efa57b91cbf54237f</th>\n",
       "      <th>00bcc61bdea4d52d050822d66952dd707c2fcdf3</th>\n",
       "      <th>00f0904087c01d922d6ebf3005607dfdeaf6687b</th>\n",
       "      <th>011e20ebf721a1c6dfec42e8ed1e2ac566073a2a</th>\n",
       "      <th>01d2f676abab6ec03ec5dc696bfd49d66e392ea1</th>\n",
       "      <th>01e25e4a25acd32baf5137b3031151f751fadbb4</th>\n",
       "      <th>026c2f057932da75680b21ecdbd23bf9cb9350f3</th>\n",
       "      <th>028a310e23177c3747d37971678dd964ee28ce17</th>\n",
       "      <th>...</th>\n",
       "      <th>fdc189e5a19850397f37201f4acc378cfddcf0d6</th>\n",
       "      <th>fdc19f011587b75c11a6c30d8ca06d90107b6bde</th>\n",
       "      <th>fdf37fa13679f581bdfaae3b99e368633e0a144b</th>\n",
       "      <th>fdfe926caf5f49a88a9bcab8d025e887f422128b</th>\n",
       "      <th>fe3211f90e4ab1f500e10fe175ae6142f4b13130</th>\n",
       "      <th>ffa41c79865d7fb336f586e0dec8b080db1027fb</th>\n",
       "      <th>x</th>\n",
       "      <th>y</th>\n",
       "      <th>f</th>\n",
       "      <th>path</th>\n",
       "    </tr>\n",
       "  </thead>\n",
       "  <tbody>\n",
       "    <tr>\n",
       "      <th>4</th>\n",
       "      <td>-999</td>\n",
       "      <td>-999</td>\n",
       "      <td>-999</td>\n",
       "      <td>-999</td>\n",
       "      <td>-999</td>\n",
       "      <td>-999</td>\n",
       "      <td>-999</td>\n",
       "      <td>-999</td>\n",
       "      <td>-999</td>\n",
       "      <td>-999</td>\n",
       "      <td>...</td>\n",
       "      <td>-999</td>\n",
       "      <td>-999</td>\n",
       "      <td>-999</td>\n",
       "      <td>-999</td>\n",
       "      <td>-999</td>\n",
       "      <td>-999</td>\n",
       "      <td>155.65668</td>\n",
       "      <td>89.40598</td>\n",
       "      <td>-1</td>\n",
       "      <td>5e158edff4c3420006d52172</td>\n",
       "    </tr>\n",
       "    <tr>\n",
       "      <th>4</th>\n",
       "      <td>-999</td>\n",
       "      <td>-999</td>\n",
       "      <td>-999</td>\n",
       "      <td>-999</td>\n",
       "      <td>-999</td>\n",
       "      <td>-999</td>\n",
       "      <td>-999</td>\n",
       "      <td>-999</td>\n",
       "      <td>-999</td>\n",
       "      <td>-999</td>\n",
       "      <td>...</td>\n",
       "      <td>-999</td>\n",
       "      <td>-999</td>\n",
       "      <td>-999</td>\n",
       "      <td>-999</td>\n",
       "      <td>-999</td>\n",
       "      <td>-999</td>\n",
       "      <td>155.65668</td>\n",
       "      <td>89.40598</td>\n",
       "      <td>-1</td>\n",
       "      <td>5e158edff4c3420006d52172</td>\n",
       "    </tr>\n",
       "    <tr>\n",
       "      <th>4</th>\n",
       "      <td>-999</td>\n",
       "      <td>-999</td>\n",
       "      <td>-999</td>\n",
       "      <td>-999</td>\n",
       "      <td>-999</td>\n",
       "      <td>-999</td>\n",
       "      <td>-999</td>\n",
       "      <td>-999</td>\n",
       "      <td>-999</td>\n",
       "      <td>-999</td>\n",
       "      <td>...</td>\n",
       "      <td>-999</td>\n",
       "      <td>-999</td>\n",
       "      <td>-999</td>\n",
       "      <td>-999</td>\n",
       "      <td>-999</td>\n",
       "      <td>-999</td>\n",
       "      <td>154.68399</td>\n",
       "      <td>81.80792</td>\n",
       "      <td>-1</td>\n",
       "      <td>5e158edff4c3420006d52172</td>\n",
       "    </tr>\n",
       "  </tbody>\n",
       "</table>\n",
       "<p>3 rows × 945 columns</p>\n",
       "</div>"
      ],
      "text/plain": [
       "   000840e5c600de293cea57f13326f273c86c3988  \\\n",
       "4                                      -999   \n",
       "4                                      -999   \n",
       "4                                      -999   \n",
       "\n",
       "   00ad587dcb9c7ce3788b92e22777a22ee0efea31  \\\n",
       "4                                      -999   \n",
       "4                                      -999   \n",
       "4                                      -999   \n",
       "\n",
       "   00af060fc145ee6a6a50475efa57b91cbf54237f  \\\n",
       "4                                      -999   \n",
       "4                                      -999   \n",
       "4                                      -999   \n",
       "\n",
       "   00bcc61bdea4d52d050822d66952dd707c2fcdf3  \\\n",
       "4                                      -999   \n",
       "4                                      -999   \n",
       "4                                      -999   \n",
       "\n",
       "   00f0904087c01d922d6ebf3005607dfdeaf6687b  \\\n",
       "4                                      -999   \n",
       "4                                      -999   \n",
       "4                                      -999   \n",
       "\n",
       "   011e20ebf721a1c6dfec42e8ed1e2ac566073a2a  \\\n",
       "4                                      -999   \n",
       "4                                      -999   \n",
       "4                                      -999   \n",
       "\n",
       "   01d2f676abab6ec03ec5dc696bfd49d66e392ea1  \\\n",
       "4                                      -999   \n",
       "4                                      -999   \n",
       "4                                      -999   \n",
       "\n",
       "   01e25e4a25acd32baf5137b3031151f751fadbb4  \\\n",
       "4                                      -999   \n",
       "4                                      -999   \n",
       "4                                      -999   \n",
       "\n",
       "   026c2f057932da75680b21ecdbd23bf9cb9350f3  \\\n",
       "4                                      -999   \n",
       "4                                      -999   \n",
       "4                                      -999   \n",
       "\n",
       "   028a310e23177c3747d37971678dd964ee28ce17  ...  \\\n",
       "4                                      -999  ...   \n",
       "4                                      -999  ...   \n",
       "4                                      -999  ...   \n",
       "\n",
       "   fdc189e5a19850397f37201f4acc378cfddcf0d6  \\\n",
       "4                                      -999   \n",
       "4                                      -999   \n",
       "4                                      -999   \n",
       "\n",
       "   fdc19f011587b75c11a6c30d8ca06d90107b6bde  \\\n",
       "4                                      -999   \n",
       "4                                      -999   \n",
       "4                                      -999   \n",
       "\n",
       "   fdf37fa13679f581bdfaae3b99e368633e0a144b  \\\n",
       "4                                      -999   \n",
       "4                                      -999   \n",
       "4                                      -999   \n",
       "\n",
       "   fdfe926caf5f49a88a9bcab8d025e887f422128b  \\\n",
       "4                                      -999   \n",
       "4                                      -999   \n",
       "4                                      -999   \n",
       "\n",
       "   fe3211f90e4ab1f500e10fe175ae6142f4b13130  \\\n",
       "4                                      -999   \n",
       "4                                      -999   \n",
       "4                                      -999   \n",
       "\n",
       "   ffa41c79865d7fb336f586e0dec8b080db1027fb          x         y  f  \\\n",
       "4                                      -999  155.65668  89.40598 -1   \n",
       "4                                      -999  155.65668  89.40598 -1   \n",
       "4                                      -999  154.68399  81.80792 -1   \n",
       "\n",
       "                       path  \n",
       "4  5e158edff4c3420006d52172  \n",
       "4  5e158edff4c3420006d52172  \n",
       "4  5e158edff4c3420006d52172  \n",
       "\n",
       "[3 rows x 945 columns]"
      ]
     },
     "execution_count": 4,
     "metadata": {},
     "output_type": "execute_result"
    }
   ],
   "source": [
    "# selecting a particular site and choosing y coorindate\n",
    "e = 0\n",
    "data = pd.read_csv(train_files[e], index_col=0)\n",
    "print(data.shape)\n",
    "data.head(3)"
   ]
  },
  {
   "cell_type": "markdown",
   "id": "competent-joseph",
   "metadata": {},
   "source": [
    "## Prepare model inputs and outputs"
   ]
  },
  {
   "cell_type": "code",
   "execution_count": 5,
   "id": "structural-wallet",
   "metadata": {},
   "outputs": [],
   "source": [
    "x_train = data.iloc[:,:-4].values.astype(int)\n",
    "y_trainy = data.iloc[:,-3].values.astype(float)\n",
    "y_trainx = data.iloc[:,-4].values.astype(float)\n",
    "y_trainf = data.iloc[:,-2].values.astype(float)\n",
    "groups = data[\"path\"]"
   ]
  },
  {
   "cell_type": "code",
   "execution_count": 6,
   "id": "romance-desire",
   "metadata": {},
   "outputs": [],
   "source": [
    "# normlise inputs\n",
    "stdScaler = StandardScaler()\n",
    "x_train = stdScaler.fit_transform(x_train)"
   ]
  },
  {
   "cell_type": "markdown",
   "id": "paperback-procedure",
   "metadata": {},
   "source": [
    "## Baseline Lightgbm and SVR model "
   ]
  },
  {
   "cell_type": "code",
   "execution_count": 7,
   "id": "common-farming",
   "metadata": {},
   "outputs": [
    {
     "name": "stdout",
     "output_type": "stream",
     "text": [
      "Cross val score for y coordinate is 77.47947111520742\n",
      "[90.20551365 92.8808168  53.35521555 68.3332076  82.62260198]\n",
      "CPU times: user 60.7 ms, sys: 69 ms, total: 130 ms\n",
      "Wall time: 16.7 s\n"
     ]
    }
   ],
   "source": [
    "%%time\n",
    "\n",
    "# baseline lightgbm model\n",
    "model = LGBMRegressor(n_estimators=125, num_leaves=90, random_state=SEED)\n",
    "results = -cross_val_score(model, X=x_train, y=y_trainy, groups=groups, \n",
    "                              scoring=\"neg_mean_squared_error\", cv=folds, n_jobs=-1)\n",
    "print(f\"Cross val score for y coordinate is {results.mean()}\")\n",
    "print(results)"
   ]
  },
  {
   "cell_type": "code",
   "execution_count": 8,
   "id": "facial-diameter",
   "metadata": {},
   "outputs": [
    {
     "name": "stdout",
     "output_type": "stream",
     "text": [
      "CPU times: user 2 µs, sys: 0 ns, total: 2 µs\n",
      "Wall time: 5.48 µs\n"
     ]
    }
   ],
   "source": [
    "%%time\n",
    "\n",
    "# baseline svm model\n",
    "# svrModel = SVR(C=100.0, epsilon=0.01)\n",
    "# results = -cross_val_score(svrModel, X=x_train, y=y_trainy, groups=groups, \n",
    "#                              scoring=\"neg_mean_squared_error\", cv=folds, n_jobs=-1)\n",
    "# print(f\"Cross val score for y coordinate is {results.mean()}\")\n",
    "# print(results)"
   ]
  },
  {
   "cell_type": "markdown",
   "id": "ruled-colleague",
   "metadata": {},
   "source": [
    "## Randomized grid search"
   ]
  },
  {
   "cell_type": "code",
   "execution_count": 9,
   "id": "interior-gossip",
   "metadata": {},
   "outputs": [],
   "source": []
  },
  {
   "cell_type": "code",
   "execution_count": 10,
   "id": "different-houston",
   "metadata": {},
   "outputs": [
    {
     "name": "stdout",
     "output_type": "stream",
     "text": [
      "CPU times: user 5 µs, sys: 1 µs, total: 6 µs\n",
      "Wall time: 9.54 µs\n"
     ]
    }
   ],
   "source": [
    "%%time\n",
    "if perform_RandomCVSearch == True:\n",
    "\n",
    "    param_grid_rand = {\n",
    "    \"learning_rate\": np.logspace(-5, 0, 100),\n",
    "    \"max_depth\": randint(2, 20),\n",
    "    \"n_estimators\": randint(100, 2000),\n",
    "    \"random_state\": [SEED],\n",
    "    }\n",
    "    \n",
    "    rs = RandomizedSearchCV(model,\n",
    "        param_grid_rand,\n",
    "        n_iter=n_iter,\n",
    "        scoring=\"neg_mean_squared_error\",\n",
    "        #fit_params=None,\n",
    "        n_jobs=-1,\n",
    "        cv=folds,\n",
    "        verbose=True,\n",
    "        random_state=SEED,\n",
    "    )\n",
    "\n",
    "    rs.fit(x_train, y_trainy, groups=groups)\n",
    "    print(\"Best MSE {:.3f} params {}\".format(-rs.best_score_, rs.best_params_))"
   ]
  },
  {
   "cell_type": "code",
   "execution_count": 11,
   "id": "german-philippines",
   "metadata": {},
   "outputs": [],
   "source": [
    "if perform_RandomCVSearch == True:\n",
    "    rs_results_df = pd.DataFrame(\n",
    "        np.transpose(\n",
    "            [\n",
    "                -rs.cv_results_[\"mean_test_score\"],\n",
    "                rs.cv_results_[\"param_learning_rate\"].data,\n",
    "                rs.cv_results_[\"param_max_depth\"].data,\n",
    "                rs.cv_results_[\"param_n_estimators\"].data,\n",
    "            ]\n",
    "        ),\n",
    "        columns=[\"score\", \"learning_rate\", \"max_depth\", \"n_estimators\"],\n",
    "    )\n",
    "    rs_results_df.plot(subplots=True, figsize=(10, 10))"
   ]
  },
  {
   "cell_type": "markdown",
   "id": "available-wilderness",
   "metadata": {},
   "source": [
    "## Hyperopt method 1 - Tree-structured Parzen Estimator"
   ]
  },
  {
   "cell_type": "code",
   "execution_count": 12,
   "id": "demographic-warehouse",
   "metadata": {},
   "outputs": [],
   "source": [
    "def gb_mse_cv(params, X=x_train, y=y_trainy, cv=folds,random_state=SEED):\n",
    "    # the function gest a set of variable parameters in \"param\"\n",
    "    params = {\n",
    "        \"n_estimators\": int(params[\"n_estimators\"]),\n",
    "        \"max_depth\": int(params[\"max_depth\"]),\n",
    "        \"learning_rate\": params[\"learning_rate\"],\n",
    "        \"objective\": \"regression\",\n",
    "        \"metric\": \"binary_logloss\",\n",
    "        \"verbosity\": -1,\n",
    "        \"boosting_type\": \"gbdt\",\n",
    "        \"lambda_l1\": trial.suggest_float(\"lambda_l1\", 1e-8, 10.0, log=True),\n",
    "        \"lambda_l2\": trial.suggest_float(\"lambda_l2\", 1e-8, 10.0, log=True),\n",
    "        \"n_estimators\": trial.suggest_int(\"n_estimators\", 50, 200),\n",
    "        \"num_leaves\": trial.suggest_int(\"num_leaves\", 2, 256),\n",
    "        \"feature_fraction\": trial.suggest_float(\"feature_fraction\", 0.4, 1.0),\n",
    "        \"bagging_fraction\": trial.suggest_float(\"bagging_fraction\", 0.4, 1.0),\n",
    "        \"bagging_freq\": trial.suggest_int(\"bagging_freq\", 1, 7),\n",
    "        \"min_child_samples\": trial.suggest_int(\"min_child_samples\", 5, 100),\n",
    "        \n",
    "    }\n",
    "\n",
    "    # we use this params to create a new LGBM Regressor\n",
    "    model = LGBMRegressor(random_state=SEED, **params)\n",
    "\n",
    "    # and then conduct the cross validation with the same folds as before\n",
    "    score = -cross_val_score(model, X=X, y=y, groups=groups, scoring=\"neg_mean_squared_error\",\n",
    "                             cv=folds, n_jobs=-1).mean()\n",
    "    return score"
   ]
  },
  {
   "cell_type": "code",
   "execution_count": 13,
   "id": "dense-penguin",
   "metadata": {},
   "outputs": [
    {
     "name": "stdout",
     "output_type": "stream",
     "text": [
      "CPU times: user 4 µs, sys: 1e+03 ns, total: 5 µs\n",
      "Wall time: 6.91 µs\n"
     ]
    }
   ],
   "source": [
    "%%time\n",
    "if perform_hyperoptParsenEstimator == True:\n",
    "\n",
    "    # possible values of parameters\n",
    "    space = {\n",
    "        \"n_estimators\": hp.quniform(\"n_estimators\", 100, 2000, 1),\n",
    "        \"max_depth\": hp.quniform(\"max_depth\", 2, 20, 1),\n",
    "        \"learning_rate\": hp.loguniform(\"learning_rate\", -5, 0),\n",
    "    }\n",
    "    \n",
    "    # trials will contain logging information\n",
    "    trials = Trials()\n",
    "\n",
    "    best = fmin(\n",
    "        fn=gb_mse_cv,                       # function to optimize\n",
    "        space=space,                        # search space\n",
    "        algo=tpe.suggest,                   # optimization algorithm, hyperotp will select its parameters automatically\n",
    "        max_evals=n_iter,                   # maximum number of iterations\n",
    "        trials=trials,                      # logging\n",
    "        show_progressbar=True,\n",
    "        rstate=np.random.RandomState(SEED), # fixing random state for the reproducibility\n",
    "    )\n",
    "\n",
    "    print(\"Best MSE {:.3f} params {}\".format(gb_mse_cv(best), best))"
   ]
  },
  {
   "cell_type": "code",
   "execution_count": 14,
   "id": "structural-capital",
   "metadata": {},
   "outputs": [],
   "source": [
    "if perform_hyperoptParsenEstimator == True:\n",
    "    tpe_results = np.array(\n",
    "        [\n",
    "            [\n",
    "                x[\"result\"][\"loss\"],\n",
    "                x[\"misc\"][\"vals\"][\"learning_rate\"][0],\n",
    "                x[\"misc\"][\"vals\"][\"max_depth\"][0],\n",
    "                x[\"misc\"][\"vals\"][\"n_estimators\"][0],\n",
    "            ]\n",
    "            for x in trials.trials\n",
    "        ]\n",
    "    )\n",
    "\n",
    "    tpe_results_df = pd.DataFrame(\n",
    "        tpe_results, columns=[\"score\", \"learning_rate\", \"max_depth\", \"n_estimators\"]\n",
    "    )\n",
    "    tpe_results_df.plot(subplots=True, figsize=(10, 10))"
   ]
  },
  {
   "cell_type": "markdown",
   "id": "precise-tournament",
   "metadata": {},
   "source": [
    "## Hyperopt method2 - Simulated annealing"
   ]
  },
  {
   "cell_type": "code",
   "execution_count": 15,
   "id": "soviet-address",
   "metadata": {},
   "outputs": [
    {
     "name": "stdout",
     "output_type": "stream",
     "text": [
      "100%|██████████| 3/3 [01:59<00:00, 39.71s/trial, best loss: 73.05802027468181]\n",
      "Best MSE 73.058 params {'learning_rate': 0.03052751366689494, 'max_depth': 7.0, 'n_estimators': 736.0}\n",
      "CPU times: user 141 ms, sys: 123 ms, total: 264 ms\n",
      "Wall time: 2min 26s\n"
     ]
    }
   ],
   "source": [
    "%%time\n",
    "\n",
    "if perform_hyperoptSimpleAnnealing == True:\n",
    "    \n",
    "    # possible values of parameters\n",
    "    space = {\n",
    "        \"n_estimators\": hp.quniform(\"n_estimators\", 100, 2000, 1),\n",
    "        \"max_depth\": hp.quniform(\"max_depth\", 2, 20, 1),\n",
    "        \"learning_rate\": hp.loguniform(\"learning_rate\", -5, 0),\n",
    "    }\n",
    "\n",
    "    # trials will contain logging information\n",
    "    trials = Trials()\n",
    "\n",
    "\n",
    "    best = fmin(\n",
    "        fn=gb_mse_cv,                       # function to optimize\n",
    "        space=space,                        # search space\n",
    "        algo=anneal.suggest,                # optimization algorithm, hyperotp will select its parameters automatically\n",
    "        max_evals=n_iter,                   # maximum number of iterations\n",
    "        trials=trials,                      # logging\n",
    "        rstate=np.random.RandomState(SEED), # fixing random state for the reproducibility\n",
    "        show_progressbar=True\n",
    "        )\n",
    "\n",
    "    print(\"Best MSE {:.3f} params {}\".format(gb_mse_cv(best), best))"
   ]
  },
  {
   "cell_type": "code",
   "execution_count": 16,
   "id": "naval-heaven",
   "metadata": {},
   "outputs": [
    {
     "data": {
      "image/png": "[encoded data removed]",
      "text/plain": [
       "<Figure size 720x720 with 4 Axes>"
      ]
     },
     "metadata": {
      "needs_background": "light"
     },
     "output_type": "display_data"
    }
   ],
   "source": [
    "if perform_hyperoptSimpleAnnealing == True:\n",
    "    sa_results = np.array(\n",
    "        [\n",
    "            [\n",
    "                x[\"result\"][\"loss\"],\n",
    "                x[\"misc\"][\"vals\"][\"learning_rate\"][0],\n",
    "                x[\"misc\"][\"vals\"][\"max_depth\"][0],\n",
    "                x[\"misc\"][\"vals\"][\"n_estimators\"][0],\n",
    "            ]\n",
    "            for x in trials.trials\n",
    "        ]\n",
    "    )\n",
    "\n",
    "    sa_results_df = pd.DataFrame(\n",
    "        sa_results, columns=[\"score\", \"learning_rate\", \"max_depth\", \"n_estimators\"]\n",
    "    )\n",
    "    sa_results_df.plot(subplots=True, figsize=(10, 10))"
   ]
  }
 ],
 "metadata": {
  "kernelspec": {
   "display_name": "kaggle",
   "language": "python",
   "name": "kaggle"
  },
  "language_info": {
   "codemirror_mode": {
    "name": "ipython",
    "version": 3
   },
   "file_extension": ".py",
   "mimetype": "text/x-python",
   "name": "python",
   "nbconvert_exporter": "python",
   "pygments_lexer": "ipython3",
   "version": "3.8.8"
  }
 },
 "nbformat": 4,
 "nbformat_minor": 5
}
