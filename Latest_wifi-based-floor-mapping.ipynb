{
 "cells": [
  {
   "cell_type": "code",
   "execution_count": 1,
   "metadata": {
    "_cell_guid": "b1076dfc-b9ad-4769-8c92-a6c4dae69d19",
    "_uuid": "8f2839f25d086af736a60e9eeb907d3b93b6e0e5"
   },
   "outputs": [],
   "source": [
    "import os\n",
    "import csv\n",
    "import glob\n",
    "import json\n",
    "import pickle\n",
    "import collections\n",
    "import numpy as np\n",
    "import pandas as pd\n",
    "from tqdm import tqdm\n",
    "from pathlib import Path\n",
    "from typing import List, Tuple, Any\n",
    "\n",
    "import multiprocessing\n",
    "from multiprocessing import Pool\n",
    "\n",
    "import dask\n",
    "from dask.distributed import wait\n",
    "from dask.distributed import Client, wait, LocalCluster"
   ]
  },
  {
   "cell_type": "code",
   "execution_count": 2,
   "metadata": {},
   "outputs": [
    {
     "data": {
      "text/html": [
       "<table style=\"border: 2px solid white;\">\n",
       "<tr>\n",
       "<td style=\"vertical-align: top; border: 0px solid white\">\n",
       "<h3 style=\"text-align: left;\">Client</h3>\n",
       "<ul style=\"text-align: left; list-style: none; margin: 0; padding: 0;\">\n",
       "  <li><b>Scheduler: </b>tcp://127.0.0.1:44249</li>\n",
       "  <li><b>Dashboard: </b><a href='http://127.0.0.1:8787/status' target='_blank'>http://127.0.0.1:8787/status</a></li>\n",
       "</ul>\n",
       "</td>\n",
       "<td style=\"vertical-align: top; border: 0px solid white\">\n",
       "<h3 style=\"text-align: left;\">Cluster</h3>\n",
       "<ul style=\"text-align: left; list-style:none; margin: 0; padding: 0;\">\n",
       "  <li><b>Workers: </b>4</li>\n",
       "  <li><b>Cores: </b>4</li>\n",
       "  <li><b>Memory: </b>7.23 GiB</li>\n",
       "</ul>\n",
       "</td>\n",
       "</tr>\n",
       "</table>"
      ],
      "text/plain": [
       "<Client: 'tcp://127.0.0.1:44249' processes=4 threads=4, memory=7.23 GiB>"
      ]
     },
     "execution_count": 2,
     "metadata": {},
     "output_type": "execute_result"
    }
   ],
   "source": [
    "# set n_workers to number of cores\n",
    "client = Client(n_workers=multiprocessing.cpu_count(), threads_per_worker=1)\n",
    "client"
   ]
  },
  {
   "cell_type": "code",
   "execution_count": 3,
   "metadata": {},
   "outputs": [],
   "source": [
    "floor_map = {\"B2\": -2, \"B1\": -1, \"F1\": 0, \"F2\": 1, \"F3\": 2, \"F4\": 3, \"F5\": 4, \"F6\": 5, \"F7\": 6, \"F8\": 7, \"F9\": 8,\n",
    "             \"1F\": 0, \"2F\": 1, \"3F\": 2, \"4F\": 3, \"5F\": 4, \"6F\": 5, \"7F\": 6, \"8F\": 7, \"9F\": 8}\n",
    "\n",
    "\n",
    "minCount = 1\n",
    "rssiFillerValue = -999.0\n",
    "dtFillerValue   = 1000.0\n",
    "freqFillerValue = 0\n",
    "outputDir = '.'\n",
    "sampleCsvPath = 'sample_submission.csv'\n",
    "buildingBssidPklFilePath = \"buildingBssids.pkl\""
   ]
  },
  {
   "cell_type": "code",
   "execution_count": 4,
   "metadata": {},
   "outputs": [],
   "source": [
    "def input_dir() -> Path:\n",
    "    return Path('.')\n",
    "\n",
    "def generate_target_buildings() -> List[str]:\n",
    "    ssubm = pd.read_csv(sampleCsvPath)\n",
    "    ssubm_df = ssubm[\"site_path_timestamp\"].apply(lambda x: pd.Series(x.split(\"_\")))\n",
    "    return sorted(ssubm_df[0].value_counts().index.tolist()) # type: ignore\n",
    "\n",
    "def extract_wps_wifis(file: Path) -> Tuple[List[str], List[str]]:\n",
    "    wps = []\n",
    "    wifis = []\n",
    "    with open(file) as f:\n",
    "        for row in csv.reader(f, delimiter=\"\\t\", doublequote=True):\n",
    "            if row[1] == \"TYPE_WAYPOINT\":\n",
    "                # x\n",
    "                row[2] = float(row[2])  # type: ignore\n",
    "                # y\n",
    "                row[3] = float(row[3])  # type: ignore\n",
    "                wps.append([int(row[0]), row[2], row[3]])\n",
    "            elif row[1] == \"TYPE_WIFI\":\n",
    "                # wifi signal value\n",
    "                row[4] = int(row[4])  # type: ignore\n",
    "                wifis.append(row)\n",
    "    wps = sorted(wps, key=lambda x: x[0])  # timestamp\n",
    "    wifis = sorted(wifis, key=lambda x: x[0])  # timestamp\n",
    "    return wps, wifis"
   ]
  },
  {
   "cell_type": "code",
   "execution_count": 5,
   "metadata": {},
   "outputs": [],
   "source": [
    "def generateFloorBssids_train(building : str):\n",
    "    \"\"\"\n",
    "    for a given building in train set, this function calculates\n",
    "    the unique wifi bssids within each floor\n",
    "    \n",
    "    returns :  a dict with keys = {building}_{floor}, values = list(set(floorBssids))\n",
    "    \"\"\"\n",
    "    building_path = input_dir() / 'train' / building\n",
    "    floorBssids = {}\n",
    "    folders = sorted(building_path.glob('*'))\n",
    "    for folder in folders:\n",
    "        folderData = []\n",
    "        files = folder.glob(\"*.txt\")\n",
    "        for file in files:\n",
    "            _, wifiData = extract_wps_wifis(file)\n",
    "            folderData.extend([t[3] for t in wifiData])\n",
    "        floorBssids[f\"{folder.name}\"] = list(set(folderData))\n",
    "    return floorBssids"
   ]
  },
  {
   "cell_type": "code",
   "execution_count": 6,
   "metadata": {},
   "outputs": [],
   "source": [
    "def generateIntersectingBssids(floorBssids):\n",
    "    \"\"\"\n",
    "    given a dict with floor -> bssid list mapping,\n",
    "    returns : list of bssids which occur in more than 1 floor \n",
    "    \"\"\"\n",
    "    commonBssids = []\n",
    "    for k1, v1 in floorBssids.items():\n",
    "        for k2, v2 in floorBssids.items():\n",
    "            if (k1 != k2):\n",
    "                intersectingBssids = list(set(v1).intersection(set(v2)))\n",
    "                commonBssids.extend(intersectingBssids)\n",
    "    return commonBssids"
   ]
  },
  {
   "cell_type": "code",
   "execution_count": 7,
   "metadata": {},
   "outputs": [],
   "source": [
    "def printBssidsInfo(floorBssids):\n",
    "    \"\"\"\n",
    "    given a dict with floor -> bssid list mapping,m\n",
    "    Function calcuates total number of bssids and number \n",
    "    of unique bssids and prints result\n",
    "    \"\"\"\n",
    "    totalBssids = []\n",
    "    for k,v in floorBssids.items():\n",
    "        ## print(f\"{k} has {len(v)} total bssids\")\n",
    "        totalBssids.extend(v)\n",
    "    \n",
    "    print(f\"Totally, There are {len(totalBssids)} bssids\")\n",
    "    print(f\"There are {len(set(totalBssids))} unique bssids\")"
   ]
  },
  {
   "cell_type": "code",
   "execution_count": 8,
   "metadata": {},
   "outputs": [],
   "source": [
    "def generateUniqueFloorBssids(floorBssids, commonBssids):\n",
    "    \"\"\"\n",
    "    floorBssids : a dict with floor -> bssid list mapping\n",
    "    commonBssids : list of bssids which are present in more than one floor\n",
    "    \"\"\"\n",
    "    uniqueFloorBssids = {}\n",
    "    for k,v in floorBssids.items():\n",
    "        uniqueFloorBssids[k] = list(set(v) - set(commonBssids))    \n",
    "    return uniqueFloorBssids"
   ]
  },
  {
   "cell_type": "code",
   "execution_count": 9,
   "metadata": {},
   "outputs": [],
   "source": [
    "buildingsList = generate_target_buildings()"
   ]
  },
  {
   "cell_type": "code",
   "execution_count": 16,
   "metadata": {},
   "outputs": [],
   "source": [
    "def generateFloorUniqueBssidData(buildingsList):\n",
    "    floorUniqueBssidData = {}\n",
    "    for building in buildingsList:\n",
    "        floorBssids = generateFloorBssids_train(building)    # consumes most time\n",
    "        commonBssids = generateIntersectingBssids(floorBssids)\n",
    "        uniqueBssids = generateUniqueFloorBssids(floorBssids, commonBssids)\n",
    "\n",
    "        print(building)\n",
    "        print(f\"building unique bssids information\")\n",
    "        printBssidsInfo(floorBssids)\n",
    "        print(f\"Floor unique bssids information\")\n",
    "        printBssidsInfo(uniqueBssids)\n",
    "        print('-----------------------------------')\n",
    "\n",
    "        floorUniqueBssidData[building] = uniqueBssids\n",
    "    \n",
    "    with open(\"floorUniqueBssidData.json\", \"w\") as outfile: \n",
    "        json.dump(floorUniqueBssidData, outfile)"
   ]
  },
  {
   "cell_type": "markdown",
   "metadata": {},
   "source": [
    "folders = sorted(building_path.glob('*'))\n",
    "for folder in folders:\n",
    "    folderData = []\n",
    "    files = folder.glob(\"*.txt\")\n",
    "    for file in files:\n",
    "        _, wifiData = extract_wps_wifis(file)\n",
    "        break\n",
    "    break\n",
    "\n",
    "wifiData = pd.DataFrame(wifiData, columns = ['timestamp','type','ssid', 'bssid', 'rssi', 'freq', 'last_ts'])\n",
    "wifiData.drop(labels=['timestamp', 'type', 'ssid', 'freq', 'last_ts'], axis=1, inplace=True)\n",
    "wifiData.sort_values(by=['bssid'],inplace=True)"
   ]
  },
  {
   "cell_type": "markdown",
   "metadata": {},
   "source": [
    "wifiData.shape"
   ]
  },
  {
   "cell_type": "markdown",
   "metadata": {},
   "source": [
    "wifiData.head()"
   ]
  },
  {
   "cell_type": "markdown",
   "metadata": {},
   "source": [
    "def findMappingFloor(wifiAp, bssidMap):\n",
    "    matchingfloor = None\n",
    "    for floor, floorAPList in bssidMap.items():\n",
    "        if wifiAp in floorAPList:\n",
    "            matchingfloor = floor.split('_')[1]\n",
    "            break\n",
    "    return matchingfloor"
   ]
  },
  {
   "cell_type": "markdown",
   "metadata": {},
   "source": [
    "wifiData['mappedFloor'] = wifiData['bssid'].apply(findMappingFloor, bssidMap=uniqueFloorBssids)"
   ]
  },
  {
   "cell_type": "markdown",
   "metadata": {},
   "source": [
    "wifiData.head()"
   ]
  },
  {
   "cell_type": "markdown",
   "metadata": {},
   "source": [
    "wifiData['mappedFloor'].value_counts()"
   ]
  },
  {
   "cell_type": "markdown",
   "metadata": {},
   "source": [
    "wifiData['mappedFloor'].value_counts().to_dict().keys()"
   ]
  },
  {
   "cell_type": "markdown",
   "metadata": {},
   "source": [
    "wifiData.shape"
   ]
  },
  {
   "cell_type": "markdown",
   "metadata": {},
   "source": [
    "wifiData.info()"
   ]
  }
 ],
 "metadata": {
  "kernelspec": {
   "display_name": "Python 3",
   "language": "python",
   "name": "python3"
  },
  "language_info": {
   "codemirror_mode": {
    "name": "ipython",
    "version": 3
   },
   "file_extension": ".py",
   "mimetype": "text/x-python",
   "name": "python",
   "nbconvert_exporter": "python",
   "pygments_lexer": "ipython3",
   "version": "3.8.8"
  }
 },
 "nbformat": 4,
 "nbformat_minor": 4
}
