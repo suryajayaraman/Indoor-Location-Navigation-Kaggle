{
 "cells": [
  {
   "cell_type": "markdown",
   "id": "attended-linux",
   "metadata": {},
   "source": [
    "## Libraries import"
   ]
  },
  {
   "cell_type": "code",
   "execution_count": 1,
   "id": "another-hygiene",
   "metadata": {},
   "outputs": [],
   "source": [
    "import pandas as pd\n",
    "import numpy as np\n",
    "import os\n",
    "import glob\n",
    "\n",
    "# functions and libraires from competition github\n",
    "from dataclasses import dataclass\n",
    "from io_f import read_data_file\n",
    "from visualize_f import visualize_heatmap, visualize_trajectory"
   ]
  },
  {
   "cell_type": "code",
   "execution_count": 2,
   "id": "vietnamese-ensemble",
   "metadata": {},
   "outputs": [],
   "source": [
    "TRAIN_FOLDER = 'train'\n",
    "TEST_FOLDER = 'test'"
   ]
  },
  {
   "cell_type": "markdown",
   "id": "quantitative-result",
   "metadata": {},
   "source": [
    "## helper functions"
   ]
  },
  {
   "cell_type": "code",
   "execution_count": 3,
   "id": "experienced-cornwall",
   "metadata": {},
   "outputs": [],
   "source": [
    "def findFilesSpecificFormat(searchDirectory, fileExtension):\n",
    "    fileExtension = f\"*.{fileExtension}\"\n",
    "    matchingFileFormatList = [file\n",
    "                             for path, subdir, files in os.walk(searchDirectory)\n",
    "                             for file in glob.glob(os.path.join(path, fileExtension))]\n",
    "    return matchingFileFormatList"
   ]
  },
  {
   "cell_type": "code",
   "execution_count": 4,
   "id": "incoming-import",
   "metadata": {},
   "outputs": [],
   "source": [
    "def getSiteTestPathFiles(siteID):\n",
    "    tempdf = testSitePathTimestampData[testSitePathTimestampData.loc[:,0]==siteID]\n",
    "    pathFilesNames = np.unique(tempdf.loc[:,1].values).tolist()\n",
    "    sitePathFilesList = [f\"{TEST_FOLDER}/{x}.txt\" for x in pathFilesNames]\n",
    "    return sitePathFilesList"
   ]
  },
  {
   "cell_type": "code",
   "execution_count": 5,
   "id": "surgical-elephant",
   "metadata": {},
   "outputs": [],
   "source": [
    "def getUniqueIBeaconAPList(data):\n",
    "    wifiData = data.ibeacon\n",
    "    return np.unique(wifiData[:,1]).tolist()"
   ]
  },
  {
   "cell_type": "code",
   "execution_count": 6,
   "id": "coral-telescope",
   "metadata": {},
   "outputs": [],
   "source": [
    "def getIBeaconList(pathFileList):\n",
    "    pathIBeaconAPList = [] \n",
    "    \n",
    "    for pathFile in pathFileList:    \n",
    "        # extract pathFile data\n",
    "        pathFileData = read_data_file(pathFile)\n",
    "    \n",
    "        try:\n",
    "            # compute unique WiFi access points list\n",
    "            temp = getUniqueIBeaconAPList(pathFileData)\n",
    "        except:\n",
    "            print(f\"{pathFile} has issue, output shape = {pathFileData.ibeacon.shape}\")\n",
    "\n",
    "        #print(f\"There are {len(temp)} unique WiFi APs in  {pathFile} pathfile\")\n",
    "        pathIBeaconAPList.append(temp)\n",
    "    return pathIBeaconAPList"
   ]
  },
  {
   "cell_type": "code",
   "execution_count": 7,
   "id": "serious-ready",
   "metadata": {},
   "outputs": [],
   "source": [
    "def getSiteTestDataIBeaconInfo(testSitePathList):\n",
    "    siteTestDataIBeaconInfo = {}\n",
    "    siteTestDataTotalIBeaconAPList  = []\n",
    "    temp = getIBeaconList(testSitePathList)\n",
    "    for idx, pathFile in enumerate(testSitePathList):    \n",
    "        # get path name from file name\n",
    "        pathName = pathFile.split(\"/\")[1].replace(\".txt\", \"\")\n",
    "        siteTestDataIBeaconInfo[pathName] = temp[idx]\n",
    "        siteTestDataTotalIBeaconAPList.extend(temp[idx])\n",
    "    del(temp)\n",
    "\n",
    "    print(f\"There are {len(siteTestDataTotalIBeaconAPList)} wifi APs in samplesite\")\n",
    "    print(f\"There are {len(list(set(siteTestDataTotalIBeaconAPList)))} unique wifi APs in samplesite\")  \n",
    "    return siteTestDataIBeaconInfo, siteTestDataTotalIBeaconAPList"
   ]
  },
  {
   "cell_type": "code",
   "execution_count": 8,
   "id": "lesser-battle",
   "metadata": {},
   "outputs": [],
   "source": [
    "def getSiteTrainDataIBeaconInfo(site, siteFloorList):\n",
    "    siteTrainDataIBeaconInfo = {}\n",
    "    siteTrainDataTotalIBeaconAPList = []\n",
    "    \n",
    "    # iterate through floors in site\n",
    "    for floor in siteFloorList:\n",
    "        tempList = os.listdir(f\"{TRAIN_FOLDER}/{site}/{floor}\")\n",
    "        floorPathFileList = [f\"{TRAIN_FOLDER}/{site}/{floor}/{x}\" for x in tempList]\n",
    "        print(f\"There are {len(floorPathFileList)} Path files at {site}/{floor} Floor Train data\")\n",
    "\n",
    "        temp = getIBeaconList(floorPathFileList)\n",
    "        siteTrainDataIBeaconInfo[floor] = []\n",
    "        for pathIBeaconList in temp:\n",
    "            siteTrainDataIBeaconInfo[floor].extend(pathIBeaconList)\n",
    "            siteTrainDataTotalIBeaconAPList.extend(pathIBeaconList)\n",
    "        #print(f\"Floor {floor} done\")\n",
    "    return siteTrainDataIBeaconInfo, siteTrainDataTotalIBeaconAPList"
   ]
  },
  {
   "cell_type": "code",
   "execution_count": 9,
   "id": "cardiovascular-allah",
   "metadata": {},
   "outputs": [],
   "source": [
    "def getSiteIBeaconDF(siteTestDataIBeaconInfo, siteTrainDataIBeaconInfo):\n",
    "    site_df = pd.DataFrame()\n",
    "    site_df[\"pathFile\"] = siteTestDataIBeaconInfo.keys()\n",
    "\n",
    "    for floor in siteTrainDataIBeaconInfo.keys():\n",
    "        floorIBeaconAPSet = set(siteTrainDataIBeaconInfo[floor])\n",
    "    \n",
    "        IBeaconMatchCount = [] \n",
    "        for _,key in enumerate(siteTestDataIBeaconInfo.keys()):\n",
    "            testPathIBeaconAPSet = set(siteTestDataIBeaconInfo[key])\n",
    "            matchlist = list(floorIBeaconAPSet.intersection(testPathIBeaconAPSet))\n",
    "            # print(f\"{floor} - {key} matchcount = {len(matchlist)}\")\n",
    "            IBeaconMatchCount.append(len(matchlist))\n",
    "        \n",
    "        site_df[floor] = IBeaconMatchCount\n",
    "    return site_df"
   ]
  },
  {
   "cell_type": "markdown",
   "id": "coupled-navigation",
   "metadata": {},
   "source": [
    "## Parse sampleSubmissionCSV"
   ]
  },
  {
   "cell_type": "code",
   "execution_count": 10,
   "id": "tight-farming",
   "metadata": {},
   "outputs": [],
   "source": [
    "sampleSubmissionCSV = pd.read_csv('sample_submission.csv')\n",
    "testSitePathTimestampData = sampleSubmissionCSV['site_path_timestamp'].str.split('_', expand=True)"
   ]
  },
  {
   "cell_type": "markdown",
   "id": "scientific-pressing",
   "metadata": {},
   "source": [
    "```python\n",
    "print(sampleSubmissionCSV.head(2))\n",
    "print(testSitePathTimestampData.head(2))\n",
    "print(\"testSitePathTimestampData.columns = \", testSitePathTimestampData.columns)\n",
    "```"
   ]
  },
  {
   "cell_type": "code",
   "execution_count": 11,
   "id": "executed-optimum",
   "metadata": {},
   "outputs": [
    {
     "name": "stdout",
     "output_type": "stream",
     "text": [
      "Number of train sites 204\n",
      "Number of test sites 24\n"
     ]
    }
   ],
   "source": [
    "# testSites listed as separate folders under train/\n",
    "trainSitesList = os.listdir('train/')\n",
    "uniqueTestSitesList = testSitePathTimestampData.loc[:,0].unique().tolist()\n",
    "\n",
    "print(f\"Number of train sites {len(trainSitesList)}\")\n",
    "print(f\"Number of test sites {len(uniqueTestSitesList)}\")"
   ]
  },
  {
   "cell_type": "markdown",
   "id": "adequate-fluid",
   "metadata": {},
   "source": [
    "## Compute iBeacon unique access points for one Test site"
   ]
  },
  {
   "cell_type": "code",
   "execution_count": 12,
   "id": "suitable-space",
   "metadata": {},
   "outputs": [
    {
     "name": "stdout",
     "output_type": "stream",
     "text": [
      "There are 29 PathFiles in site 5a0546857ecc773753327266\n",
      "sample file is test/046cfa46be49fc10834815c6.txt\n"
     ]
    }
   ],
   "source": [
    "sampleTestSite = uniqueTestSitesList[0]\n",
    "sampleTestSitePathList = getSiteTestPathFiles(sampleTestSite) \n",
    "print(f\"There are {len(sampleTestSitePathList)} PathFiles in site {sampleTestSite}\")\n",
    "print(f\"sample file is {sampleTestSitePathList[0]}\")"
   ]
  },
  {
   "cell_type": "markdown",
   "id": "vietnamese-effectiveness",
   "metadata": {},
   "source": [
    "```python\n",
    "# To check if resulting files are present\n",
    "print([os.path.isfile(x) for x in sampleTestSitePathList])\n",
    "```"
   ]
  },
  {
   "cell_type": "code",
   "execution_count": 13,
   "id": "daily-toyota",
   "metadata": {},
   "outputs": [
    {
     "name": "stdout",
     "output_type": "stream",
     "text": [
      "There are 112 wifi APs in samplesite\n",
      "There are 34 unique wifi APs in samplesite\n"
     ]
    }
   ],
   "source": [
    "siteTestDataIBeaconInfo, siteTestDataTotalIBeaconAPList = getSiteTestDataIBeaconInfo(sampleTestSitePathList)"
   ]
  },
  {
   "cell_type": "markdown",
   "id": "official-sweet",
   "metadata": {},
   "source": [
    "## Train file IBeacon APs list"
   ]
  },
  {
   "cell_type": "code",
   "execution_count": 14,
   "id": "changed-minority",
   "metadata": {},
   "outputs": [
    {
     "name": "stdout",
     "output_type": "stream",
     "text": [
      "Floors at 5a0546857ecc773753327266 Train Data = ['B1', 'F1', 'F2', 'F3', 'F4']\n"
     ]
    }
   ],
   "source": [
    "floorsInSite = os.listdir(f\"{TRAIN_FOLDER}/{sampleTestSite}\")\n",
    "floorsInSite.sort()\n",
    "print(f\"Floors at {sampleTestSite} Train Data = {floorsInSite}\")"
   ]
  },
  {
   "cell_type": "code",
   "execution_count": 15,
   "id": "scientific-sullivan",
   "metadata": {},
   "outputs": [
    {
     "name": "stdout",
     "output_type": "stream",
     "text": [
      "There are 109 Path files at 5a0546857ecc773753327266/B1 Floor Train data\n",
      "There are 131 Path files at 5a0546857ecc773753327266/F1 Floor Train data\n",
      "train/5a0546857ecc773753327266/F1/5e15b393f4c3420006d522ed.txt has issue, output shape = (0,)\n",
      "There are 110 Path files at 5a0546857ecc773753327266/F2 Floor Train data\n",
      "There are 78 Path files at 5a0546857ecc773753327266/F3 Floor Train data\n",
      "There are 86 Path files at 5a0546857ecc773753327266/F4 Floor Train data\n"
     ]
    }
   ],
   "source": [
    "siteTrainDataIBeaconInfo, siteTrainDataTotalIBeaconAPList = getSiteTrainDataIBeaconInfo(sampleTestSite, floorsInSite)"
   ]
  },
  {
   "cell_type": "code",
   "execution_count": 16,
   "id": "nasty-helicopter",
   "metadata": {},
   "outputs": [
    {
     "name": "stdout",
     "output_type": "stream",
     "text": [
      "                   pathFile  B1  F1  F2  F3  F4\n",
      "0  046cfa46be49fc10834815c6   2   2   2   2   2\n",
      "1  05d052dde78384b0c543d89c   2   2   2   2   2\n",
      "2  0c06cc9f21d172618d74c6c8   7   2   2   2   2\n"
     ]
    }
   ],
   "source": [
    "site_df = getSiteIBeaconDF(siteTestDataIBeaconInfo, siteTrainDataIBeaconInfo)\n",
    "print(site_df.head(3))\n",
    "site_df.to_csv(f\"{sampleTestSite}_IBeaconOutput.csv\")"
   ]
  },
  {
   "cell_type": "code",
   "execution_count": 17,
   "id": "legendary-music",
   "metadata": {},
   "outputs": [
    {
     "name": "stdout",
     "output_type": "stream",
     "text": [
      "There are 1575 Ibeacon APs in siteTrainData\n",
      "There are 112 Ibeacon APs in siteTestData\n"
     ]
    }
   ],
   "source": [
    "print(f\"There are {len(siteTrainDataTotalIBeaconAPList)} Ibeacon APs in siteTrainData\")\n",
    "print(f\"There are {len(siteTestDataTotalIBeaconAPList)} Ibeacon APs in siteTestData\")"
   ]
  },
  {
   "cell_type": "code",
   "execution_count": 18,
   "id": "enormous-costa",
   "metadata": {},
   "outputs": [
    {
     "data": {
      "text/plain": [
       "{'b1607a1d8a0371d61472032c7562886c35337be6_b6589fc6ab0dc82cf12099d1c2d40ab994e8410c_b6589fc6ab0dc82cf12099d1c2d40ab994e8410c'}"
      ]
     },
     "execution_count": 18,
     "metadata": {},
     "output_type": "execute_result"
    }
   ],
   "source": [
    "set(siteTestDataTotalIBeaconAPList) - set(siteTrainDataTotalIBeaconAPList)"
   ]
  }
 ],
 "metadata": {
  "kernelspec": {
   "display_name": "kaggle",
   "language": "python",
   "name": "kaggle"
  },
  "language_info": {
   "codemirror_mode": {
    "name": "ipython",
    "version": 3
   },
   "file_extension": ".py",
   "mimetype": "text/x-python",
   "name": "python",
   "nbconvert_exporter": "python",
   "pygments_lexer": "ipython3",
   "version": "3.8.8"
  }
 },
 "nbformat": 4,
 "nbformat_minor": 5
}
