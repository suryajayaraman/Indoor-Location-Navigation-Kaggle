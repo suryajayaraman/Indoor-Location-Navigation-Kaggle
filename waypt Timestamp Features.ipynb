{
 "cells": [
  {
   "cell_type": "markdown",
   "metadata": {
    "papermill": {
     "duration": 0.007463,
     "end_time": "2021-02-03T20:30:06.571139",
     "exception": false,
     "start_time": "2021-02-03T20:30:06.563676",
     "status": "completed"
    },
    "tags": []
   },
   "source": [
    "### Wifi features\n",
    "\n",
    "This this is the code to generate the wifi features available in [this dataset](https://www.kaggle.com/devinanzelmo/indoor-navigation-and-location-wifi-features). Using these features can get a score below 14. For an example notebook using them see [this notebook](https://www.kaggle.com/devinanzelmo/wifi-features-lightgbm-starter). They only uses waypoints, wifi and timestamp data to generate solution. See this [forum post](https://www.kaggle.com/c/indoor-location-navigation/discussion/215445) for an outline of this solution method, and methods of improvement.\n",
    "\n",
    "There are `break`'s inserted into loops which need to be removed to get this to run. Right now data is written to current working directory. This takes 2-4 hours to run depending on hard drive etc. There is a lot of room for improvement speeding up feature generation. \n",
    "\n",
    "**Update:** I added one line that creates a column for the path filename, this allows for a groupkfold crossvalidation. \n"
   ]
  },
  {
   "cell_type": "code",
   "execution_count": 1,
   "metadata": {
    "_cell_guid": "b1076dfc-b9ad-4769-8c92-a6c4dae69d19",
    "_uuid": "8f2839f25d086af736a60e9eeb907d3b93b6e0e5",
    "execution": {
     "iopub.execute_input": "2021-02-03T20:30:06.590945Z",
     "iopub.status.busy": "2021-02-03T20:30:06.589984Z",
     "iopub.status.idle": "2021-02-03T20:30:06.593594Z",
     "shell.execute_reply": "2021-02-03T20:30:06.592887Z"
    },
    "papermill": {
     "duration": 0.01623,
     "end_time": "2021-02-03T20:30:06.593847",
     "exception": false,
     "start_time": "2021-02-03T20:30:06.577617",
     "status": "completed"
    },
    "tags": []
   },
   "outputs": [],
   "source": [
    "import os\n",
    "import gc\n",
    "import glob\n",
    "import json \n",
    "import numpy as np\n",
    "import pandas as pd\n",
    "pd.options.mode.chained_assignment = None  # default='warn'"
   ]
  },
  {
   "cell_type": "code",
   "execution_count": 2,
   "metadata": {
    "execution": {
     "iopub.execute_input": "2021-02-03T20:30:06.639011Z",
     "iopub.status.busy": "2021-02-03T20:30:06.638118Z",
     "iopub.status.idle": "2021-02-03T20:30:09.333807Z",
     "shell.execute_reply": "2021-02-03T20:30:09.334360Z"
    },
    "papermill": {
     "duration": 2.711076,
     "end_time": "2021-02-03T20:30:09.334617",
     "exception": false,
     "start_time": "2021-02-03T20:30:06.623541",
     "status": "completed"
    },
    "tags": []
   },
   "outputs": [],
   "source": [
    "base_path = '.'\n",
    "\n",
    "# pull out all the buildings actually used in the test set, given current method we don't need the other ones\n",
    "ssubm = pd.read_csv('sample_submission.csv')\n",
    "ssubm_df = ssubm[\"site_path_timestamp\"].apply(lambda x: pd.Series(x.split(\"_\")))\n",
    "used_buildings = sorted(ssubm_df[0].value_counts().index.tolist())\n",
    "\n",
    "# dictionary used to map the floor codes to the values used in the submission file. \n",
    "floor_map = {\"B2\":-2, \"B1\":-1, \"F1\":0, \"F2\": 1, \"F3\":2, \"F4\":3, \"F5\":4, \"F6\":5, \"F7\":6,\"F8\":7, \"F9\":8,\n",
    "             \"1F\":0, \"2F\":1, \"3F\":2, \"4F\":3, \"5F\":4, \"6F\":5, \"7F\":6, \"8F\": 7, \"9F\":8}"
   ]
  },
  {
   "cell_type": "code",
   "execution_count": 3,
   "metadata": {},
   "outputs": [],
   "source": [
    "minWiFiCount = 1000\n",
    "\n",
    "# parameters related to wiFi RSSI based feature\n",
    "wiFiIDTargetDir = \"referencePublicNotebooks/waypt_WiFiID1000Feat\"\n",
    "wiFiIDMinRSSIValue = -999\n",
    "\n",
    "# parameters related to wiFi last seen timestamp based feature\n",
    "wiFiDtTargetDir = \"referencePublicNotebooks/waypt_WiFiDt1000Feat\"\n",
    "wiFiDtMinValue = 1000.0"
   ]
  },
  {
   "cell_type": "code",
   "execution_count": 4,
   "metadata": {},
   "outputs": [],
   "source": [
    "def getTimeStampDf(df, currentTimeStamp):\n",
    "    # print(f\"currentTimeStamp = {currentTimeStamp}\")\n",
    "    timestampdf = df[df[0] < currentTimeStamp]\n",
    "    \n",
    "    # wifi stamps are available before waypoint\n",
    "    if len(timestampdf) > 0:\n",
    "        # print(f\"df within timestamp shape is {timestampdf.shape}\")\n",
    "        # print(f\"There are {timestampdf[3].nunique()} unique wifi ids in given timestamp\")\n",
    "        uniquedf = timestampdf.drop_duplicates(subset=[3], keep='last')\n",
    "        uniquedf[6] = (currentTimeStamp - uniquedf[6].astype(np.int64)).astype(float) / 1000.0\n",
    "    else:\n",
    "        uniquedf = None\n",
    "    return uniquedf"
   ]
  },
  {
   "cell_type": "code",
   "execution_count": 5,
   "metadata": {},
   "outputs": [],
   "source": [
    "def getWiFiIDFeature(uniquedf):\n",
    "    wifiIDFeature = uniquedf.iloc[:,3:5]\n",
    "    wifiIDFeature = wifiIDFeature.set_index(3).reindex(index).replace(np.nan, wiFiIDMinRSSIValue).T\n",
    "    return wifiIDFeature"
   ]
  },
  {
   "cell_type": "code",
   "execution_count": 6,
   "metadata": {},
   "outputs": [],
   "source": [
    "def getWiFiDtFeature(uniquedf):\n",
    "    wifiDtFeature = uniquedf.iloc[:,[3,6]]\n",
    "    wifiDtFeature = wifiDtFeature.set_index(3).reindex(index).replace(np.nan, wiFiDtMinValue).T\n",
    "    return wifiDtFeature"
   ]
  },
  {
   "cell_type": "markdown",
   "metadata": {
    "execution": {
     "iopub.execute_input": "2021-02-03T20:30:09.359905Z",
     "iopub.status.busy": "2021-02-03T20:30:09.359123Z",
     "iopub.status.idle": "2021-02-03T20:30:09.362909Z",
     "shell.execute_reply": "2021-02-03T20:30:09.362224Z"
    },
    "papermill": {
     "duration": 0.021272,
     "end_time": "2021-02-03T20:30:09.363069",
     "exception": false,
     "start_time": "2021-02-03T20:30:09.341797",
     "status": "completed"
    },
    "tags": []
   },
   "source": [
    "```python\n",
    "# get only the wifi bssid that occur over 1000 times(this number can be experimented with)\n",
    "# these will be the only ones used when constructing features\n",
    "bssid = dict()\n",
    "\n",
    "for building in used_buildings:\n",
    "    break\n",
    "    folders = sorted(glob.glob(os.path.join(base_path,'train/'+building+'/*')))\n",
    "    print(building)\n",
    "    wifi = list()\n",
    "    for folder in folders:\n",
    "        floor = floor_map[folder.split('/')[-1]]\n",
    "        files = glob.glob(os.path.join(folder, \"*.txt\"))\n",
    "        for file in files:\n",
    "            with open(file) as f:\n",
    "                txt = f.readlines()\n",
    "                for e, line in enumerate(txt):\n",
    "                    tmp = line.strip().split()\n",
    "                    if tmp[1] == \"TYPE_WIFI\":\n",
    "                        wifi.append(tmp)\n",
    "    df = pd.DataFrame(wifi)\n",
    "    #top_bssid = df[3].value_counts().iloc[:500].index.tolist()\n",
    "    value_counts = df[3].value_counts()\n",
    "    top_bssid = value_counts[value_counts > 1000].index.tolist()\n",
    "    print(len(top_bssid))\n",
    "    bssid[building] = top_bssid\n",
    "    del df\n",
    "    del wifi\n",
    "    gc.collect()\n",
    "```"
   ]
  },
  {
   "cell_type": "code",
   "execution_count": 7,
   "metadata": {
    "execution": {
     "iopub.execute_input": "2021-02-03T20:30:09.383252Z",
     "iopub.status.busy": "2021-02-03T20:30:09.382581Z",
     "iopub.status.idle": "2021-02-03T20:30:09.386704Z",
     "shell.execute_reply": "2021-02-03T20:30:09.385809Z"
    },
    "papermill": {
     "duration": 0.016635,
     "end_time": "2021-02-03T20:30:09.386885",
     "exception": false,
     "start_time": "2021-02-03T20:30:09.370250",
     "status": "completed"
    },
    "tags": []
   },
   "outputs": [],
   "source": [
    "#with open(\"bssid_1000.json\", \"w\") as f:\n",
    "#    json.dump(bssid, f)\n",
    "\n",
    "with open(f\"referencePublicNotebooks/bssid_{minWiFiCount}.json\") as f:\n",
    "    bssid = json.load(f)"
   ]
  },
  {
   "cell_type": "markdown",
   "metadata": {
    "execution": {
     "iopub.execute_input": "2021-02-03T20:30:09.418284Z",
     "iopub.status.busy": "2021-02-03T20:30:09.417119Z",
     "iopub.status.idle": "2021-02-03T20:30:09.420513Z",
     "shell.execute_reply": "2021-02-03T20:30:09.419767Z"
    },
    "papermill": {
     "duration": 0.026514,
     "end_time": "2021-02-03T20:30:09.420694",
     "exception": false,
     "start_time": "2021-02-03T20:30:09.394180",
     "status": "completed"
    },
    "tags": []
   },
   "source": [
    "```python\n",
    "%%time\n",
    "\n",
    "# generate all the training data \n",
    "for building in used_buildings:\n",
    "    folders = sorted(glob.glob(os.path.join(base_path,'train', building +'/*')))\n",
    "    wifiIDdfs = list()\n",
    "    wifiDtdfs = list()\n",
    "    index = sorted(bssid[building])\n",
    "    print(building)\n",
    "\n",
    "    # each floor\n",
    "    for folder in folders:\n",
    "        floor = floor_map[folder.split('/')[-1]]\n",
    "        files = glob.glob(os.path.join(folder, \"*.txt\"))\n",
    "        print(f\"{floor} has {len(files)} path files\")\n",
    "\n",
    "        # each path file\n",
    "        for file in files:\n",
    "            wifi = list()\n",
    "            waypoint = list()\n",
    "            pathName = file.split('/')[-1].split('.')[0]\n",
    "\n",
    "            # parse file\n",
    "            with open(file) as f:\n",
    "                txt = f.readlines()\n",
    "            for line in txt:\n",
    "                line = line.strip().split()\n",
    "                if line[1] == \"TYPE_WAYPOINT\":\n",
    "                    waypoint.append(line)\n",
    "                if line[1] == \"TYPE_WIFI\":\n",
    "                    wifi.append(line)\n",
    "\n",
    "            # wifi data time sorted\n",
    "            df = pd.DataFrame(np.array(wifi)) \n",
    "            df[0] = df[0].astype(np.int64)\n",
    "            df.sort_values(by=[0],inplace=True)\n",
    "\n",
    "            # waypoint data time sorted\n",
    "            waypoint = pd.DataFrame(np.array(waypoint))\n",
    "            waypoint.sort_values(by=[0], inplace=True)\n",
    "            waypoint = waypoint.to_numpy()\n",
    "            #print(f\"{file} has {len(waypoint)} waypoints\")\n",
    "\n",
    "            # feature timestamps\n",
    "            wayPtTimestamps = waypoint[:,0].astype(np.int64)\n",
    "            # print(wayPtTimestamps)\n",
    "\n",
    "            for idx, currentTimeStamp in enumerate(wayPtTimestamps):\n",
    "                timeDf = getTimeStampDf(df, currentTimeStamp)                \n",
    "                if timeDf is not None:\n",
    "                    #print(timeDf.shape)\n",
    "                    # wifi rssi based feature\n",
    "                    idFeature = getWiFiIDFeature(timeDf)\n",
    "                    idFeature[\"x\"] = float(waypoint[idx][2])\n",
    "                    idFeature[\"y\"] = float(waypoint[idx][3])\n",
    "                    idFeature[\"f\"] = floor\n",
    "                    idFeature[\"path\"] = pathName # useful for crossvalidation\n",
    "                    wifiIDdfs.append(idFeature)\n",
    "\n",
    "                    #wifi last seen time based feature\n",
    "                    dtFeature = getWiFiDtFeature(timeDf)\n",
    "                    wifiDtdfs.append(dtFeature)\n",
    "\n",
    "            #print(f\"len(wifiIDdfs) = {len(wifiIDdfs)}\")\n",
    "            #print(f\"len(wifiDtdfs) = {len(wifiDtdfs)}\")\n",
    "\n",
    "    # wifi rssi feature writing\n",
    "    building_wiFiIDdf = pd.concat(wifiIDdfs)\n",
    "    print(building_wiFiIDdf.shape)\n",
    "    building_wiFiIDdf.to_csv(f\"{wiFiIDTargetDir}/train/{building}_{minWiFiCount}_train.csv\", index=False)\n",
    "\n",
    "    # wifi dt feature writing\n",
    "    building_wiFiDtdf = pd.concat(wifiDtdfs)\n",
    "    print(building_wiFiDtdf.shape)\n",
    "    building_wiFiDtdf.to_csv(f\"{wiFiDtTargetDir}/train/{building}_{minWiFiCount}_train.csv\", index=False)\n",
    "```   "
   ]
  },
  {
   "cell_type": "markdown",
   "metadata": {},
   "source": [
    "```python\n",
    "a = building_wiFiIDdf.columns.values.tolist()\n",
    "b = building_wiFiDtdf.columns.values.tolist()\n",
    "\n",
    "print(len(a), len(b), len(bssid[building]))\n",
    "\n",
    "print(set(a[0:-4]) -set(sorted(bssid[building])))\n",
    "print(set(b) -set(sorted(bssid[building])))\n",
    "\n",
    "print(a[0:-4] == sorted(bssid[building]))\n",
    "print(b == sorted(bssid[building]))\n",
    "```"
   ]
  },
  {
   "cell_type": "code",
   "execution_count": 17,
   "metadata": {},
   "outputs": [
    {
     "name": "stdout",
     "output_type": "stream",
     "text": [
      "building  = 5a0546857ecc773753327266\n",
      "path subsampled\n",
      "                          0                         1              2\n",
      "0  5a0546857ecc773753327266  046cfa46be49fc10834815c6  0000000000009\n",
      "1  5a0546857ecc773753327266  046cfa46be49fc10834815c6  0000000009017\n",
      "2  5a0546857ecc773753327266  046cfa46be49fc10834815c6  0000000015326\n",
      "wiFiDf\n",
      "        0          1                                         2  \\\n",
      "0    2340  TYPE_WIFI  da39a3ee5e6b4b0d3255bfef95601890afd80709   \n",
      "336  2340  TYPE_WIFI  b7e6027447eb1f81327d66cfd3adbe557aabf26c   \n",
      "335  2340  TYPE_WIFI  da39a3ee5e6b4b0d3255bfef95601890afd80709   \n",
      "\n",
      "                                            3    4     5              6  \n",
      "0    eebf5db207eec2f3e041f92153d789270f346821  -45  2432  1578474544726  \n",
      "336  8b3c0b4adecdc3281c15a824690f5bdf8563ad82  -77  5825  1578474565504  \n",
      "335  b6d159940a3525d560d1aa0581293960c0766dc2  -77  5200  1578474547832  \n",
      "wayPtTimestamps [    9  9017 15326 18763 22328 29946 40283 51343 64014]\n",
      "None\n",
      "         0          1                                         2  \\\n",
      "365   2340  TYPE_WIFI  da39a3ee5e6b4b0d3255bfef95601890afd80709   \n",
      "260   2340  TYPE_WIFI  da39a3ee5e6b4b0d3255bfef95601890afd80709   \n",
      "284   2340  TYPE_WIFI  d839a45ebe64ab48b60a407d837fb01d3c0dfef9   \n",
      "459   2340  TYPE_WIFI  b9f0208be00bd8b337be7f12e02e3a3ce846e22b   \n",
      "458   2340  TYPE_WIFI  b6ffe5619e02871fcd04f61c9bb4b5c53a3f46b7   \n",
      "...    ...        ...                                       ...   \n",
      "1151  7190  TYPE_WIFI  b7e6027447eb1f81327d66cfd3adbe557aabf26c   \n",
      "1152  7190  TYPE_WIFI  d839a45ebe64ab48b60a407d837fb01d3c0dfef9   \n",
      "1153  7190  TYPE_WIFI  7182afc4e5c212133d5d7d76eb3df6c24618302b   \n",
      "1154  7190  TYPE_WIFI  b9f0208be00bd8b337be7f12e02e3a3ce846e22b   \n",
      "1150  7190  TYPE_WIFI  7182afc4e5c212133d5d7d76eb3df6c24618302b   \n",
      "\n",
      "                                             3    4     5             6  \n",
      "365   b769f60d8499d23acab612b72eae2b7b984b09cf  -78  5805 -1.578475e+09  \n",
      "260   e7d431b2031b1f47e69f73d608d11422838b72fa  -71  5180 -1.578475e+09  \n",
      "284   edfec57e7fdec0f9decbe1e65d7e04539d4e68ba  -73  5180 -1.578475e+09  \n",
      "459   170666b28105d4de067ac45a212d15d95969c46d  -86  5825 -1.578475e+09  \n",
      "458   e820eeee2a2be84fd84e9ef09e6f7f3e1e9da5c1  -86  5220 -1.578475e+09  \n",
      "...                                        ...  ...   ...           ...  \n",
      "1151  5cfff2a06e481233f2df41ef8adc590a0d779517  -66  5260 -1.578475e+09  \n",
      "1152  68616cd56e6c03f67852c7394ddde68b07d7a3c6  -66  5260 -1.578475e+09  \n",
      "1153  110ddea0853350606bc1e744fda00bfc8f8c5437  -66  5765 -1.578475e+09  \n",
      "1154  e6d6f20d438117125ab2710caf24bbb40b45048b  -66  5765 -1.578475e+09  \n",
      "1150  19787b1ee33ac886f9784105b5da6548d838195c  -66  5765 -1.578475e+09  \n",
      "\n",
      "[525 rows x 7 columns]\n"
     ]
    },
    {
     "ename": "NameError",
     "evalue": "name 'pathName' is not defined",
     "output_type": "error",
     "traceback": [
      "\u001b[0;31m---------------------------------------------------------------------------\u001b[0m",
      "\u001b[0;31mNameError\u001b[0m                                 Traceback (most recent call last)",
      "\u001b[0;32m<ipython-input-17-c07d9595be75>\u001b[0m in \u001b[0;36m<module>\u001b[0;34m\u001b[0m\n\u001b[1;32m     42\u001b[0m                 \u001b[0;31m# wifi rssi based feature\u001b[0m\u001b[0;34m\u001b[0m\u001b[0;34m\u001b[0m\u001b[0;34m\u001b[0m\u001b[0m\n\u001b[1;32m     43\u001b[0m                 \u001b[0midFeature\u001b[0m \u001b[0;34m=\u001b[0m \u001b[0mgetWiFiIDFeature\u001b[0m\u001b[0;34m(\u001b[0m\u001b[0mtimeDf\u001b[0m\u001b[0;34m)\u001b[0m\u001b[0;34m\u001b[0m\u001b[0;34m\u001b[0m\u001b[0m\n\u001b[0;32m---> 44\u001b[0;31m                 \u001b[0midFeature\u001b[0m\u001b[0;34m[\u001b[0m\u001b[0;34m\"path\"\u001b[0m\u001b[0;34m]\u001b[0m \u001b[0;34m=\u001b[0m \u001b[0mpathName\u001b[0m \u001b[0;31m# useful for crossvalidation\u001b[0m\u001b[0;34m\u001b[0m\u001b[0;34m\u001b[0m\u001b[0m\n\u001b[0m\u001b[1;32m     45\u001b[0m                 \u001b[0mwifiIDdfs\u001b[0m\u001b[0;34m.\u001b[0m\u001b[0mappend\u001b[0m\u001b[0;34m(\u001b[0m\u001b[0midFeature\u001b[0m\u001b[0;34m)\u001b[0m\u001b[0;34m\u001b[0m\u001b[0;34m\u001b[0m\u001b[0m\n\u001b[1;32m     46\u001b[0m \u001b[0;34m\u001b[0m\u001b[0m\n",
      "\u001b[0;31mNameError\u001b[0m: name 'pathName' is not defined"
     ]
    }
   ],
   "source": [
    "# Generate the features for the test set\n",
    "ssubm_building_g = ssubm_df.groupby(0)\n",
    "\n",
    "for gid0, g0 in ssubm_building_g:\n",
    "    # gid0 =  building, g0 is df subsampled to building\n",
    "    index = sorted(bssid[g0.iloc[0,0]])\n",
    "    testWiFiIDdfs = list()\n",
    "    testWiFiDtdfs = list()\n",
    "    print(f\"building  = {gid0}\")\n",
    "    \n",
    "    # grouping by path files in site\n",
    "    for gid,g in g0.groupby(1):\n",
    "        #print(\"path subsampled\")\n",
    "        #print(g.head(3))\n",
    "        # get all wifi time locations, \n",
    "        with open(os.path.join(base_path, 'test/' + g.iloc[0,1] + '.txt')) as f:\n",
    "            txt = f.readlines()\n",
    "\n",
    "        # get wiFi data from path file \n",
    "        wiFiData = list()\n",
    "        for line in txt:\n",
    "            line = line.strip().split()\n",
    "            if line[1] == \"TYPE_WIFI\":\n",
    "                wiFiData.append(line)\n",
    "        wiFiDf = pd.DataFrame(wiFiData)\n",
    "        \n",
    "        # sort by time\n",
    "        wiFiDf[0] = wiFiDf[0].astype(np.int64)\n",
    "        wiFiDf.sort_values(by=[0],inplace=True)\n",
    "        print(\"wiFiDf\")\n",
    "        print(wiFiDf.head(3))\n",
    "        \n",
    "        # feature timestamps\n",
    "        wayPtTimestamps = g[2].values.astype(np.int64)\n",
    "        print(f\"wayPtTimestamps {wayPtTimestamps}\")\n",
    "        \n",
    "        for idx, currentTimeStamp in enumerate(wayPtTimestamps):\n",
    "            timeDf = getTimeStampDf(wiFiDf, currentTimeStamp)   \n",
    "            print(timeDf)\n",
    "            if timeDf is not None:\n",
    "                #print(timeDf.shape)\n",
    "                # wifi rssi based feature\n",
    "                idFeature = getWiFiIDFeature(timeDf)\n",
    "                idFeature[\"path\"] = pathName # useful for crossvalidation\n",
    "                wifiIDdfs.append(idFeature)\n",
    "\n",
    "                #wifi last seen time based feature\n",
    "                dtFeature = getWiFiDtFeature(timeDf)\n",
    "                wifiDtdfs.append(dtFeature)\n",
    "        break\n",
    "    break\n",
    "\n",
    "\n",
    "\n",
    "    "
   ]
  },
  {
   "cell_type": "code",
   "execution_count": null,
   "metadata": {},
   "outputs": [],
   "source": []
  },
  {
   "cell_type": "code",
   "execution_count": 8,
   "metadata": {
    "execution": {
     "iopub.execute_input": "2021-02-03T20:30:09.454304Z",
     "iopub.status.busy": "2021-02-03T20:30:09.451093Z",
     "iopub.status.idle": "2021-02-03T20:30:09.464308Z",
     "shell.execute_reply": "2021-02-03T20:30:09.464854Z"
    },
    "papermill": {
     "duration": 0.036471,
     "end_time": "2021-02-03T20:30:09.465079",
     "exception": false,
     "start_time": "2021-02-03T20:30:09.428608",
     "status": "completed"
    },
    "tags": []
   },
   "outputs": [],
   "source": [
    "#```python\n",
    "\n",
    "        for line in txt:\n",
    "            line = line.strip().split()\n",
    "            if line[1] == \"TYPE_WIFI\":\n",
    "                wifi.append(line)\n",
    "\n",
    "        wifi_df = pd.DataFrame(wifi)\n",
    "        wifi_points = pd.DataFrame(wifi_df.groupby(0).count().index.tolist())\n",
    "        \n",
    "        for timepoint in g.iloc[:,2].tolist():\n",
    "\n",
    "            deltas = (wifi_points.astype(int) - int(timepoint)).abs()\n",
    "            min_delta_idx = deltas.values.argmin()\n",
    "            wifi_block_timestamp = wifi_points.iloc[min_delta_idx].values[0]\n",
    "            \n",
    "            wifi_block = wifi_df[wifi_df[0] == wifi_block_timestamp].drop_duplicates(subset=3)\n",
    "            feat = wifi_block.set_index(3)[4].reindex(index).fillna(-999)\n",
    "\n",
    "            feat['site_path_timestamp'] = g.iloc[0,0] + \"_\" + g.iloc[0,1] + \"_\" + timepoint\n",
    "            feats.append(feat)\n",
    "    feature_df = pd.concat(feats, axis=1).T\n",
    "    feature_df.to_csv(gid0+\"_1000_test.csv\")\n",
    "    feature_dict[gid0] = feature_df\n",
    "#```  "
   ]
  },
  {
   "cell_type": "code",
   "execution_count": null,
   "metadata": {},
   "outputs": [],
   "source": []
  }
 ],
 "metadata": {
  "kernelspec": {
   "display_name": "Python 3",
   "language": "python",
   "name": "python3"
  },
  "language_info": {
   "codemirror_mode": {
    "name": "ipython",
    "version": 3
   },
   "file_extension": ".py",
   "mimetype": "text/x-python",
   "name": "python",
   "nbconvert_exporter": "python",
   "pygments_lexer": "ipython3",
   "version": "3.8.8"
  },
  "papermill": {
   "default_parameters": {},
   "duration": 9.894085,
   "end_time": "2021-02-03T20:30:10.083699",
   "environment_variables": {},
   "exception": null,
   "input_path": "__notebook__.ipynb",
   "output_path": "__notebook__.ipynb",
   "parameters": {},
   "start_time": "2021-02-03T20:30:00.189614",
   "version": "2.2.2"
  }
 },
 "nbformat": 4,
 "nbformat_minor": 4
}
