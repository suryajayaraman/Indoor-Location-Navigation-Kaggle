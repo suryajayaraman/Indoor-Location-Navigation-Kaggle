{
 "cells": [
  {
   "cell_type": "markdown",
   "metadata": {
    "papermill": {
     "duration": 0.007463,
     "end_time": "2021-02-03T20:30:06.571139",
     "exception": false,
     "start_time": "2021-02-03T20:30:06.563676",
     "status": "completed"
    },
    "tags": []
   },
   "source": [
    "### Wifi features\n",
    "\n",
    "This this is the code to generate the wifi features available in [this dataset](https://www.kaggle.com/devinanzelmo/indoor-navigation-and-location-wifi-features). Using these features can get a score below 14. For an example notebook using them see [this notebook](https://www.kaggle.com/devinanzelmo/wifi-features-lightgbm-starter). They only uses waypoints, wifi and timestamp data to generate solution. See this [forum post](https://www.kaggle.com/c/indoor-location-navigation/discussion/215445) for an outline of this solution method, and methods of improvement.\n",
    "\n",
    "There are `break`'s inserted into loops which need to be removed to get this to run. Right now data is written to current working directory. This takes 2-4 hours to run depending on hard drive etc. There is a lot of room for improvement speeding up feature generation. \n",
    "\n",
    "**Update:** I added one line that creates a column for the path filename, this allows for a groupkfold crossvalidation. \n"
   ]
  },
  {
   "cell_type": "code",
   "execution_count": 1,
   "metadata": {
    "_cell_guid": "b1076dfc-b9ad-4769-8c92-a6c4dae69d19",
    "_uuid": "8f2839f25d086af736a60e9eeb907d3b93b6e0e5",
    "execution": {
     "iopub.execute_input": "2021-02-03T20:30:06.590945Z",
     "iopub.status.busy": "2021-02-03T20:30:06.589984Z",
     "iopub.status.idle": "2021-02-03T20:30:06.593594Z",
     "shell.execute_reply": "2021-02-03T20:30:06.592887Z"
    },
    "papermill": {
     "duration": 0.01623,
     "end_time": "2021-02-03T20:30:06.593847",
     "exception": false,
     "start_time": "2021-02-03T20:30:06.577617",
     "status": "completed"
    },
    "tags": []
   },
   "outputs": [],
   "source": [
    "import pandas as pd\n",
    "import numpy as np\n",
    "import glob\n",
    "import os\n",
    "import gc\n",
    "import json \n",
    "pd.options.mode.chained_assignment = None  # default='warn'"
   ]
  },
  {
   "cell_type": "code",
   "execution_count": 2,
   "metadata": {
    "execution": {
     "iopub.execute_input": "2021-02-03T20:30:06.639011Z",
     "iopub.status.busy": "2021-02-03T20:30:06.638118Z",
     "iopub.status.idle": "2021-02-03T20:30:09.333807Z",
     "shell.execute_reply": "2021-02-03T20:30:09.334360Z"
    },
    "papermill": {
     "duration": 2.711076,
     "end_time": "2021-02-03T20:30:09.334617",
     "exception": false,
     "start_time": "2021-02-03T20:30:06.623541",
     "status": "completed"
    },
    "tags": []
   },
   "outputs": [],
   "source": [
    "base_path = '..'\n",
    "\n",
    "# pull out all the buildings actually used in the test set, given current method we don't need the other ones\n",
    "ssubm = pd.read_csv('../sample_submission.csv')\n",
    "\n",
    "# only 24 of the total buildings are used in the test set, \n",
    "# this allows us to greatly reduce the intial size of the dataset\n",
    "\n",
    "ssubm_df = ssubm[\"site_path_timestamp\"].apply(lambda x: pd.Series(x.split(\"_\")))\n",
    "used_buildings = sorted(ssubm_df[0].value_counts().index.tolist())\n",
    "\n",
    "# dictionary used to map the floor codes to the values used in the submission file. \n",
    "floor_map = {\"B2\":-2, \"B1\":-1, \"F1\":0, \"F2\": 1, \"F3\":2, \"F4\":3, \"F5\":4, \"F6\":5, \"F7\":6,\"F8\":7, \"F9\":8,\n",
    "             \"1F\":0, \"2F\":1, \"3F\":2, \"4F\":3, \"5F\":4, \"6F\":5, \"7F\":6, \"8F\": 7, \"9F\":8}"
   ]
  },
  {
   "cell_type": "code",
   "execution_count": 3,
   "metadata": {},
   "outputs": [
    {
     "data": {
      "text/html": [
       "<div>\n",
       "<style scoped>\n",
       "    .dataframe tbody tr th:only-of-type {\n",
       "        vertical-align: middle;\n",
       "    }\n",
       "\n",
       "    .dataframe tbody tr th {\n",
       "        vertical-align: top;\n",
       "    }\n",
       "\n",
       "    .dataframe thead th {\n",
       "        text-align: right;\n",
       "    }\n",
       "</style>\n",
       "<table border=\"1\" class=\"dataframe\">\n",
       "  <thead>\n",
       "    <tr style=\"text-align: right;\">\n",
       "      <th></th>\n",
       "      <th>0</th>\n",
       "      <th>1</th>\n",
       "      <th>2</th>\n",
       "    </tr>\n",
       "  </thead>\n",
       "  <tbody>\n",
       "    <tr>\n",
       "      <th>0</th>\n",
       "      <td>5a0546857ecc773753327266</td>\n",
       "      <td>046cfa46be49fc10834815c6</td>\n",
       "      <td>0000000000009</td>\n",
       "    </tr>\n",
       "    <tr>\n",
       "      <th>1</th>\n",
       "      <td>5a0546857ecc773753327266</td>\n",
       "      <td>046cfa46be49fc10834815c6</td>\n",
       "      <td>0000000009017</td>\n",
       "    </tr>\n",
       "    <tr>\n",
       "      <th>2</th>\n",
       "      <td>5a0546857ecc773753327266</td>\n",
       "      <td>046cfa46be49fc10834815c6</td>\n",
       "      <td>0000000015326</td>\n",
       "    </tr>\n",
       "  </tbody>\n",
       "</table>\n",
       "</div>"
      ],
      "text/plain": [
       "                          0                         1              2\n",
       "0  5a0546857ecc773753327266  046cfa46be49fc10834815c6  0000000000009\n",
       "1  5a0546857ecc773753327266  046cfa46be49fc10834815c6  0000000009017\n",
       "2  5a0546857ecc773753327266  046cfa46be49fc10834815c6  0000000015326"
      ]
     },
     "execution_count": 3,
     "metadata": {},
     "output_type": "execute_result"
    }
   ],
   "source": [
    "ssubm_df.head(3)"
   ]
  },
  {
   "cell_type": "markdown",
   "metadata": {
    "execution": {
     "iopub.execute_input": "2021-02-03T20:30:09.359905Z",
     "iopub.status.busy": "2021-02-03T20:30:09.359123Z",
     "iopub.status.idle": "2021-02-03T20:30:09.362909Z",
     "shell.execute_reply": "2021-02-03T20:30:09.362224Z"
    },
    "papermill": {
     "duration": 0.021272,
     "end_time": "2021-02-03T20:30:09.363069",
     "exception": false,
     "start_time": "2021-02-03T20:30:09.341797",
     "status": "completed"
    },
    "tags": []
   },
   "source": [
    "```python\n",
    "%%time\n",
    "# get only the wifi bssid that occur over 1000 times(this number can be experimented with)\n",
    "# these will be the only ones used when constructing features\n",
    "bssid = dict()\n",
    "\n",
    "for building in used_buildings:\n",
    "    #break\n",
    "    folders = sorted(glob.glob(os.path.join(base_path,'train/'+building+'/*')))\n",
    "    print(building)\n",
    "    wifi = list()\n",
    "    for folder in folders:\n",
    "        floor = floor_map[folder.split('/')[-1]]\n",
    "        files = glob.glob(os.path.join(folder, \"*.txt\"))\n",
    "        for file in files:\n",
    "            with open(file) as f:\n",
    "                txt = f.readlines()\n",
    "                for e, line in enumerate(txt):\n",
    "                    tmp = line.strip().split()\n",
    "                    if tmp[1] == \"TYPE_WIFI\":\n",
    "                        wifi.append(tmp)\n",
    "    df = pd.DataFrame(wifi)\n",
    "    #top_bssid = df[3].value_counts().iloc[:500].index.tolist()\n",
    "    value_counts = df[3].value_counts()\n",
    "    top_bssid = value_counts[value_counts > 1000].index.tolist()\n",
    "    print(len(top_bssid))\n",
    "    bssid[building] = top_bssid\n",
    "    del df\n",
    "    del wifi\n",
    "    gc.collect()\n",
    "```"
   ]
  },
  {
   "cell_type": "code",
   "execution_count": 3,
   "metadata": {
    "execution": {
     "iopub.execute_input": "2021-02-03T20:30:09.383252Z",
     "iopub.status.busy": "2021-02-03T20:30:09.382581Z",
     "iopub.status.idle": "2021-02-03T20:30:09.386704Z",
     "shell.execute_reply": "2021-02-03T20:30:09.385809Z"
    },
    "papermill": {
     "duration": 0.016635,
     "end_time": "2021-02-03T20:30:09.386885",
     "exception": false,
     "start_time": "2021-02-03T20:30:09.370250",
     "status": "completed"
    },
    "tags": []
   },
   "outputs": [],
   "source": [
    "#with open(\"bssid_1000.json\", \"w\") as f:\n",
    "#    json.dump(bssid, f)\n",
    "\n",
    "with open(\"bssid_1000.json\") as f:\n",
    "    bssid = json.load(f)"
   ]
  },
  {
   "cell_type": "code",
   "execution_count": 4,
   "metadata": {},
   "outputs": [
    {
     "name": "stdout",
     "output_type": "stream",
     "text": [
      "building = 5a0546857ecc773753327266\n",
      "folder = ../train/5a0546857ecc773753327266/B1\n",
      "floor = -1\n",
      "file = ../train/5a0546857ecc773753327266/B1/5e157323a280850006f3d017.txt\n"
     ]
    }
   ],
   "source": [
    "building = used_buildings[0]\n",
    "folders = sorted(glob.glob(os.path.join(base_path,'train', building +'/*')))\n",
    "dfs = list()\n",
    "index = sorted(bssid[building])\n",
    "dt_index = [x+ \"_dt\" for x in index]\n",
    "print(f\"building = {building}\")\n",
    "folder = folders[0]\n",
    "print(f\"folder = {folder}\")\n",
    "floor = floor_map[folder.split('/')[-1]]\n",
    "print(f\"floor = {floor}\")\n",
    "files = glob.glob(os.path.join(folder, \"*.txt\"))\n",
    "file =files[0]\n",
    "print(f\"file = {file}\")"
   ]
  },
  {
   "cell_type": "code",
   "execution_count": 5,
   "metadata": {},
   "outputs": [
    {
     "name": "stdout",
     "output_type": "stream",
     "text": [
      "(3432, 7)\n"
     ]
    },
    {
     "data": {
      "text/html": [
       "<div>\n",
       "<style scoped>\n",
       "    .dataframe tbody tr th:only-of-type {\n",
       "        vertical-align: middle;\n",
       "    }\n",
       "\n",
       "    .dataframe tbody tr th {\n",
       "        vertical-align: top;\n",
       "    }\n",
       "\n",
       "    .dataframe thead th {\n",
       "        text-align: right;\n",
       "    }\n",
       "</style>\n",
       "<table border=\"1\" class=\"dataframe\">\n",
       "  <thead>\n",
       "    <tr style=\"text-align: right;\">\n",
       "      <th></th>\n",
       "      <th>0</th>\n",
       "      <th>1</th>\n",
       "      <th>2</th>\n",
       "      <th>3</th>\n",
       "      <th>4</th>\n",
       "      <th>5</th>\n",
       "      <th>6</th>\n",
       "    </tr>\n",
       "  </thead>\n",
       "  <tbody>\n",
       "    <tr>\n",
       "      <th>0</th>\n",
       "      <td>1578462804152</td>\n",
       "      <td>TYPE_WIFI</td>\n",
       "      <td>da39a3ee5e6b4b0d3255bfef95601890afd80709</td>\n",
       "      <td>c08ad78a45798cfe176a42b35c7381ae602711c5</td>\n",
       "      <td>-42</td>\n",
       "      <td>5825</td>\n",
       "      <td>1578462803569</td>\n",
       "    </tr>\n",
       "    <tr>\n",
       "      <th>1</th>\n",
       "      <td>1578462804152</td>\n",
       "      <td>TYPE_WIFI</td>\n",
       "      <td>7182afc4e5c212133d5d7d76eb3df6c24618302b</td>\n",
       "      <td>4d89139ca69acc0a8a762672a822411a769ac266</td>\n",
       "      <td>-43</td>\n",
       "      <td>5825</td>\n",
       "      <td>1578462803585</td>\n",
       "    </tr>\n",
       "    <tr>\n",
       "      <th>2</th>\n",
       "      <td>1578462804152</td>\n",
       "      <td>TYPE_WIFI</td>\n",
       "      <td>d839a45ebe64ab48b60a407d837fb01d3c0dfef9</td>\n",
       "      <td>30f85a5e14351468a6dd13718a9da3b0d7b73685</td>\n",
       "      <td>-43</td>\n",
       "      <td>5825</td>\n",
       "      <td>1578462803583</td>\n",
       "    </tr>\n",
       "  </tbody>\n",
       "</table>\n",
       "</div>"
      ],
      "text/plain": [
       "               0          1                                         2  \\\n",
       "0  1578462804152  TYPE_WIFI  da39a3ee5e6b4b0d3255bfef95601890afd80709   \n",
       "1  1578462804152  TYPE_WIFI  7182afc4e5c212133d5d7d76eb3df6c24618302b   \n",
       "2  1578462804152  TYPE_WIFI  d839a45ebe64ab48b60a407d837fb01d3c0dfef9   \n",
       "\n",
       "                                          3    4     5              6  \n",
       "0  c08ad78a45798cfe176a42b35c7381ae602711c5  -42  5825  1578462803569  \n",
       "1  4d89139ca69acc0a8a762672a822411a769ac266  -43  5825  1578462803585  \n",
       "2  30f85a5e14351468a6dd13718a9da3b0d7b73685  -43  5825  1578462803583  "
      ]
     },
     "execution_count": 5,
     "metadata": {},
     "output_type": "execute_result"
    }
   ],
   "source": [
    "wifi = list()\n",
    "waypoint = list()\n",
    "with open(file) as f:\n",
    "    txt = f.readlines()\n",
    "for line in txt:\n",
    "    line = line.strip().split()\n",
    "    if line[1] == \"TYPE_WAYPOINT\":\n",
    "        waypoint.append(line)\n",
    "    if line[1] == \"TYPE_WIFI\":\n",
    "        wifi.append(line)\n",
    "\n",
    "df = pd.DataFrame(np.array(wifi))  \n",
    "print(df.shape)\n",
    "df.head(3)"
   ]
  },
  {
   "cell_type": "code",
   "execution_count": 6,
   "metadata": {},
   "outputs": [
    {
     "data": {
      "text/plain": [
       "array(['5825', '2472', '2462', '5745', '2437', '2412', '2447', '2427',\n",
       "       '2442', '5765', '2432', '2457', '5785', '2422', '5805', '2417',\n",
       "       '2452', '5300', '5260', '5180', '5280', '5220'], dtype=object)"
      ]
     },
     "execution_count": 6,
     "metadata": {},
     "output_type": "execute_result"
    }
   ],
   "source": [
    "df[5].unique()"
   ]
  },
  {
   "cell_type": "code",
   "execution_count": 7,
   "metadata": {},
   "outputs": [
    {
     "name": "stdout",
     "output_type": "stream",
     "text": [
      "(5, 4)\n",
      "[['1578462802213' 'TYPE_WAYPOINT' '223.09842' '154.77519']\n",
      " ['1578462809093' 'TYPE_WAYPOINT' '224.45633' '160.10567']\n",
      " ['1578462820081' 'TYPE_WAYPOINT' '232.462' '164.41673']\n",
      " ['1578462830942' 'TYPE_WAYPOINT' '225.08406' '165.7717']\n",
      " ['1578462843572' 'TYPE_WAYPOINT' '231.4029' '158.41515']]\n"
     ]
    }
   ],
   "source": [
    "print(np.array(waypoint).shape)\n",
    "print(np.array(waypoint))"
   ]
  },
  {
   "cell_type": "code",
   "execution_count": 8,
   "metadata": {},
   "outputs": [],
   "source": [
    "# generate a feature, and label for each wifi block\n",
    "for gid, g in df.groupby(0):\n",
    "    dists = list()\n",
    "    for e, k in enumerate(waypoint):\n",
    "        dist = abs(int(gid) - int(k[0]))\n",
    "        dists.append(dist)\n",
    "    nearest_wp_index = np.argmin(dists)\n",
    "    g = g.drop_duplicates(subset=3)  \n",
    "    break"
   ]
  },
  {
   "cell_type": "code",
   "execution_count": 9,
   "metadata": {},
   "outputs": [
    {
     "data": {
      "text/html": [
       "<div>\n",
       "<style scoped>\n",
       "    .dataframe tbody tr th:only-of-type {\n",
       "        vertical-align: middle;\n",
       "    }\n",
       "\n",
       "    .dataframe tbody tr th {\n",
       "        vertical-align: top;\n",
       "    }\n",
       "\n",
       "    .dataframe thead th {\n",
       "        text-align: right;\n",
       "    }\n",
       "</style>\n",
       "<table border=\"1\" class=\"dataframe\">\n",
       "  <thead>\n",
       "    <tr style=\"text-align: right;\">\n",
       "      <th></th>\n",
       "      <th>0</th>\n",
       "      <th>1</th>\n",
       "      <th>2</th>\n",
       "      <th>3</th>\n",
       "      <th>4</th>\n",
       "      <th>5</th>\n",
       "      <th>6</th>\n",
       "    </tr>\n",
       "  </thead>\n",
       "  <tbody>\n",
       "    <tr>\n",
       "      <th>0</th>\n",
       "      <td>1578462804152</td>\n",
       "      <td>TYPE_WIFI</td>\n",
       "      <td>da39a3ee5e6b4b0d3255bfef95601890afd80709</td>\n",
       "      <td>c08ad78a45798cfe176a42b35c7381ae602711c5</td>\n",
       "      <td>-42</td>\n",
       "      <td>5825</td>\n",
       "      <td>1578462803569</td>\n",
       "    </tr>\n",
       "    <tr>\n",
       "      <th>1</th>\n",
       "      <td>1578462804152</td>\n",
       "      <td>TYPE_WIFI</td>\n",
       "      <td>7182afc4e5c212133d5d7d76eb3df6c24618302b</td>\n",
       "      <td>4d89139ca69acc0a8a762672a822411a769ac266</td>\n",
       "      <td>-43</td>\n",
       "      <td>5825</td>\n",
       "      <td>1578462803585</td>\n",
       "    </tr>\n",
       "    <tr>\n",
       "      <th>2</th>\n",
       "      <td>1578462804152</td>\n",
       "      <td>TYPE_WIFI</td>\n",
       "      <td>d839a45ebe64ab48b60a407d837fb01d3c0dfef9</td>\n",
       "      <td>30f85a5e14351468a6dd13718a9da3b0d7b73685</td>\n",
       "      <td>-43</td>\n",
       "      <td>5825</td>\n",
       "      <td>1578462803583</td>\n",
       "    </tr>\n",
       "  </tbody>\n",
       "</table>\n",
       "</div>"
      ],
      "text/plain": [
       "               0          1                                         2  \\\n",
       "0  1578462804152  TYPE_WIFI  da39a3ee5e6b4b0d3255bfef95601890afd80709   \n",
       "1  1578462804152  TYPE_WIFI  7182afc4e5c212133d5d7d76eb3df6c24618302b   \n",
       "2  1578462804152  TYPE_WIFI  d839a45ebe64ab48b60a407d837fb01d3c0dfef9   \n",
       "\n",
       "                                          3    4     5              6  \n",
       "0  c08ad78a45798cfe176a42b35c7381ae602711c5  -42  5825  1578462803569  \n",
       "1  4d89139ca69acc0a8a762672a822411a769ac266  -43  5825  1578462803585  \n",
       "2  30f85a5e14351468a6dd13718a9da3b0d7b73685  -43  5825  1578462803583  "
      ]
     },
     "execution_count": 9,
     "metadata": {},
     "output_type": "execute_result"
    }
   ],
   "source": [
    "g.head(3)"
   ]
  },
  {
   "cell_type": "code",
   "execution_count": 63,
   "metadata": {},
   "outputs": [],
   "source": [
    "def getDtFeature(df):\n",
    "    dtFeat = df.iloc[:,[0,3,6]]\n",
    "    dtFeat.loc[:,3] = dtFeat.loc[:,3].apply(lambda x: f\"{x}_dt\")\n",
    "    dtFeat.loc[:,4] = (dtFeat.loc[:, 0].astype(float) - dtFeat.loc[:, 6].astype(float)) / 1000.0\n",
    "    dtFeat = dtFeat.drop(columns=[0,6]).set_index(3).reindex(dt_index).replace(np.nan, 100.0).T\n",
    "    return dtFeat"
   ]
  },
  {
   "cell_type": "code",
   "execution_count": 68,
   "metadata": {},
   "outputs": [],
   "source": [
    "def getWiFiIDFeature(df):\n",
    "    wiFiIDFeat = df.iloc[:,3:5]\n",
    "    wiFiIDFeat = wiFiIDFeat.set_index(3).reindex(index).replace(np.nan, -999).T\n",
    "    return wiFiIDFeat"
   ]
  },
  {
   "cell_type": "code",
   "execution_count": 72,
   "metadata": {},
   "outputs": [
    {
     "name": "stdout",
     "output_type": "stream",
     "text": [
      "(1, 1882)\n"
     ]
    }
   ],
   "source": [
    "wiFiIDFeat = getWiFiIDFeature(g)\n",
    "dtFeat = getDtFeature(g)\n",
    "feat = pd.concat([wiFiIDFeat, dtFeat], axis=1)\n",
    "print(feat.shape)"
   ]
  },
  {
   "cell_type": "code",
   "execution_count": 73,
   "metadata": {},
   "outputs": [
    {
     "data": {
      "text/plain": [
       "(1, 1882)"
      ]
     },
     "execution_count": 73,
     "metadata": {},
     "output_type": "execute_result"
    }
   ],
   "source": [
    "feat.shape"
   ]
  },
  {
   "cell_type": "code",
   "execution_count": 74,
   "metadata": {},
   "outputs": [
    {
     "data": {
      "text/html": [
       "<div>\n",
       "<style scoped>\n",
       "    .dataframe tbody tr th:only-of-type {\n",
       "        vertical-align: middle;\n",
       "    }\n",
       "\n",
       "    .dataframe tbody tr th {\n",
       "        vertical-align: top;\n",
       "    }\n",
       "\n",
       "    .dataframe thead th {\n",
       "        text-align: right;\n",
       "    }\n",
       "</style>\n",
       "<table border=\"1\" class=\"dataframe\">\n",
       "  <thead>\n",
       "    <tr style=\"text-align: right;\">\n",
       "      <th>3</th>\n",
       "      <th>000840e5c600de293cea57f13326f273c86c3988</th>\n",
       "      <th>00ad587dcb9c7ce3788b92e22777a22ee0efea31</th>\n",
       "      <th>00af060fc145ee6a6a50475efa57b91cbf54237f</th>\n",
       "      <th>00bcc61bdea4d52d050822d66952dd707c2fcdf3</th>\n",
       "      <th>00f0904087c01d922d6ebf3005607dfdeaf6687b</th>\n",
       "      <th>011e20ebf721a1c6dfec42e8ed1e2ac566073a2a</th>\n",
       "      <th>01d2f676abab6ec03ec5dc696bfd49d66e392ea1</th>\n",
       "      <th>01e25e4a25acd32baf5137b3031151f751fadbb4</th>\n",
       "      <th>026c2f057932da75680b21ecdbd23bf9cb9350f3</th>\n",
       "      <th>028a310e23177c3747d37971678dd964ee28ce17</th>\n",
       "      <th>...</th>\n",
       "      <th>fd179c5e4fd5e33493ae290adbbda2950ecf0427_dt</th>\n",
       "      <th>fd1a502adb446e835797a88fad8e79d1e0bf4b4a_dt</th>\n",
       "      <th>fd977a3af7be241a9ed0213acb3aa75e5dc00253_dt</th>\n",
       "      <th>fdb1ad87bd6fb08014267f2586faeed0edc7412b_dt</th>\n",
       "      <th>fdc189e5a19850397f37201f4acc378cfddcf0d6_dt</th>\n",
       "      <th>fdc19f011587b75c11a6c30d8ca06d90107b6bde_dt</th>\n",
       "      <th>fdf37fa13679f581bdfaae3b99e368633e0a144b_dt</th>\n",
       "      <th>fdfe926caf5f49a88a9bcab8d025e887f422128b_dt</th>\n",
       "      <th>fe3211f90e4ab1f500e10fe175ae6142f4b13130_dt</th>\n",
       "      <th>ffa41c79865d7fb336f586e0dec8b080db1027fb_dt</th>\n",
       "    </tr>\n",
       "  </thead>\n",
       "  <tbody>\n",
       "    <tr>\n",
       "      <th>4</th>\n",
       "      <td>-999</td>\n",
       "      <td>-999</td>\n",
       "      <td>-999</td>\n",
       "      <td>-999</td>\n",
       "      <td>-999</td>\n",
       "      <td>-999</td>\n",
       "      <td>-999</td>\n",
       "      <td>-999</td>\n",
       "      <td>-999</td>\n",
       "      <td>-999</td>\n",
       "      <td>...</td>\n",
       "      <td>100.0</td>\n",
       "      <td>100.0</td>\n",
       "      <td>100.0</td>\n",
       "      <td>100.0</td>\n",
       "      <td>100.0</td>\n",
       "      <td>100.0</td>\n",
       "      <td>100.0</td>\n",
       "      <td>100.0</td>\n",
       "      <td>100.0</td>\n",
       "      <td>100.0</td>\n",
       "    </tr>\n",
       "  </tbody>\n",
       "</table>\n",
       "<p>1 rows × 1882 columns</p>\n",
       "</div>"
      ],
      "text/plain": [
       "3 000840e5c600de293cea57f13326f273c86c3988  \\\n",
       "4                                     -999   \n",
       "\n",
       "3 00ad587dcb9c7ce3788b92e22777a22ee0efea31  \\\n",
       "4                                     -999   \n",
       "\n",
       "3 00af060fc145ee6a6a50475efa57b91cbf54237f  \\\n",
       "4                                     -999   \n",
       "\n",
       "3 00bcc61bdea4d52d050822d66952dd707c2fcdf3  \\\n",
       "4                                     -999   \n",
       "\n",
       "3 00f0904087c01d922d6ebf3005607dfdeaf6687b  \\\n",
       "4                                     -999   \n",
       "\n",
       "3 011e20ebf721a1c6dfec42e8ed1e2ac566073a2a  \\\n",
       "4                                     -999   \n",
       "\n",
       "3 01d2f676abab6ec03ec5dc696bfd49d66e392ea1  \\\n",
       "4                                     -999   \n",
       "\n",
       "3 01e25e4a25acd32baf5137b3031151f751fadbb4  \\\n",
       "4                                     -999   \n",
       "\n",
       "3 026c2f057932da75680b21ecdbd23bf9cb9350f3  \\\n",
       "4                                     -999   \n",
       "\n",
       "3 028a310e23177c3747d37971678dd964ee28ce17  ...  \\\n",
       "4                                     -999  ...   \n",
       "\n",
       "3 fd179c5e4fd5e33493ae290adbbda2950ecf0427_dt  \\\n",
       "4                                       100.0   \n",
       "\n",
       "3 fd1a502adb446e835797a88fad8e79d1e0bf4b4a_dt  \\\n",
       "4                                       100.0   \n",
       "\n",
       "3 fd977a3af7be241a9ed0213acb3aa75e5dc00253_dt  \\\n",
       "4                                       100.0   \n",
       "\n",
       "3 fdb1ad87bd6fb08014267f2586faeed0edc7412b_dt  \\\n",
       "4                                       100.0   \n",
       "\n",
       "3 fdc189e5a19850397f37201f4acc378cfddcf0d6_dt  \\\n",
       "4                                       100.0   \n",
       "\n",
       "3 fdc19f011587b75c11a6c30d8ca06d90107b6bde_dt  \\\n",
       "4                                       100.0   \n",
       "\n",
       "3 fdf37fa13679f581bdfaae3b99e368633e0a144b_dt  \\\n",
       "4                                       100.0   \n",
       "\n",
       "3 fdfe926caf5f49a88a9bcab8d025e887f422128b_dt  \\\n",
       "4                                       100.0   \n",
       "\n",
       "3 fe3211f90e4ab1f500e10fe175ae6142f4b13130_dt  \\\n",
       "4                                       100.0   \n",
       "\n",
       "3 ffa41c79865d7fb336f586e0dec8b080db1027fb_dt  \n",
       "4                                       100.0  \n",
       "\n",
       "[1 rows x 1882 columns]"
      ]
     },
     "execution_count": 74,
     "metadata": {},
     "output_type": "execute_result"
    }
   ],
   "source": [
    "feat.head()"
   ]
  },
  {
   "cell_type": "code",
   "execution_count": 75,
   "metadata": {},
   "outputs": [],
   "source": [
    "feat[\"x\"] = float(waypoint[nearest_wp_index][2])\n",
    "feat[\"y\"] = float(waypoint[nearest_wp_index][3])\n",
    "feat[\"f\"] = floor\n",
    "feat[\"path\"] = file.split('/')[-1].split('.')[0] # useful for crossvalidation\n",
    "dfs.append(feat)"
   ]
  },
  {
   "cell_type": "code",
   "execution_count": 76,
   "metadata": {},
   "outputs": [
    {
     "data": {
      "text/html": [
       "<div>\n",
       "<style scoped>\n",
       "    .dataframe tbody tr th:only-of-type {\n",
       "        vertical-align: middle;\n",
       "    }\n",
       "\n",
       "    .dataframe tbody tr th {\n",
       "        vertical-align: top;\n",
       "    }\n",
       "\n",
       "    .dataframe thead th {\n",
       "        text-align: right;\n",
       "    }\n",
       "</style>\n",
       "<table border=\"1\" class=\"dataframe\">\n",
       "  <thead>\n",
       "    <tr style=\"text-align: right;\">\n",
       "      <th>3</th>\n",
       "      <th>000840e5c600de293cea57f13326f273c86c3988</th>\n",
       "      <th>00ad587dcb9c7ce3788b92e22777a22ee0efea31</th>\n",
       "      <th>00af060fc145ee6a6a50475efa57b91cbf54237f</th>\n",
       "      <th>00bcc61bdea4d52d050822d66952dd707c2fcdf3</th>\n",
       "      <th>00f0904087c01d922d6ebf3005607dfdeaf6687b</th>\n",
       "      <th>011e20ebf721a1c6dfec42e8ed1e2ac566073a2a</th>\n",
       "      <th>01d2f676abab6ec03ec5dc696bfd49d66e392ea1</th>\n",
       "      <th>01e25e4a25acd32baf5137b3031151f751fadbb4</th>\n",
       "      <th>026c2f057932da75680b21ecdbd23bf9cb9350f3</th>\n",
       "      <th>028a310e23177c3747d37971678dd964ee28ce17</th>\n",
       "      <th>...</th>\n",
       "      <th>fdc189e5a19850397f37201f4acc378cfddcf0d6_dt</th>\n",
       "      <th>fdc19f011587b75c11a6c30d8ca06d90107b6bde_dt</th>\n",
       "      <th>fdf37fa13679f581bdfaae3b99e368633e0a144b_dt</th>\n",
       "      <th>fdfe926caf5f49a88a9bcab8d025e887f422128b_dt</th>\n",
       "      <th>fe3211f90e4ab1f500e10fe175ae6142f4b13130_dt</th>\n",
       "      <th>ffa41c79865d7fb336f586e0dec8b080db1027fb_dt</th>\n",
       "      <th>x</th>\n",
       "      <th>y</th>\n",
       "      <th>f</th>\n",
       "      <th>path</th>\n",
       "    </tr>\n",
       "  </thead>\n",
       "  <tbody>\n",
       "    <tr>\n",
       "      <th>4</th>\n",
       "      <td>-999</td>\n",
       "      <td>-999</td>\n",
       "      <td>-999</td>\n",
       "      <td>-999</td>\n",
       "      <td>-999</td>\n",
       "      <td>-999</td>\n",
       "      <td>-999</td>\n",
       "      <td>-999</td>\n",
       "      <td>-999</td>\n",
       "      <td>-999</td>\n",
       "      <td>...</td>\n",
       "      <td>100.0</td>\n",
       "      <td>100.0</td>\n",
       "      <td>100.0</td>\n",
       "      <td>100.0</td>\n",
       "      <td>100.0</td>\n",
       "      <td>100.0</td>\n",
       "      <td>223.09842</td>\n",
       "      <td>154.77519</td>\n",
       "      <td>-1</td>\n",
       "      <td>5e157323a280850006f3d017</td>\n",
       "    </tr>\n",
       "  </tbody>\n",
       "</table>\n",
       "<p>1 rows × 1886 columns</p>\n",
       "</div>"
      ],
      "text/plain": [
       "3 000840e5c600de293cea57f13326f273c86c3988  \\\n",
       "4                                     -999   \n",
       "\n",
       "3 00ad587dcb9c7ce3788b92e22777a22ee0efea31  \\\n",
       "4                                     -999   \n",
       "\n",
       "3 00af060fc145ee6a6a50475efa57b91cbf54237f  \\\n",
       "4                                     -999   \n",
       "\n",
       "3 00bcc61bdea4d52d050822d66952dd707c2fcdf3  \\\n",
       "4                                     -999   \n",
       "\n",
       "3 00f0904087c01d922d6ebf3005607dfdeaf6687b  \\\n",
       "4                                     -999   \n",
       "\n",
       "3 011e20ebf721a1c6dfec42e8ed1e2ac566073a2a  \\\n",
       "4                                     -999   \n",
       "\n",
       "3 01d2f676abab6ec03ec5dc696bfd49d66e392ea1  \\\n",
       "4                                     -999   \n",
       "\n",
       "3 01e25e4a25acd32baf5137b3031151f751fadbb4  \\\n",
       "4                                     -999   \n",
       "\n",
       "3 026c2f057932da75680b21ecdbd23bf9cb9350f3  \\\n",
       "4                                     -999   \n",
       "\n",
       "3 028a310e23177c3747d37971678dd964ee28ce17  ...  \\\n",
       "4                                     -999  ...   \n",
       "\n",
       "3 fdc189e5a19850397f37201f4acc378cfddcf0d6_dt  \\\n",
       "4                                       100.0   \n",
       "\n",
       "3 fdc19f011587b75c11a6c30d8ca06d90107b6bde_dt  \\\n",
       "4                                       100.0   \n",
       "\n",
       "3 fdf37fa13679f581bdfaae3b99e368633e0a144b_dt  \\\n",
       "4                                       100.0   \n",
       "\n",
       "3 fdfe926caf5f49a88a9bcab8d025e887f422128b_dt  \\\n",
       "4                                       100.0   \n",
       "\n",
       "3 fe3211f90e4ab1f500e10fe175ae6142f4b13130_dt  \\\n",
       "4                                       100.0   \n",
       "\n",
       "3 ffa41c79865d7fb336f586e0dec8b080db1027fb_dt          x          y  f  \\\n",
       "4                                       100.0  223.09842  154.77519 -1   \n",
       "\n",
       "3                      path  \n",
       "4  5e157323a280850006f3d017  \n",
       "\n",
       "[1 rows x 1886 columns]"
      ]
     },
     "execution_count": 76,
     "metadata": {},
     "output_type": "execute_result"
    }
   ],
   "source": [
    "feat.head()"
   ]
  },
  {
   "cell_type": "code",
   "execution_count": null,
   "metadata": {},
   "outputs": [],
   "source": []
  }
 ],
 "metadata": {
  "kernelspec": {
   "display_name": "Python 3",
   "language": "python",
   "name": "python3"
  },
  "language_info": {
   "codemirror_mode": {
    "name": "ipython",
    "version": 3
   },
   "file_extension": ".py",
   "mimetype": "text/x-python",
   "name": "python",
   "nbconvert_exporter": "python",
   "pygments_lexer": "ipython3",
   "version": "3.8.8"
  },
  "papermill": {
   "default_parameters": {},
   "duration": 9.894085,
   "end_time": "2021-02-03T20:30:10.083699",
   "environment_variables": {},
   "exception": null,
   "input_path": "__notebook__.ipynb",
   "output_path": "__notebook__.ipynb",
   "parameters": {},
   "start_time": "2021-02-03T20:30:00.189614",
   "version": "2.2.2"
  }
 },
 "nbformat": 4,
 "nbformat_minor": 4
}
