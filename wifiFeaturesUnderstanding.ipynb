{
 "cells": [
  {
   "cell_type": "markdown",
   "metadata": {
    "papermill": {
     "duration": 0.007463,
     "end_time": "2021-02-03T20:30:06.571139",
     "exception": false,
     "start_time": "2021-02-03T20:30:06.563676",
     "status": "completed"
    },
    "tags": []
   },
   "source": [
    "### Wifi features\n",
    "\n",
    "This this is the code to generate the wifi features available in [this dataset](https://www.kaggle.com/devinanzelmo/indoor-navigation-and-location-wifi-features). Using these features can get a score below 14. For an example notebook using them see [this notebook](https://www.kaggle.com/devinanzelmo/wifi-features-lightgbm-starter). They only uses waypoints, wifi and timestamp data to generate solution. See this [forum post](https://www.kaggle.com/c/indoor-location-navigation/discussion/215445) for an outline of this solution method, and methods of improvement.\n",
    "\n",
    "There are `break`'s inserted into loops which need to be removed to get this to run. Right now data is written to current working directory. This takes 2-4 hours to run depending on hard drive etc. There is a lot of room for improvement speeding up feature generation. \n",
    "\n",
    "**Update:** I added one line that creates a column for the path filename, this allows for a groupkfold crossvalidation. \n"
   ]
  },
  {
   "cell_type": "code",
   "execution_count": 1,
   "metadata": {
    "_cell_guid": "b1076dfc-b9ad-4769-8c92-a6c4dae69d19",
    "_uuid": "8f2839f25d086af736a60e9eeb907d3b93b6e0e5",
    "execution": {
     "iopub.execute_input": "2021-02-03T20:30:06.590945Z",
     "iopub.status.busy": "2021-02-03T20:30:06.589984Z",
     "iopub.status.idle": "2021-02-03T20:30:06.593594Z",
     "shell.execute_reply": "2021-02-03T20:30:06.592887Z"
    },
    "papermill": {
     "duration": 0.01623,
     "end_time": "2021-02-03T20:30:06.593847",
     "exception": false,
     "start_time": "2021-02-03T20:30:06.577617",
     "status": "completed"
    },
    "tags": []
   },
   "outputs": [],
   "source": [
    "import pandas as pd\n",
    "import numpy as np\n",
    "import glob\n",
    "import os\n",
    "import gc\n",
    "import json \n",
    "pd.options.mode.chained_assignment = None  # default='warn'"
   ]
  },
  {
   "cell_type": "code",
   "execution_count": 2,
   "metadata": {
    "execution": {
     "iopub.execute_input": "2021-02-03T20:30:06.639011Z",
     "iopub.status.busy": "2021-02-03T20:30:06.638118Z",
     "iopub.status.idle": "2021-02-03T20:30:09.333807Z",
     "shell.execute_reply": "2021-02-03T20:30:09.334360Z"
    },
    "papermill": {
     "duration": 2.711076,
     "end_time": "2021-02-03T20:30:09.334617",
     "exception": false,
     "start_time": "2021-02-03T20:30:06.623541",
     "status": "completed"
    },
    "tags": []
   },
   "outputs": [],
   "source": [
    "base_path = '.'\n",
    "\n",
    "# pull out all the buildings actually used in the test set, given current method we don't need the other ones\n",
    "ssubm = pd.read_csv('sample_submission.csv')\n",
    "\n",
    "# only 24 of the total buildings are used in the test set, \n",
    "# this allows us to greatly reduce the intial size of the dataset\n",
    "\n",
    "ssubm_df = ssubm[\"site_path_timestamp\"].apply(lambda x: pd.Series(x.split(\"_\")))\n",
    "used_buildings = sorted(ssubm_df[0].value_counts().index.tolist())\n",
    "\n",
    "# dictionary used to map the floor codes to the values used in the submission file. \n",
    "floor_map = {\"B2\":-2, \"B1\":-1, \"F1\":0, \"F2\": 1, \"F3\":2, \"F4\":3, \"F5\":4, \"F6\":5, \"F7\":6,\"F8\":7, \"F9\":8,\n",
    "             \"1F\":0, \"2F\":1, \"3F\":2, \"4F\":3, \"5F\":4, \"6F\":5, \"7F\":6, \"8F\": 7, \"9F\":8}"
   ]
  },
  {
   "cell_type": "code",
   "execution_count": 3,
   "metadata": {},
   "outputs": [],
   "source": [
    "wifiDataMap = { '0' :\"sys_ts\", '1':\"type\", '2':\"ssid\", '3':\"bssid\", '4':\"rssi\", '5':\"freq\", '6':\"lastseen\"}"
   ]
  },
  {
   "cell_type": "code",
   "execution_count": 4,
   "metadata": {},
   "outputs": [
    {
     "data": {
      "text/html": [
       "<div>\n",
       "<style scoped>\n",
       "    .dataframe tbody tr th:only-of-type {\n",
       "        vertical-align: middle;\n",
       "    }\n",
       "\n",
       "    .dataframe tbody tr th {\n",
       "        vertical-align: top;\n",
       "    }\n",
       "\n",
       "    .dataframe thead th {\n",
       "        text-align: right;\n",
       "    }\n",
       "</style>\n",
       "<table border=\"1\" class=\"dataframe\">\n",
       "  <thead>\n",
       "    <tr style=\"text-align: right;\">\n",
       "      <th></th>\n",
       "      <th>0</th>\n",
       "      <th>1</th>\n",
       "      <th>2</th>\n",
       "    </tr>\n",
       "  </thead>\n",
       "  <tbody>\n",
       "    <tr>\n",
       "      <th>0</th>\n",
       "      <td>5a0546857ecc773753327266</td>\n",
       "      <td>046cfa46be49fc10834815c6</td>\n",
       "      <td>0000000000009</td>\n",
       "    </tr>\n",
       "    <tr>\n",
       "      <th>1</th>\n",
       "      <td>5a0546857ecc773753327266</td>\n",
       "      <td>046cfa46be49fc10834815c6</td>\n",
       "      <td>0000000009017</td>\n",
       "    </tr>\n",
       "    <tr>\n",
       "      <th>2</th>\n",
       "      <td>5a0546857ecc773753327266</td>\n",
       "      <td>046cfa46be49fc10834815c6</td>\n",
       "      <td>0000000015326</td>\n",
       "    </tr>\n",
       "  </tbody>\n",
       "</table>\n",
       "</div>"
      ],
      "text/plain": [
       "                          0                         1              2\n",
       "0  5a0546857ecc773753327266  046cfa46be49fc10834815c6  0000000000009\n",
       "1  5a0546857ecc773753327266  046cfa46be49fc10834815c6  0000000009017\n",
       "2  5a0546857ecc773753327266  046cfa46be49fc10834815c6  0000000015326"
      ]
     },
     "execution_count": 4,
     "metadata": {},
     "output_type": "execute_result"
    }
   ],
   "source": [
    "ssubm_df.head(3)"
   ]
  },
  {
   "cell_type": "markdown",
   "metadata": {
    "execution": {
     "iopub.execute_input": "2021-02-03T20:30:09.359905Z",
     "iopub.status.busy": "2021-02-03T20:30:09.359123Z",
     "iopub.status.idle": "2021-02-03T20:30:09.362909Z",
     "shell.execute_reply": "2021-02-03T20:30:09.362224Z"
    },
    "papermill": {
     "duration": 0.021272,
     "end_time": "2021-02-03T20:30:09.363069",
     "exception": false,
     "start_time": "2021-02-03T20:30:09.341797",
     "status": "completed"
    },
    "tags": []
   },
   "source": [
    "```python\n",
    "%%time\n",
    "# get only the wifi bssid that occur over 1000 times(this number can be experimented with)\n",
    "# these will be the only ones used when constructing features\n",
    "bssid = dict()\n",
    "\n",
    "for building in used_buildings:\n",
    "    #break\n",
    "    folders = sorted(glob.glob(os.path.join(base_path,'train/'+building+'/*')))\n",
    "    print(building)\n",
    "    wifi = list()\n",
    "    for folder in folders:\n",
    "        floor = floor_map[folder.split('/')[-1]]\n",
    "        files = glob.glob(os.path.join(folder, \"*.txt\"))\n",
    "        for file in files:\n",
    "            with open(file) as f:\n",
    "                txt = f.readlines()\n",
    "                for e, line in enumerate(txt):\n",
    "                    tmp = line.strip().split()\n",
    "                    if tmp[1] == \"TYPE_WIFI\":\n",
    "                        wifi.append(tmp)\n",
    "    df = pd.DataFrame(wifi)\n",
    "    #top_bssid = df[3].value_counts().iloc[:500].index.tolist()\n",
    "    value_counts = df[3].value_counts()\n",
    "    top_bssid = value_counts[value_counts > 1000].index.tolist()\n",
    "    print(len(top_bssid))\n",
    "    bssid[building] = top_bssid\n",
    "    del df\n",
    "    del wifi\n",
    "    gc.collect()\n",
    "```"
   ]
  },
  {
   "cell_type": "code",
   "execution_count": 5,
   "metadata": {
    "execution": {
     "iopub.execute_input": "2021-02-03T20:30:09.383252Z",
     "iopub.status.busy": "2021-02-03T20:30:09.382581Z",
     "iopub.status.idle": "2021-02-03T20:30:09.386704Z",
     "shell.execute_reply": "2021-02-03T20:30:09.385809Z"
    },
    "papermill": {
     "duration": 0.016635,
     "end_time": "2021-02-03T20:30:09.386885",
     "exception": false,
     "start_time": "2021-02-03T20:30:09.370250",
     "status": "completed"
    },
    "tags": []
   },
   "outputs": [],
   "source": [
    "#with open(\"bssid_1000.json\", \"w\") as f:\n",
    "#    json.dump(bssid, f)\n",
    "\n",
    "with open(\"referencePublicNotebooks/bssid_1000.json\") as f:\n",
    "    bssid = json.load(f)"
   ]
  },
  {
   "cell_type": "code",
   "execution_count": 6,
   "metadata": {},
   "outputs": [
    {
     "name": "stdout",
     "output_type": "stream",
     "text": [
      "building = 5a0546857ecc773753327266\n",
      "folder = ./train/5a0546857ecc773753327266/B1\n",
      "floor = -1\n",
      "file = ./train/5a0546857ecc773753327266/B1/5e157323a280850006f3d017.txt\n"
     ]
    }
   ],
   "source": [
    "building = used_buildings[0]\n",
    "folders = sorted(glob.glob(os.path.join(base_path,'train', building +'/*')))\n",
    "dfs = list()\n",
    "index = sorted(bssid[building])\n",
    "dt_index = [x+ \"_dt\" for x in index]\n",
    "print(f\"building = {building}\")\n",
    "folder = folders[0]\n",
    "print(f\"folder = {folder}\")\n",
    "floor = floor_map[folder.split('/')[-1]]\n",
    "print(f\"floor = {floor}\")\n",
    "files = glob.glob(os.path.join(folder, \"*.txt\"))\n",
    "file =files[0]\n",
    "print(f\"file = {file}\")"
   ]
  },
  {
   "cell_type": "code",
   "execution_count": 7,
   "metadata": {},
   "outputs": [
    {
     "name": "stdout",
     "output_type": "stream",
     "text": [
      "(3432, 7)\n"
     ]
    },
    {
     "data": {
      "text/html": [
       "<div>\n",
       "<style scoped>\n",
       "    .dataframe tbody tr th:only-of-type {\n",
       "        vertical-align: middle;\n",
       "    }\n",
       "\n",
       "    .dataframe tbody tr th {\n",
       "        vertical-align: top;\n",
       "    }\n",
       "\n",
       "    .dataframe thead th {\n",
       "        text-align: right;\n",
       "    }\n",
       "</style>\n",
       "<table border=\"1\" class=\"dataframe\">\n",
       "  <thead>\n",
       "    <tr style=\"text-align: right;\">\n",
       "      <th></th>\n",
       "      <th>0</th>\n",
       "      <th>1</th>\n",
       "      <th>2</th>\n",
       "      <th>3</th>\n",
       "      <th>4</th>\n",
       "      <th>5</th>\n",
       "      <th>6</th>\n",
       "    </tr>\n",
       "  </thead>\n",
       "  <tbody>\n",
       "    <tr>\n",
       "      <th>0</th>\n",
       "      <td>1578462804152</td>\n",
       "      <td>TYPE_WIFI</td>\n",
       "      <td>da39a3ee5e6b4b0d3255bfef95601890afd80709</td>\n",
       "      <td>c08ad78a45798cfe176a42b35c7381ae602711c5</td>\n",
       "      <td>-42</td>\n",
       "      <td>5825</td>\n",
       "      <td>1578462803569</td>\n",
       "    </tr>\n",
       "    <tr>\n",
       "      <th>94</th>\n",
       "      <td>1578462804152</td>\n",
       "      <td>TYPE_WIFI</td>\n",
       "      <td>286c4898ff7b20f59030362ee0c3eb505d99e895</td>\n",
       "      <td>3e773353957a7a0e2485090d41de1fa5a65df532</td>\n",
       "      <td>-82</td>\n",
       "      <td>2412</td>\n",
       "      <td>1578462779808</td>\n",
       "    </tr>\n",
       "    <tr>\n",
       "      <th>93</th>\n",
       "      <td>1578462804152</td>\n",
       "      <td>TYPE_WIFI</td>\n",
       "      <td>b9f0208be00bd8b337be7f12e02e3a3ce846e22b</td>\n",
       "      <td>8d8caa754528e2b2eee8bf2b6362bc950968c959</td>\n",
       "      <td>-82</td>\n",
       "      <td>5825</td>\n",
       "      <td>1578462788933</td>\n",
       "    </tr>\n",
       "  </tbody>\n",
       "</table>\n",
       "</div>"
      ],
      "text/plain": [
       "                0          1                                         2  \\\n",
       "0   1578462804152  TYPE_WIFI  da39a3ee5e6b4b0d3255bfef95601890afd80709   \n",
       "94  1578462804152  TYPE_WIFI  286c4898ff7b20f59030362ee0c3eb505d99e895   \n",
       "93  1578462804152  TYPE_WIFI  b9f0208be00bd8b337be7f12e02e3a3ce846e22b   \n",
       "\n",
       "                                           3    4     5              6  \n",
       "0   c08ad78a45798cfe176a42b35c7381ae602711c5  -42  5825  1578462803569  \n",
       "94  3e773353957a7a0e2485090d41de1fa5a65df532  -82  2412  1578462779808  \n",
       "93  8d8caa754528e2b2eee8bf2b6362bc950968c959  -82  5825  1578462788933  "
      ]
     },
     "execution_count": 7,
     "metadata": {},
     "output_type": "execute_result"
    }
   ],
   "source": [
    "wifi = list()\n",
    "waypoint = list()\n",
    "with open(file) as f:\n",
    "    txt = f.readlines()\n",
    "for line in txt:\n",
    "    line = line.strip().split()\n",
    "    if line[1] == \"TYPE_WAYPOINT\":\n",
    "        waypoint.append(line)\n",
    "    if line[1] == \"TYPE_WIFI\":\n",
    "        wifi.append(line)\n",
    "\n",
    "df = pd.DataFrame(np.array(wifi))\n",
    "#df = df.rename(columns=wifiDataMap)\n",
    "#df = df.drop(labels=[1,2])\n",
    "\n",
    "# make timestamps as integer\n",
    "df[0] = df[0].astype(np.int64)\n",
    "\n",
    "# sort by time\n",
    "df.sort_values(by=[0],inplace=True)\n",
    "\n",
    "print(df.shape)\n",
    "df.head(3)"
   ]
  },
  {
   "cell_type": "code",
   "execution_count": 10,
   "metadata": {},
   "outputs": [],
   "source": [
    "waypoint = pd.DataFrame(np.array(waypoint))\n",
    "waypoint.sort_values(by=[0], inplace=True)"
   ]
  },
  {
   "cell_type": "code",
   "execution_count": 11,
   "metadata": {},
   "outputs": [
    {
     "data": {
      "text/html": [
       "<div>\n",
       "<style scoped>\n",
       "    .dataframe tbody tr th:only-of-type {\n",
       "        vertical-align: middle;\n",
       "    }\n",
       "\n",
       "    .dataframe tbody tr th {\n",
       "        vertical-align: top;\n",
       "    }\n",
       "\n",
       "    .dataframe thead th {\n",
       "        text-align: right;\n",
       "    }\n",
       "</style>\n",
       "<table border=\"1\" class=\"dataframe\">\n",
       "  <thead>\n",
       "    <tr style=\"text-align: right;\">\n",
       "      <th></th>\n",
       "      <th>0</th>\n",
       "      <th>1</th>\n",
       "      <th>2</th>\n",
       "      <th>3</th>\n",
       "    </tr>\n",
       "  </thead>\n",
       "  <tbody>\n",
       "    <tr>\n",
       "      <th>0</th>\n",
       "      <td>1578462802213</td>\n",
       "      <td>TYPE_WAYPOINT</td>\n",
       "      <td>223.09842</td>\n",
       "      <td>154.77519</td>\n",
       "    </tr>\n",
       "    <tr>\n",
       "      <th>1</th>\n",
       "      <td>1578462809093</td>\n",
       "      <td>TYPE_WAYPOINT</td>\n",
       "      <td>224.45633</td>\n",
       "      <td>160.10567</td>\n",
       "    </tr>\n",
       "    <tr>\n",
       "      <th>2</th>\n",
       "      <td>1578462820081</td>\n",
       "      <td>TYPE_WAYPOINT</td>\n",
       "      <td>232.462</td>\n",
       "      <td>164.41673</td>\n",
       "    </tr>\n",
       "  </tbody>\n",
       "</table>\n",
       "</div>"
      ],
      "text/plain": [
       "               0              1          2          3\n",
       "0  1578462802213  TYPE_WAYPOINT  223.09842  154.77519\n",
       "1  1578462809093  TYPE_WAYPOINT  224.45633  160.10567\n",
       "2  1578462820081  TYPE_WAYPOINT    232.462  164.41673"
      ]
     },
     "execution_count": 11,
     "metadata": {},
     "output_type": "execute_result"
    }
   ],
   "source": [
    "waypoint.head(3)"
   ]
  },
  {
   "cell_type": "code",
   "execution_count": 12,
   "metadata": {},
   "outputs": [],
   "source": [
    "waypoint = waypoint.to_numpy()"
   ]
  },
  {
   "cell_type": "code",
   "execution_count": 8,
   "metadata": {},
   "outputs": [
    {
     "name": "stdout",
     "output_type": "stream",
     "text": [
      "[1578462802213 1578462809093 1578462820081 1578462830942 1578462843572]\n"
     ]
    }
   ],
   "source": [
    "wayPtTimestamps = waypoint[:,0].values.astype(np.int64)\n",
    "print(wayPtTimestamps)"
   ]
  },
  {
   "cell_type": "code",
   "execution_count": 13,
   "metadata": {},
   "outputs": [],
   "source": [
    "def getTimeStampDf(df, currentTimeStamp):\n",
    "    print(f\"currentTimeStamp = {currentTimeStamp}\")\n",
    "    timestampdf = df[df[0] < currentTimeStamp]\n",
    "    print(f\"df within timestamp shape is {timestampdf.shape}\")\n",
    "    print(f\"There are {timestampdf[3].nunique()} unique wifi ids in given timestamp\")\n",
    "    uniquedf = timestampdf.drop_duplicates(subset=[3], keep='last')\n",
    "    uniquedf[6] = (currentTimeStamp - uniquedf[6].astype(np.int64)).astype(float) / 1000.0\n",
    "    return uniquedf"
   ]
  },
  {
   "cell_type": "code",
   "execution_count": 10,
   "metadata": {},
   "outputs": [],
   "source": [
    "def getWiFiIDFeature(uniquedf):\n",
    "    wifiIDFeature = uniquedf.iloc[:,3:5]\n",
    "    wifiIDFeature = wifiIDFeature.set_index(3).reindex(index).replace(np.nan, -999).T\n",
    "    return wifiIDFeature"
   ]
  },
  {
   "cell_type": "code",
   "execution_count": 11,
   "metadata": {},
   "outputs": [],
   "source": [
    "def getWiFiDtFeature(uniquedf):\n",
    "    wifiDtFeature = uniquedf.iloc[:,[3,6]]\n",
    "    wifiDtFeature = wifiDtFeature.set_index(3).reindex(index).replace(np.nan, 1000.0).T\n",
    "    return wifiDtFeature"
   ]
  },
  {
   "cell_type": "code",
   "execution_count": 14,
   "metadata": {},
   "outputs": [
    {
     "name": "stdout",
     "output_type": "stream",
     "text": [
      "currentTimeStamp = 1578462809093\n",
      "df within timestamp shape is (397, 7)\n",
      "There are 135 unique wifi ids in given timestamp\n"
     ]
    }
   ],
   "source": [
    "uniquedf = getTimeStampDf(df, wayPtTimestamps[1])"
   ]
  },
  {
   "cell_type": "code",
   "execution_count": 17,
   "metadata": {},
   "outputs": [],
   "source": [
    "a = getWiFiIDFeature(uniquedf)"
   ]
  },
  {
   "cell_type": "code",
   "execution_count": 18,
   "metadata": {},
   "outputs": [],
   "source": [
    "b = getWiFiDtFeature(uniquedf)"
   ]
  },
  {
   "cell_type": "code",
   "execution_count": 22,
   "metadata": {},
   "outputs": [
    {
     "data": {
      "text/plain": [
       "True"
      ]
     },
     "execution_count": 22,
     "metadata": {},
     "output_type": "execute_result"
    }
   ],
   "source": [
    "(a.columns.values == b.columns.values).all()"
   ]
  },
  {
   "cell_type": "code",
   "execution_count": null,
   "metadata": {},
   "outputs": [],
   "source": []
  },
  {
   "cell_type": "code",
   "execution_count": null,
   "metadata": {},
   "outputs": [],
   "source": [
    "currentTimeStamp  = wayPtTimestamps[1]\n"
   ]
  },
  {
   "cell_type": "code",
   "execution_count": null,
   "metadata": {},
   "outputs": [],
   "source": [
    "uniquedf = timestampdf.drop_duplicates(subset=[3], keep='last')\n",
    "print(uniquedf.shape)\n",
    "uniquedf.head()"
   ]
  },
  {
   "cell_type": "code",
   "execution_count": null,
   "metadata": {},
   "outputs": [],
   "source": [
    "uniquedf[6] = (currentTimeStamp - uniquedf[6].astype(np.int64)).astype(float) / 1000.0\n",
    "uniquedf.head()"
   ]
  },
  {
   "cell_type": "code",
   "execution_count": null,
   "metadata": {},
   "outputs": [],
   "source": [
    "wifiIDFeature = uniquedf.iloc[:,3:5]\n",
    "wifiIDFeature = wifiIDFeature.set_index(3).reindex(index).replace(np.nan, -999).T"
   ]
  },
  {
   "cell_type": "code",
   "execution_count": null,
   "metadata": {},
   "outputs": [],
   "source": [
    "wifiIDFeature.head()"
   ]
  },
  {
   "cell_type": "code",
   "execution_count": null,
   "metadata": {},
   "outputs": [],
   "source": [
    "wifiDtFeature = uniquedf.iloc[:,[3,6]]\n",
    "wifiDtFeature = wifiDtFeature.set_index(3).reindex(index).replace(np.nan, 1000.0).T\n",
    "wifiDtFeature.head(3)"
   ]
  },
  {
   "cell_type": "code",
   "execution_count": null,
   "metadata": {},
   "outputs": [],
   "source": [
    "df[5].unique()"
   ]
  },
  {
   "cell_type": "code",
   "execution_count": null,
   "metadata": {},
   "outputs": [],
   "source": [
    "print(np.array(waypoint).shape)\n",
    "print(np.array(waypoint))"
   ]
  },
  {
   "cell_type": "code",
   "execution_count": null,
   "metadata": {},
   "outputs": [],
   "source": [
    "# generate a feature, and label for each wifi block\n",
    "for gid, g in df.groupby(0):\n",
    "    dists = list()\n",
    "    for e, k in enumerate(waypoint):\n",
    "        dist = abs(int(gid) - int(k[0]))\n",
    "        dists.append(dist)\n",
    "    nearest_wp_index = np.argmin(dists)\n",
    "    g = g.drop_duplicates(subset=3)  \n",
    "    break"
   ]
  },
  {
   "cell_type": "code",
   "execution_count": null,
   "metadata": {},
   "outputs": [],
   "source": [
    "g.head(3)"
   ]
  },
  {
   "cell_type": "code",
   "execution_count": null,
   "metadata": {},
   "outputs": [],
   "source": [
    "def getDtFeature(df):\n",
    "    dtFeat = df.iloc[:,[0,3,6]]\n",
    "    dtFeat.loc[:,3] = dtFeat.loc[:,3].apply(lambda x: f\"{x}_dt\")\n",
    "    dtFeat.loc[:,4] = (dtFeat.loc[:, 0].astype(float) - dtFeat.loc[:, 6].astype(float)) / 1000.0\n",
    "    dtFeat = dtFeat.drop(columns=[0,6]).set_index(3).reindex(dt_index).replace(np.nan, 100.0).T\n",
    "    return dtFeat"
   ]
  },
  {
   "cell_type": "code",
   "execution_count": null,
   "metadata": {},
   "outputs": [],
   "source": [
    "def getWiFiIDFeature(df):\n",
    "    wiFiIDFeat = df.iloc[:,3:5]\n",
    "    wiFiIDFeat = wiFiIDFeat.set_index(3).reindex(index).replace(np.nan, -999).T\n",
    "    return wiFiIDFeat"
   ]
  },
  {
   "cell_type": "code",
   "execution_count": null,
   "metadata": {},
   "outputs": [],
   "source": [
    "wiFiIDFeat = getWiFiIDFeature(g)\n",
    "dtFeat = getDtFeature(g)\n",
    "feat = pd.concat([wiFiIDFeat, dtFeat], axis=1)\n",
    "print(feat.shape)"
   ]
  },
  {
   "cell_type": "code",
   "execution_count": null,
   "metadata": {},
   "outputs": [],
   "source": [
    "feat.shape"
   ]
  },
  {
   "cell_type": "code",
   "execution_count": null,
   "metadata": {},
   "outputs": [],
   "source": [
    "feat.head()"
   ]
  },
  {
   "cell_type": "code",
   "execution_count": null,
   "metadata": {},
   "outputs": [],
   "source": [
    "feat[\"x\"] = float(waypoint[nearest_wp_index][2])\n",
    "feat[\"y\"] = float(waypoint[nearest_wp_index][3])\n",
    "feat[\"f\"] = floor\n",
    "feat[\"path\"] = file.split('/')[-1].split('.')[0] # useful for crossvalidation\n",
    "dfs.append(feat)"
   ]
  },
  {
   "cell_type": "code",
   "execution_count": null,
   "metadata": {},
   "outputs": [],
   "source": [
    "feat.head()"
   ]
  },
  {
   "cell_type": "code",
   "execution_count": null,
   "metadata": {},
   "outputs": [],
   "source": []
  }
 ],
 "metadata": {
  "kernelspec": {
   "display_name": "Python 3",
   "language": "python",
   "name": "python3"
  },
  "language_info": {
   "codemirror_mode": {
    "name": "ipython",
    "version": 3
   },
   "file_extension": ".py",
   "mimetype": "text/x-python",
   "name": "python",
   "nbconvert_exporter": "python",
   "pygments_lexer": "ipython3",
   "version": "3.8.8"
  },
  "papermill": {
   "default_parameters": {},
   "duration": 9.894085,
   "end_time": "2021-02-03T20:30:10.083699",
   "environment_variables": {},
   "exception": null,
   "input_path": "__notebook__.ipynb",
   "output_path": "__notebook__.ipynb",
   "parameters": {},
   "start_time": "2021-02-03T20:30:00.189614",
   "version": "2.2.2"
  }
 },
 "nbformat": 4,
 "nbformat_minor": 4
}
