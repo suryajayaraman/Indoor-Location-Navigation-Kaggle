{
 "cells": [
  {
   "cell_type": "markdown",
   "id": "dominant-species",
   "metadata": {},
   "source": [
    "## Library imports"
   ]
  },
  {
   "cell_type": "code",
   "execution_count": 1,
   "id": "liable-seeker",
   "metadata": {},
   "outputs": [],
   "source": [
    "# basic imports\n",
    "import os\n",
    "import gc\n",
    "import math\n",
    "import glob\n",
    "import random\n",
    "import itertools\n",
    "import numpy as np\n",
    "import pandas as pd\n",
    "from tqdm.notebook import tqdm\n",
    "\n",
    "# basic plotting library\n",
    "import matplotlib.pyplot as plt\n",
    "\n",
    "# interactive plots\n",
    "import plotly.express as px\n",
    "import plotly.graph_objects as go\n",
    "from plotly.subplots import make_subplots\n",
    "from plotly.offline import iplot\n",
    "\n",
    "import warnings  \n",
    "warnings.filterwarnings('ignore')"
   ]
  },
  {
   "cell_type": "markdown",
   "id": "floating-solution",
   "metadata": {},
   "source": [
    "## Config parameters"
   ]
  },
  {
   "cell_type": "code",
   "execution_count": 2,
   "id": "green-county",
   "metadata": {},
   "outputs": [],
   "source": [
    "class CFG:\n",
    "    # pipeline parameters\n",
    "    SEED        = 42\n",
    "    TRAIN       = True\n",
    "    LR_FIND     = False\n",
    "    GENERATE_OOF= True\n",
    "    N_FOLDS     = 5 \n",
    "    N_EPOCHS    = 2\n",
    "    TEST_BATCH_SIZE  = 32\n",
    "    TRAIN_BATCH_SIZE = 16\n",
    "    NUM_WORKERS      = 4\n",
    "    DATA_FRAC        = 1.0\n",
    "    FOLD_TO_TRAIN    = [0, 1, 2, 3, 4] # \n",
    "\n",
    "    # model parameters\n",
    "    MODEL_ARCH  = 'MLP'\n",
    "    MODEL_NAME  = 'mlp_vtest'\n",
    "    WGT_PATH    = ''\n",
    "    WGT_MODEL   = ''\n",
    "    PRINT_N_EPOCH = 2\n",
    "    \n",
    "    # scheduler variables\n",
    "    MAX_LR    = 1e-2\n",
    "    MIN_LR    = 1e-5\n",
    "    SCHEDULER = 'CosineAnnealingWarmRestarts'  # ['ReduceLROnPlateau', 'None', OneCycleLR', ','CosineAnnealingLR']\n",
    "    T_0       = 10     # CosineAnnealingWarmRestarts\n",
    "    T_MULT    = 2      # CosineAnnealingWarmRestarts\n",
    "    T_MAX     = 5      # CosineAnnealingLR\n",
    "\n",
    "    # optimizer variables\n",
    "    OPTIMIZER     = 'Adam'\n",
    "    WEIGHT_DECAY  = 1e-6\n",
    "    GRD_ACC_STEPS = 1\n",
    "    MAX_GRD_NORM  = 1000\n",
    "    \n",
    "    # features parameters\n",
    "    USE_FREQ_FEATS = True\n",
    "    BUILDING_SITES_RANGE = [0,1]"
   ]
  },
  {
   "cell_type": "code",
   "execution_count": 3,
   "id": "timely-thought",
   "metadata": {},
   "outputs": [],
   "source": [
    "floor_map = {\"B2\": -2, \"B1\": -1, \"F1\": 0, \"F2\": 1, \"F3\": 2, \"F4\": 3, \"F5\": 4, \"F6\": 5, \"F7\": 6, \"F8\": 7, \"F9\": 8,\n",
    "             \"1F\": 0, \"2F\": 1, \"3F\": 2, \"4F\": 3, \"5F\": 4, \"6F\": 5, \"7F\": 6, \"8F\": 7, \"9F\": 8}\n",
    "\n",
    "minCount = 1\n",
    "rssiFillerValue = -999.0\n",
    "dtFillerValue   = 1000.0\n",
    "freqFillerValue = 0\n",
    "featureInputDir = 'referencePublicNotebooks/wiFiFeatures'\n",
    "modelOutputDir = 'modelSaveDir'\n",
    "sampleCsvPath = 'sample_submission.csv'\n",
    "npySaveDir = 'referencePublicNotebooks/wiFi_npy_features'\n"
   ]
  },
  {
   "cell_type": "code",
   "execution_count": 4,
   "id": "parental-wrist",
   "metadata": {},
   "outputs": [
    {
     "name": "stdout",
     "output_type": "stream",
     "text": [
      "5a0546857ecc773753327266_train.csv\n"
     ]
    }
   ],
   "source": [
    "buildingsList = sorted(glob.glob(f\"{featureInputDir}/*.csv\"))\n",
    "buildingsList = buildingsList[CFG.BUILDING_SITES_RANGE[0]: CFG.BUILDING_SITES_RANGE[1]]\n",
    "print(buildingsList[0].split('/')[-1])"
   ]
  },
  {
   "cell_type": "markdown",
   "id": "periodic-market",
   "metadata": {
    "papermill": {
     "duration": 0.030885,
     "end_time": "2021-02-15T09:18:40.779692",
     "exception": false,
     "start_time": "2021-02-15T09:18:40.748807",
     "status": "completed"
    },
    "tags": []
   },
   "source": [
    "## Helper functions"
   ]
  },
  {
   "cell_type": "code",
   "execution_count": 5,
   "id": "identical-thing",
   "metadata": {},
   "outputs": [],
   "source": [
    "def getBuildingName(buildingCsvPath):\n",
    "    fileName = buildingCsvPath.split('/')[-1]\n",
    "    buildingName = fileName.rstrip('_train.csv')\n",
    "    return buildingName"
   ]
  },
  {
   "cell_type": "code",
   "execution_count": 6,
   "id": "impossible-collection",
   "metadata": {},
   "outputs": [],
   "source": [
    "train_csv = pd.read_csv('referencePublicNotebooks/wiFiFeatures/5a0546857ecc773753327266_train.csv')"
   ]
  },
  {
   "cell_type": "code",
   "execution_count": 7,
   "id": "turkish-colleague",
   "metadata": {},
   "outputs": [
    {
     "name": "stdout",
     "output_type": "stream",
     "text": [
      "<class 'pandas.core.frame.DataFrame'>\n",
      "RangeIndex: 9296 entries, 0 to 9295\n",
      "Columns: 10175 entries, 0 to 10174\n",
      "dtypes: float64(6782), int64(3392), object(1)\n",
      "memory usage: 721.6+ MB\n"
     ]
    }
   ],
   "source": [
    "train_csv.info()"
   ]
  },
  {
   "cell_type": "code",
   "execution_count": 8,
   "id": "undefined-germany",
   "metadata": {},
   "outputs": [],
   "source": [
    "buildingName = getBuildingName(buildingsList[0])\n",
    "numFeatures = int((train_csv.shape[1] - 5) / 3)"
   ]
  },
  {
   "cell_type": "code",
   "execution_count": 9,
   "id": "coated-salon",
   "metadata": {},
   "outputs": [
    {
     "data": {
      "text/plain": [
       "'5a0546857ecc773753327266'"
      ]
     },
     "execution_count": 9,
     "metadata": {},
     "output_type": "execute_result"
    }
   ],
   "source": [
    "buildingName"
   ]
  },
  {
   "cell_type": "code",
   "execution_count": 10,
   "id": "advanced-amendment",
   "metadata": {},
   "outputs": [
    {
     "name": "stdout",
     "output_type": "stream",
     "text": [
      "1 rows saved\n",
      "1001 rows saved\n",
      "2001 rows saved\n",
      "3001 rows saved\n",
      "4001 rows saved\n",
      "5001 rows saved\n",
      "6001 rows saved\n",
      "7001 rows saved\n",
      "8001 rows saved\n",
      "9001 rows saved\n"
     ]
    }
   ],
   "source": [
    "for i in range(0, train_csv.shape[0]):\n",
    "    timeStamp = train_csv.iloc[i,0]\n",
    "    pathName  = train_csv.iloc[i,-1]\n",
    "    rowData   = train_csv.iloc[i,1:-4].astype(np.float32)\n",
    "    \n",
    "    # scale output\n",
    "    rowData[0:numFeatures] /= -999.0\n",
    "    rowData[numFeatures : 2*numFeatures] /= 1000.0\n",
    "    rowData[2*numFeatures : 3*numFeatures] /= 5000.0\n",
    "    \n",
    "    # write to file\n",
    "    np.save(f\"{npySaveDir}/{buildingName}_{pathName}_{timeStamp}.npy\", rowData)\n",
    "    \n",
    "    if (i%1000 == 0):\n",
    "        print(f\"{i+1} rows saved\")"
   ]
  },
  {
   "cell_type": "code",
   "execution_count": 11,
   "id": "regulation-joining",
   "metadata": {},
   "outputs": [],
   "source": [
    "tempCsv = train_csv.iloc[:,[0,-4,-3,-2,-1]]"
   ]
  },
  {
   "cell_type": "code",
   "execution_count": 12,
   "id": "partial-henry",
   "metadata": {},
   "outputs": [
    {
     "data": {
      "text/html": [
       "<div>\n",
       "<style scoped>\n",
       "    .dataframe tbody tr th:only-of-type {\n",
       "        vertical-align: middle;\n",
       "    }\n",
       "\n",
       "    .dataframe tbody tr th {\n",
       "        vertical-align: top;\n",
       "    }\n",
       "\n",
       "    .dataframe thead th {\n",
       "        text-align: right;\n",
       "    }\n",
       "</style>\n",
       "<table border=\"1\" class=\"dataframe\">\n",
       "  <thead>\n",
       "    <tr style=\"text-align: right;\">\n",
       "      <th></th>\n",
       "      <th>0</th>\n",
       "      <th>10171</th>\n",
       "      <th>10172</th>\n",
       "      <th>10173</th>\n",
       "      <th>10174</th>\n",
       "    </tr>\n",
       "  </thead>\n",
       "  <tbody>\n",
       "    <tr>\n",
       "      <th>0</th>\n",
       "      <td>1578467411228</td>\n",
       "      <td>106.034371</td>\n",
       "      <td>162.169371</td>\n",
       "      <td>-1</td>\n",
       "      <td>5e1580adf4c3420006d520d4</td>\n",
       "    </tr>\n",
       "    <tr>\n",
       "      <th>1</th>\n",
       "      <td>1578467413209</td>\n",
       "      <td>104.201650</td>\n",
       "      <td>162.448659</td>\n",
       "      <td>-1</td>\n",
       "      <td>5e1580adf4c3420006d520d4</td>\n",
       "    </tr>\n",
       "    <tr>\n",
       "      <th>2</th>\n",
       "      <td>1578467415183</td>\n",
       "      <td>102.375404</td>\n",
       "      <td>162.726960</td>\n",
       "      <td>-1</td>\n",
       "      <td>5e1580adf4c3420006d520d4</td>\n",
       "    </tr>\n",
       "  </tbody>\n",
       "</table>\n",
       "</div>"
      ],
      "text/plain": [
       "               0       10171       10172  10173                     10174\n",
       "0  1578467411228  106.034371  162.169371     -1  5e1580adf4c3420006d520d4\n",
       "1  1578467413209  104.201650  162.448659     -1  5e1580adf4c3420006d520d4\n",
       "2  1578467415183  102.375404  162.726960     -1  5e1580adf4c3420006d520d4"
      ]
     },
     "execution_count": 12,
     "metadata": {},
     "output_type": "execute_result"
    }
   ],
   "source": [
    "tempCsv.head(3)"
   ]
  },
  {
   "cell_type": "code",
   "execution_count": 13,
   "id": "mathematical-fourth",
   "metadata": {},
   "outputs": [],
   "source": [
    "tempCsv.to_csv(f\"referencePublicNotebooks/wiFiFeatures/{buildingName}_npyTrain.csv\")"
   ]
  }
 ],
 "metadata": {
  "kernelspec": {
   "display_name": "kaggle",
   "language": "python",
   "name": "kaggle"
  },
  "language_info": {
   "codemirror_mode": {
    "name": "ipython",
    "version": 3
   },
   "file_extension": ".py",
   "mimetype": "text/x-python",
   "name": "python",
   "nbconvert_exporter": "python",
   "pygments_lexer": "ipython3",
   "version": "3.8.8"
  }
 },
 "nbformat": 4,
 "nbformat_minor": 5
}
