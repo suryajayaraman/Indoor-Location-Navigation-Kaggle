{
 "cells": [
  {
   "cell_type": "markdown",
   "id": "attended-linux",
   "metadata": {},
   "source": [
    "## Libraries import"
   ]
  },
  {
   "cell_type": "code",
   "execution_count": 1,
   "id": "another-hygiene",
   "metadata": {},
   "outputs": [],
   "source": [
    "import pandas as pd\n",
    "import numpy as np\n",
    "import os\n",
    "import glob\n",
    "\n",
    "# functions and libraires from competition github\n",
    "from dataclasses import dataclass\n",
    "from io_f import read_data_file\n",
    "from visualize_f import visualize_heatmap, visualize_trajectory"
   ]
  },
  {
   "cell_type": "code",
   "execution_count": 2,
   "id": "temporal-vampire",
   "metadata": {},
   "outputs": [],
   "source": [
    "def findFilesSpecificFormat(searchDirectory, fileExtension):\n",
    "    fileExtension = f\"*.{fileExtension}\"\n",
    "    matchingFileFormatList = [file\n",
    "                             for path, subdir, files in os.walk(searchDirectory)\n",
    "                             for file in glob.glob(os.path.join(path, fileExtension))]\n",
    "    return matchingFileFormatList"
   ]
  },
  {
   "cell_type": "code",
   "execution_count": 3,
   "id": "supposed-announcement",
   "metadata": {},
   "outputs": [],
   "source": [
    "refFeatureFiles = sorted(findFilesSpecificFormat(\"referencePublicNotebooks/1000Features/train/\", \"csv\"))\n",
    "ownFeatureFiles = sorted(findFilesSpecificFormat(\"referencePublicNotebooks/1000_dtFeatures/\", \"csv\"))"
   ]
  },
  {
   "cell_type": "code",
   "execution_count": 4,
   "id": "cleared-barbados",
   "metadata": {},
   "outputs": [
    {
     "data": {
      "text/plain": [
       "(['referencePublicNotebooks/1000Features/train/5a0546857ecc773753327266_1000_train.csv',\n",
       "  'referencePublicNotebooks/1000Features/train/5c3c44b80379370013e0fd2b_1000_train.csv',\n",
       "  'referencePublicNotebooks/1000Features/train/5d27075f03f801723c2e360f_1000_train.csv'],\n",
       " ['referencePublicNotebooks/1000_dtFeatures/5a0546857ecc773753327266_dtFeat_1000_train.csv',\n",
       "  'referencePublicNotebooks/1000_dtFeatures/5c3c44b80379370013e0fd2b_dtFeat_1000_train.csv',\n",
       "  'referencePublicNotebooks/1000_dtFeatures/5d27075f03f801723c2e360f_dtFeat_1000_train.csv'])"
      ]
     },
     "execution_count": 4,
     "metadata": {},
     "output_type": "execute_result"
    }
   ],
   "source": [
    "refFeatureFiles[0:3], ownFeatureFiles[0:3]"
   ]
  },
  {
   "cell_type": "code",
   "execution_count": 5,
   "id": "extensive-wiring",
   "metadata": {},
   "outputs": [],
   "source": [
    "refDf = pd.read_csv(refFeatureFiles[0])"
   ]
  },
  {
   "cell_type": "code",
   "execution_count": 6,
   "id": "strategic-electric",
   "metadata": {},
   "outputs": [
    {
     "data": {
      "text/plain": [
       "(9296, 946)"
      ]
     },
     "execution_count": 6,
     "metadata": {},
     "output_type": "execute_result"
    }
   ],
   "source": [
    "refDf.shape"
   ]
  },
  {
   "cell_type": "code",
   "execution_count": 7,
   "id": "paperback-server",
   "metadata": {},
   "outputs": [],
   "source": [
    "ownDf = pd.read_csv(ownFeatureFiles[0])"
   ]
  },
  {
   "cell_type": "code",
   "execution_count": 8,
   "id": "legal-smith",
   "metadata": {},
   "outputs": [
    {
     "data": {
      "text/plain": [
       "(9296, 1887)"
      ]
     },
     "execution_count": 8,
     "metadata": {},
     "output_type": "execute_result"
    }
   ],
   "source": [
    "ownDf.shape"
   ]
  },
  {
   "cell_type": "code",
   "execution_count": 16,
   "id": "offensive-recipient",
   "metadata": {},
   "outputs": [],
   "source": [
    "refDfColumns = refDf.columns.values.tolist()[1:-4]\n",
    "ownDfColumns = ownDf.columns.values.tolist()[1:-4]"
   ]
  },
  {
   "cell_type": "code",
   "execution_count": 17,
   "id": "executed-shanghai",
   "metadata": {},
   "outputs": [
    {
     "name": "stdout",
     "output_type": "stream",
     "text": [
      "941\n"
     ]
    }
   ],
   "source": [
    "print(len(refDfColumns))"
   ]
  },
  {
   "cell_type": "code",
   "execution_count": 18,
   "id": "competent-animation",
   "metadata": {},
   "outputs": [
    {
     "data": {
      "text/plain": [
       "1882"
      ]
     },
     "execution_count": 18,
     "metadata": {},
     "output_type": "execute_result"
    }
   ],
   "source": [
    "print(len(ownDfColumns))"
   ]
  },
  {
   "cell_type": "code",
   "execution_count": 44,
   "id": "casual-angola",
   "metadata": {},
   "outputs": [],
   "source": [
    "numCommonFeatures = len(refDfColumns)"
   ]
  },
  {
   "cell_type": "code",
   "execution_count": 42,
   "id": "arabic-forum",
   "metadata": {},
   "outputs": [
    {
     "data": {
      "text/plain": [
       "True"
      ]
     },
     "execution_count": 42,
     "metadata": {},
     "output_type": "execute_result"
    }
   ],
   "source": [
    "# ensures columns are in right order\n",
    "np.array_equal(np.array(refDfColumns), np.array(ownDfColumns[0:941]))"
   ]
  },
  {
   "cell_type": "code",
   "execution_count": 43,
   "id": "alternate-trouble",
   "metadata": {},
   "outputs": [
    {
     "data": {
      "text/plain": [
       "set()"
      ]
     },
     "execution_count": 43,
     "metadata": {},
     "output_type": "execute_result"
    }
   ],
   "source": [
    "# all reference columns are in own df\n",
    "set(refDfColumns) - set(ownDfColumns)"
   ]
  },
  {
   "cell_type": "code",
   "execution_count": 45,
   "id": "collected-reading",
   "metadata": {},
   "outputs": [],
   "source": [
    "refData = refDf.iloc[:,0:numCommonFeatures].to_numpy()"
   ]
  },
  {
   "cell_type": "code",
   "execution_count": 46,
   "id": "wrapped-binary",
   "metadata": {},
   "outputs": [
    {
     "data": {
      "text/plain": [
       "(9296, 941)"
      ]
     },
     "execution_count": 46,
     "metadata": {},
     "output_type": "execute_result"
    }
   ],
   "source": [
    "refData.shape"
   ]
  },
  {
   "cell_type": "code",
   "execution_count": 47,
   "id": "worth-ground",
   "metadata": {},
   "outputs": [],
   "source": [
    "ownData = ownDf.iloc[:,0:numCommonFeatures].to_numpy()"
   ]
  },
  {
   "cell_type": "code",
   "execution_count": 48,
   "id": "driving-april",
   "metadata": {},
   "outputs": [
    {
     "data": {
      "text/plain": [
       "(9296, 941)"
      ]
     },
     "execution_count": 48,
     "metadata": {},
     "output_type": "execute_result"
    }
   ],
   "source": [
    "ownData.shape"
   ]
  },
  {
   "cell_type": "code",
   "execution_count": 49,
   "id": "difficult-viking",
   "metadata": {},
   "outputs": [
    {
     "data": {
      "text/plain": [
       "False"
      ]
     },
     "execution_count": 49,
     "metadata": {},
     "output_type": "execute_result"
    }
   ],
   "source": [
    "np.array_equal(refData, ownData)"
   ]
  },
  {
   "cell_type": "code",
   "execution_count": 32,
   "id": "charged-lafayette",
   "metadata": {},
   "outputs": [
    {
     "data": {
      "text/plain": [
       "array([-999, -999, -999, -999, -999, -999, -999, -999, -999, -999, -999,\n",
       "       -999, -999, -999, -999, -999, -999, -999, -999,  -77, -999, -999,\n",
       "       -999, -999, -999, -999, -999, -999, -999, -999, -999, -999, -999,\n",
       "       -999, -999, -999, -999, -999, -999, -999, -999, -999, -999, -999,\n",
       "       -999, -999, -999, -999, -999, -999, -999, -999, -999, -999, -999,\n",
       "       -999, -999, -999, -999, -999, -999, -999, -999, -999, -999, -999,\n",
       "       -999, -999, -999, -999, -999, -999, -999, -999, -999, -999, -999,\n",
       "        -82, -999, -999, -999, -999, -999, -999,  -91, -999, -999, -999,\n",
       "       -999, -999, -999, -999, -999, -999, -999, -999, -999, -999, -999,\n",
       "       -999, -999, -999, -999, -999, -999, -999, -999, -999, -999, -999,\n",
       "       -999, -999, -999, -999, -999, -999, -999, -999, -999,  -87, -999,\n",
       "       -999,  -76, -999, -999, -999, -999,  -76, -999, -999, -999, -999,\n",
       "       -999, -999, -999, -999, -999,  -82, -999, -999, -999, -999, -999,\n",
       "       -999, -999, -999, -999, -999, -999, -999, -999, -999, -999, -999,\n",
       "       -999, -999, -999, -999, -999, -999, -999, -999, -999, -999, -999,\n",
       "       -999, -999, -999, -999, -999, -999, -999, -999, -999, -999, -999,\n",
       "       -999, -999, -999, -999, -999, -999, -999, -999, -999, -999, -999,\n",
       "       -999, -999, -999, -999, -999, -999, -999, -999, -999, -999, -999,\n",
       "       -999, -999, -999, -999, -999, -999, -999, -999, -999, -999, -999,\n",
       "       -999, -999, -999, -999, -999, -999, -999, -999, -999, -999, -999,\n",
       "       -999, -999, -999, -999, -999, -999, -999, -999, -999, -999, -999,\n",
       "       -999, -999, -999, -999, -999, -999, -999, -999, -999,  -86, -999,\n",
       "       -999, -999, -999, -999, -999,  -77, -999, -999, -999, -999, -999,\n",
       "       -999, -999, -999, -999, -999, -999,  -82,  -43, -999, -999, -999,\n",
       "       -999, -999, -999, -999, -999, -999, -999, -999, -999, -999, -999,\n",
       "       -999, -999, -999, -999, -999, -999, -999, -999, -999,  -86, -999,\n",
       "       -999, -999, -999, -999,  -80, -999, -999, -999, -999, -999, -999,\n",
       "       -999, -999, -999, -999, -999, -999, -999, -999, -999, -999, -999,\n",
       "       -999, -999,  -83, -999, -999, -999, -999, -999, -999, -999, -999,\n",
       "       -999, -999, -999, -999, -999, -999, -999, -999, -999, -999, -999,\n",
       "       -999, -999, -999, -999, -999, -999, -999, -999, -999, -999, -999,\n",
       "       -999,  -82, -999, -999, -999, -999, -999, -999, -999, -999, -999,\n",
       "       -999, -999, -999, -999, -999, -999,  -81, -999, -999, -999, -999,\n",
       "       -999, -999, -999, -999, -999, -999, -999, -999, -999, -999, -999,\n",
       "       -999, -999, -999, -999, -999, -999, -999, -999, -999, -999, -999,\n",
       "       -999, -999, -999, -999, -999, -999, -999, -999, -999, -999, -999,\n",
       "       -999, -999, -999, -999, -999, -999, -999, -999, -999, -999, -999,\n",
       "       -999, -999, -999, -999, -999, -999, -999, -999, -999, -999, -999,\n",
       "       -999, -999, -999, -999, -999,  -87, -999, -999, -999, -999, -999,\n",
       "       -999, -999, -999, -999, -999, -999, -999, -999, -999, -999, -999,\n",
       "       -999, -999, -999, -999, -999, -999, -999, -999, -999, -999, -999,\n",
       "       -999, -999, -999, -999, -999, -999, -999, -999, -999, -999, -999,\n",
       "       -999, -999, -999, -999, -999, -999, -999, -999, -999, -999, -999,\n",
       "       -999, -999, -999, -999,  -74, -999, -999, -999, -999, -999, -999,\n",
       "        -63, -999, -999, -999, -999, -999, -999, -999, -999, -999, -999,\n",
       "       -999, -999, -999, -999, -999, -999, -999, -999, -999, -999, -999,\n",
       "        -82, -999, -999, -999, -999, -999, -999, -999, -999, -999, -999,\n",
       "       -999, -999, -999, -999, -999, -999, -999, -999, -999, -999, -999,\n",
       "       -999,  -82, -999, -999, -999, -999, -999, -999, -999, -999, -999,\n",
       "       -999, -999, -999, -999, -999, -999, -999, -999, -999, -999, -999,\n",
       "       -999, -999, -999, -999, -999, -999,  -82, -999, -999, -999, -999,\n",
       "       -999, -999, -999, -999, -999, -999, -999, -999, -999, -999, -999,\n",
       "       -999, -999, -999, -999, -999, -999, -999, -999, -999, -999, -999,\n",
       "       -999, -999, -999, -999, -999, -999, -999, -999, -999, -999, -999,\n",
       "       -999,  -80, -999, -999, -999, -999, -999, -999, -999, -999, -999,\n",
       "       -999, -999, -999, -999, -999, -999, -999, -999, -999, -999, -999,\n",
       "       -999, -999, -999,  -90, -999, -999, -999, -999, -999, -999, -999,\n",
       "       -999, -999, -999, -999, -999, -999, -999, -999, -999, -999, -999,\n",
       "       -999, -999, -999, -999,  -87, -999, -999, -999, -999, -999, -999,\n",
       "       -999, -999, -999, -999, -999, -999, -999, -999, -999, -999, -999,\n",
       "       -999, -999, -999, -999, -999, -999,  -90, -999,  -86, -999, -999,\n",
       "       -999, -999, -999, -999, -999, -999, -999, -999, -999, -999, -999,\n",
       "       -999, -999, -999, -999, -999, -999, -999,  -77, -999, -999,  -76,\n",
       "       -999, -999, -999, -999, -999, -999, -999, -999, -999, -999, -999,\n",
       "       -999, -999, -999, -999, -999, -999, -999, -999,  -82, -999, -999,\n",
       "       -999, -999, -999, -999, -999, -999, -999, -999, -999, -999, -999,\n",
       "       -999, -999, -999, -999, -999, -999, -999, -999, -999, -999, -999,\n",
       "       -999, -999, -999, -999, -999, -999,  -86,  -86, -999, -999, -999,\n",
       "       -999, -999, -999, -999,  -92, -999, -999, -999, -999, -999, -999,\n",
       "       -999, -999, -999, -999, -999, -999, -999, -999, -999, -999, -999,\n",
       "       -999, -999, -999, -999, -999, -999, -999, -999, -999, -999, -999,\n",
       "       -999, -999, -999, -999, -999, -999,  -76, -999, -999, -999, -999,\n",
       "       -999, -999, -999, -999, -999, -999,  -85, -999, -999, -999, -999,\n",
       "       -999, -999, -999, -999, -999, -999, -999, -999, -999, -999, -999,\n",
       "       -999, -999, -999, -999, -999, -999, -999, -999, -999, -999, -999,\n",
       "       -999, -999, -999, -999, -999, -999, -999, -999, -999, -999, -999,\n",
       "       -999, -999, -999, -999, -999, -999, -999, -999, -999, -999, -999,\n",
       "       -999, -999, -999, -999, -999, -999, -999, -999, -999, -999, -999,\n",
       "       -999, -999, -999, -999,  -88, -999, -999, -999, -999, -999, -999,\n",
       "       -999, -999, -999, -999, -999, -999, -999, -999, -999, -999, -999,\n",
       "       -999, -999, -999, -999, -999, -999, -999, -999, -999, -999, -999,\n",
       "       -999,  -82, -999, -999, -999, -999, -999, -999, -999, -999,  -88,\n",
       "       -999, -999, -999,  -77, -999, -999, -999, -999, -999, -999, -999,\n",
       "       -999, -999, -999, -999, -999, -999, -999, -999, -999,  -86, -999,\n",
       "       -999, -999, -999, -999, -999, -999, -999, -999, -999, -999, -999,\n",
       "       -999, -999, -999, -999, -999, -999])"
      ]
     },
     "execution_count": 32,
     "metadata": {},
     "output_type": "execute_result"
    }
   ],
   "source": [
    "ownData[0,:] < "
   ]
  },
  {
   "cell_type": "code",
   "execution_count": 54,
   "id": "disabled-bahamas",
   "metadata": {},
   "outputs": [
    {
     "data": {
      "text/plain": [
       "array([  4, -78, -90, -84, -88, -89, -90, -86, -84, -87, -85, -86, -84])"
      ]
     },
     "execution_count": 54,
     "metadata": {},
     "output_type": "execute_result"
    }
   ],
   "source": [
    "refData[0,np.where(refData[0,:] > -900)[0]]"
   ]
  },
  {
   "cell_type": "code",
   "execution_count": 55,
   "id": "dying-mechanics",
   "metadata": {},
   "outputs": [
    {
     "data": {
      "text/plain": [
       "array([  4, -77, -82, -91, -87, -76, -76, -82, -86, -77, -82, -43, -86,\n",
       "       -80, -83, -82, -81, -87, -74, -63, -82, -82, -82, -80, -90, -87,\n",
       "       -90, -86, -77, -76, -82, -86, -86, -92, -76, -85, -88, -82, -88,\n",
       "       -77, -86])"
      ]
     },
     "execution_count": 55,
     "metadata": {},
     "output_type": "execute_result"
    }
   ],
   "source": [
    "ownData[0,np.where(ownData[0,0:941] > -900)[0]]"
   ]
  }
 ],
 "metadata": {
  "kernelspec": {
   "display_name": "kaggle",
   "language": "python",
   "name": "kaggle"
  },
  "language_info": {
   "codemirror_mode": {
    "name": "ipython",
    "version": 3
   },
   "file_extension": ".py",
   "mimetype": "text/x-python",
   "name": "python",
   "nbconvert_exporter": "python",
   "pygments_lexer": "ipython3",
   "version": "3.8.8"
  }
 },
 "nbformat": 4,
 "nbformat_minor": 5
}
