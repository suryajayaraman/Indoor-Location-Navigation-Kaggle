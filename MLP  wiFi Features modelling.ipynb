{
 "cells": [
  {
   "cell_type": "markdown",
   "id": "reduced-master",
   "metadata": {
    "papermill": {
     "duration": 0.036151,
     "end_time": "2021-05-02T08:27:00.577292",
     "exception": false,
     "start_time": "2021-05-02T08:27:00.541141",
     "status": "completed"
    },
    "tags": []
   },
   "source": [
    "## Library imports"
   ]
  },
  {
   "cell_type": "code",
   "execution_count": 1,
   "id": "allied-nickel",
   "metadata": {
    "execution": {
     "iopub.execute_input": "2021-05-02T08:27:00.654161Z",
     "iopub.status.busy": "2021-05-02T08:27:00.652258Z",
     "iopub.status.idle": "2021-05-02T08:27:00.655528Z",
     "shell.execute_reply": "2021-05-02T08:27:00.654900Z"
    },
    "papermill": {
     "duration": 0.045941,
     "end_time": "2021-05-02T08:27:00.655705",
     "exception": false,
     "start_time": "2021-05-02T08:27:00.609764",
     "status": "completed"
    },
    "tags": []
   },
   "outputs": [],
   "source": [
    "## !rm -rf /kaggle/working/*"
   ]
  },
  {
   "cell_type": "code",
   "execution_count": 2,
   "id": "dried-composite",
   "metadata": {
    "execution": {
     "iopub.execute_input": "2021-05-02T08:27:00.725871Z",
     "iopub.status.busy": "2021-05-02T08:27:00.725017Z",
     "iopub.status.idle": "2021-05-02T08:27:17.794634Z",
     "shell.execute_reply": "2021-05-02T08:27:17.793841Z"
    },
    "papermill": {
     "duration": 17.106883,
     "end_time": "2021-05-02T08:27:17.794797",
     "exception": false,
     "start_time": "2021-05-02T08:27:00.687914",
     "status": "completed"
    },
    "tags": []
   },
   "outputs": [
    {
     "name": "stdout",
     "output_type": "stream",
     "text": [
      "Collecting pickle5\r\n",
      "  Downloading pickle5-0.0.11.tar.gz (132 kB)\r\n",
      "\u001b[K     |████████████████████████████████| 132 kB 889 kB/s \r\n",
      "\u001b[?25hBuilding wheels for collected packages: pickle5\r\n",
      "  Building wheel for pickle5 (setup.py) ... \u001b[?25l-\b \b\\\b \b|\b \b/\b \bdone\r\n",
      "\u001b[?25h  Created wheel for pickle5: filename=pickle5-0.0.11-cp37-cp37m-linux_x86_64.whl size=245931 sha256=40b5fb67b0e3b78a8472c9a9b84d11f1a05836cfe6902084c92a2a89d93d2e1d\r\n",
      "  Stored in directory: /root/.cache/pip/wheels/7e/6a/00/67136a90d6aca437d806d1d3cedf98106e840c97a3e5188198\r\n",
      "Successfully built pickle5\r\n",
      "Installing collected packages: pickle5\r\n",
      "Successfully installed pickle5-0.0.11\r\n"
     ]
    }
   ],
   "source": [
    "!pip install pickle5"
   ]
  },
  {
   "cell_type": "code",
   "execution_count": 3,
   "id": "sixth-label",
   "metadata": {
    "execution": {
     "iopub.execute_input": "2021-05-02T08:27:17.892386Z",
     "iopub.status.busy": "2021-05-02T08:27:17.887183Z",
     "iopub.status.idle": "2021-05-02T08:27:23.142682Z",
     "shell.execute_reply": "2021-05-02T08:27:23.141370Z"
    },
    "papermill": {
     "duration": 5.306148,
     "end_time": "2021-05-02T08:27:23.142864",
     "exception": false,
     "start_time": "2021-05-02T08:27:17.836716",
     "status": "completed"
    },
    "tags": []
   },
   "outputs": [],
   "source": [
    "# basic imports\n",
    "import os\n",
    "import gc\n",
    "import math\n",
    "import glob\n",
    "import random\n",
    "import itertools\n",
    "import numpy as np\n",
    "import pandas as pd\n",
    "import pickle5 as pickle\n",
    "from tqdm.notebook import tqdm\n",
    "\n",
    "# DL library imports\n",
    "import torch\n",
    "import torch.nn as nn\n",
    "import torch.nn.functional as F\n",
    "import torchvision\n",
    "import torch.optim as optim\n",
    "from torch.utils.data import Dataset, DataLoader\n",
    "from torch.optim.lr_scheduler import CosineAnnealingWarmRestarts, CosineAnnealingLR, ReduceLROnPlateau\n",
    "from  torch.cuda.amp import autocast, GradScaler\n",
    "\n",
    "# metrics calculation\n",
    "from sklearn.preprocessing import StandardScaler\n",
    "from sklearn.model_selection import GroupKFold\n",
    "\n",
    "# basic plotting library\n",
    "import matplotlib.pyplot as plt\n",
    "\n",
    "# interactive plots\n",
    "import plotly.express as px\n",
    "import plotly.graph_objects as go\n",
    "from plotly.subplots import make_subplots\n",
    "from plotly.offline import iplot\n",
    "\n",
    "import warnings  \n",
    "warnings.filterwarnings('ignore')"
   ]
  },
  {
   "cell_type": "markdown",
   "id": "subject-checklist",
   "metadata": {
    "papermill": {
     "duration": 0.036584,
     "end_time": "2021-05-02T08:27:23.216694",
     "exception": false,
     "start_time": "2021-05-02T08:27:23.180110",
     "status": "completed"
    },
    "tags": []
   },
   "source": [
    "## Config parameters"
   ]
  },
  {
   "cell_type": "code",
   "execution_count": 4,
   "id": "offensive-spyware",
   "metadata": {
    "execution": {
     "iopub.execute_input": "2021-05-02T08:27:23.300148Z",
     "iopub.status.busy": "2021-05-02T08:27:23.299195Z",
     "iopub.status.idle": "2021-05-02T08:27:23.302604Z",
     "shell.execute_reply": "2021-05-02T08:27:23.303250Z"
    },
    "papermill": {
     "duration": 0.05021,
     "end_time": "2021-05-02T08:27:23.303416",
     "exception": false,
     "start_time": "2021-05-02T08:27:23.253206",
     "status": "completed"
    },
    "tags": []
   },
   "outputs": [],
   "source": [
    "class CFG:\n",
    "    # pipeline parameters\n",
    "    SEED        = 42\n",
    "    TRAIN       = True\n",
    "    LR_FIND     = False\n",
    "    TEST        = False\n",
    "    N_FOLDS     = 5 \n",
    "    N_EPOCHS    = 50\n",
    "    TEST_BATCH_SIZE  = 128\n",
    "    TRAIN_BATCH_SIZE = 32\n",
    "    NUM_WORKERS      = 4\n",
    "    DATA_FRAC        = 1.0\n",
    "    FOLD_TO_TRAIN    = [0, 1, 2, 3, 4] # \n",
    "\n",
    "    # model parameters\n",
    "    MODEL_ARCH  = 'MLP'\n",
    "    MODEL_NAME  = 'mlp_v9'\n",
    "    WGT_PATH    = ''\n",
    "    WGT_MODEL   = ''\n",
    "    PRINT_N_EPOCH = 2\n",
    "    \n",
    "    # scheduler variables\n",
    "    MAX_LR    = 1e-2\n",
    "    MIN_LR    = 1e-5\n",
    "    SCHEDULER = 'CosineAnnealingWarmRestarts'  # ['ReduceLROnPlateau', 'None', OneCycleLR','CosineAnnealingLR']\n",
    "    T_0       = 10     # CosineAnnealingWarmRestarts\n",
    "    T_MULT    = 2      # CosineAnnealingWarmRestarts\n",
    "    T_MAX     = 10      # CosineAnnealingLR\n",
    "\n",
    "    # optimizer variables\n",
    "    OPTIMIZER     = 'Adam'\n",
    "    WEIGHT_DECAY  = 1e-6\n",
    "    GRD_ACC_STEPS = 1\n",
    "    MAX_GRD_NORM  = 2\n",
    "\n",
    "    # features parameters\n",
    "    USE_FREQ_FEATS = False\n",
    "    USE_DT_FEATS   = False\n",
    "    \n",
    "    BUILDING_SITES_RANGE = [0,1]"
   ]
  },
  {
   "cell_type": "code",
   "execution_count": 5,
   "id": "sexual-arrangement",
   "metadata": {
    "execution": {
     "iopub.execute_input": "2021-05-02T08:27:23.384237Z",
     "iopub.status.busy": "2021-05-02T08:27:23.383289Z",
     "iopub.status.idle": "2021-05-02T08:27:23.387034Z",
     "shell.execute_reply": "2021-05-02T08:27:23.386467Z"
    },
    "papermill": {
     "duration": 0.047098,
     "end_time": "2021-05-02T08:27:23.387159",
     "exception": false,
     "start_time": "2021-05-02T08:27:23.340061",
     "status": "completed"
    },
    "tags": []
   },
   "outputs": [],
   "source": [
    "floor_map = {\"B2\": -2, \"B1\": -1, \"F1\": 0, \"F2\": 1, \"F3\": 2, \"F4\": 3, \"F5\": 4, \"F6\": 5, \"F7\": 6, \"F8\": 7, \"F9\": 8,\n",
    "             \"1F\": 0, \"2F\": 1, \"3F\": 2, \"4F\": 3, \"5F\": 4, \"6F\": 5, \"7F\": 6, \"8F\": 7, \"9F\": 8}\n",
    "\n",
    "minCount = 1\n",
    "freqFillerValue = 0\n",
    "rssiFillerValue = -999.0\n",
    "dtFillerValue   = 1000.0\n",
    "modelOutputDir = '.'\n",
    "wifiFeaturesDir_train = '../input/idln-mlp-wifi-features-dataset/wiFiFeatures/train'\n",
    "wifiFeaturesDir_test  = '../input/idln-mlp-wifi-features-dataset/wiFiFeatures/test'\n",
    "sampleCsvPath = '../input/indoor-location-navigation/sample_submission.csv'"
   ]
  },
  {
   "cell_type": "markdown",
   "id": "ultimate-basis",
   "metadata": {
    "papermill": {
     "duration": 0.03561,
     "end_time": "2021-05-02T08:27:23.458864",
     "exception": false,
     "start_time": "2021-05-02T08:27:23.423254",
     "status": "completed"
    },
    "tags": []
   },
   "source": [
    "## Helper functions"
   ]
  },
  {
   "cell_type": "code",
   "execution_count": 6,
   "id": "consolidated-installation",
   "metadata": {
    "execution": {
     "iopub.execute_input": "2021-05-02T08:27:23.537528Z",
     "iopub.status.busy": "2021-05-02T08:27:23.536500Z",
     "iopub.status.idle": "2021-05-02T08:27:23.540218Z",
     "shell.execute_reply": "2021-05-02T08:27:23.539699Z"
    },
    "papermill": {
     "duration": 0.044985,
     "end_time": "2021-05-02T08:27:23.540369",
     "exception": false,
     "start_time": "2021-05-02T08:27:23.495384",
     "status": "completed"
    },
    "tags": []
   },
   "outputs": [],
   "source": [
    "def getBuildingName(buildingDataPath):\n",
    "    return buildingDataPath.split('/')[-1].split('_')[0]"
   ]
  },
  {
   "cell_type": "code",
   "execution_count": 7,
   "id": "acute-salvation",
   "metadata": {
    "execution": {
     "iopub.execute_input": "2021-05-02T08:27:23.619691Z",
     "iopub.status.busy": "2021-05-02T08:27:23.618789Z",
     "iopub.status.idle": "2021-05-02T08:27:23.622643Z",
     "shell.execute_reply": "2021-05-02T08:27:23.622096Z"
    },
    "papermill": {
     "duration": 0.045501,
     "end_time": "2021-05-02T08:27:23.622781",
     "exception": false,
     "start_time": "2021-05-02T08:27:23.577280",
     "status": "completed"
    },
    "tags": []
   },
   "outputs": [],
   "source": [
    "def find_no_of_trainable_params(model):\n",
    "    total_trainable_params = sum(p.numel() for p in model.parameters() if p.requires_grad)\n",
    "    return total_trainable_params"
   ]
  },
  {
   "cell_type": "code",
   "execution_count": 8,
   "id": "fabulous-perspective",
   "metadata": {
    "execution": {
     "iopub.execute_input": "2021-05-02T08:27:23.703169Z",
     "iopub.status.busy": "2021-05-02T08:27:23.702357Z",
     "iopub.status.idle": "2021-05-02T08:27:23.710236Z",
     "shell.execute_reply": "2021-05-02T08:27:23.709513Z"
    },
    "papermill": {
     "duration": 0.051019,
     "end_time": "2021-05-02T08:27:23.710369",
     "exception": false,
     "start_time": "2021-05-02T08:27:23.659350",
     "status": "completed"
    },
    "tags": []
   },
   "outputs": [],
   "source": [
    "def set_seed(seed):\n",
    "    random.seed(seed)\n",
    "    np.random.seed(seed)\n",
    "    os.environ[\"PYTHONHASHSEED\"] = str(seed)\n",
    "    torch.manual_seed(seed)\n",
    "    torch.cuda.manual_seed(seed)\n",
    "    torch.backends.cudnn.deterministic = True\n",
    "\n",
    "set_seed(CFG.SEED)"
   ]
  },
  {
   "cell_type": "code",
   "execution_count": 9,
   "id": "automatic-disorder",
   "metadata": {
    "execution": {
     "iopub.execute_input": "2021-05-02T08:27:23.794791Z",
     "iopub.status.busy": "2021-05-02T08:27:23.793811Z",
     "iopub.status.idle": "2021-05-02T08:27:23.797655Z",
     "shell.execute_reply": "2021-05-02T08:27:23.797083Z"
    },
    "papermill": {
     "duration": 0.050998,
     "end_time": "2021-05-02T08:27:23.797830",
     "exception": false,
     "start_time": "2021-05-02T08:27:23.746832",
     "status": "completed"
    },
    "tags": []
   },
   "outputs": [],
   "source": [
    "\"\"\"\n",
    "#### rssi features is fixed, we can choose to use dt and freq features optionally\n",
    "# Incase freq signal is not needed, use rssi and dt features alone    \n",
    "# There are 5 columns for timestamp, y, pathNames values in csv, reamining are features\n",
    "# total features = 3 * [rssi, dt, freq]\n",
    "# hence unique wifi ids = totalFeatures / 3\n",
    "\"\"\"\n",
    "def getBuildingFeatures(buildingData, dataType):\n",
    "    if dataType == 'train':\n",
    "        buildingData = buildingData.iloc[:,1:-4].values.astype(np.float16)\n",
    "    else:\n",
    "        buildingData = buildingData.iloc[:,1:-1].values.astype(np.float16)\n",
    "    \n",
    "    numBssids = int(buildingData.shape[1] / 3)\n",
    "    ## replace -999 with 99, 1000.0 with 50.0 and scale accordindly\n",
    "    buildingData[buildingData == -999.0] = -99.0\n",
    "    buildingData[buildingData == 1000.0] = 50.0\n",
    "    buildingData[:,0:numBssids]              = buildingData[:,0:numBssids] / 100.0\n",
    "    buildingData[:,numBssids: 2*numBssids]   = buildingData[:,numBssids: 2*numBssids] / 50.0\n",
    "    buildingData[:,2*numBssids: 3*numBssids] = buildingData[:,2*numBssids: 3*numBssids] / 1000.0\n",
    "\n",
    "    if CFG.USE_FREQ_FEATS == True:    \n",
    "        ## use all features\n",
    "        if CFG.USE_DT_FEATS == True:\n",
    "            X = buildingData\n",
    "        ## use rssi and freq features alone\n",
    "        else:\n",
    "            desiredFeatures = list(range(0, numBssids)) + list(range(2*numBssids, 3*numBssids))\n",
    "            X = buildingData[:, desiredFeatures]\n",
    "    else:\n",
    "        ## use only rssi features alone\n",
    "        if CFG.USE_DT_FEATS == True:\n",
    "            X = buildingData[:,0:2*numBssids]\n",
    "        ## use only rssi features alone\n",
    "        else:\n",
    "            X = buildingData[:,0:numBssids]\n",
    "    return X"
   ]
  },
  {
   "cell_type": "code",
   "execution_count": 10,
   "id": "conditional-christianity",
   "metadata": {
    "execution": {
     "iopub.execute_input": "2021-05-02T08:27:23.881059Z",
     "iopub.status.busy": "2021-05-02T08:27:23.880175Z",
     "iopub.status.idle": "2021-05-02T08:27:23.884383Z",
     "shell.execute_reply": "2021-05-02T08:27:23.883789Z"
    },
    "papermill": {
     "duration": 0.049159,
     "end_time": "2021-05-02T08:27:23.884574",
     "exception": false,
     "start_time": "2021-05-02T08:27:23.835415",
     "status": "completed"
    },
    "tags": []
   },
   "outputs": [],
   "source": [
    "def getBuildingData(buildingDataPath):\n",
    "    # read building data \n",
    "    #### data = pd.read_pickle(buildingDataPath)\n",
    "    with open(buildingDataPath, 'rb') as inputFile:\n",
    "        data = pickle.load(inputFile)    \n",
    "    \n",
    "    # use fraction if needed\n",
    "    if CFG.DATA_FRAC < 1:\n",
    "        data = data.sample(frac=CFG.DATA_FRAC).reset_index(drop=True)\n",
    "\n",
    "    # first column is timestamp\n",
    "    timestamps = data.iloc[:,0].values   # np.expand_dims( , ,axis=1)\n",
    "    \n",
    "    # last column is pathFile name\n",
    "    groups = data.iloc[:,-1].values\n",
    "    \n",
    "    # target values are last but 3 columns\n",
    "    y = data.iloc[:,-4:-1].values\n",
    "    X = getBuildingFeatures(data,'train')\n",
    "    del data\n",
    "    gc.collect()\n",
    "    return timestamps,X,y,groups"
   ]
  },
  {
   "cell_type": "code",
   "execution_count": 11,
   "id": "published-eight",
   "metadata": {
    "execution": {
     "iopub.execute_input": "2021-05-02T08:27:23.964318Z",
     "iopub.status.busy": "2021-05-02T08:27:23.963413Z",
     "iopub.status.idle": "2021-05-02T08:27:23.967309Z",
     "shell.execute_reply": "2021-05-02T08:27:23.966787Z"
    },
    "papermill": {
     "duration": 0.045493,
     "end_time": "2021-05-02T08:27:23.967436",
     "exception": false,
     "start_time": "2021-05-02T08:27:23.921943",
     "status": "completed"
    },
    "tags": []
   },
   "outputs": [],
   "source": [
    "def getInputFeatureSize(featureFilesPath):\n",
    "    sampleData = np.load(f\"{npyWifiFeaturesDir}/{featureFilesPath[0]}\")\n",
    "    return len(sampleData)"
   ]
  },
  {
   "cell_type": "code",
   "execution_count": 12,
   "id": "fatal-harvard",
   "metadata": {
    "execution": {
     "iopub.execute_input": "2021-05-02T08:27:24.047821Z",
     "iopub.status.busy": "2021-05-02T08:27:24.046928Z",
     "iopub.status.idle": "2021-05-02T08:27:24.050717Z",
     "shell.execute_reply": "2021-05-02T08:27:24.050144Z"
    },
    "papermill": {
     "duration": 0.047183,
     "end_time": "2021-05-02T08:27:24.050879",
     "exception": false,
     "start_time": "2021-05-02T08:27:24.003696",
     "status": "completed"
    },
    "tags": []
   },
   "outputs": [],
   "source": [
    "def competitionMetric(preds, targets):\n",
    "    \"\"\" The metric used in this competition \"\"\"\n",
    "    # position error\n",
    "    meanPosPredictionError = torch.mean(torch.sqrt(\n",
    "                             torch.square(torch.subtract(preds[:,0], targets[:,0])) + \n",
    "                             torch.square(torch.subtract(preds[:,1], targets[:,1]))))\n",
    "    # error in floor prediction\n",
    "    meanFloorPredictionError = torch.mean(15 * torch.abs(preds[:,2] - targets[:,2]))\n",
    "    return meanPosPredictionError, meanFloorPredictionError"
   ]
  },
  {
   "cell_type": "code",
   "execution_count": 13,
   "id": "extensive-theta",
   "metadata": {
    "execution": {
     "iopub.execute_input": "2021-05-02T08:27:24.132439Z",
     "iopub.status.busy": "2021-05-02T08:27:24.131567Z",
     "iopub.status.idle": "2021-05-02T08:27:24.134658Z",
     "shell.execute_reply": "2021-05-02T08:27:24.135455Z"
    },
    "papermill": {
     "duration": 0.046768,
     "end_time": "2021-05-02T08:27:24.135711",
     "exception": false,
     "start_time": "2021-05-02T08:27:24.088943",
     "status": "completed"
    },
    "tags": []
   },
   "outputs": [],
   "source": [
    "def getOptimizer(model : nn.Module):    \n",
    "    if CFG.OPTIMIZER == 'Adam':\n",
    "        optimizer = optim.Adam(model.parameters(), weight_decay=CFG.WEIGHT_DECAY, lr=CFG.MAX_LR)\n",
    "    else:\n",
    "        optimizer = optim.SGD(model.parameters(), weight_decay=CFG.WEIGHT_DECAY, lr=CFG.MAX_LR, momentum=0.9)\n",
    "    return optimizer"
   ]
  },
  {
   "cell_type": "code",
   "execution_count": 14,
   "id": "spiritual-terrorism",
   "metadata": {
    "execution": {
     "iopub.execute_input": "2021-05-02T08:27:24.219412Z",
     "iopub.status.busy": "2021-05-02T08:27:24.218503Z",
     "iopub.status.idle": "2021-05-02T08:27:24.222265Z",
     "shell.execute_reply": "2021-05-02T08:27:24.221732Z"
    },
    "papermill": {
     "duration": 0.048901,
     "end_time": "2021-05-02T08:27:24.222415",
     "exception": false,
     "start_time": "2021-05-02T08:27:24.173514",
     "status": "completed"
    },
    "tags": []
   },
   "outputs": [],
   "source": [
    "def getScheduler(optimizer, dataloader_train):\n",
    "    if CFG.SCHEDULER == 'OneCycleLR':\n",
    "        scheduler = optim.lr_scheduler.OneCycleLR(optimizer, max_lr= CFG.MAX_LR, epochs = CFG.N_EPOCHS, \n",
    "                          steps_per_epoch = len(dataloader_train), pct_start=0.25, div_factor=10, anneal_strategy='cos')\n",
    "    elif CFG.SCHEDULER == 'CosineAnnealingWarmRestarts':\n",
    "        scheduler = CosineAnnealingWarmRestarts(optimizer, T_0=CFG.T_0, T_mult=CFG.T_MULT, eta_min=CFG.MIN_LR, last_epoch=-1)\n",
    "    elif CFG.SCHEDULER == 'CosineAnnealingLR':\n",
    "        scheduler = CosineAnnealingLR(optimizer, T_max=CFG.T_MAX * len(dataloader_train), eta_min=CFG.MIN_LR, last_epoch=-1)\n",
    "    else:\n",
    "        scheduler = None\n",
    "    return scheduler"
   ]
  },
  {
   "cell_type": "code",
   "execution_count": 15,
   "id": "advised-mixer",
   "metadata": {
    "execution": {
     "iopub.execute_input": "2021-05-02T08:27:24.305470Z",
     "iopub.status.busy": "2021-05-02T08:27:24.304516Z",
     "iopub.status.idle": "2021-05-02T08:27:24.308069Z",
     "shell.execute_reply": "2021-05-02T08:27:24.308706Z"
    },
    "papermill": {
     "duration": 0.048714,
     "end_time": "2021-05-02T08:27:24.308880",
     "exception": false,
     "start_time": "2021-05-02T08:27:24.260166",
     "status": "completed"
    },
    "tags": []
   },
   "outputs": [],
   "source": [
    "def getDataLoader(dataset, datasetType : str):\n",
    "    if datasetType == 'train':\n",
    "        batchSize = CFG.TRAIN_BATCH_SIZE\n",
    "        shuffleDataset = True\n",
    "    else:\n",
    "        batchSize = CFG.TEST_BATCH_SIZE\n",
    "        shuffleDataset = False\n",
    "    \n",
    "    dataLoader = DataLoader(dataset, batch_size= batchSize, shuffle=shuffleDataset,\n",
    "                            num_workers=CFG.NUM_WORKERS, pin_memory=False, drop_last=False)\n",
    "    return dataLoader"
   ]
  },
  {
   "cell_type": "code",
   "execution_count": 16,
   "id": "close-praise",
   "metadata": {
    "execution": {
     "iopub.execute_input": "2021-05-02T08:27:24.394813Z",
     "iopub.status.busy": "2021-05-02T08:27:24.393757Z",
     "iopub.status.idle": "2021-05-02T08:27:24.397891Z",
     "shell.execute_reply": "2021-05-02T08:27:24.397167Z"
    },
    "papermill": {
     "duration": 0.051238,
     "end_time": "2021-05-02T08:27:24.398100",
     "exception": false,
     "start_time": "2021-05-02T08:27:24.346862",
     "status": "completed"
    },
    "tags": []
   },
   "outputs": [],
   "source": [
    "def plotTrainingResults(resultsDf, buildingName):\n",
    "    # subplot to plot\n",
    "    fig = make_subplots(rows=1, cols=1)\n",
    "    colors = [ ('#d32f2f', '#ef5350'), ('#303f9f', '#5c6bc0'), ('#00796b', '#26a69a'),\n",
    "                ('#fbc02d', '#ffeb3b'), ('#5d4037', '#8d6e63')]\n",
    "\n",
    "    # find number of folds input df\n",
    "    numberOfFolds = resultsDf['fold'].nunique()\n",
    "    \n",
    "    # iterate through folds and plot\n",
    "    for i in range(numberOfFolds):\n",
    "        data = resultsDf[resultsDf['fold'] == i]\n",
    "        fig.add_trace(go.Scatter(x=data['epoch'].values, y=data['trainPosLoss'].values,\n",
    "                                mode='lines', visible='legendonly' if i > 0 else True,\n",
    "                                line=dict(color=colors[i][0], width=2),\n",
    "                                name='{}-trainPossLoss-Fold{}'.format(buildingName, i)),row=1, col=1)\n",
    "\n",
    "        fig.add_trace(go.Scatter(x=data['epoch'], y=data['valPosLoss'].values,\n",
    "                                 mode='lines+markers', visible='legendonly' if i > 0 else True,\n",
    "                                 line=dict(color=colors[i][1], width=2),\n",
    "                                 name='{}-valPosLoss-Fold{}'.format(buildingName,i)),row=1, col=1)\n",
    "    fig.show()"
   ]
  },
  {
   "cell_type": "markdown",
   "id": "southern-herald",
   "metadata": {
    "papermill": {
     "duration": 0.037917,
     "end_time": "2021-05-02T08:27:24.473615",
     "exception": false,
     "start_time": "2021-05-02T08:27:24.435698",
     "status": "completed"
    },
    "tags": []
   },
   "source": [
    "## Dataset class"
   ]
  },
  {
   "cell_type": "code",
   "execution_count": 17,
   "id": "promising-preparation",
   "metadata": {
    "execution": {
     "iopub.execute_input": "2021-05-02T08:27:24.560608Z",
     "iopub.status.busy": "2021-05-02T08:27:24.559623Z",
     "iopub.status.idle": "2021-05-02T08:27:24.563655Z",
     "shell.execute_reply": "2021-05-02T08:27:24.563020Z"
    },
    "papermill": {
     "duration": 0.051901,
     "end_time": "2021-05-02T08:27:24.563791",
     "exception": false,
     "start_time": "2021-05-02T08:27:24.511890",
     "status": "completed"
    },
    "tags": []
   },
   "outputs": [],
   "source": [
    "class wiFiFeaturesDataset(Dataset):\n",
    "    def __init__(self, timeStamps, X_data, y_data, groups):\n",
    "        self.timeStamps = timeStamps \n",
    "        self.X_data = X_data\n",
    "        self.y_data = y_data\n",
    "        self.groups = groups\n",
    "        \n",
    "    def __getitem__(self, index):\n",
    "        x  = torch.from_numpy(self.X_data[index].astype(np.float32))\n",
    "        y  = torch.from_numpy(self.y_data[index].astype(np.float32))\n",
    "        ts = self.timeStamps[index].astype(np.int64)\n",
    "        group = self.groups[index]\n",
    "        return ts,x,y,group\n",
    "    \n",
    "    def __len__ (self):\n",
    "        return len(self.X_data)"
   ]
  },
  {
   "cell_type": "code",
   "execution_count": 18,
   "id": "australian-accessory",
   "metadata": {
    "execution": {
     "iopub.execute_input": "2021-05-02T08:27:24.651827Z",
     "iopub.status.busy": "2021-05-02T08:27:24.650651Z",
     "iopub.status.idle": "2021-05-02T08:27:24.654601Z",
     "shell.execute_reply": "2021-05-02T08:27:24.653877Z"
    },
    "papermill": {
     "duration": 0.048838,
     "end_time": "2021-05-02T08:27:24.654760",
     "exception": false,
     "start_time": "2021-05-02T08:27:24.605922",
     "status": "completed"
    },
    "tags": []
   },
   "outputs": [],
   "source": [
    "class wiFiFeaturesDataset_test(Dataset):\n",
    "    def __init__(self, timeStamps, X_data, groups):\n",
    "        self.timeStamps = timeStamps \n",
    "        self.X_data = X_data\n",
    "        self.groups = groups\n",
    "        \n",
    "    def __getitem__(self, index):\n",
    "        x  = torch.from_numpy(self.X_data[index].astype(np.float32))\n",
    "        ts = self.timeStamps[index].astype(np.int64)\n",
    "        group = self.groups[index]\n",
    "        return ts,x,group\n",
    "    \n",
    "    def __len__ (self):\n",
    "        return len(self.X_data)"
   ]
  },
  {
   "cell_type": "markdown",
   "id": "protected-tampa",
   "metadata": {
    "papermill": {
     "duration": 0.038078,
     "end_time": "2021-05-02T08:27:24.732052",
     "exception": false,
     "start_time": "2021-05-02T08:27:24.693974",
     "status": "completed"
    },
    "tags": []
   },
   "source": [
    "## MLP Model class"
   ]
  },
  {
   "cell_type": "code",
   "execution_count": 19,
   "id": "antique-democrat",
   "metadata": {
    "execution": {
     "iopub.execute_input": "2021-05-02T08:27:24.819257Z",
     "iopub.status.busy": "2021-05-02T08:27:24.818334Z",
     "iopub.status.idle": "2021-05-02T08:27:24.822571Z",
     "shell.execute_reply": "2021-05-02T08:27:24.822038Z"
    },
    "papermill": {
     "duration": 0.051432,
     "end_time": "2021-05-02T08:27:24.822708",
     "exception": false,
     "start_time": "2021-05-02T08:27:24.771276",
     "status": "completed"
    },
    "tags": []
   },
   "outputs": [],
   "source": [
    "class wiFiFeaturesMLPModel(nn.Module):\n",
    "    def __init__(self, n_input, n_output):\n",
    "        super().__init__()\n",
    "        self.lin1 = nn.Linear(in_features=n_input, out_features=512)\n",
    "        self.lin2 = nn.Linear(in_features=512,     out_features=32)\n",
    "        self.lin3 = nn.Linear(in_features=32,      out_features=n_output)\n",
    "        self.bn1 = nn.BatchNorm1d(512)\n",
    "        self.bn2 = nn.BatchNorm1d(32)\n",
    "        self.drops = nn.Dropout(0.3)        \n",
    "\n",
    "    def forward(self, x):\n",
    "        numBatches = x.shape[0]\n",
    "        \n",
    "        x = F.relu(self.lin1(x))\n",
    "        x = self.drops(x)\n",
    "        \n",
    "        ## batchnorm doesnt work for batchsize of 1\n",
    "        if numBatches > 1:\n",
    "            x = self.bn1(x)\n",
    "            x = F.relu(self.lin2(x))\n",
    "            x = self.drops(x)\n",
    "            x = self.bn2(x)\n",
    "            x = self.lin3(x)\n",
    "        else:\n",
    "            x = F.relu(self.lin2(x))\n",
    "            x = self.drops(x)\n",
    "            x = self.lin3(x)\n",
    "        return x"
   ]
  },
  {
   "cell_type": "markdown",
   "id": "blank-peoples",
   "metadata": {
    "papermill": {
     "duration": 0.039008,
     "end_time": "2021-05-02T08:27:24.901315",
     "exception": false,
     "start_time": "2021-05-02T08:27:24.862307",
     "status": "completed"
    },
    "tags": []
   },
   "source": [
    "## Lr range finder"
   ]
  },
  {
   "cell_type": "code",
   "execution_count": 20,
   "id": "flying-metadata",
   "metadata": {
    "execution": {
     "iopub.execute_input": "2021-05-02T08:27:24.986390Z",
     "iopub.status.busy": "2021-05-02T08:27:24.985523Z",
     "iopub.status.idle": "2021-05-02T08:27:24.989511Z",
     "shell.execute_reply": "2021-05-02T08:27:24.988927Z"
    },
    "papermill": {
     "duration": 0.049473,
     "end_time": "2021-05-02T08:27:24.989647",
     "exception": false,
     "start_time": "2021-05-02T08:27:24.940174",
     "status": "completed"
    },
    "tags": []
   },
   "outputs": [],
   "source": [
    "def plot_lr_finder_results(lr_finder): \n",
    "    # Create subplot grid\n",
    "    fig = make_subplots(rows=1, cols=2)\n",
    "    # layout ={'title': 'Lr_finder_result'}\n",
    "    \n",
    "    # Create a line (trace) for the lr vs loss, gradient of loss\n",
    "    trace0 = go.Scatter(x=lr_finder['log_lr'], y=lr_finder['smooth_loss'],name='log_lr vs smooth_loss')\n",
    "    trace1 = go.Scatter(x=lr_finder['log_lr'], y=lr_finder['grad_loss'],name='log_lr vs loss gradient')\n",
    "\n",
    "    # Add subplot trace & assign to each grid\n",
    "    fig.add_trace(trace0, row=1, col=1);\n",
    "    fig.add_trace(trace1, row=1, col=2);\n",
    "    iplot(fig, show_link=False)\n",
    "    #fig.write_html(CFG.MODEL_NAME + '_lr_find.html');"
   ]
  },
  {
   "cell_type": "code",
   "execution_count": 21,
   "id": "bearing-bedroom",
   "metadata": {
    "execution": {
     "iopub.execute_input": "2021-05-02T08:27:25.083530Z",
     "iopub.status.busy": "2021-05-02T08:27:25.082577Z",
     "iopub.status.idle": "2021-05-02T08:27:25.086681Z",
     "shell.execute_reply": "2021-05-02T08:27:25.086097Z"
    },
    "papermill": {
     "duration": 0.058432,
     "end_time": "2021-05-02T08:27:25.086821",
     "exception": false,
     "start_time": "2021-05-02T08:27:25.028389",
     "status": "completed"
    },
    "tags": []
   },
   "outputs": [],
   "source": [
    "def find_lr(model, optimizer, data_loader, init_value = 1e-8, final_value=100.0, beta = 0.98, num_batches = 200):\n",
    "    assert(num_batches > 0)\n",
    "    mult = (final_value / init_value) ** (1/num_batches)\n",
    "    lr = init_value\n",
    "    optimizer.param_groups[0]['lr'] = lr\n",
    "    batch_num = 0\n",
    "    avg_loss = 0.0\n",
    "    best_loss = 0.0\n",
    "    smooth_losses = []\n",
    "    raw_losses = []\n",
    "    log_lrs = []\n",
    "    dataloader_it = iter(data_loader)\n",
    "    progress_bar = tqdm(range(num_batches))                \n",
    "        \n",
    "    for idx in progress_bar:\n",
    "        batch_num += 1\n",
    "        try:\n",
    "            _, inputs, targets = next(dataloader_it)\n",
    "            #print(images.shape)\n",
    "        except:\n",
    "            dataloader_it = iter(data_loader)\n",
    "            _, inputs, targets = next(dataloader_it)\n",
    "\n",
    "        # Move input and label tensors to the default device\n",
    "        inputs = inputs.to(device)\n",
    "        targets = targets.to(device)\n",
    "\n",
    "        # handle exception in criterion\n",
    "        try:\n",
    "            # Forward pass\n",
    "            y_preds = model(inputs)\n",
    "            posLoss, floorLoss = criterion(y_preds, targets)\n",
    "            loss = posLoss + floorLoss\n",
    "        except:\n",
    "            if len(smooth_losses) > 1:\n",
    "                grad_loss = np.gradient(smooth_losses)\n",
    "            else:\n",
    "                grad_loss = 0.0\n",
    "            lr_finder_results = {'log_lr':log_lrs, 'raw_loss':raw_losses, \n",
    "                                 'smooth_loss':smooth_losses, 'grad_loss': grad_loss}\n",
    "            return lr_finder_results \n",
    "                    \n",
    "        #Compute the smoothed loss\n",
    "        avg_loss = beta * avg_loss + (1-beta) *loss.item()\n",
    "        smoothed_loss = avg_loss / (1 - beta**batch_num)\n",
    "        \n",
    "        #Stop if the loss is exploding\n",
    "        if batch_num > 1 and smoothed_loss > 50 * best_loss:\n",
    "            if len(smooth_losses) > 1:\n",
    "                grad_loss = np.gradient(smooth_losses)\n",
    "            else:\n",
    "                grad_loss = 0.0\n",
    "            lr_finder_results = {'log_lr':log_lrs, 'raw_loss':raw_losses, \n",
    "                                 'smooth_loss':smooth_losses, 'grad_loss': grad_loss}\n",
    "            return lr_finder_results\n",
    "        \n",
    "        #Record the best loss\n",
    "        if smoothed_loss < best_loss or batch_num==1:\n",
    "            best_loss = smoothed_loss\n",
    "        \n",
    "        #Store the values\n",
    "        raw_losses.append(loss.item())\n",
    "        smooth_losses.append(smoothed_loss)\n",
    "        log_lrs.append(math.log10(lr))\n",
    "        \n",
    "        # Backward pass\n",
    "        optimizer.zero_grad()\n",
    "        loss.backward()\n",
    "        optimizer.step()\n",
    "        \n",
    "        # print info\n",
    "        progress_bar.set_description(f\"loss:{loss.item()},smoothLoss: {smoothed_loss},lr:{lr}\")\n",
    "\n",
    "        #Update the lr for the next step\n",
    "        lr *= mult\n",
    "        optimizer.param_groups[0]['lr'] = lr\n",
    "    \n",
    "    grad_loss = np.gradient(smooth_losses)\n",
    "    lr_finder_results = {'log_lr':log_lrs, 'raw_loss':raw_losses, \n",
    "                         'smooth_loss':smooth_losses, 'grad_loss': grad_loss}\n",
    "    return lr_finder_results"
   ]
  },
  {
   "cell_type": "code",
   "execution_count": 22,
   "id": "latin-encounter",
   "metadata": {
    "execution": {
     "iopub.execute_input": "2021-05-02T08:27:25.173870Z",
     "iopub.status.busy": "2021-05-02T08:27:25.172872Z",
     "iopub.status.idle": "2021-05-02T08:27:25.176794Z",
     "shell.execute_reply": "2021-05-02T08:27:25.176197Z"
    },
    "papermill": {
     "duration": 0.050482,
     "end_time": "2021-05-02T08:27:25.176927",
     "exception": false,
     "start_time": "2021-05-02T08:27:25.126445",
     "status": "completed"
    },
    "tags": []
   },
   "outputs": [],
   "source": [
    "if CFG.LR_FIND == True:\n",
    "    # create dataset instance\n",
    "    tempTs, tempX, tempY,_ = getBuildingData(buildingCsvPath=buildingsList[0])\n",
    "    tempX = stdScaler.fit_transform(tempX)\n",
    "    tempTrainDataset = wiFiFeaturesDataset(tempTs, tempX, tempY)\n",
    "    tempTrainDataloader = DataLoader(tempTrainDataset, batch_size= CFG.TRAIN_BATCH_SIZE, shuffle=True,\n",
    "                          num_workers=CFG.NUM_WORKERS, pin_memory=False, drop_last=False)\n",
    "    \n",
    "    # create model instance   \n",
    "    model = wiFiFeaturesMLPModel(n_input=tempX.shape[1], n_output=3)\n",
    "    model.to(device);\n",
    "    \n",
    "    # optimizer function, lr schedulers and loss function\n",
    "    optimizer = getOptimizer(model)\n",
    "    lrFinderResults = find_lr(model, optimizer, tempTrainDataloader)\n",
    "    plot_lr_finder_results(lrFinderResults)\n",
    "    del tempX, tempY, tempTrainDataset, tempTrainDataloader, model, optimizer"
   ]
  },
  {
   "cell_type": "markdown",
   "id": "liable-listening",
   "metadata": {
    "papermill": {
     "duration": 0.039875,
     "end_time": "2021-05-02T08:27:25.256008",
     "exception": false,
     "start_time": "2021-05-02T08:27:25.216133",
     "status": "completed"
    },
    "tags": []
   },
   "source": [
    "## Train & Validate helper functions"
   ]
  },
  {
   "cell_type": "code",
   "execution_count": 23,
   "id": "dressed-worst",
   "metadata": {
    "execution": {
     "iopub.execute_input": "2021-05-02T08:27:25.345628Z",
     "iopub.status.busy": "2021-05-02T08:27:25.344651Z",
     "iopub.status.idle": "2021-05-02T08:27:25.348672Z",
     "shell.execute_reply": "2021-05-02T08:27:25.348148Z"
    },
    "papermill": {
     "duration": 0.053134,
     "end_time": "2021-05-02T08:27:25.348809",
     "exception": false,
     "start_time": "2021-05-02T08:27:25.295675",
     "status": "completed"
    },
    "tags": []
   },
   "outputs": [],
   "source": [
    "def validateModel(model, validationDataloader):\n",
    "    # placeholders to store output\n",
    "    val_ts = []\n",
    "    val_preds = []\n",
    "    val_targets = []\n",
    "    val_groups = []\n",
    "\n",
    "    # set model to Validate mode\n",
    "    model.eval()\n",
    "    dataLoaderIterator = iter(validationDataloader)\n",
    "\n",
    "    for idx in range(len(validationDataloader)):\n",
    "        try:\n",
    "            ts, inputs, targets, valGroups = next(dataLoaderIterator)\n",
    "        except StopIteration:\n",
    "            dataLoaderIterator = iter(validationDataloader)\n",
    "            ts, inputs, targets, valGroups = next(dataLoaderIterator)\n",
    "\n",
    "        inputs = inputs.to(device)\n",
    "        targets = targets.to(device) \n",
    "\n",
    "        # forward prediction\n",
    "        with torch.no_grad():    \n",
    "            y_preds = model(inputs)\n",
    "\n",
    "        # store predictions and targets to compute metrics later\n",
    "        val_ts.append(ts)\n",
    "        val_preds.append(y_preds)\n",
    "        val_targets.append(targets)\n",
    "        val_groups.append(valGroups)\n",
    "\n",
    "    # concatenate to get as 1 2d array and find total loss  \n",
    "    val_preds = torch.cat(val_preds, 0)\n",
    "    val_targets = torch.cat(val_targets, 0)\n",
    "    valPosLoss, valFloorLoss = criterion(val_preds, val_targets)\n",
    "    valScore = valPosLoss + valFloorLoss\n",
    "\n",
    "    # np array concatenation\n",
    "    val_ts = np.concatenate(val_ts, axis=0)\n",
    "    val_groups = np.concatenate(val_groups, axis=0)\n",
    "    \n",
    "    # store results\n",
    "    validationResults = {'valPosLoss': valPosLoss.item() , 'valFloorLoss': valFloorLoss.item(),\\\n",
    "                         'val_ts': val_ts, 'val_groups': val_groups,\n",
    "                         'val_preds'  :val_preds.cpu().data.numpy(), \n",
    "                         'val_targets':val_targets.cpu().data.numpy(),\n",
    "                         }\n",
    "    return validationResults"
   ]
  },
  {
   "cell_type": "code",
   "execution_count": 24,
   "id": "surprising-greensboro",
   "metadata": {
    "execution": {
     "iopub.execute_input": "2021-05-02T08:27:25.441351Z",
     "iopub.status.busy": "2021-05-02T08:27:25.440341Z",
     "iopub.status.idle": "2021-05-02T08:27:25.444350Z",
     "shell.execute_reply": "2021-05-02T08:27:25.443665Z"
    },
    "papermill": {
     "duration": 0.057102,
     "end_time": "2021-05-02T08:27:25.444510",
     "exception": false,
     "start_time": "2021-05-02T08:27:25.387408",
     "status": "completed"
    },
    "tags": []
   },
   "outputs": [],
   "source": [
    "def trainValidateOneFold(buildingName, i_fold, model, optimizer, scheduler, dataloader_train, dataloader_valid):\n",
    "    trainFoldResults = []\n",
    "    bestValScore = np.inf\n",
    "    bestEpoch = 0\n",
    "\n",
    "    for epoch in range(CFG.N_EPOCHS):\n",
    "        #print('Epoch {}/{}'.format(epoch + 1, CFG.N_EPOCHS))\n",
    "        model.train()\n",
    "        trainPosLoss = 0.0\n",
    "        trainFloorLoss = 0.0\n",
    "\n",
    "        # training iterator\n",
    "        tr_iterator = iter(dataloader_train)\n",
    "\n",
    "        for idx in range(len(dataloader_train)):\n",
    "            try:\n",
    "                _, inputs, targets, _ = next(tr_iterator)\n",
    "            except StopIteration:\n",
    "                tr_iterator = iter(dataloader_train)\n",
    "                _, inputs, targets, _ = next(tr_iterator)\n",
    "\n",
    "            inputs = inputs.to(device)\n",
    "            targets = targets.to(device)  \n",
    "\n",
    "            # builtin package to handle automatic mixed precision\n",
    "            with autocast():\n",
    "                # Forward pass\n",
    "                y_preds = model(inputs)   \n",
    "                posLoss, floorLoss = criterion(y_preds, targets)\n",
    "                loss = posLoss + floorLoss\n",
    "\n",
    "                # Backward pass\n",
    "                scaler.scale(loss).backward()        \n",
    "                scaler.step(optimizer)\n",
    "                scaler.update()\n",
    "                optimizer.zero_grad() \n",
    "\n",
    "                # log the necessary losses\n",
    "                trainPosLoss   += posLoss.item()\n",
    "                trainFloorLoss += floorLoss.item()\n",
    "\n",
    "                if scheduler is not None: \n",
    "                    if CFG.SCHEDULER == 'CosineAnnealingWarmRestarts':\n",
    "                        scheduler.step(epoch + idx / len(dataloader_train)) \n",
    "                    # onecyle lr scheduler / CosineAnnealingLR scheduler\n",
    "                    else:\n",
    "                        scheduler.step()\n",
    "                    \n",
    "        # Validate\n",
    "        foldValidationResults = validateModel(model, dataloader_valid)\n",
    "         \n",
    "        # store results\n",
    "        trainFoldResults.append({ 'fold': i_fold, 'epoch': epoch, \n",
    "                                  'trainPosLoss': trainPosLoss / len(dataloader_train), \n",
    "                                  'trainFloorLoss': trainFloorLoss / len(dataloader_train), \n",
    "                                  'valPosLoss'  : foldValidationResults['valPosLoss'] , \n",
    "                                  'valFloorLoss': foldValidationResults['valFloorLoss']})\n",
    "        \n",
    "        valScore = foldValidationResults['valPosLoss'] # + foldVal['valFloorLoss']\n",
    "        # save best models        \n",
    "        if(valScore < bestValScore):\n",
    "            # reset variables\n",
    "            bestValScore = valScore\n",
    "            bestEpoch = epoch\n",
    "\n",
    "            # save model weights\n",
    "            torch.save({'model': model.state_dict(), 'val_ts' : foldValidationResults['val_ts'], \n",
    "                        'val_preds':foldValidationResults['val_preds'], \n",
    "                        'val_targets':foldValidationResults['val_targets'],\n",
    "                        'val_groups' : foldValidationResults['val_groups']}, \n",
    "                        f\"{modelOutputDir}/{buildingName}_{CFG.MODEL_NAME}_fold{i_fold}_best.pth\")\n",
    "\n",
    "    print(f\"For Fold {i_fold}, Best validation score of {bestValScore} was got at epoch {bestEpoch}\") \n",
    "    return trainFoldResults"
   ]
  },
  {
   "cell_type": "code",
   "execution_count": 25,
   "id": "prompt-hardwood",
   "metadata": {
    "execution": {
     "iopub.execute_input": "2021-05-02T08:27:25.538180Z",
     "iopub.status.busy": "2021-05-02T08:27:25.537232Z",
     "iopub.status.idle": "2021-05-02T08:27:25.541356Z",
     "shell.execute_reply": "2021-05-02T08:27:25.540766Z"
    },
    "papermill": {
     "duration": 0.056464,
     "end_time": "2021-05-02T08:27:25.541530",
     "exception": false,
     "start_time": "2021-05-02T08:27:25.485066",
     "status": "completed"
    },
    "tags": []
   },
   "outputs": [],
   "source": [
    "def trainValidateOneBuilding(buildingDataPath, modelToFit):\n",
    "    # placeholder to store results\n",
    "    buildingTrainResults = []\n",
    "    \n",
    "    buildingName = getBuildingName(buildingDataPath)\n",
    "    print(f\"Processing data for building - {buildingName}\")\n",
    "    timestamps, X, y, groups = getBuildingData(buildingDataPath)\n",
    "    print(f\"Building Data shapes : {timestamps.shape, X.shape, y.shape, groups.shape}\")\n",
    "\n",
    "    for i_fold, (trainIndex, validIndex) in enumerate(folds.split(X=X, y=y[:,0],groups=groups)):\n",
    "        if i_fold in CFG.FOLD_TO_TRAIN:\n",
    "            ## print(\"Fold {}/{}\".format(i_fold + 1, CFG.N_FOLDS))\n",
    "            \n",
    "            # splitting into train and validataion sets\n",
    "            trainTimeStamps, X_train, y_train, trainGroups = timestamps[trainIndex], X[trainIndex], y[trainIndex], groups[trainIndex]\n",
    "            validTimeStamps, X_valid, y_valid, validGroups = timestamps[validIndex], X[validIndex], y[validIndex], groups[validIndex] \n",
    "                        \n",
    "            # create torch Datasets and Dataloader for each fold's train and validation data\n",
    "            dataset_train = wiFiFeaturesDataset(trainTimeStamps, X_train, y_train, trainGroups)\n",
    "            dataset_valid = wiFiFeaturesDataset(validTimeStamps, X_valid, y_valid, validGroups)            \n",
    "            dataloader_train = getDataLoader(dataset_train, datasetType= 'train')\n",
    "            dataloader_valid = getDataLoader(dataset_valid, datasetType= 'valid')\n",
    "            \n",
    "            # supervised model instance and move to compute device\n",
    "            model = modelToFit(n_input=X.shape[1], n_output=3)\n",
    "            model.to(device);\n",
    "            ### print(f\"there are {find_no_of_trainable_params(model)} params in model\")\n",
    "\n",
    "            # optimizer function, lr schedulers and loss function\n",
    "            optimizer = getOptimizer(model)\n",
    "            scheduler = getScheduler(optimizer, dataloader_train)\n",
    "            # print(f\"optimizer={optimizer}, scheduler={scheduler}, loss_fn={criterion}\")\n",
    "\n",
    "            # train and validate single fold\n",
    "            foldResults = trainValidateOneFold(buildingName, i_fold, model, optimizer, scheduler,dataloader_train, dataloader_valid)\n",
    "            buildingTrainResults = buildingTrainResults + foldResults\n",
    "            \n",
    "            del trainTimeStamps, X_train, y_train, trainGroups\n",
    "            del validTimeStamps, X_valid, y_valid, validGroups\n",
    "            del dataloader_train, dataloader_valid, model, optimizer, scheduler\n",
    "            gc.collect()\n",
    "    \n",
    "    del timestamps, X, y, groups\n",
    "    gc.collect()\n",
    "    \n",
    "    buildingTrainResults = pd.DataFrame(buildingTrainResults)\n",
    "    buildingTrainResults['valTotalLoss'] = buildingTrainResults['valPosLoss'] + buildingTrainResults['valFloorLoss']\n",
    "    buildingTrainResults['trainTotalLoss'] = buildingTrainResults['trainPosLoss'] + buildingTrainResults['trainFloorLoss']\n",
    "    return buildingTrainResults"
   ]
  },
  {
   "cell_type": "code",
   "execution_count": 26,
   "id": "boolean-health",
   "metadata": {
    "execution": {
     "iopub.execute_input": "2021-05-02T08:27:25.660228Z",
     "iopub.status.busy": "2021-05-02T08:27:25.658909Z",
     "iopub.status.idle": "2021-05-02T08:27:25.676714Z",
     "shell.execute_reply": "2021-05-02T08:27:25.674730Z"
    },
    "papermill": {
     "duration": 0.096554,
     "end_time": "2021-05-02T08:27:25.677282",
     "exception": false,
     "start_time": "2021-05-02T08:27:25.580728",
     "status": "completed"
    },
    "tags": []
   },
   "outputs": [],
   "source": [
    "def getFoldBestResultsDf(trainResults):\n",
    "    bestResults = []\n",
    "    numFolds = trainResults['fold'].nunique()\n",
    "    \n",
    "    for fold in range(numFolds):\n",
    "        foldDf = trainResults[trainResults['fold']== fold]\n",
    "        bestResults.append(foldDf.iloc[np.argmin(foldDf['valTotalLoss'].values),:])\n",
    "    \n",
    "    bestResults =pd.DataFrame(bestResults)\n",
    "    valPosLossBest = bestResults['valPosLoss'].values\n",
    "    print(f\"Best valPosLoss for all folds = {valPosLossBest}\")\n",
    "    print(f\"Mean, std ={valPosLossBest.mean()}, {valPosLossBest.std()}\")\n",
    "    return bestResults"
   ]
  },
  {
   "cell_type": "markdown",
   "id": "humanitarian-freeze",
   "metadata": {
    "papermill": {
     "duration": 0.072485,
     "end_time": "2021-05-02T08:27:25.835367",
     "exception": false,
     "start_time": "2021-05-02T08:27:25.762882",
     "status": "completed"
    },
    "tags": []
   },
   "source": [
    "## Generate OOF function"
   ]
  },
  {
   "cell_type": "code",
   "execution_count": 27,
   "id": "political-offense",
   "metadata": {
    "execution": {
     "iopub.execute_input": "2021-05-02T08:27:25.983438Z",
     "iopub.status.busy": "2021-05-02T08:27:25.982356Z",
     "iopub.status.idle": "2021-05-02T08:27:25.992795Z",
     "shell.execute_reply": "2021-05-02T08:27:25.993438Z"
    },
    "papermill": {
     "duration": 0.089299,
     "end_time": "2021-05-02T08:27:25.993736",
     "exception": false,
     "start_time": "2021-05-02T08:27:25.904437",
     "status": "completed"
    },
    "tags": []
   },
   "outputs": [],
   "source": [
    "def generateOOF(modelSaveDir:str, buildingName:str, modelName:str):\n",
    "    oof_ts = []\n",
    "    oof_preds = []\n",
    "    oof_targets = []\n",
    "    oof_groups = []\n",
    "    oof_folds = []\n",
    "\n",
    "    modelPaths = sorted(glob.glob(f\"{modelSaveDir}/{buildingName}_{modelName}_fold*.pth\"))\n",
    "\n",
    "    for fold in range(len(modelPaths)):\n",
    "        # load building-model-fold checkpoint\n",
    "        checkPoint = torch.load(modelPaths[fold], map_location=torch.device(device))\n",
    "        numRows = len(checkPoint['val_ts'])\n",
    "\n",
    "        oof_ts.append(checkPoint['val_ts'])\n",
    "        oof_preds.append(checkPoint['val_preds'])\n",
    "        oof_targets.append(checkPoint['val_targets'])\n",
    "        oof_groups.append(checkPoint['val_groups'])\n",
    "        oof_folds.append([fold] * numRows)\n",
    "    \n",
    "    oof_ts = np.concatenate(oof_ts,axis=0)\n",
    "    oof_preds = np.concatenate(oof_preds,axis=0)\n",
    "    oof_targets = np.concatenate(oof_targets,axis=0)\n",
    "    oof_groups = np.concatenate(oof_groups,axis=0)\n",
    "    oof_folds = np.concatenate(oof_folds,axis=0)\n",
    "    \n",
    "    #print(oof_ts.shape, oof_preds.shape, oof_targets.shape, oof_groups.shape, oof_folds.shape)\n",
    "    oof_df = pd.DataFrame({'timestamp' : oof_ts, 'x_preds': oof_preds[:,0], 'y_preds': oof_preds[:,1],\n",
    "                       'floor_preds': oof_preds[:,2], 'x_tgt': oof_targets[:,0], 'y_tgt': oof_targets[:,1],\n",
    "                       'floor_tgt': oof_targets[:,2], 'path' : oof_groups, 'fold' : oof_folds\n",
    "                      })\n",
    "    print(f\"OOF prediction for {buildingName} site generated\")\n",
    "    return oof_df"
   ]
  },
  {
   "cell_type": "markdown",
   "id": "excess-dylan",
   "metadata": {
    "papermill": {
     "duration": 0.066146,
     "end_time": "2021-05-02T08:27:26.127091",
     "exception": false,
     "start_time": "2021-05-02T08:27:26.060945",
     "status": "completed"
    },
    "tags": []
   },
   "source": [
    "## Test set prediction function"
   ]
  },
  {
   "cell_type": "code",
   "execution_count": 28,
   "id": "unnecessary-strengthening",
   "metadata": {
    "execution": {
     "iopub.execute_input": "2021-05-02T08:27:26.283402Z",
     "iopub.status.busy": "2021-05-02T08:27:26.282708Z",
     "iopub.status.idle": "2021-05-02T08:27:26.307738Z",
     "shell.execute_reply": "2021-05-02T08:27:26.308586Z"
    },
    "papermill": {
     "duration": 0.113737,
     "end_time": "2021-05-02T08:27:26.308859",
     "exception": false,
     "start_time": "2021-05-02T08:27:26.195122",
     "status": "completed"
    },
    "tags": []
   },
   "outputs": [],
   "source": [
    "def generateWiFiSubmission(modelToFit, modelSaveDir:str, buildingName:str, modelName:str):\n",
    "    modelPaths = sorted(glob.glob(f\"{modelSaveDir}/{buildingName}_{modelName}_fold*.pth\"))\n",
    "    buildingTestData = f\"{wifiFeaturesDir_test}/{buildingName}_test.pickle\"\n",
    "    with open(buildingTestData, 'rb') as inputFile:\n",
    "        testData = pickle.load(inputFile)    \n",
    "    \n",
    "    test_ts = []\n",
    "    test_fold = []\n",
    "    test_preds = []\n",
    "    test_groups = []\n",
    "\n",
    "    for fold in range(CFG.N_FOLDS):\n",
    "        ## print(f\"Fold {fold} processing\")\n",
    "        #print(f\"Before stdscaler : testX mean = {testX.mean()}, testData std = {testX.std()}\")\n",
    "        testGroups = testData.iloc[:,-1].values    \n",
    "        testTimestamps = testData.iloc[:,0].values        \n",
    "        testX = getBuildingFeatures(testData, 'test')  \n",
    "        \n",
    "        checkPoint = torch.load(modelPaths[fold], map_location=torch.device(device))\n",
    "        model = modelToFit(n_input=testX.shape[1], n_output=3)\n",
    "        model.to(device);\n",
    "        model.load_state_dict(checkPoint['model'])\n",
    "\n",
    "        # set model to Validate mode\n",
    "        model.eval()\n",
    "        ## test Dataset and data loaders\n",
    "        testDataset = wiFiFeaturesDataset_test(testTimestamps, testX, testGroups)\n",
    "        testDataloader = getDataLoader(testDataset, datasetType= 'test')\n",
    "\n",
    "        dataLoaderIterator = iter(testDataloader)\n",
    "        for idx in range(len(testDataloader)):\n",
    "            try:\n",
    "                ts, inputs, testGroups = next(dataLoaderIterator)\n",
    "            except StopIteration:\n",
    "                dataLoaderIterator = iter(testDataloader)\n",
    "                ts, inputs, testGroups = next(dataLoaderIterator)\n",
    "\n",
    "            inputs = inputs.to(device)\n",
    "            # forward prediction\n",
    "            with torch.no_grad():    \n",
    "                y_preds = model(inputs)\n",
    "\n",
    "            # store predictions and targets to compute metrics later\n",
    "            test_ts.append(ts)\n",
    "            test_preds.append(y_preds)\n",
    "            test_groups.append(testGroups)\n",
    "        \n",
    "        test_fold.append([fold] * len(testX))\n",
    "        del testDataloader\n",
    "        ## torch.cuda.empty_cache()\n",
    "        gc.collect()\n",
    "        \n",
    "    # concatenate to get as 1 2d array \n",
    "    test_preds = torch.cat(test_preds, 0).cpu().data.numpy() \n",
    "    test_ts = np.concatenate(test_ts, axis=0)\n",
    "    test_fold = np.concatenate(test_fold, axis=0)\n",
    "    test_groups = np.concatenate(test_groups, axis=0)\n",
    "    subm_wifi_df = pd.DataFrame({'timestamp' : test_ts, 'x_preds': test_preds[:,0], 'y_preds': test_preds[:,1],\n",
    "                                 'floor_preds': test_preds[:,2], 'path' : test_groups, 'fold' : test_fold})\n",
    "    subm_wifi_df.to_pickle(f\"{buildingName}_wifi_subm.pickle\")  \n",
    "    print(f\"Test data prediction for {buildingName} site generated\")"
   ]
  },
  {
   "cell_type": "markdown",
   "id": "experimental-entrepreneur",
   "metadata": {
    "papermill": {
     "duration": 0.063076,
     "end_time": "2021-05-02T08:27:26.451325",
     "exception": false,
     "start_time": "2021-05-02T08:27:26.388249",
     "status": "completed"
    },
    "tags": []
   },
   "source": [
    "## Compute Device as CPU or GPU"
   ]
  },
  {
   "cell_type": "code",
   "execution_count": 29,
   "id": "paperback-finnish",
   "metadata": {
    "execution": {
     "iopub.execute_input": "2021-05-02T08:27:26.716020Z",
     "iopub.status.busy": "2021-05-02T08:27:26.715177Z",
     "iopub.status.idle": "2021-05-02T08:27:26.723222Z",
     "shell.execute_reply": "2021-05-02T08:27:26.724470Z"
    },
    "papermill": {
     "duration": 0.211543,
     "end_time": "2021-05-02T08:27:26.724754",
     "exception": false,
     "start_time": "2021-05-02T08:27:26.513211",
     "status": "completed"
    },
    "tags": []
   },
   "outputs": [
    {
     "name": "stdout",
     "output_type": "stream",
     "text": [
      "cuda:0\n"
     ]
    }
   ],
   "source": [
    "## Device as cpu or tpu\n",
    "device = torch.device(\"cuda:0\") if torch.cuda.is_available() else torch.device('cpu')\n",
    "print(device)"
   ]
  },
  {
   "cell_type": "markdown",
   "id": "whole-frank",
   "metadata": {
    "papermill": {
     "duration": 0.040782,
     "end_time": "2021-05-02T08:27:26.807120",
     "exception": false,
     "start_time": "2021-05-02T08:27:26.766338",
     "status": "completed"
    },
    "tags": []
   },
   "source": [
    "## Preprocessing classes"
   ]
  },
  {
   "cell_type": "code",
   "execution_count": 30,
   "id": "environmental-turkey",
   "metadata": {
    "execution": {
     "iopub.execute_input": "2021-05-02T08:27:26.897498Z",
     "iopub.status.busy": "2021-05-02T08:27:26.896496Z",
     "iopub.status.idle": "2021-05-02T08:27:26.900412Z",
     "shell.execute_reply": "2021-05-02T08:27:26.899866Z"
    },
    "papermill": {
     "duration": 0.051783,
     "end_time": "2021-05-02T08:27:26.900609",
     "exception": false,
     "start_time": "2021-05-02T08:27:26.848826",
     "status": "completed"
    },
    "tags": []
   },
   "outputs": [],
   "source": [
    "# for cv\n",
    "folds = GroupKFold(n_splits=CFG.N_FOLDS)\n",
    "\n",
    "# scaler to handle AMP\n",
    "scaler = GradScaler()   \n",
    "\n",
    "criterion = competitionMetric\n",
    "modelToFit = wiFiFeaturesMLPModel"
   ]
  },
  {
   "cell_type": "markdown",
   "id": "lucky-flower",
   "metadata": {
    "papermill": {
     "duration": 0.040927,
     "end_time": "2021-05-02T08:27:26.982969",
     "exception": false,
     "start_time": "2021-05-02T08:27:26.942042",
     "status": "completed"
    },
    "tags": []
   },
   "source": [
    "## Training & Validation main function"
   ]
  },
  {
   "cell_type": "code",
   "execution_count": 31,
   "id": "removed-olive",
   "metadata": {
    "execution": {
     "iopub.execute_input": "2021-05-02T08:27:27.080440Z",
     "iopub.status.busy": "2021-05-02T08:27:27.079764Z",
     "iopub.status.idle": "2021-05-02T08:41:56.517640Z",
     "shell.execute_reply": "2021-05-02T08:41:56.516899Z"
    },
    "papermill": {
     "duration": 869.490987,
     "end_time": "2021-05-02T08:41:56.517824",
     "exception": false,
     "start_time": "2021-05-02T08:27:27.026837",
     "status": "completed"
    },
    "tags": []
   },
   "outputs": [
    {
     "name": "stdout",
     "output_type": "stream",
     "text": [
      "1 sites are to be trained\n",
      "----------------------------------\n",
      "Processing data for building - 5a0546857ecc773753327266\n",
      "Building Data shapes : ((9296,), (9296, 3390), (9296, 3), (9296,))\n",
      "For Fold 0, Best validation score of 59.901329040527344 was got at epoch 9\n",
      "For Fold 1, Best validation score of 47.93607711791992 was got at epoch 7\n",
      "For Fold 2, Best validation score of 44.1663703918457 was got at epoch 7\n",
      "For Fold 3, Best validation score of 59.546714782714844 was got at epoch 9\n",
      "For Fold 4, Best validation score of 65.42581176757812 was got at epoch 2\n",
      "Best valPosLoss for all folds = [59.90132904 47.93607712 44.16637039 59.54671478 65.42581177]\n",
      "Mean, std =55.395260620117185, 7.998482041905448\n",
      "OOF prediction for 5a0546857ecc773753327266 site generated\n",
      "Test data prediction for 5a0546857ecc773753327266 site generated\n"
     ]
    },
    {
     "data": {
      "text/html": [
       "        <script type=\"text/javascript\">\n",
       "        window.PlotlyConfig = {MathJaxConfig: 'local'};\n",
       "        if (window.MathJax) {MathJax.Hub.Config({SVG: {font: \"STIX-Web\"}});}\n",
       "        if (typeof require !== 'undefined') {\n",
       "        require.undef(\"plotly\");\n",
       "        requirejs.config({\n",
       "            paths: {\n",
       "                'plotly': ['https://cdn.plot.ly/plotly-latest.min']\n",
       "            }\n",
       "        });\n",
       "        require(['plotly'], function(Plotly) {\n",
       "            window._Plotly = Plotly;\n",
       "        });\n",
       "        }\n",
       "        </script>\n",
       "        "
      ]
     },
     "metadata": {},
     "output_type": "display_data"
    },
    {
     "data": {
      "text/html": [
       "<div>                            <div id=\"ef0dac5c-c0f6-4a81-ac1a-38a0b59a4e2a\" class=\"plotly-graph-div\" style=\"height:525px; width:100%;\"></div>            <script type=\"text/javascript\">                require([\"plotly\"], function(Plotly) {                    window.PLOTLYENV=window.PLOTLYENV || {};                                    if (document.getElementById(\"ef0dac5c-c0f6-4a81-ac1a-38a0b59a4e2a\")) {                    Plotly.newPlot(                        \"ef0dac5c-c0f6-4a81-ac1a-38a0b59a4e2a\",                        [{\"line\": {\"color\": \"#d32f2f\", \"width\": 2}, \"mode\": \"lines\", \"name\": \"5a0546857ecc773753327266-trainPossLoss-Fold0\", \"type\": \"scatter\", \"visible\": true, \"x\": [0, 1, 2, 3, 4, 5, 6, 7, 8, 9, 10, 11, 12, 13, 14, 15, 16, 17, 18, 19, 20, 21, 22, 23, 24, 25, 26, 27, 28, 29, 30, 31, 32, 33, 34, 35, 36, 37, 38, 39, 40, 41, 42, 43, 44, 45, 46, 47, 48, 49], \"xaxis\": \"x\", \"y\": [93.45804424040307, 61.99690621502921, 61.85588505953678, 61.46570490562865, 61.506091023719364, 61.74450220263567, 62.09858220636589, 61.526648541888456, 60.181884716508726, 59.8388484414555, 62.4473453243403, 62.389747603256815, 62.33338271701796, 62.37740386504472, 62.38760503678874, 62.42250909109484, 62.4263209068724, 62.40829554545521, 62.4111470725915, 62.442562234248214, 62.4114466982338, 62.420581981347866, 62.40233996804692, 62.3695512861653, 62.360606344984326, 62.37950694202865, 62.350592437220236, 62.36814893468767, 62.38176457155416, 62.39613393038639, 62.50362340575124, 62.476060531681696, 62.43847400845376, 62.41998048708674, 62.47947134582782, 62.42716310361936, 62.44755621324793, 62.42261943898999, 62.42138260935509, 62.42286989924222, 62.423919546757645, 62.41495594139263, 62.44346767638374, 62.413923419084675, 62.45813548206771, 62.435758336930824, 62.40894037664192, 62.45909629461591, 62.39763882027164, 62.39091210099249], \"yaxis\": \"y\"}, {\"line\": {\"color\": \"#ef5350\", \"width\": 2}, \"mode\": \"lines+markers\", \"name\": \"5a0546857ecc773753327266-valPosLoss-Fold0\", \"type\": \"scatter\", \"visible\": true, \"x\": [0, 1, 2, 3, 4, 5, 6, 7, 8, 9, 10, 11, 12, 13, 14, 15, 16, 17, 18, 19, 20, 21, 22, 23, 24, 25, 26, 27, 28, 29, 30, 31, 32, 33, 34, 35, 36, 37, 38, 39, 40, 41, 42, 43, 44, 45, 46, 47, 48, 49], \"xaxis\": \"x\", \"y\": [63.35283279418945, 63.32140350341797, 63.272403717041016, 62.43031692504883, 63.46053695678711, 60.083229064941406, 63.54159927368164, 61.95753860473633, 60.16530990600586, 59.901329040527344, 63.67719268798828, 63.689395904541016, 64.34456634521484, 64.1234359741211, 64.27631378173828, 63.975582122802734, 63.751041412353516, 63.80036926269531, 68.50724029541016, 63.829776763916016, 63.831947326660156, 63.77448272705078, 63.80429458618164, 63.7866096496582, 63.8359489440918, 63.76436233520508, 63.75945281982422, 63.775413513183594, 63.7735481262207, 63.773529052734375, 63.76957321166992, 63.91646957397461, 71.76712036132812, 63.63554763793945, 63.806365966796875, 63.733154296875, 63.65949249267578, 63.94640350341797, 95.04232788085938, 63.726280212402344, 133.6685333251953, 64.0318374633789, 64.29592895507812, 63.52308654785156, 63.75416946411133, 63.7690315246582, 63.5990104675293, 114.24765014648438, 63.91159439086914, 63.7991828918457], \"yaxis\": \"y\"}, {\"line\": {\"color\": \"#303f9f\", \"width\": 2}, \"mode\": \"lines\", \"name\": \"5a0546857ecc773753327266-trainPossLoss-Fold1\", \"type\": \"scatter\", \"visible\": \"legendonly\", \"x\": [0, 1, 2, 3, 4, 5, 6, 7, 8, 9, 10, 11, 12, 13, 14, 15, 16, 17, 18, 19, 20, 21, 22, 23, 24, 25, 26, 27, 28, 29, 30, 31, 32, 33, 34, 35, 36, 37, 38, 39, 40, 41, 42, 43, 44, 45, 46, 47, 48, 49], \"xaxis\": \"x\", \"y\": [93.38437893257633, 62.18948130136907, 62.3288992361961, 62.06205485921049, 62.58293649567043, 62.22424038080698, 60.567916690024184, 54.75907675288777, 53.74289470885444, 53.406863364027295, 59.14581015590946, 62.6080355992133, 62.68728487072073, 62.75200472983168, 62.690711565795375, 62.57422647762708, 62.52439986789687, 62.73549578425199, 62.77910941455497, 62.72545548467677, 62.718106707789865, 62.761022313981606, 62.72245484053321, 62.690748566721645, 62.64799713986115, 62.59744745672005, 62.64465372961478, 62.460226803890116, 62.23359154631652, 62.230156043056766, 62.73620463031556, 62.76681096154733, 62.74214290242338, 62.84653708658505, 62.767133704582506, 62.81265543663451, 62.76743064520185, 62.775398057929436, 62.79796873755721, 62.83201459958318, 62.81602739980804, 62.78183189686788, 62.78940204080082, 62.74274107314998, 62.75121323745138, 62.76520950906778, 62.789604792779095, 62.7638558154454, 62.73122766191867, 62.758427173794594], \"yaxis\": \"y\"}, {\"line\": {\"color\": \"#5c6bc0\", \"width\": 2}, \"mode\": \"lines+markers\", \"name\": \"5a0546857ecc773753327266-valPosLoss-Fold1\", \"type\": \"scatter\", \"visible\": \"legendonly\", \"x\": [0, 1, 2, 3, 4, 5, 6, 7, 8, 9, 10, 11, 12, 13, 14, 15, 16, 17, 18, 19, 20, 21, 22, 23, 24, 25, 26, 27, 28, 29, 30, 31, 32, 33, 34, 35, 36, 37, 38, 39, 40, 41, 42, 43, 44, 45, 46, 47, 48, 49], \"xaxis\": \"x\", \"y\": [62.41461944580078, 62.27159881591797, 61.344974517822266, 62.24385070800781, 62.139991760253906, 61.579891204833984, 60.0562858581543, 47.93607711791992, 50.576148986816406, 49.740379333496094, 63.23756790161133, 62.50162124633789, 62.35984420776367, 62.048797607421875, 62.20577621459961, 61.709598541259766, 62.76594161987305, 62.877410888671875, 62.85984420776367, 62.9297981262207, 62.40782928466797, 62.54959487915039, 62.73352813720703, 62.39645004272461, 62.28693771362305, 62.46113204956055, 62.39753341674805, 62.03953552246094, 61.95427322387695, 61.9818229675293, 62.58277893066406, 66.15277862548828, 63.08537292480469, 65.88458251953125, 62.919307708740234, 62.6429328918457, 62.97901916503906, 62.35655212402344, 62.78858947753906, 63.281455993652344, 62.426544189453125, 63.20987319946289, 62.56660079956055, 63.14137649536133, 63.109901428222656, 62.52876281738281, 62.3252067565918, 62.4129638671875, 62.64826965332031, 62.781803131103516], \"yaxis\": \"y\"}, {\"line\": {\"color\": \"#00796b\", \"width\": 2}, \"mode\": \"lines\", \"name\": \"5a0546857ecc773753327266-trainPossLoss-Fold2\", \"type\": \"scatter\", \"visible\": \"legendonly\", \"x\": [0, 1, 2, 3, 4, 5, 6, 7, 8, 9, 10, 11, 12, 13, 14, 15, 16, 17, 18, 19, 20, 21, 22, 23, 24, 25, 26, 27, 28, 29, 30, 31, 32, 33, 34, 35, 36, 37, 38, 39, 40, 41, 42, 43, 44, 45, 46, 47, 48, 49], \"xaxis\": \"x\", \"y\": [92.70564725163669, 62.23442210250658, 62.75845877193074, 62.7191297179128, 61.361985153394706, 55.424198789146324, 54.407371684717006, 53.90023741496991, 52.959460573646645, 52.46734484889477, 54.916032504626095, 53.51769402303409, 53.75356893580359, 55.70841061506149, 54.26574743049851, 54.361440634011196, 53.91934448045723, 54.19158095658593, 53.87366750823582, 53.70734394057114, 62.40791268410089, 62.49309006064747, 60.896562977410184, 59.0725217663679, 57.72462476476579, 56.76086067232451, 56.881518662743304, 56.12106143149184, 55.90977705599413, 55.966642682644434, 55.789323651227825, 54.67836596116488, 55.550500714216106, 63.25124833921506, 63.21410603993952, 63.22149700770562, 63.28751219393358, 63.29659597044851, 63.22646683787072, 63.25607321088406, 63.21942181239312, 63.21588799472531, 63.219151116236084, 63.257922111151046, 63.24871657539335, 63.23219620209395, 63.23632329523308, 63.209808349609375, 63.21592751695363, 63.24743662167005], \"yaxis\": \"y\"}, {\"line\": {\"color\": \"#26a69a\", \"width\": 2}, \"mode\": \"lines+markers\", \"name\": \"5a0546857ecc773753327266-valPosLoss-Fold2\", \"type\": \"scatter\", \"visible\": \"legendonly\", \"x\": [0, 1, 2, 3, 4, 5, 6, 7, 8, 9, 10, 11, 12, 13, 14, 15, 16, 17, 18, 19, 20, 21, 22, 23, 24, 25, 26, 27, 28, 29, 30, 31, 32, 33, 34, 35, 36, 37, 38, 39, 40, 41, 42, 43, 44, 45, 46, 47, 48, 49], \"xaxis\": \"x\", \"y\": [59.938533782958984, 59.503021240234375, 58.81888198852539, 60.21206283569336, 54.03108215332031, 49.64606857299805, 47.13960266113281, 44.1663703918457, 47.215091705322266, 46.45229721069336, 53.76456832885742, 49.88833999633789, 55.63192367553711, 50.4380989074707, 62.84742736816406, 65.35916137695312, 52.58061218261719, 65.29834747314453, 61.52545166015625, 58.223697662353516, 60.66994094848633, 60.952392578125, 61.69578552246094, 62.65364456176758, 63.52700424194336, 63.68975830078125, 65.10346984863281, 65.08053588867188, 65.6443862915039, 65.34015655517578, 66.18231964111328, 65.4908676147461, 62.410423278808594, 60.35708999633789, 60.505985260009766, 60.361507415771484, 83.2163314819336, 105.651611328125, 60.48140335083008, 66.03914642333984, 60.21075439453125, 60.55929946899414, 286.763671875, 87.26264953613281, 60.35246658325195, 60.4489860534668, 60.83948516845703, 60.42995071411133, 60.246986389160156, 66.25114440917969], \"yaxis\": \"y\"}, {\"line\": {\"color\": \"#fbc02d\", \"width\": 2}, \"mode\": \"lines\", \"name\": \"5a0546857ecc773753327266-trainPossLoss-Fold3\", \"type\": \"scatter\", \"visible\": \"legendonly\", \"x\": [0, 1, 2, 3, 4, 5, 6, 7, 8, 9, 10, 11, 12, 13, 14, 15, 16, 17, 18, 19, 20, 21, 22, 23, 24, 25, 26, 27, 28, 29, 30, 31, 32, 33, 34, 35, 36, 37, 38, 39, 40, 41, 42, 43, 44, 45, 46, 47, 48, 49], \"xaxis\": \"x\", \"y\": [93.0728124201042, 62.07235699764137, 62.14572243424444, 62.159504165976855, 62.66420822798438, 62.54422856605104, 62.84124662538455, 62.86946572561632, 61.97433434023878, 61.33128052412696, 62.926961677780476, 63.00975364062919, 63.047693768284354, 63.03037974148861, 62.834646380510456, 62.661953725528306, 62.85715461698213, 62.96772764476072, 63.0251331738648, 62.98194374444659, 62.95160527700007, 62.95200770300345, 62.848411576430685, 62.99115458476185, 62.895162345002134, 62.93922633879175, 62.99018820570262, 62.98275242752272, 62.97934740909691, 62.97684094015621, 63.07287594381832, 63.07663636760139, 63.03766325921971, 63.040103912353516, 63.033621251838916, 63.047305929814286, 63.060252455682715, 63.0205937004908, 63.05055569169859, 63.035598640278174, 63.02488349947295, 63.03780736636706, 62.97641641182961, 62.98948978866119, 63.02730301623692, 63.029133989063965, 63.013124064826144, 63.00928998300446, 62.993690736304025, 62.98029132564692], \"yaxis\": \"y\"}, {\"line\": {\"color\": \"#ffeb3b\", \"width\": 2}, \"mode\": \"lines+markers\", \"name\": \"5a0546857ecc773753327266-valPosLoss-Fold3\", \"type\": \"scatter\", \"visible\": \"legendonly\", \"x\": [0, 1, 2, 3, 4, 5, 6, 7, 8, 9, 10, 11, 12, 13, 14, 15, 16, 17, 18, 19, 20, 21, 22, 23, 24, 25, 26, 27, 28, 29, 30, 31, 32, 33, 34, 35, 36, 37, 38, 39, 40, 41, 42, 43, 44, 45, 46, 47, 48, 49], \"xaxis\": \"x\", \"y\": [60.181312561035156, 62.7916374206543, 61.289451599121094, 61.05983352661133, 60.92367935180664, 61.09952163696289, 61.09208297729492, 61.06710433959961, 59.66004943847656, 59.546714782714844, 61.773826599121094, 61.46808624267578, 61.042945861816406, 61.03118133544922, 60.83917999267578, 59.647743225097656, 61.28307342529297, 80.76616668701172, 61.24315643310547, 61.52132034301758, 61.523948669433594, 61.1715202331543, 61.363094329833984, 61.341251373291016, 61.41215515136719, 61.42494583129883, 61.40364074707031, 61.38918685913086, 65.00633239746094, 61.38355255126953, 61.25727081298828, 61.350711822509766, 85.35230255126953, 61.177852630615234, 61.40927505493164, 61.72611999511719, 61.6394157409668, 61.173030853271484, 61.25281524658203, 61.52263641357422, 61.38528823852539, 61.56974411010742, 61.51297378540039, 61.25205612182617, 61.2071533203125, 61.36378860473633, 61.499813079833984, 61.495140075683594, 61.41980743408203, 61.29378128051758], \"yaxis\": \"y\"}, {\"line\": {\"color\": \"#5d4037\", \"width\": 2}, \"mode\": \"lines\", \"name\": \"5a0546857ecc773753327266-trainPossLoss-Fold4\", \"type\": \"scatter\", \"visible\": \"legendonly\", \"x\": [0, 1, 2, 3, 4, 5, 6, 7, 8, 9, 10, 11, 12, 13, 14, 15, 16, 17, 18, 19, 20, 21, 22, 23, 24, 25, 26, 27, 28, 29, 30, 31, 32, 33, 34, 35, 36, 37, 38, 39, 40, 41, 42, 43, 44, 45, 46, 47, 48, 49], \"xaxis\": \"x\", \"y\": [91.49043778186193, 61.07966826606718, 60.83387895510432, 61.58135053118923, 61.41009122005348, 61.24902065424448, 60.97185290422562, 61.629215224106424, 61.71417585053669, 61.66933247971432, 61.72993249852258, 61.6932834248686, 61.75619686928941, 61.76228186807919, 61.75312186310731, 61.720705466209054, 61.74461702011174, 61.77759923648425, 61.69259831833737, 61.79151389322568, 61.73657572013626, 61.7470091791112, 61.73120636182793, 61.71991916378168, 61.72823138912348, 61.70360537352992, 61.68321709366827, 61.67186006865276, 61.70795976041212, 61.71225687771908, 61.752404716393464, 61.74761317830229, 61.76678455336411, 61.7724671261505, 61.76622529909846, 61.72819604177843, 61.74937935039209, 61.7534164788897, 61.74815455424427, 61.73236539128512, 61.772800903975195, 61.776823772381306, 61.7710298530022, 61.7432773246274, 61.77381237177378, 61.74237464937529, 61.77293558079797, 61.71453362984719, 61.72100080236345, 61.75658629585234], \"yaxis\": \"y\"}, {\"line\": {\"color\": \"#8d6e63\", \"width\": 2}, \"mode\": \"lines+markers\", \"name\": \"5a0546857ecc773753327266-valPosLoss-Fold4\", \"type\": \"scatter\", \"visible\": \"legendonly\", \"x\": [0, 1, 2, 3, 4, 5, 6, 7, 8, 9, 10, 11, 12, 13, 14, 15, 16, 17, 18, 19, 20, 21, 22, 23, 24, 25, 26, 27, 28, 29, 30, 31, 32, 33, 34, 35, 36, 37, 38, 39, 40, 41, 42, 43, 44, 45, 46, 47, 48, 49], \"xaxis\": \"x\", \"y\": [65.78987884521484, 66.99993133544922, 65.42581176757812, 66.4000015258789, 66.61702728271484, 66.99250793457031, 66.7747573852539, 66.98760223388672, 66.77824401855469, 66.79476165771484, 101.6595687866211, 67.13981628417969, 67.00190734863281, 67.4576416015625, 67.07616424560547, 66.83589172363281, 66.43045043945312, 67.02607727050781, 67.520263671875, 66.5140151977539, 66.12540435791016, 67.85643005371094, 67.04283142089844, 66.62371826171875, 66.63529205322266, 66.75538635253906, 66.82601928710938, 66.74085235595703, 66.74307250976562, 66.73269653320312, 67.0745620727539, 66.56671142578125, 66.88299560546875, 99.39598083496094, 66.64954376220703, 66.8468017578125, 66.62007141113281, 67.45218658447266, 67.84412384033203, 66.87474822998047, 66.74137878417969, 66.80944061279297, 66.48896789550781, 304.0652160644531, 69.70655822753906, 81.0306396484375, 106.4226303100586, 66.82498931884766, 69.36843872070312, 66.6064453125], \"yaxis\": \"y\"}],                        {\"template\": {\"data\": {\"bar\": [{\"error_x\": {\"color\": \"#2a3f5f\"}, \"error_y\": {\"color\": \"#2a3f5f\"}, \"marker\": {\"line\": {\"color\": \"#E5ECF6\", \"width\": 0.5}}, \"type\": \"bar\"}], \"barpolar\": [{\"marker\": {\"line\": {\"color\": \"#E5ECF6\", \"width\": 0.5}}, \"type\": \"barpolar\"}], \"carpet\": [{\"aaxis\": {\"endlinecolor\": \"#2a3f5f\", \"gridcolor\": \"white\", \"linecolor\": \"white\", \"minorgridcolor\": \"white\", \"startlinecolor\": \"#2a3f5f\"}, \"baxis\": {\"endlinecolor\": \"#2a3f5f\", \"gridcolor\": \"white\", \"linecolor\": \"white\", \"minorgridcolor\": \"white\", \"startlinecolor\": \"#2a3f5f\"}, \"type\": \"carpet\"}], \"choropleth\": [{\"colorbar\": {\"outlinewidth\": 0, \"ticks\": \"\"}, \"type\": \"choropleth\"}], \"contour\": [{\"colorbar\": {\"outlinewidth\": 0, \"ticks\": \"\"}, \"colorscale\": [[0.0, \"#0d0887\"], [0.1111111111111111, \"#46039f\"], [0.2222222222222222, \"#7201a8\"], [0.3333333333333333, \"#9c179e\"], [0.4444444444444444, \"#bd3786\"], [0.5555555555555556, \"#d8576b\"], [0.6666666666666666, \"#ed7953\"], [0.7777777777777778, \"#fb9f3a\"], [0.8888888888888888, \"#fdca26\"], [1.0, \"#f0f921\"]], \"type\": \"contour\"}], \"contourcarpet\": [{\"colorbar\": {\"outlinewidth\": 0, \"ticks\": \"\"}, \"type\": \"contourcarpet\"}], \"heatmap\": [{\"colorbar\": {\"outlinewidth\": 0, \"ticks\": \"\"}, \"colorscale\": [[0.0, \"#0d0887\"], [0.1111111111111111, \"#46039f\"], [0.2222222222222222, \"#7201a8\"], [0.3333333333333333, \"#9c179e\"], [0.4444444444444444, \"#bd3786\"], [0.5555555555555556, \"#d8576b\"], [0.6666666666666666, \"#ed7953\"], [0.7777777777777778, \"#fb9f3a\"], [0.8888888888888888, \"#fdca26\"], [1.0, \"#f0f921\"]], \"type\": \"heatmap\"}], \"heatmapgl\": [{\"colorbar\": {\"outlinewidth\": 0, \"ticks\": \"\"}, \"colorscale\": [[0.0, \"#0d0887\"], [0.1111111111111111, \"#46039f\"], [0.2222222222222222, \"#7201a8\"], [0.3333333333333333, \"#9c179e\"], [0.4444444444444444, \"#bd3786\"], [0.5555555555555556, \"#d8576b\"], [0.6666666666666666, \"#ed7953\"], [0.7777777777777778, \"#fb9f3a\"], [0.8888888888888888, \"#fdca26\"], [1.0, \"#f0f921\"]], \"type\": \"heatmapgl\"}], \"histogram\": [{\"marker\": {\"colorbar\": {\"outlinewidth\": 0, \"ticks\": \"\"}}, \"type\": \"histogram\"}], \"histogram2d\": [{\"colorbar\": {\"outlinewidth\": 0, \"ticks\": \"\"}, \"colorscale\": [[0.0, \"#0d0887\"], [0.1111111111111111, \"#46039f\"], [0.2222222222222222, \"#7201a8\"], [0.3333333333333333, \"#9c179e\"], [0.4444444444444444, \"#bd3786\"], [0.5555555555555556, \"#d8576b\"], [0.6666666666666666, \"#ed7953\"], [0.7777777777777778, \"#fb9f3a\"], [0.8888888888888888, \"#fdca26\"], [1.0, \"#f0f921\"]], \"type\": \"histogram2d\"}], \"histogram2dcontour\": [{\"colorbar\": {\"outlinewidth\": 0, \"ticks\": \"\"}, \"colorscale\": [[0.0, \"#0d0887\"], [0.1111111111111111, \"#46039f\"], [0.2222222222222222, \"#7201a8\"], [0.3333333333333333, \"#9c179e\"], [0.4444444444444444, \"#bd3786\"], [0.5555555555555556, \"#d8576b\"], [0.6666666666666666, \"#ed7953\"], [0.7777777777777778, \"#fb9f3a\"], [0.8888888888888888, \"#fdca26\"], [1.0, \"#f0f921\"]], \"type\": \"histogram2dcontour\"}], \"mesh3d\": [{\"colorbar\": {\"outlinewidth\": 0, \"ticks\": \"\"}, \"type\": \"mesh3d\"}], \"parcoords\": [{\"line\": {\"colorbar\": {\"outlinewidth\": 0, \"ticks\": \"\"}}, \"type\": \"parcoords\"}], \"pie\": [{\"automargin\": true, \"type\": \"pie\"}], \"scatter\": [{\"marker\": {\"colorbar\": {\"outlinewidth\": 0, \"ticks\": \"\"}}, \"type\": \"scatter\"}], \"scatter3d\": [{\"line\": {\"colorbar\": {\"outlinewidth\": 0, \"ticks\": \"\"}}, \"marker\": {\"colorbar\": {\"outlinewidth\": 0, \"ticks\": \"\"}}, \"type\": \"scatter3d\"}], \"scattercarpet\": [{\"marker\": {\"colorbar\": {\"outlinewidth\": 0, \"ticks\": \"\"}}, \"type\": \"scattercarpet\"}], \"scattergeo\": [{\"marker\": {\"colorbar\": {\"outlinewidth\": 0, \"ticks\": \"\"}}, \"type\": \"scattergeo\"}], \"scattergl\": [{\"marker\": {\"colorbar\": {\"outlinewidth\": 0, \"ticks\": \"\"}}, \"type\": \"scattergl\"}], \"scattermapbox\": [{\"marker\": {\"colorbar\": {\"outlinewidth\": 0, \"ticks\": \"\"}}, \"type\": \"scattermapbox\"}], \"scatterpolar\": [{\"marker\": {\"colorbar\": {\"outlinewidth\": 0, \"ticks\": \"\"}}, \"type\": \"scatterpolar\"}], \"scatterpolargl\": [{\"marker\": {\"colorbar\": {\"outlinewidth\": 0, \"ticks\": \"\"}}, \"type\": \"scatterpolargl\"}], \"scatterternary\": [{\"marker\": {\"colorbar\": {\"outlinewidth\": 0, \"ticks\": \"\"}}, \"type\": \"scatterternary\"}], \"surface\": [{\"colorbar\": {\"outlinewidth\": 0, \"ticks\": \"\"}, \"colorscale\": [[0.0, \"#0d0887\"], [0.1111111111111111, \"#46039f\"], [0.2222222222222222, \"#7201a8\"], [0.3333333333333333, \"#9c179e\"], [0.4444444444444444, \"#bd3786\"], [0.5555555555555556, \"#d8576b\"], [0.6666666666666666, \"#ed7953\"], [0.7777777777777778, \"#fb9f3a\"], [0.8888888888888888, \"#fdca26\"], [1.0, \"#f0f921\"]], \"type\": \"surface\"}], \"table\": [{\"cells\": {\"fill\": {\"color\": \"#EBF0F8\"}, \"line\": {\"color\": \"white\"}}, \"header\": {\"fill\": {\"color\": \"#C8D4E3\"}, \"line\": {\"color\": \"white\"}}, \"type\": \"table\"}]}, \"layout\": {\"annotationdefaults\": {\"arrowcolor\": \"#2a3f5f\", \"arrowhead\": 0, \"arrowwidth\": 1}, \"autotypenumbers\": \"strict\", \"coloraxis\": {\"colorbar\": {\"outlinewidth\": 0, \"ticks\": \"\"}}, \"colorscale\": {\"diverging\": [[0, \"#8e0152\"], [0.1, \"#c51b7d\"], [0.2, \"#de77ae\"], [0.3, \"#f1b6da\"], [0.4, \"#fde0ef\"], [0.5, \"#f7f7f7\"], [0.6, \"#e6f5d0\"], [0.7, \"#b8e186\"], [0.8, \"#7fbc41\"], [0.9, \"#4d9221\"], [1, \"#276419\"]], \"sequential\": [[0.0, \"#0d0887\"], [0.1111111111111111, \"#46039f\"], [0.2222222222222222, \"#7201a8\"], [0.3333333333333333, \"#9c179e\"], [0.4444444444444444, \"#bd3786\"], [0.5555555555555556, \"#d8576b\"], [0.6666666666666666, \"#ed7953\"], [0.7777777777777778, \"#fb9f3a\"], [0.8888888888888888, \"#fdca26\"], [1.0, \"#f0f921\"]], \"sequentialminus\": [[0.0, \"#0d0887\"], [0.1111111111111111, \"#46039f\"], [0.2222222222222222, \"#7201a8\"], [0.3333333333333333, \"#9c179e\"], [0.4444444444444444, \"#bd3786\"], [0.5555555555555556, \"#d8576b\"], [0.6666666666666666, \"#ed7953\"], [0.7777777777777778, \"#fb9f3a\"], [0.8888888888888888, \"#fdca26\"], [1.0, \"#f0f921\"]]}, \"colorway\": [\"#636efa\", \"#EF553B\", \"#00cc96\", \"#ab63fa\", \"#FFA15A\", \"#19d3f3\", \"#FF6692\", \"#B6E880\", \"#FF97FF\", \"#FECB52\"], \"font\": {\"color\": \"#2a3f5f\"}, \"geo\": {\"bgcolor\": \"white\", \"lakecolor\": \"white\", \"landcolor\": \"#E5ECF6\", \"showlakes\": true, \"showland\": true, \"subunitcolor\": \"white\"}, \"hoverlabel\": {\"align\": \"left\"}, \"hovermode\": \"closest\", \"mapbox\": {\"style\": \"light\"}, \"paper_bgcolor\": \"white\", \"plot_bgcolor\": \"#E5ECF6\", \"polar\": {\"angularaxis\": {\"gridcolor\": \"white\", \"linecolor\": \"white\", \"ticks\": \"\"}, \"bgcolor\": \"#E5ECF6\", \"radialaxis\": {\"gridcolor\": \"white\", \"linecolor\": \"white\", \"ticks\": \"\"}}, \"scene\": {\"xaxis\": {\"backgroundcolor\": \"#E5ECF6\", \"gridcolor\": \"white\", \"gridwidth\": 2, \"linecolor\": \"white\", \"showbackground\": true, \"ticks\": \"\", \"zerolinecolor\": \"white\"}, \"yaxis\": {\"backgroundcolor\": \"#E5ECF6\", \"gridcolor\": \"white\", \"gridwidth\": 2, \"linecolor\": \"white\", \"showbackground\": true, \"ticks\": \"\", \"zerolinecolor\": \"white\"}, \"zaxis\": {\"backgroundcolor\": \"#E5ECF6\", \"gridcolor\": \"white\", \"gridwidth\": 2, \"linecolor\": \"white\", \"showbackground\": true, \"ticks\": \"\", \"zerolinecolor\": \"white\"}}, \"shapedefaults\": {\"line\": {\"color\": \"#2a3f5f\"}}, \"ternary\": {\"aaxis\": {\"gridcolor\": \"white\", \"linecolor\": \"white\", \"ticks\": \"\"}, \"baxis\": {\"gridcolor\": \"white\", \"linecolor\": \"white\", \"ticks\": \"\"}, \"bgcolor\": \"#E5ECF6\", \"caxis\": {\"gridcolor\": \"white\", \"linecolor\": \"white\", \"ticks\": \"\"}}, \"title\": {\"x\": 0.05}, \"xaxis\": {\"automargin\": true, \"gridcolor\": \"white\", \"linecolor\": \"white\", \"ticks\": \"\", \"title\": {\"standoff\": 15}, \"zerolinecolor\": \"white\", \"zerolinewidth\": 2}, \"yaxis\": {\"automargin\": true, \"gridcolor\": \"white\", \"linecolor\": \"white\", \"ticks\": \"\", \"title\": {\"standoff\": 15}, \"zerolinecolor\": \"white\", \"zerolinewidth\": 2}}}, \"xaxis\": {\"anchor\": \"y\", \"domain\": [0.0, 1.0]}, \"yaxis\": {\"anchor\": \"x\", \"domain\": [0.0, 1.0]}},                        {\"responsive\": true}                    ).then(function(){\n",
       "                            \n",
       "var gd = document.getElementById('ef0dac5c-c0f6-4a81-ac1a-38a0b59a4e2a');\n",
       "var x = new MutationObserver(function (mutations, observer) {{\n",
       "        var display = window.getComputedStyle(gd).display;\n",
       "        if (!display || display === 'none') {{\n",
       "            console.log([gd, 'removed!']);\n",
       "            Plotly.purge(gd);\n",
       "            observer.disconnect();\n",
       "        }}\n",
       "}});\n",
       "\n",
       "// Listen for the removal of the full notebook cells\n",
       "var notebookContainer = gd.closest('#notebook-container');\n",
       "if (notebookContainer) {{\n",
       "    x.observe(notebookContainer, {childList: true});\n",
       "}}\n",
       "\n",
       "// Listen for the clearing of the current output cell\n",
       "var outputEl = gd.closest('.output');\n",
       "if (outputEl) {{\n",
       "    x.observe(outputEl, {childList: true});\n",
       "}}\n",
       "\n",
       "                        })                };                });            </script>        </div>"
      ]
     },
     "metadata": {},
     "output_type": "display_data"
    },
    {
     "name": "stdout",
     "output_type": "stream",
     "text": [
      "CPU times: user 10min 33s, sys: 1min 58s, total: 12min 31s\n",
      "Wall time: 14min 29s\n"
     ]
    }
   ],
   "source": [
    "%%time\n",
    "if CFG.TRAIN == True:\n",
    "    \n",
    "    buildingPathList_train = sorted(glob.glob(f\"{wifiFeaturesDir_train}/*.pickle\"))\n",
    "    buildingPathList_train = buildingPathList_train[CFG.BUILDING_SITES_RANGE[0]: CFG.BUILDING_SITES_RANGE[1]]\n",
    "    print(f\"{len(buildingPathList_train)} sites are to be trained\")\n",
    "    ## print(buildingPathList_train)\n",
    "\n",
    "    for buildingPath_train in buildingPathList_train:\n",
    "        \n",
    "        print('----------------------------------')\n",
    "        ## get building name\n",
    "        buildingName = getBuildingName(buildingPath_train)\n",
    "        \n",
    "        ## train and validate for building data\n",
    "        buildingTrainResults = trainValidateOneBuilding(buildingPath_train, modelToFit)\n",
    "        bestResults = getFoldBestResultsDf(buildingTrainResults)\n",
    "        \n",
    "        ## generate OOF prediction for building-model combination\n",
    "        buildingOOF = generateOOF(modelOutputDir, buildingName, CFG.MODEL_NAME)\n",
    "        \n",
    "        ## prediction for test data too\n",
    "        generateWiFiSubmission(modelToFit, modelOutputDir, buildingName, CFG.MODEL_NAME)\n",
    "\n",
    "        ## save results to file\n",
    "        buildingOOF.to_pickle(f\"{modelOutputDir}/{buildingName}_{CFG.MODEL_NAME}_OOF.pickle\")\n",
    "        bestResults.to_pickle(f\"{modelOutputDir}/{buildingName}_{CFG.MODEL_NAME}_bestResults.pickle\")\n",
    "        buildingTrainResults.to_pickle(f\"{modelOutputDir}/{buildingName}_{CFG.MODEL_NAME}_trainResults.pickle\")\n",
    "        \n",
    "        ## plot building results\n",
    "        plotTrainingResults(buildingTrainResults, buildingName)"
   ]
  },
  {
   "cell_type": "markdown",
   "id": "contemporary-entrepreneur",
   "metadata": {
    "_kg_hide-input": true,
    "papermill": {
     "duration": 0.046591,
     "end_time": "2021-05-02T08:41:56.612271",
     "exception": false,
     "start_time": "2021-05-02T08:41:56.565680",
     "status": "completed"
    },
    "tags": []
   },
   "source": [
    "```python\n",
    "buildingPathList_train = sorted(glob.glob(f\"{wifiFeaturesDir_train}/*.pickle\"))\n",
    "buildingPathList_test = sorted(glob.glob(f\"{wifiFeaturesDir_test}/*.pickle\"))\n",
    "\n",
    "for idx in range(len(buildingPathList_train)):\n",
    "    print('-----------------------------')\n",
    "    trainFilePath = buildingPathList_train[idx]\n",
    "    testFilePath  = buildingPathList_test[idx]\n",
    "    print(f\"{idx}. {getBuildingName(trainFilePath)}\")\n",
    "    with open(trainFilePath, 'rb') as inputTrainFile:\n",
    "        trainData = pickle.load(inputTrainFile)\n",
    "    with open(testFilePath, 'rb') as inputTestFile:\n",
    "        testData = pickle.load(inputTestFile)\n",
    "    \n",
    "    with pd.option_context('display.max_rows', 1, 'display.max_columns', 12,\n",
    "                           'display.width', 500, 'display.precision', 3,\n",
    "                           'display.colheader_justify', 'left'):\n",
    "        display(trainData)\n",
    "        display(testData)\n",
    "```        "
   ]
  },
  {
   "cell_type": "code",
   "execution_count": null,
   "id": "textile-flight",
   "metadata": {
    "papermill": {
     "duration": 0.047473,
     "end_time": "2021-05-02T08:41:56.708077",
     "exception": false,
     "start_time": "2021-05-02T08:41:56.660604",
     "status": "completed"
    },
    "tags": []
   },
   "outputs": [],
   "source": []
  },
  {
   "cell_type": "code",
   "execution_count": null,
   "id": "touched-weight",
   "metadata": {
    "papermill": {
     "duration": 0.046332,
     "end_time": "2021-05-02T08:41:56.801708",
     "exception": false,
     "start_time": "2021-05-02T08:41:56.755376",
     "status": "completed"
    },
    "tags": []
   },
   "outputs": [],
   "source": []
  }
 ],
 "metadata": {
  "kernelspec": {
   "display_name": "Python 3",
   "language": "python",
   "name": "python3"
  },
  "language_info": {
   "codemirror_mode": {
    "name": "ipython",
    "version": 3
   },
   "file_extension": ".py",
   "mimetype": "text/x-python",
   "name": "python",
   "nbconvert_exporter": "python",
   "pygments_lexer": "ipython3",
   "version": "3.7.9"
  },
  "papermill": {
   "default_parameters": {},
   "duration": 905.227467,
   "end_time": "2021-05-02T08:41:59.222068",
   "environment_variables": {},
   "exception": null,
   "input_path": "__notebook__.ipynb",
   "output_path": "__notebook__.ipynb",
   "parameters": {},
   "start_time": "2021-05-02T08:26:53.994601",
   "version": "2.3.2"
  }
 },
 "nbformat": 4,
 "nbformat_minor": 5
}
