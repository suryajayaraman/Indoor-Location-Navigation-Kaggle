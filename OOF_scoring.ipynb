{
 "cells": [
  {
   "cell_type": "code",
   "execution_count": 1,
   "id": "activated-sound",
   "metadata": {
    "execution": {
     "iopub.execute_input": "2021-04-27T14:32:16.972448Z",
     "iopub.status.busy": "2021-04-27T14:32:16.970789Z",
     "iopub.status.idle": "2021-04-27T14:32:32.594006Z",
     "shell.execute_reply": "2021-04-27T14:32:32.593162Z"
    },
    "papermill": {
     "duration": 15.642813,
     "end_time": "2021-04-27T14:32:32.594202",
     "exception": false,
     "start_time": "2021-04-27T14:32:16.951389",
     "status": "completed"
    },
    "tags": []
   },
   "outputs": [
    {
     "name": "stdout",
     "output_type": "stream",
     "text": [
      "Collecting pickle5\r\n",
      "  Downloading pickle5-0.0.11.tar.gz (132 kB)\r\n",
      "\u001b[K     |████████████████████████████████| 132 kB 1.3 MB/s \r\n",
      "\u001b[?25hBuilding wheels for collected packages: pickle5\r\n",
      "  Building wheel for pickle5 (setup.py) ... \u001b[?25l-\b \b\\\b \b|\b \b/\b \b-\b \bdone\r\n",
      "\u001b[?25h  Created wheel for pickle5: filename=pickle5-0.0.11-cp37-cp37m-linux_x86_64.whl size=245902 sha256=7e4339467247ea42425d9050083812087de72c6118d446d3b9065ce91da1ac12\r\n",
      "  Stored in directory: /root/.cache/pip/wheels/7e/6a/00/67136a90d6aca437d806d1d3cedf98106e840c97a3e5188198\r\n",
      "Successfully built pickle5\r\n",
      "Installing collected packages: pickle5\r\n",
      "Successfully installed pickle5-0.0.11\r\n"
     ]
    }
   ],
   "source": [
    "!pip install pickle5"
   ]
  },
  {
   "cell_type": "code",
   "execution_count": 2,
   "id": "developmental-offering",
   "metadata": {
    "execution": {
     "iopub.execute_input": "2021-04-27T14:32:32.629142Z",
     "iopub.status.busy": "2021-04-27T14:32:32.628141Z",
     "iopub.status.idle": "2021-04-27T14:32:33.077625Z",
     "shell.execute_reply": "2021-04-27T14:32:33.076767Z"
    },
    "papermill": {
     "duration": 0.470068,
     "end_time": "2021-04-27T14:32:33.077850",
     "exception": false,
     "start_time": "2021-04-27T14:32:32.607782",
     "status": "completed"
    },
    "tags": []
   },
   "outputs": [],
   "source": [
    "import glob\n",
    "import pickle5 as pickle\n",
    "import numpy as np\n",
    "import pandas as pd\n",
    "from tqdm import tqdm\n",
    "from scipy import interpolate\n",
    "import matplotlib.pyplot as plt"
   ]
  },
  {
   "cell_type": "code",
   "execution_count": 3,
   "id": "forty-johnson",
   "metadata": {
    "execution": {
     "iopub.execute_input": "2021-04-27T14:32:33.110931Z",
     "iopub.status.busy": "2021-04-27T14:32:33.109868Z",
     "iopub.status.idle": "2021-04-27T14:32:33.156632Z",
     "shell.execute_reply": "2021-04-27T14:32:33.157212Z"
    },
    "papermill": {
     "duration": 0.065953,
     "end_time": "2021-04-27T14:32:33.157441",
     "exception": false,
     "start_time": "2021-04-27T14:32:33.091488",
     "status": "completed"
    },
    "tags": []
   },
   "outputs": [],
   "source": [
    "modelOutputDir = '../input/idln-temp-files-version-1/MLP_v7_Results/MLP_v7_Results'\n",
    "modelWiFiOOF_files = sorted(glob.glob(f\"{modelOutputDir}/*_OOF.pickle\"))\n",
    "wayPointData_trainPath = '../input/idln-temp-files-version-1/wayPointData_train.pickle'"
   ]
  },
  {
   "cell_type": "markdown",
   "id": "valued-kingston",
   "metadata": {
    "papermill": {
     "duration": 0.018437,
     "end_time": "2021-04-27T14:32:33.189533",
     "exception": false,
     "start_time": "2021-04-27T14:32:33.171096",
     "status": "completed"
    },
    "tags": []
   },
   "source": [
    "## Helper functions"
   ]
  },
  {
   "cell_type": "code",
   "execution_count": 4,
   "id": "rocky-wheat",
   "metadata": {
    "execution": {
     "iopub.execute_input": "2021-04-27T14:32:33.228410Z",
     "iopub.status.busy": "2021-04-27T14:32:33.227245Z",
     "iopub.status.idle": "2021-04-27T14:32:33.249259Z",
     "shell.execute_reply": "2021-04-27T14:32:33.250112Z"
    },
    "papermill": {
     "duration": 0.040538,
     "end_time": "2021-04-27T14:32:33.250443",
     "exception": false,
     "start_time": "2021-04-27T14:32:33.209905",
     "status": "completed"
    },
    "tags": []
   },
   "outputs": [],
   "source": [
    "def getBuildingName(inputFilePath):\n",
    "    return inputFilePath.split('/')[-1].split('_')[0]\n",
    "\n",
    "def getModelName(inputFilePath):\n",
    "    temp = inputFilePath.split('/')[-1].split('_')\n",
    "    return temp[1] + '_' + temp[2]\n",
    "\n",
    "def getDfRmse(OOF_preds):\n",
    "    return np.sqrt(np.square(OOF_preds['x_preds'] - OOF_preds['x_tgt']) + \\\n",
    "                   np.square(OOF_preds['y_preds'] - OOF_preds['y_tgt'])).mean()\n",
    "\n",
    "def getBuildingWayPointData_train(buildingName : str):\n",
    "    ## read waypoint data\n",
    "    with open(wayPointData_trainPath, 'rb') as inputFile:\n",
    "        wayPointData_train = pickle.load(inputFile)\n",
    "        \n",
    "    ## shortlist the building data\n",
    "    buildingWayPointData = wayPointData_train[wayPointData_train['building'] == buildingName]\n",
    "    print(f\"buidling waypoint data shape = {buildingWayPointData.shape}\")\n",
    "    buildingWayPointData = buildingWayPointData.sort_values(by=['path','timestamp']);\n",
    "    return buildingWayPointData\n",
    "\n",
    "def commonPaths_WiFiOOF_WaypointData(buildingWifiOOF, buildingWayPointData):\n",
    "    wifiPaths = sorted(buildingWifiOOF['path'].unique().tolist())\n",
    "    waypointPaths = sorted(buildingWayPointData['path'].unique().tolist())\n",
    "    commonPaths = sorted(list(set(wifiPaths).intersection(set(waypointPaths))))\n",
    "    return commonPaths"
   ]
  },
  {
   "cell_type": "code",
   "execution_count": 5,
   "id": "defined-absence",
   "metadata": {
    "execution": {
     "iopub.execute_input": "2021-04-27T14:32:33.298569Z",
     "iopub.status.busy": "2021-04-27T14:32:33.297753Z",
     "iopub.status.idle": "2021-04-27T14:32:33.303358Z",
     "shell.execute_reply": "2021-04-27T14:32:33.304038Z"
    },
    "papermill": {
     "duration": 0.036272,
     "end_time": "2021-04-27T14:32:33.304257",
     "exception": false,
     "start_time": "2021-04-27T14:32:33.267985",
     "status": "completed"
    },
    "tags": []
   },
   "outputs": [],
   "source": [
    "def generate_WayPointPredictions(buildingName, modelName, buildingWifiOOF, buildingWayPointData):\n",
    "    \"\"\"\n",
    "    Function to calculate waypoint positions from postions predicted using waypoint features\n",
    "    Piecewise linear fit to waypoint timestamps from input wifi timestamps\n",
    "    \n",
    "    Extrapolation function reference\n",
    "    --------------------------------\n",
    "    https://stackoverflow.com/questions/2745329/how-to-make-scipy-interpolate-give-an-extrapolated-result-beyond-the-input-range\n",
    "    https://docs.scipy.org/doc/scipy/reference/generated/scipy.interpolate.interp1d.html#:~:text=Interpolate%20a%201%2DD%20function,the%20value%20of%20new%20points.\n",
    "    \"\"\"\n",
    "    \n",
    "    ## placeholder for storing output\n",
    "    timestamp = []\n",
    "    interp_x = []\n",
    "    interp_y = []\n",
    "    x_groundTruth = []\n",
    "    y_groundTruth = []\n",
    "    pathList = []\n",
    "\n",
    "    ## certain path files may not have wifi data, so considering only common path files\n",
    "    commonPaths = commonPaths_WiFiOOF_WaypointData(buildingWifiOOF, buildingWayPointData)\n",
    "\n",
    "    for path in commonPaths:\n",
    "        ## print(f\"path = {path}\")\n",
    "        pathWifiData = buildingWifiOOF[buildingWifiOOF['path'] == path]\n",
    "        pathWaypointData = buildingWayPointData[buildingWayPointData['path'] == path]\n",
    "\n",
    "        ## interpolate to get waypoint data\n",
    "        \"\"\"if len(pathWifiData) > 1:\n",
    "            ## method2 using scipy interpolate.interp1d function \n",
    "            xfit = interpolate.interp1d(pathWifiData['timestamp'], pathWifiData['x_preds'], kind ='slinear', fill_value='extrapolate')\n",
    "            yfit = interpolate.interp1d(pathWifiData['timestamp'], pathWifiData['y_preds'], kind ='slinear', fill_value='extrapolate')\n",
    "            interpolatedXCoordinates = xfit(pathWaypointData['timestamp'])\n",
    "            interpolatedYCoordinates = yfit(pathWaypointData['timestamp'])\n",
    "        else:\n",
    "        \"\"\"\n",
    "        ## method1 using np.interp function\n",
    "        interpolatedXCoordinates = np.interp(pathWaypointData['timestamp'], pathWifiData['timestamp'], pathWifiData['x_preds'])\n",
    "        interpolatedYCoordinates = np.interp(pathWaypointData['timestamp'], pathWifiData['timestamp'], pathWifiData['y_preds'])        \n",
    "\n",
    "        timestamp.append(pathWaypointData['timestamp'])\n",
    "        interp_x.append(interpolatedXCoordinates)\n",
    "        interp_y.append(interpolatedYCoordinates)\n",
    "        x_groundTruth.append(pathWaypointData['x'])\n",
    "        y_groundTruth.append(pathWaypointData['y'])\n",
    "        pathList.append([path] * len(interpolatedXCoordinates))\n",
    "\n",
    "    timestamp = np.concatenate(timestamp, axis=0)\n",
    "    interp_x = np.concatenate(interp_x, axis=0)\n",
    "    interp_y = np.concatenate(interp_y, axis=0)    \n",
    "    x_groundTruth = np.concatenate(x_groundTruth, axis=0)    \n",
    "    y_groundTruth = np.concatenate(y_groundTruth, axis=0)    \n",
    "    pathList = np.concatenate(pathList, axis=0)    \n",
    "\n",
    "    modelWayPointPredictions = pd.DataFrame({'timestamp': timestamp, 'x_preds' : interp_x, 'y_preds': interp_y, \n",
    "                                             'x_tgt': x_groundTruth, 'y_tgt': y_groundTruth, 'path': pathList})\n",
    "    modelWayPointPredictions.to_pickle(f\"{buildingName}_{modelName}_wayPointPreds_train.pickle\")\n",
    "    return modelWayPointPredictions"
   ]
  },
  {
   "cell_type": "code",
   "execution_count": 6,
   "id": "streaming-reproduction",
   "metadata": {
    "execution": {
     "iopub.execute_input": "2021-04-27T14:32:33.336049Z",
     "iopub.status.busy": "2021-04-27T14:32:33.335204Z",
     "iopub.status.idle": "2021-04-27T14:32:43.223697Z",
     "shell.execute_reply": "2021-04-27T14:32:43.222168Z"
    },
    "papermill": {
     "duration": 9.905752,
     "end_time": "2021-04-27T14:32:43.223950",
     "exception": false,
     "start_time": "2021-04-27T14:32:33.318198",
     "status": "completed"
    },
    "tags": []
   },
   "outputs": [
    {
     "name": "stderr",
     "output_type": "stream",
     "text": [
      "  0%|          | 0/6 [00:00<?, ?it/s]"
     ]
    },
    {
     "name": "stdout",
     "output_type": "stream",
     "text": [
      "buidling waypoint data shape = (2491, 5)\n"
     ]
    },
    {
     "name": "stderr",
     "output_type": "stream",
     "text": [
      " 17%|█▋        | 1/6 [00:01<00:09,  1.97s/it]"
     ]
    },
    {
     "name": "stdout",
     "output_type": "stream",
     "text": [
      "buidling waypoint data shape = (1691, 5)\n"
     ]
    },
    {
     "name": "stderr",
     "output_type": "stream",
     "text": [
      " 33%|███▎      | 2/6 [00:03<00:07,  1.76s/it]"
     ]
    },
    {
     "name": "stdout",
     "output_type": "stream",
     "text": [
      "buidling waypoint data shape = (897, 5)\n"
     ]
    },
    {
     "name": "stderr",
     "output_type": "stream",
     "text": [
      " 50%|█████     | 3/6 [00:03<00:03,  1.13s/it]"
     ]
    },
    {
     "name": "stdout",
     "output_type": "stream",
     "text": [
      "buidling waypoint data shape = (1008, 5)\n"
     ]
    },
    {
     "name": "stderr",
     "output_type": "stream",
     "text": [
      " 67%|██████▋   | 4/6 [00:04<00:02,  1.01s/it]"
     ]
    },
    {
     "name": "stdout",
     "output_type": "stream",
     "text": [
      "buidling waypoint data shape = (3119, 5)\n"
     ]
    },
    {
     "name": "stderr",
     "output_type": "stream",
     "text": [
      " 83%|████████▎ | 5/6 [00:08<00:01,  1.91s/it]"
     ]
    },
    {
     "name": "stdout",
     "output_type": "stream",
     "text": [
      "buidling waypoint data shape = (3613, 5)\n"
     ]
    },
    {
     "name": "stderr",
     "output_type": "stream",
     "text": [
      "100%|██████████| 6/6 [00:09<00:00,  1.64s/it]\n"
     ]
    }
   ],
   "source": [
    "modelName = getModelName(modelWiFiOOF_files[0])\n",
    "buildingNameList = []\n",
    "buildingOOFScoreList = []\n",
    "buildingWayPtPredsScoreList = []\n",
    "\n",
    "for buildingOOFPath in tqdm(modelWiFiOOF_files):\n",
    "    ## get building name\n",
    "    buildingName = getBuildingName(buildingOOFPath)\n",
    "    \n",
    "    ## read wifi OOF \n",
    "    buildingWifiOOF = pd.read_pickle(buildingOOFPath)\n",
    "    buildingWifiOOF = buildingWifiOOF.sort_values(by=['path','timestamp']);\n",
    "    buildingOOFScore = getDfRmse(buildingWifiOOF)\n",
    "    \n",
    "    ## read building waypoint data train\n",
    "    buildingWayPointData = getBuildingWayPointData_train(buildingName)\n",
    "    \n",
    "    ## interpolate and predict waypoint positiosn\n",
    "    modelWayPointPredictions = generate_WayPointPredictions(buildingName, modelName, buildingWifiOOF, buildingWayPointData)\n",
    "    buildingWayPtPredsScore = getDfRmse(modelWayPointPredictions)\n",
    "    \n",
    "    buildingNameList.append(buildingName)\n",
    "    buildingOOFScoreList.append(buildingOOFScore)\n",
    "    buildingWayPtPredsScoreList.append(buildingWayPtPredsScore)"
   ]
  },
  {
   "cell_type": "markdown",
   "id": "auburn-system",
   "metadata": {
    "papermill": {
     "duration": 0.017938,
     "end_time": "2021-04-27T14:32:43.261001",
     "exception": false,
     "start_time": "2021-04-27T14:32:43.243063",
     "status": "completed"
    },
    "tags": []
   },
   "source": [
    "```python\n",
    "## plt.plot(pathWaypointData['x'], pathWaypointData['y'], label='waypoint Data')\n",
    "plt.plot(pathWifiData['x_preds'], pathWifiData['y_preds'], label='wifi preds')\n",
    "plt.plot(interpolatedXCoordinates, interpolatedYCoordinates, label='interp wayPt Data')\n",
    "plt.legend()\n",
    "plt.grid(True)\n",
    "plt.show()\n",
    "```"
   ]
  },
  {
   "cell_type": "code",
   "execution_count": 7,
   "id": "external-tourist",
   "metadata": {
    "execution": {
     "iopub.execute_input": "2021-04-27T14:32:43.307735Z",
     "iopub.status.busy": "2021-04-27T14:32:43.306728Z",
     "iopub.status.idle": "2021-04-27T14:32:43.325421Z",
     "shell.execute_reply": "2021-04-27T14:32:43.324605Z"
    },
    "papermill": {
     "duration": 0.045344,
     "end_time": "2021-04-27T14:32:43.325604",
     "exception": false,
     "start_time": "2021-04-27T14:32:43.280260",
     "status": "completed"
    },
    "tags": []
   },
   "outputs": [
    {
     "data": {
      "text/html": [
       "<div>\n",
       "<style scoped>\n",
       "    .dataframe tbody tr th:only-of-type {\n",
       "        vertical-align: middle;\n",
       "    }\n",
       "\n",
       "    .dataframe tbody tr th {\n",
       "        vertical-align: top;\n",
       "    }\n",
       "\n",
       "    .dataframe thead th {\n",
       "        text-align: right;\n",
       "    }\n",
       "</style>\n",
       "<table border=\"1\" class=\"dataframe\">\n",
       "  <thead>\n",
       "    <tr style=\"text-align: right;\">\n",
       "      <th></th>\n",
       "      <th>buildingName</th>\n",
       "      <th>OOFScore</th>\n",
       "      <th>wayPtScore</th>\n",
       "    </tr>\n",
       "  </thead>\n",
       "  <tbody>\n",
       "    <tr>\n",
       "      <th>0</th>\n",
       "      <td>5a0546857ecc773753327266</td>\n",
       "      <td>8.771246</td>\n",
       "      <td>8.908190</td>\n",
       "    </tr>\n",
       "    <tr>\n",
       "      <th>1</th>\n",
       "      <td>5c3c44b80379370013e0fd2b</td>\n",
       "      <td>10.905769</td>\n",
       "      <td>10.801153</td>\n",
       "    </tr>\n",
       "    <tr>\n",
       "      <th>2</th>\n",
       "      <td>5d27099f03f801723c32511d</td>\n",
       "      <td>8.440701</td>\n",
       "      <td>8.619501</td>\n",
       "    </tr>\n",
       "    <tr>\n",
       "      <th>3</th>\n",
       "      <td>5d2709a003f801723c3251bf</td>\n",
       "      <td>7.574697</td>\n",
       "      <td>7.589286</td>\n",
       "    </tr>\n",
       "    <tr>\n",
       "      <th>4</th>\n",
       "      <td>5d2709b303f801723c327472</td>\n",
       "      <td>9.267596</td>\n",
       "      <td>10.075583</td>\n",
       "    </tr>\n",
       "    <tr>\n",
       "      <th>5</th>\n",
       "      <td>5d2709bb03f801723c32852c</td>\n",
       "      <td>12.517473</td>\n",
       "      <td>13.204245</td>\n",
       "    </tr>\n",
       "  </tbody>\n",
       "</table>\n",
       "</div>"
      ],
      "text/plain": [
       "               buildingName   OOFScore  wayPtScore\n",
       "0  5a0546857ecc773753327266   8.771246    8.908190\n",
       "1  5c3c44b80379370013e0fd2b  10.905769   10.801153\n",
       "2  5d27099f03f801723c32511d   8.440701    8.619501\n",
       "3  5d2709a003f801723c3251bf   7.574697    7.589286\n",
       "4  5d2709b303f801723c327472   9.267596   10.075583\n",
       "5  5d2709bb03f801723c32852c  12.517473   13.204245"
      ]
     },
     "execution_count": 7,
     "metadata": {},
     "output_type": "execute_result"
    }
   ],
   "source": [
    "modelWayPointResults = pd.DataFrame({'buildingName': buildingNameList, 'OOFScore': buildingOOFScoreList, 'wayPtScore': buildingWayPtPredsScoreList})\n",
    "modelWayPointResults"
   ]
  },
  {
   "cell_type": "code",
   "execution_count": 8,
   "id": "prescription-moral",
   "metadata": {
    "execution": {
     "iopub.execute_input": "2021-04-27T14:32:43.372186Z",
     "iopub.status.busy": "2021-04-27T14:32:43.371427Z",
     "iopub.status.idle": "2021-04-27T14:32:43.375228Z",
     "shell.execute_reply": "2021-04-27T14:32:43.374677Z"
    },
    "papermill": {
     "duration": 0.029037,
     "end_time": "2021-04-27T14:32:43.375401",
     "exception": false,
     "start_time": "2021-04-27T14:32:43.346364",
     "status": "completed"
    },
    "tags": []
   },
   "outputs": [],
   "source": [
    "modelWayPointResults.to_pickle(f\"{modelName}_oof_wayPtScore_comparison.pickle\")"
   ]
  },
  {
   "cell_type": "code",
   "execution_count": null,
   "id": "double-index",
   "metadata": {
    "papermill": {
     "duration": 0.018672,
     "end_time": "2021-04-27T14:32:43.412943",
     "exception": false,
     "start_time": "2021-04-27T14:32:43.394271",
     "status": "completed"
    },
    "tags": []
   },
   "outputs": [],
   "source": []
  }
 ],
 "metadata": {
  "kernelspec": {
   "display_name": "Python 3",
   "language": "python",
   "name": "python3"
  },
  "language_info": {
   "codemirror_mode": {
    "name": "ipython",
    "version": 3
   },
   "file_extension": ".py",
   "mimetype": "text/x-python",
   "name": "python",
   "nbconvert_exporter": "python",
   "pygments_lexer": "ipython3",
   "version": "3.7.10"
  },
  "papermill": {
   "default_parameters": {},
   "duration": 38.183549,
   "end_time": "2021-04-27T14:32:44.683238",
   "environment_variables": {},
   "exception": null,
   "input_path": "__notebook__.ipynb",
   "output_path": "__notebook__.ipynb",
   "parameters": {},
   "start_time": "2021-04-27T14:32:06.499689",
   "version": "2.3.3"
  }
 },
 "nbformat": 4,
 "nbformat_minor": 5
}
