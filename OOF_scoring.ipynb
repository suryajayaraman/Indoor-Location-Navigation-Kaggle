{
 "cells": [
  {
   "cell_type": "code",
   "execution_count": 1,
   "id": "equivalent-prediction",
   "metadata": {},
   "outputs": [],
   "source": [
    "import glob\n",
    "import numpy as np\n",
    "import pandas as pd\n",
    "from tqdm import tqdm\n",
    "import matplotlib.pyplot as plt"
   ]
  },
  {
   "cell_type": "code",
   "execution_count": 2,
   "id": "radio-syria",
   "metadata": {},
   "outputs": [],
   "source": [
    "def getBuildingName(inputFilePath):\n",
    "    return inputFilePath.split('/')[-1].split('_')[0]"
   ]
  },
  {
   "cell_type": "code",
   "execution_count": 3,
   "id": "dramatic-caribbean",
   "metadata": {},
   "outputs": [],
   "source": [
    "def getOOFRmse(OOF_predsFile):\n",
    "    OOFRmse = np.sqrt(np.square(OOF_predsFile['x_preds'] - OOF_predsFile['x_tgt']) + \\\n",
    "                      np.square(OOF_predsFile['y_preds'] - OOF_predsFile['y_tgt'])).mean()\n",
    "    return OOFRmse"
   ]
  },
  {
   "cell_type": "code",
   "execution_count": 5,
   "id": "brilliant-pontiac",
   "metadata": {},
   "outputs": [],
   "source": [
    "modelOutputDir = 'modelSaveDir/MLP_v7_Results'\n",
    "modelWiFiOOF_files = sorted(glob.glob(f\"{modelOutputDir}/*_OOF.pickle\"))"
   ]
  },
  {
   "cell_type": "code",
   "execution_count": 6,
   "id": "documentary-charleston",
   "metadata": {},
   "outputs": [
    {
     "data": {
      "text/html": [
       "<div>\n",
       "<style scoped>\n",
       "    .dataframe tbody tr th:only-of-type {\n",
       "        vertical-align: middle;\n",
       "    }\n",
       "\n",
       "    .dataframe tbody tr th {\n",
       "        vertical-align: top;\n",
       "    }\n",
       "\n",
       "    .dataframe thead th {\n",
       "        text-align: right;\n",
       "    }\n",
       "</style>\n",
       "<table border=\"1\" class=\"dataframe\">\n",
       "  <thead>\n",
       "    <tr style=\"text-align: right;\">\n",
       "      <th></th>\n",
       "      <th>timestamp</th>\n",
       "      <th>x_preds</th>\n",
       "      <th>y_preds</th>\n",
       "      <th>floor_preds</th>\n",
       "      <th>x_tgt</th>\n",
       "      <th>y_tgt</th>\n",
       "      <th>floor_tgt</th>\n",
       "      <th>path</th>\n",
       "      <th>fold</th>\n",
       "    </tr>\n",
       "  </thead>\n",
       "  <tbody>\n",
       "    <tr>\n",
       "      <th>6876</th>\n",
       "      <td>1561368764807</td>\n",
       "      <td>110.867310</td>\n",
       "      <td>43.006271</td>\n",
       "      <td>-1.123863e-37</td>\n",
       "      <td>77.873085</td>\n",
       "      <td>37.509888</td>\n",
       "      <td>2.0</td>\n",
       "      <td>5d10a1669c50c70008fe8977</td>\n",
       "      <td>3</td>\n",
       "    </tr>\n",
       "    <tr>\n",
       "      <th>6877</th>\n",
       "      <td>1561368766804</td>\n",
       "      <td>111.554100</td>\n",
       "      <td>40.925041</td>\n",
       "      <td>-1.114239e-37</td>\n",
       "      <td>77.523071</td>\n",
       "      <td>35.998848</td>\n",
       "      <td>2.0</td>\n",
       "      <td>5d10a1669c50c70008fe8977</td>\n",
       "      <td>3</td>\n",
       "    </tr>\n",
       "    <tr>\n",
       "      <th>6878</th>\n",
       "      <td>1561368768807</td>\n",
       "      <td>116.016762</td>\n",
       "      <td>38.983437</td>\n",
       "      <td>-1.151458e-37</td>\n",
       "      <td>77.172005</td>\n",
       "      <td>34.483273</td>\n",
       "      <td>2.0</td>\n",
       "      <td>5d10a1669c50c70008fe8977</td>\n",
       "      <td>3</td>\n",
       "    </tr>\n",
       "  </tbody>\n",
       "</table>\n",
       "</div>"
      ],
      "text/plain": [
       "          timestamp     x_preds    y_preds   floor_preds      x_tgt  \\\n",
       "6876  1561368764807  110.867310  43.006271 -1.123863e-37  77.873085   \n",
       "6877  1561368766804  111.554100  40.925041 -1.114239e-37  77.523071   \n",
       "6878  1561368768807  116.016762  38.983437 -1.151458e-37  77.172005   \n",
       "\n",
       "          y_tgt  floor_tgt                      path  fold  \n",
       "6876  37.509888        2.0  5d10a1669c50c70008fe8977     3  \n",
       "6877  35.998848        2.0  5d10a1669c50c70008fe8977     3  \n",
       "6878  34.483273        2.0  5d10a1669c50c70008fe8977     3  "
      ]
     },
     "execution_count": 6,
     "metadata": {},
     "output_type": "execute_result"
    }
   ],
   "source": [
    "buildingWifi_OOFPath = modelWiFiOOF_files[0]\n",
    "buildingName = getBuildingName(buildingWifi_OOFPath)\n",
    "print(f\"buildingName = {buildingName}\")\n",
    "buildingWifi_OOF = pd.read_pickle(buildingWifi_OOFPath)\n",
    "## print(f\"OOF position rmse for building - {buildingName} is {getOOFRmse(buildingWifi_OOF)}\")\n",
    "buildingWifi_OOF = buildingWifi_OOF.sort_values(by=['path','timestamp']);\n",
    "buildingWifi_OOF.head(3)"
   ]
  },
  {
   "cell_type": "code",
   "execution_count": 8,
   "id": "eligible-namibia",
   "metadata": {},
   "outputs": [
    {
     "name": "stdout",
     "output_type": "stream",
     "text": [
      "buidling waypoint data shape = (2491, 5)\n"
     ]
    },
    {
     "data": {
      "text/html": [
       "<div>\n",
       "<style scoped>\n",
       "    .dataframe tbody tr th:only-of-type {\n",
       "        vertical-align: middle;\n",
       "    }\n",
       "\n",
       "    .dataframe tbody tr th {\n",
       "        vertical-align: top;\n",
       "    }\n",
       "\n",
       "    .dataframe thead th {\n",
       "        text-align: right;\n",
       "    }\n",
       "</style>\n",
       "<table border=\"1\" class=\"dataframe\">\n",
       "  <thead>\n",
       "    <tr style=\"text-align: right;\">\n",
       "      <th></th>\n",
       "      <th>timestamp</th>\n",
       "      <th>x</th>\n",
       "      <th>y</th>\n",
       "      <th>path</th>\n",
       "      <th>building</th>\n",
       "    </tr>\n",
       "  </thead>\n",
       "  <tbody>\n",
       "    <tr>\n",
       "      <th>1825</th>\n",
       "      <td>1561368762838</td>\n",
       "      <td>78.218193</td>\n",
       "      <td>38.999737</td>\n",
       "      <td>5d10a1669c50c70008fe8977</td>\n",
       "      <td>5a0546857ecc773753327266</td>\n",
       "    </tr>\n",
       "    <tr>\n",
       "      <th>1826</th>\n",
       "      <td>1561368774057</td>\n",
       "      <td>76.251839</td>\n",
       "      <td>30.510839</td>\n",
       "      <td>5d10a1669c50c70008fe8977</td>\n",
       "      <td>5a0546857ecc773753327266</td>\n",
       "    </tr>\n",
       "    <tr>\n",
       "      <th>1827</th>\n",
       "      <td>1561368793535</td>\n",
       "      <td>78.364815</td>\n",
       "      <td>10.530369</td>\n",
       "      <td>5d10a1669c50c70008fe8977</td>\n",
       "      <td>5a0546857ecc773753327266</td>\n",
       "    </tr>\n",
       "  </tbody>\n",
       "</table>\n",
       "</div>"
      ],
      "text/plain": [
       "          timestamp          x          y                      path  \\\n",
       "1825  1561368762838  78.218193  38.999737  5d10a1669c50c70008fe8977   \n",
       "1826  1561368774057  76.251839  30.510839  5d10a1669c50c70008fe8977   \n",
       "1827  1561368793535  78.364815  10.530369  5d10a1669c50c70008fe8977   \n",
       "\n",
       "                      building  \n",
       "1825  5a0546857ecc773753327266  \n",
       "1826  5a0546857ecc773753327266  \n",
       "1827  5a0546857ecc773753327266  "
      ]
     },
     "execution_count": 8,
     "metadata": {},
     "output_type": "execute_result"
    }
   ],
   "source": [
    "wayPointData_train = pd.read_pickle('wayPointData_train.pickle')\n",
    "buildingWayPointData = wayPointData_train[wayPointData_train['building'] == buildingName]\n",
    "print(f\"buidling waypoint data shape = {buildingWayPointData.shape}\")\n",
    "buildingWayPointData = buildingWayPointData.sort_values(by=['path','timestamp']);\n",
    "buildingWayPointData.head(3)"
   ]
  },
  {
   "cell_type": "code",
   "execution_count": 15,
   "id": "closed-silly",
   "metadata": {},
   "outputs": [],
   "source": [
    "wifiPaths = sorted(buildingWifi_OOF['path'].unique().tolist())\n",
    "waypointPaths = sorted(buildingWayPointData['path'].unique().tolist())\n",
    "commonPaths = sorted(list(set(wifiPaths).intersection(set(waypointPaths))))"
   ]
  },
  {
   "cell_type": "code",
   "execution_count": 40,
   "id": "deadly-springer",
   "metadata": {},
   "outputs": [],
   "source": [
    "interp_x = []\n",
    "interp_y = []\n",
    "x_groundTruth = []\n",
    "y_groundTruth = []\n",
    "\n",
    "for path in commonPaths:\n",
    "    ## print(f\"path = {path}\")\n",
    "    pathWifiData = buildingWifi_OOF[buildingWifi_OOF['path'] == path]\n",
    "    pathWaypointData = buildingWayPointData[buildingWayPointData['path'] == path]\n",
    "\n",
    "    ## interpolated waypoint data\n",
    "    interpolatedXCoordinates = np.interp(pathWaypointData['timestamp'], pathWifiData['timestamp'], pathWifiData['x_preds'])\n",
    "    interpolatedYCoordinates = np.interp(pathWaypointData['timestamp'], pathWifiData['timestamp'], pathWifiData['y_preds'])\n",
    "\n",
    "    interp_x.append(interpolatedXCoordinates)\n",
    "    interp_y.append(interpolatedYCoordinates)\n",
    "    \n",
    "    x_groundTruth.append(pathWaypointData['x'])\n",
    "    y_groundTruth.append(pathWaypointData['y'])\n",
    "\n",
    "interp_x = np.concatenate(interp_x, axis=0)\n",
    "interp_y = np.concatenate(interp_y, axis=0)    \n",
    "x_groundTruth = np.concatenate(x_groundTruth, axis=0)    \n",
    "y_groundTruth = np.concatenate(y_groundTruth, axis=0)    "
   ]
  },
  {
   "cell_type": "code",
   "execution_count": 41,
   "id": "pretty-reliance",
   "metadata": {},
   "outputs": [
    {
     "data": {
      "text/plain": [
       "((2487,), (2487,), (2487,), (2487,))"
      ]
     },
     "execution_count": 41,
     "metadata": {},
     "output_type": "execute_result"
    }
   ],
   "source": [
    "interp_x.shape, interp_y.shape, x_groundTruth.shape, y_groundTruth.shape"
   ]
  },
  {
   "cell_type": "code",
   "execution_count": 43,
   "id": "respective-thailand",
   "metadata": {},
   "outputs": [
    {
     "data": {
      "text/plain": [
       "8.908190218568878"
      ]
     },
     "execution_count": 43,
     "metadata": {},
     "output_type": "execute_result"
    }
   ],
   "source": [
    "np.sqrt(np.square(interp_x - x_groundTruth) + np.square(interp_y - y_groundTruth)).mean()"
   ]
  },
  {
   "cell_type": "code",
   "execution_count": 31,
   "id": "formed-denmark",
   "metadata": {},
   "outputs": [],
   "source": []
  },
  {
   "cell_type": "code",
   "execution_count": 33,
   "id": "specialized-seventh",
   "metadata": {},
   "outputs": [
    {
     "data": {
      "image/png": "[encoded data removed]",
      "text/plain": [
       "<Figure size 432x288 with 1 Axes>"
      ]
     },
     "metadata": {
      "needs_background": "light"
     },
     "output_type": "display_data"
    }
   ],
   "source": [
    "## plt.plot(pathWaypointData['x'], pathWaypointData['y'], label='waypoint Data')\n",
    "plt.plot(pathWifiData['x_preds'], pathWifiData['y_preds'], label='wifi preds')\n",
    "plt.plot(interpolatedXCoordinates, interpolatedYCoordinates, label='interp wayPt Data')\n",
    "plt.legend()\n",
    "plt.grid(True)\n",
    "plt.show()"
   ]
  },
  {
   "cell_type": "code",
   "execution_count": null,
   "id": "threaded-arthur",
   "metadata": {},
   "outputs": [],
   "source": []
  }
 ],
 "metadata": {
  "kernelspec": {
   "display_name": "kaggle",
   "language": "python",
   "name": "kaggle"
  },
  "language_info": {
   "codemirror_mode": {
    "name": "ipython",
    "version": 3
   },
   "file_extension": ".py",
   "mimetype": "text/x-python",
   "name": "python",
   "nbconvert_exporter": "python",
   "pygments_lexer": "ipython3",
   "version": "3.8.8"
  }
 },
 "nbformat": 4,
 "nbformat_minor": 5
}
