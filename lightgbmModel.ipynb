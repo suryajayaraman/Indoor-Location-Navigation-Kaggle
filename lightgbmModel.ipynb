{
 "cells": [
  {
   "cell_type": "markdown",
   "id": "attended-linux",
   "metadata": {},
   "source": [
    "## Libraries import"
   ]
  },
  {
   "cell_type": "code",
   "execution_count": 1,
   "id": "studied-contents",
   "metadata": {},
   "outputs": [],
   "source": [
    "import os\n",
    "import glob\n",
    "import random\n",
    "import numpy as np\n",
    "import pandas as pd\n",
    "import lightgbm as lgb\n",
    "from sklearn.model_selection import KFold, GroupKFold, cross_val_score"
   ]
  },
  {
   "cell_type": "code",
   "execution_count": 2,
   "id": "attempted-guide",
   "metadata": {},
   "outputs": [],
   "source": [
    "SEED = 42\n",
    "random.seed(SEED)\n",
    "np.random.seed(SEED)"
   ]
  },
  {
   "cell_type": "code",
   "execution_count": 3,
   "id": "insured-square",
   "metadata": {},
   "outputs": [],
   "source": [
    "numFolds = 5"
   ]
  },
  {
   "cell_type": "code",
   "execution_count": 4,
   "id": "affected-letter",
   "metadata": {
    "_cell_guid": "b1076dfc-b9ad-4769-8c92-a6c4dae69d19",
    "_uuid": "8f2839f25d086af736a60e9eeb907d3b93b6e0e5",
    "execution": {
     "iopub.execute_input": "2021-02-03T20:42:59.104950Z",
     "iopub.status.busy": "2021-02-03T20:42:59.104312Z",
     "iopub.status.idle": "2021-02-03T20:42:59.109645Z",
     "shell.execute_reply": "2021-02-03T20:42:59.109114Z"
    },
    "papermill": {
     "duration": 0.013385,
     "end_time": "2021-02-03T20:42:59.109792",
     "exception": false,
     "start_time": "2021-02-03T20:42:59.096407",
     "status": "completed"
    },
    "tags": []
   },
   "outputs": [],
   "source": [
    "feature_dir = \"referencePublicNotebooks/500Features\""
   ]
  },
  {
   "cell_type": "code",
   "execution_count": 5,
   "id": "digital-check",
   "metadata": {
    "execution": {
     "iopub.execute_input": "2021-02-03T20:42:59.128506Z",
     "iopub.status.busy": "2021-02-03T20:42:59.127818Z",
     "iopub.status.idle": "2021-02-03T20:42:59.199293Z",
     "shell.execute_reply": "2021-02-03T20:42:59.198625Z"
    },
    "papermill": {
     "duration": 0.083943,
     "end_time": "2021-02-03T20:42:59.199440",
     "exception": false,
     "start_time": "2021-02-03T20:42:59.115497",
     "status": "completed"
    },
    "tags": []
   },
   "outputs": [],
   "source": [
    "# the metric used in this competition\n",
    "def comp_metric(xhat, yhat, fhat, x, y, f):\n",
    "    intermediate = np.sqrt(np.power(xhat - x,2) + np.power(yhat-y,2)) + 15 * np.abs(fhat-f)\n",
    "    return intermediate.sum()/xhat.shape[0]\n",
    "\n",
    "# get our train and test files\n",
    "train_files = sorted(glob.glob(os.path.join(feature_dir, 'train/*_train.csv')))\n",
    "test_files = sorted(glob.glob(os.path.join(feature_dir, 'test/*_test.csv')))\n",
    "ssubm = pd.read_csv('sample_submission.csv', index_col=0)"
   ]
  },
  {
   "cell_type": "code",
   "execution_count": 6,
   "id": "lyric-writer",
   "metadata": {},
   "outputs": [
    {
     "data": {
      "text/plain": [
       "(24, 24)"
      ]
     },
     "execution_count": 6,
     "metadata": {},
     "output_type": "execute_result"
    }
   ],
   "source": [
    "len(train_files),len(test_files)"
   ]
  },
  {
   "cell_type": "code",
   "execution_count": 7,
   "id": "common-farming",
   "metadata": {},
   "outputs": [
    {
     "name": "stdout",
     "output_type": "stream",
     "text": [
      "(9296, 1655) (299, 1652)\n"
     ]
    }
   ],
   "source": [
    "e = 0\n",
    "data = pd.read_csv(train_files[0], index_col=0)\n",
    "test_data = pd.read_csv(test_files[e], index_col=0)\n",
    "print(data.shape, test_data.shape)"
   ]
  },
  {
   "cell_type": "code",
   "execution_count": 8,
   "id": "judicial-marsh",
   "metadata": {},
   "outputs": [],
   "source": [
    "x_train = data.iloc[:,:-4]\n",
    "y_trainy = data.iloc[:,-3]\n",
    "y_trainx = data.iloc[:,-4]\n",
    "y_trainf = data.iloc[:,-2]"
   ]
  },
  {
   "cell_type": "code",
   "execution_count": 9,
   "id": "harmful-yesterday",
   "metadata": {},
   "outputs": [],
   "source": [
    "kfold = KFold(n_splits=numFolds, random_state=SEED, shuffle=True)\n",
    "modely = lgb.LGBMRegressor(n_estimators=125, num_leaves=90)\n",
    "modelx = lgb.LGBMRegressor(n_estimators=125, num_leaves=90)\n",
    "modelf = lgb.LGBMClassifier(n_estimators=125, num_leaves=90)"
   ]
  },
  {
   "cell_type": "code",
   "execution_count": 10,
   "id": "facial-diameter",
   "metadata": {},
   "outputs": [
    {
     "name": "stdout",
     "output_type": "stream",
     "text": [
      "Cross val score for y coordinate is [0.99514769 0.99598623 0.99527829 0.99353552 0.99519227]\n"
     ]
    }
   ],
   "source": [
    "results = cross_val_score(modely, x_train, y_trainy, cv=kfold)\n",
    "print(f\"Cross val score for y coordinate is {results}\")"
   ]
  },
  {
   "cell_type": "code",
   "execution_count": 11,
   "id": "purple-aviation",
   "metadata": {},
   "outputs": [
    {
     "name": "stdout",
     "output_type": "stream",
     "text": [
      "Cross val score for x coordinate is [0.99118581 0.99413059 0.99269703 0.9927723  0.99332617]\n"
     ]
    }
   ],
   "source": [
    "results = cross_val_score(modely, x_train, y_trainx, cv=kfold)\n",
    "print(f\"Cross val score for x coordinate is {results}\")"
   ]
  },
  {
   "cell_type": "code",
   "execution_count": 12,
   "id": "monetary-curtis",
   "metadata": {},
   "outputs": [
    {
     "name": "stdout",
     "output_type": "stream",
     "text": [
      "Cross val score for floor is [0.99663275 0.99815239 0.99717767 0.99790664 0.99739433]\n"
     ]
    }
   ],
   "source": [
    "results = cross_val_score(modely, x_train, y_trainf, cv=kfold)\n",
    "print(f\"Cross val score for floor is {results}\")"
   ]
  }
 ],
 "metadata": {
  "kernelspec": {
   "display_name": "kaggle",
   "language": "python",
   "name": "kaggle"
  },
  "language_info": {
   "codemirror_mode": {
    "name": "ipython",
    "version": 3
   },
   "file_extension": ".py",
   "mimetype": "text/x-python",
   "name": "python",
   "nbconvert_exporter": "python",
   "pygments_lexer": "ipython3",
   "version": "3.8.8"
  }
 },
 "nbformat": 4,
 "nbformat_minor": 5
}
