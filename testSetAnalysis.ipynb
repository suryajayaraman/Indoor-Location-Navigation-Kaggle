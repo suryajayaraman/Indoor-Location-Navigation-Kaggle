{
 "cells": [
  {
   "cell_type": "markdown",
   "id": "attended-linux",
   "metadata": {},
   "source": [
    "## Libraries import"
   ]
  },
  {
   "cell_type": "code",
   "execution_count": 1,
   "id": "another-hygiene",
   "metadata": {},
   "outputs": [],
   "source": [
    "import pandas as pd\n",
    "import numpy as np\n",
    "import os\n",
    "import glob\n",
    "\n",
    "# functions and libraires from competition github\n",
    "from dataclasses import dataclass\n",
    "from io_f import read_data_file\n",
    "from visualize_f import visualize_heatmap, visualize_trajectory"
   ]
  },
  {
   "cell_type": "code",
   "execution_count": 2,
   "id": "vietnamese-ensemble",
   "metadata": {},
   "outputs": [],
   "source": [
    "TRAIN_FOLDER = 'train'\n",
    "TEST_FOLDER = 'test'"
   ]
  },
  {
   "cell_type": "markdown",
   "id": "quantitative-result",
   "metadata": {},
   "source": [
    "## helper functions"
   ]
  },
  {
   "cell_type": "code",
   "execution_count": 3,
   "id": "experienced-cornwall",
   "metadata": {},
   "outputs": [],
   "source": [
    "def findFilesSpecificFormat(searchDirectory, fileExtension):\n",
    "    fileExtension = f\"*.{fileExtension}\"\n",
    "    matchingFileFormatList = [file\n",
    "                             for path, subdir, files in os.walk(searchDirectory)\n",
    "                             for file in glob.glob(os.path.join(path, fileExtension))]\n",
    "    return matchingFileFormatList"
   ]
  },
  {
   "cell_type": "code",
   "execution_count": 4,
   "id": "incoming-import",
   "metadata": {},
   "outputs": [],
   "source": [
    "def getSiteTestPathFiles(siteID):\n",
    "    tempdf = testSitePathTimestampData[testSitePathTimestampData.loc[:,0]==siteID]\n",
    "    pathFilesNames = np.unique(tempdf.loc[:,1].values).tolist()\n",
    "    sitePathFilesList = [f\"{TEST_FOLDER}/{x}.txt\" for x in pathFilesNames]\n",
    "    return sitePathFilesList"
   ]
  },
  {
   "cell_type": "code",
   "execution_count": 5,
   "id": "surgical-elephant",
   "metadata": {},
   "outputs": [],
   "source": [
    "def getUniqueWiFiAPList(data):\n",
    "    wifiData = data.wifi\n",
    "    return np.unique(wifiData[:,2]).tolist()"
   ]
  },
  {
   "cell_type": "markdown",
   "id": "coupled-navigation",
   "metadata": {},
   "source": [
    "## Parse sampleSubmissionCSV"
   ]
  },
  {
   "cell_type": "code",
   "execution_count": 6,
   "id": "tight-farming",
   "metadata": {},
   "outputs": [
    {
     "data": {
      "text/html": [
       "<div>\n",
       "<style scoped>\n",
       "    .dataframe tbody tr th:only-of-type {\n",
       "        vertical-align: middle;\n",
       "    }\n",
       "\n",
       "    .dataframe tbody tr th {\n",
       "        vertical-align: top;\n",
       "    }\n",
       "\n",
       "    .dataframe thead th {\n",
       "        text-align: right;\n",
       "    }\n",
       "</style>\n",
       "<table border=\"1\" class=\"dataframe\">\n",
       "  <thead>\n",
       "    <tr style=\"text-align: right;\">\n",
       "      <th></th>\n",
       "      <th>site_path_timestamp</th>\n",
       "      <th>floor</th>\n",
       "      <th>x</th>\n",
       "      <th>y</th>\n",
       "    </tr>\n",
       "  </thead>\n",
       "  <tbody>\n",
       "    <tr>\n",
       "      <th>0</th>\n",
       "      <td>5a0546857ecc773753327266_046cfa46be49fc1083481...</td>\n",
       "      <td>0</td>\n",
       "      <td>75.0</td>\n",
       "      <td>75.0</td>\n",
       "    </tr>\n",
       "    <tr>\n",
       "      <th>1</th>\n",
       "      <td>5a0546857ecc773753327266_046cfa46be49fc1083481...</td>\n",
       "      <td>0</td>\n",
       "      <td>75.0</td>\n",
       "      <td>75.0</td>\n",
       "    </tr>\n",
       "    <tr>\n",
       "      <th>2</th>\n",
       "      <td>5a0546857ecc773753327266_046cfa46be49fc1083481...</td>\n",
       "      <td>0</td>\n",
       "      <td>75.0</td>\n",
       "      <td>75.0</td>\n",
       "    </tr>\n",
       "  </tbody>\n",
       "</table>\n",
       "</div>"
      ],
      "text/plain": [
       "                                 site_path_timestamp  floor     x     y\n",
       "0  5a0546857ecc773753327266_046cfa46be49fc1083481...      0  75.0  75.0\n",
       "1  5a0546857ecc773753327266_046cfa46be49fc1083481...      0  75.0  75.0\n",
       "2  5a0546857ecc773753327266_046cfa46be49fc1083481...      0  75.0  75.0"
      ]
     },
     "execution_count": 6,
     "metadata": {},
     "output_type": "execute_result"
    }
   ],
   "source": [
    "sampleSubmissionCSV = pd.read_csv('sample_submission.csv')\n",
    "sampleSubmissionCSV.head(3)"
   ]
  },
  {
   "cell_type": "code",
   "execution_count": 7,
   "id": "greek-header",
   "metadata": {},
   "outputs": [
    {
     "data": {
      "text/html": [
       "<div>\n",
       "<style scoped>\n",
       "    .dataframe tbody tr th:only-of-type {\n",
       "        vertical-align: middle;\n",
       "    }\n",
       "\n",
       "    .dataframe tbody tr th {\n",
       "        vertical-align: top;\n",
       "    }\n",
       "\n",
       "    .dataframe thead th {\n",
       "        text-align: right;\n",
       "    }\n",
       "</style>\n",
       "<table border=\"1\" class=\"dataframe\">\n",
       "  <thead>\n",
       "    <tr style=\"text-align: right;\">\n",
       "      <th></th>\n",
       "      <th>0</th>\n",
       "      <th>1</th>\n",
       "      <th>2</th>\n",
       "    </tr>\n",
       "  </thead>\n",
       "  <tbody>\n",
       "    <tr>\n",
       "      <th>0</th>\n",
       "      <td>5a0546857ecc773753327266</td>\n",
       "      <td>046cfa46be49fc10834815c6</td>\n",
       "      <td>0000000000009</td>\n",
       "    </tr>\n",
       "    <tr>\n",
       "      <th>1</th>\n",
       "      <td>5a0546857ecc773753327266</td>\n",
       "      <td>046cfa46be49fc10834815c6</td>\n",
       "      <td>0000000009017</td>\n",
       "    </tr>\n",
       "    <tr>\n",
       "      <th>2</th>\n",
       "      <td>5a0546857ecc773753327266</td>\n",
       "      <td>046cfa46be49fc10834815c6</td>\n",
       "      <td>0000000015326</td>\n",
       "    </tr>\n",
       "  </tbody>\n",
       "</table>\n",
       "</div>"
      ],
      "text/plain": [
       "                          0                         1              2\n",
       "0  5a0546857ecc773753327266  046cfa46be49fc10834815c6  0000000000009\n",
       "1  5a0546857ecc773753327266  046cfa46be49fc10834815c6  0000000009017\n",
       "2  5a0546857ecc773753327266  046cfa46be49fc10834815c6  0000000015326"
      ]
     },
     "execution_count": 7,
     "metadata": {},
     "output_type": "execute_result"
    }
   ],
   "source": [
    "testSitePathTimestampData = sampleSubmissionCSV['site_path_timestamp'].str.split('_', expand=True)\n",
    "testSitePathTimestampData.head(3)"
   ]
  },
  {
   "cell_type": "code",
   "execution_count": 8,
   "id": "absent-charity",
   "metadata": {},
   "outputs": [
    {
     "name": "stdout",
     "output_type": "stream",
     "text": [
      "testSitePathTimestampData.columns =  RangeIndex(start=0, stop=3, step=1)\n"
     ]
    }
   ],
   "source": [
    "print(\"testSitePathTimestampData.columns = \", testSitePathTimestampData.columns)"
   ]
  },
  {
   "cell_type": "code",
   "execution_count": 9,
   "id": "executed-optimum",
   "metadata": {},
   "outputs": [
    {
     "name": "stdout",
     "output_type": "stream",
     "text": [
      "Number of train sites 204\n",
      "Number of test sites 24\n"
     ]
    }
   ],
   "source": [
    "# testSites listed as separate folders under train/\n",
    "trainSitesList = os.listdir('train/')\n",
    "print(f\"Number of train sites {len(trainSitesList)}\")\n",
    "\n",
    "uniqueTestSitesList = testSitePathTimestampData.loc[:,0].unique().tolist()\n",
    "print(f\"Number of test sites {len(uniqueTestSitesList)}\")"
   ]
  },
  {
   "cell_type": "markdown",
   "id": "adequate-fluid",
   "metadata": {},
   "source": [
    "## Compute WiFi unique access points for one Test site"
   ]
  },
  {
   "cell_type": "code",
   "execution_count": 10,
   "id": "suitable-space",
   "metadata": {},
   "outputs": [
    {
     "name": "stdout",
     "output_type": "stream",
     "text": [
      "There are 29 PathFiles in site 5a0546857ecc773753327266\n",
      "sample file is test/046cfa46be49fc10834815c6.txt\n"
     ]
    }
   ],
   "source": [
    "sampleTestSite = uniqueTestSitesList[0]\n",
    "#print(f\"sampleTestSite is {sampleTestSite}\")\n",
    "sampleTestSitePathList = getSiteTestPathFiles(sampleTestSite) \n",
    "print(f\"There are {len(sampleTestSitePathList)} PathFiles in site {sampleTestSite}\")\n",
    "print(f\"sample file is {sampleTestSitePathList[0]}\")"
   ]
  },
  {
   "cell_type": "markdown",
   "id": "vietnamese-effectiveness",
   "metadata": {},
   "source": [
    "```python\n",
    "# To check if resulting files are present\n",
    "print([os.path.isfile(x) for x in sampleTestSitePathList])\n",
    "```"
   ]
  },
  {
   "cell_type": "code",
   "execution_count": 11,
   "id": "center-daisy",
   "metadata": {},
   "outputs": [
    {
     "name": "stdout",
     "output_type": "stream",
     "text": [
      "There are 668 unique WiFi APs in  test/046cfa46be49fc10834815c6.txt pathfile\n",
      "There are 436 unique WiFi APs in  test/05d052dde78384b0c543d89c.txt pathfile\n",
      "There are 260 unique WiFi APs in  test/0c06cc9f21d172618d74c6c8.txt pathfile\n",
      "There are 190 unique WiFi APs in  test/146035943a1482883ed98570.txt pathfile\n",
      "There are 562 unique WiFi APs in  test/1ef2771dfea25d508142ba06.txt pathfile\n",
      "There are 625 unique WiFi APs in  test/3506b3b626f494b0f0b934ca.txt pathfile\n",
      "There are 563 unique WiFi APs in  test/3e0aebb66ef39150bbc27c24.txt pathfile\n",
      "There are 557 unique WiFi APs in  test/3e1d46017fbfcc8136bd1e9b.txt pathfile\n",
      "There are 605 unique WiFi APs in  test/412da1891c4780f6f0f7f4bc.txt pathfile\n",
      "There are 265 unique WiFi APs in  test/6d89334316127640cff99800.txt pathfile\n",
      "There are 300 unique WiFi APs in  test/72963a8c7eb520c56f88a536.txt pathfile\n",
      "There are 308 unique WiFi APs in  test/7d2d723a30cce824aad9915b.txt pathfile\n",
      "There are 481 unique WiFi APs in  test/947e17f82dbddfbdb4cb2447.txt pathfile\n",
      "There are 595 unique WiFi APs in  test/986924433ab01afa81a59e7a.txt pathfile\n",
      "There are 418 unique WiFi APs in  test/a3c5aadf824a220327e9cdc6.txt pathfile\n",
      "There are 303 unique WiFi APs in  test/ac1a2e8f11ab64d729199969.txt pathfile\n",
      "There are 611 unique WiFi APs in  test/bb84ab5e77fc9f5fdbd52827.txt pathfile\n",
      "There are 269 unique WiFi APs in  test/bd0f2c8626679895f3338ca5.txt pathfile\n",
      "There are 243 unique WiFi APs in  test/bd5921cd1008382e2f537b53.txt pathfile\n",
      "There are 568 unique WiFi APs in  test/ce80c08d743f15e6586741f6.txt pathfile\n",
      "There are 138 unique WiFi APs in  test/d592885af4e6e380c376dc55.txt pathfile\n",
      "There are 458 unique WiFi APs in  test/d6e09245089299ec8e5173e7.txt pathfile\n",
      "There are 381 unique WiFi APs in  test/dd4cbd69218f610f27cf33c8.txt pathfile\n",
      "There are 653 unique WiFi APs in  test/de9cef0d69383e47bd74a64c.txt pathfile\n",
      "There are 583 unique WiFi APs in  test/e91afaba9603500e8e28a454.txt pathfile\n",
      "There are 578 unique WiFi APs in  test/ea777463a91a1293fc79fc52.txt pathfile\n",
      "There are 675 unique WiFi APs in  test/ec9aee8ee72b1902bd83edf5.txt pathfile\n",
      "There are 451 unique WiFi APs in  test/ed77f28aeaf89b317bc380fa.txt pathfile\n",
      "There are 204 unique WiFi APs in  test/ffcd9524c80c0fa5bb859eaf.txt pathfile\n"
     ]
    }
   ],
   "source": [
    "siteTestDataWiFiInfo = {}\n",
    "\n",
    "for idx, pathFile in enumerate(sampleTestSitePathList):    \n",
    "    # get path name from file name\n",
    "    pathName = pathFile.split(\"/\")[1].replace(\".txt\", \"\")\n",
    "    \n",
    "    # extract pathFile data\n",
    "    pathFileData = read_data_file(pathFile)\n",
    "    \n",
    "    # compute unique WiFi access points list\n",
    "    pathUniqueWiFiAPList = getUniqueWiFiAPList(pathFileData)\n",
    "    print(f\"There are {len(pathUniqueWiFiAPList)} unique WiFi APs in  {pathFile} pathfile\")\n",
    "    \n",
    "    siteTestDataWiFiInfo[pathName] = { \"pathFileData\": pathFileData, \n",
    "                               \"pathUniqueWiFiAPList\": pathUniqueWiFiAPList }"
   ]
  },
  {
   "cell_type": "code",
   "execution_count": 12,
   "id": "expensive-tactics",
   "metadata": {},
   "outputs": [
    {
     "name": "stdout",
     "output_type": "stream",
     "text": [
      "There are 12948 wifi APs in samplesite\n",
      "There are 2435 unique wifi APs in samplesite\n"
     ]
    }
   ],
   "source": [
    "siteTotalWiFiAPList = []\n",
    "for k,v in siteTestDataWiFiInfo.items():\n",
    "    siteTotalWiFiAPList.extend(v[\"pathUniqueWiFiAPList\"])\n",
    "\n",
    "print(f\"There are {len(siteTotalWiFiAPList)} wifi APs in samplesite\")\n",
    "siteTestDataUniqueWiFiAPList = list(set(siteTotalWiFiAPList))\n",
    "print(f\"There are {len(siteTestDataUniqueWiFiAPList)} unique wifi APs in samplesite\")"
   ]
  },
  {
   "cell_type": "markdown",
   "id": "official-sweet",
   "metadata": {},
   "source": [
    "## Train file WiFi APs list"
   ]
  },
  {
   "cell_type": "code",
   "execution_count": 13,
   "id": "scientific-sullivan",
   "metadata": {},
   "outputs": [
    {
     "name": "stdout",
     "output_type": "stream",
     "text": [
      "Floors at 5a0546857ecc773753327266 Train Data = ['F4', 'F1', 'F2', 'F3', 'B1']\n",
      "There are 86 Path files at 5a0546857ecc773753327266/F4 Floor Train data\n",
      "Floor F4 done\n",
      "There are 131 Path files at 5a0546857ecc773753327266/F1 Floor Train data\n",
      "Floor F1 done\n",
      "There are 110 Path files at 5a0546857ecc773753327266/F2 Floor Train data\n",
      "Floor F2 done\n",
      "There are 78 Path files at 5a0546857ecc773753327266/F3 Floor Train data\n",
      "(0,)\n",
      "(0,)\n",
      "Floor F3 done\n",
      "There are 109 Path files at 5a0546857ecc773753327266/B1 Floor Train data\n",
      "Floor B1 done\n"
     ]
    }
   ],
   "source": [
    "floorsInSite = os.listdir(f\"{TRAIN_FOLDER}/{sampleTestSite}\")\n",
    "print(f\"Floors at {sampleTestSite} Train Data = {floorsInSite}\")\n",
    "\n",
    "\n",
    "siteTrainDataFloorWifiInfo = {}\n",
    "\n",
    "# iterate through floors in site\n",
    "for floor in floorsInSite:\n",
    "    tempList = os.listdir(f\"{TRAIN_FOLDER}/{sampleTestSite}/{floor}\")\n",
    "    floorPathFileList = [f\"{TRAIN_FOLDER}/{sampleTestSite}/{floor}/{x}\" for x in tempList]\n",
    "    print(f\"There are {len(floorPathFileList)} Path files at {sampleTestSite}/{floor} Floor Train data\")\n",
    "    \n",
    "    siteTrainDataFloorWifiInfo[floor] = {}\n",
    "    siteTrainDataFloorWifiInfo[floor][\"total\"] = []\n",
    "    \n",
    "    for idx, pathFile in enumerate(floorPathFileList): \n",
    "    \n",
    "        # get path name from file name\n",
    "        pathName = pathFile.split(\"/\")[3].replace(\".txt\", \"\")\n",
    "\n",
    "        # extract pathFile data\n",
    "        pathFileData = read_data_file(pathFile)\n",
    "\n",
    "        try:\n",
    "            # compute unique WiFi access points list\n",
    "            pathUniqueWiFiAPList = getUniqueWiFiAPList(pathFileData)\n",
    "        except:\n",
    "            print(pathFileData.wifi.shape)\n",
    "\n",
    "        siteTrainDataFloorWifiInfo[floor][pathName] = pathFileData\n",
    "        siteTrainDataFloorWifiInfo[floor][\"total\"].extend(pathUniqueWiFiAPList)\n",
    "    print(f\"Floor {floor} done\")"
   ]
  },
  {
   "cell_type": "code",
   "execution_count": 14,
   "id": "russian-expense",
   "metadata": {},
   "outputs": [
    {
     "name": "stdout",
     "output_type": "stream",
     "text": [
      "There are 30852 total wifi APs in F4 floor\n",
      "There are 1555 unique wifi APs in F4 floor\n",
      "There are 60908 total wifi APs in F1 floor\n",
      "There are 2052 unique wifi APs in F1 floor\n",
      "There are 53733 total wifi APs in F2 floor\n",
      "There are 1965 unique wifi APs in F2 floor\n",
      "There are 29399 total wifi APs in F3 floor\n",
      "There are 1534 unique wifi APs in F3 floor\n",
      "There are 21390 total wifi APs in B1 floor\n",
      "There are 1374 unique wifi APs in B1 floor\n"
     ]
    }
   ],
   "source": [
    "for floor in floorsInSite:\n",
    "    print(f\"There are {len(siteTrainDataFloorWifiInfo[floor]['total'])} total wifi APs in {floor} floor\")\n",
    "    siteTrainDataFloorWifiInfo[floor][\"unique\"] = list(set(siteTrainDataFloorWifiInfo[floor][\"total\"]))\n",
    "    print(f\"There are {len(siteTrainDataFloorWifiInfo[floor]['unique'])} unique wifi APs in {floor} floor\")"
   ]
  },
  {
   "cell_type": "code",
   "execution_count": 15,
   "id": "tropical-humor",
   "metadata": {},
   "outputs": [
    {
     "data": {
      "text/plain": [
       "dict_keys(['F4', 'F1', 'F2', 'F3', 'B1'])"
      ]
     },
     "execution_count": 15,
     "metadata": {},
     "output_type": "execute_result"
    }
   ],
   "source": [
    "siteTrainDataFloorWifiInfo.keys()"
   ]
  },
  {
   "cell_type": "code",
   "execution_count": 19,
   "id": "concerned-center",
   "metadata": {},
   "outputs": [
    {
     "data": {
      "text/plain": [
       "dict_keys(['046cfa46be49fc10834815c6', '05d052dde78384b0c543d89c', '0c06cc9f21d172618d74c6c8', '146035943a1482883ed98570', '1ef2771dfea25d508142ba06', '3506b3b626f494b0f0b934ca', '3e0aebb66ef39150bbc27c24', '3e1d46017fbfcc8136bd1e9b', '412da1891c4780f6f0f7f4bc', '6d89334316127640cff99800', '72963a8c7eb520c56f88a536', '7d2d723a30cce824aad9915b', '947e17f82dbddfbdb4cb2447', '986924433ab01afa81a59e7a', 'a3c5aadf824a220327e9cdc6', 'ac1a2e8f11ab64d729199969', 'bb84ab5e77fc9f5fdbd52827', 'bd0f2c8626679895f3338ca5', 'bd5921cd1008382e2f537b53', 'ce80c08d743f15e6586741f6', 'd592885af4e6e380c376dc55', 'd6e09245089299ec8e5173e7', 'dd4cbd69218f610f27cf33c8', 'de9cef0d69383e47bd74a64c', 'e91afaba9603500e8e28a454', 'ea777463a91a1293fc79fc52', 'ec9aee8ee72b1902bd83edf5', 'ed77f28aeaf89b317bc380fa', 'ffcd9524c80c0fa5bb859eaf'])"
      ]
     },
     "execution_count": 19,
     "metadata": {},
     "output_type": "execute_result"
    }
   ],
   "source": [
    "siteTestDataWiFiInfo.keys()"
   ]
  },
  {
   "cell_type": "code",
   "execution_count": 20,
   "id": "waiting-columbia",
   "metadata": {},
   "outputs": [
    {
     "data": {
      "text/plain": [
       "dict_keys(['pathFileData', 'pathUniqueWiFiAPList'])"
      ]
     },
     "execution_count": 20,
     "metadata": {},
     "output_type": "execute_result"
    }
   ],
   "source": [
    "siteTestDataWiFiInfo[\"046cfa46be49fc10834815c6\"].keys()"
   ]
  },
  {
   "cell_type": "code",
   "execution_count": 21,
   "id": "automated-willow",
   "metadata": {},
   "outputs": [
    {
     "data": {
      "text/plain": [
       "29"
      ]
     },
     "execution_count": 21,
     "metadata": {},
     "output_type": "execute_result"
    }
   ],
   "source": [
    "len(siteTestDataWiFiInfo.keys())"
   ]
  },
  {
   "cell_type": "code",
   "execution_count": 22,
   "id": "nasty-helicopter",
   "metadata": {},
   "outputs": [],
   "source": [
    "site_df = pd.DataFrame()\n",
    "site_df[\"pathFile\"] = siteTestDataWiFiInfo.keys()"
   ]
  },
  {
   "cell_type": "code",
   "execution_count": 23,
   "id": "whole-warren",
   "metadata": {},
   "outputs": [
    {
     "data": {
      "text/html": [
       "<div>\n",
       "<style scoped>\n",
       "    .dataframe tbody tr th:only-of-type {\n",
       "        vertical-align: middle;\n",
       "    }\n",
       "\n",
       "    .dataframe tbody tr th {\n",
       "        vertical-align: top;\n",
       "    }\n",
       "\n",
       "    .dataframe thead th {\n",
       "        text-align: right;\n",
       "    }\n",
       "</style>\n",
       "<table border=\"1\" class=\"dataframe\">\n",
       "  <thead>\n",
       "    <tr style=\"text-align: right;\">\n",
       "      <th></th>\n",
       "      <th>pathFile</th>\n",
       "    </tr>\n",
       "  </thead>\n",
       "  <tbody>\n",
       "    <tr>\n",
       "      <th>0</th>\n",
       "      <td>046cfa46be49fc10834815c6</td>\n",
       "    </tr>\n",
       "    <tr>\n",
       "      <th>1</th>\n",
       "      <td>05d052dde78384b0c543d89c</td>\n",
       "    </tr>\n",
       "    <tr>\n",
       "      <th>2</th>\n",
       "      <td>0c06cc9f21d172618d74c6c8</td>\n",
       "    </tr>\n",
       "    <tr>\n",
       "      <th>3</th>\n",
       "      <td>146035943a1482883ed98570</td>\n",
       "    </tr>\n",
       "    <tr>\n",
       "      <th>4</th>\n",
       "      <td>1ef2771dfea25d508142ba06</td>\n",
       "    </tr>\n",
       "  </tbody>\n",
       "</table>\n",
       "</div>"
      ],
      "text/plain": [
       "                   pathFile\n",
       "0  046cfa46be49fc10834815c6\n",
       "1  05d052dde78384b0c543d89c\n",
       "2  0c06cc9f21d172618d74c6c8\n",
       "3  146035943a1482883ed98570\n",
       "4  1ef2771dfea25d508142ba06"
      ]
     },
     "execution_count": 23,
     "metadata": {},
     "output_type": "execute_result"
    }
   ],
   "source": [
    "site_df.head()"
   ]
  },
  {
   "cell_type": "code",
   "execution_count": 26,
   "id": "grave-worker",
   "metadata": {},
   "outputs": [
    {
     "name": "stdout",
     "output_type": "stream",
     "text": [
      "F4 - 046cfa46be49fc10834815c6 matchcount = 502\n",
      "F4 - 05d052dde78384b0c543d89c matchcount = 303\n",
      "F4 - 0c06cc9f21d172618d74c6c8 matchcount = 19\n",
      "F4 - 146035943a1482883ed98570 matchcount = 9\n",
      "F4 - 1ef2771dfea25d508142ba06 matchcount = 423\n",
      "F4 - 3506b3b626f494b0f0b934ca matchcount = 447\n",
      "F4 - 3e0aebb66ef39150bbc27c24 matchcount = 377\n",
      "F4 - 3e1d46017fbfcc8136bd1e9b matchcount = 431\n",
      "F4 - 412da1891c4780f6f0f7f4bc matchcount = 448\n",
      "F4 - 6d89334316127640cff99800 matchcount = 46\n",
      "F4 - 72963a8c7eb520c56f88a536 matchcount = 82\n",
      "F4 - 7d2d723a30cce824aad9915b matchcount = 97\n",
      "F4 - 947e17f82dbddfbdb4cb2447 matchcount = 343\n",
      "F4 - 986924433ab01afa81a59e7a matchcount = 403\n",
      "F4 - a3c5aadf824a220327e9cdc6 matchcount = 392\n",
      "F4 - ac1a2e8f11ab64d729199969 matchcount = 90\n",
      "F4 - bb84ab5e77fc9f5fdbd52827 matchcount = 456\n",
      "F4 - bd0f2c8626679895f3338ca5 matchcount = 5\n",
      "F4 - bd5921cd1008382e2f537b53 matchcount = 62\n",
      "F4 - ce80c08d743f15e6586741f6 matchcount = 407\n",
      "F4 - d592885af4e6e380c376dc55 matchcount = 16\n",
      "F4 - d6e09245089299ec8e5173e7 matchcount = 340\n",
      "F4 - dd4cbd69218f610f27cf33c8 matchcount = 345\n",
      "F4 - de9cef0d69383e47bd74a64c matchcount = 458\n",
      "F4 - e91afaba9603500e8e28a454 matchcount = 388\n",
      "F4 - ea777463a91a1293fc79fc52 matchcount = 416\n",
      "F4 - ec9aee8ee72b1902bd83edf5 matchcount = 491\n",
      "F4 - ed77f28aeaf89b317bc380fa matchcount = 445\n",
      "F4 - ffcd9524c80c0fa5bb859eaf matchcount = 4\n",
      "F1 - 046cfa46be49fc10834815c6 matchcount = 666\n",
      "F1 - 05d052dde78384b0c543d89c matchcount = 436\n",
      "F1 - 0c06cc9f21d172618d74c6c8 matchcount = 90\n",
      "F1 - 146035943a1482883ed98570 matchcount = 23\n",
      "F1 - 1ef2771dfea25d508142ba06 matchcount = 562\n",
      "F1 - 3506b3b626f494b0f0b934ca matchcount = 620\n",
      "F1 - 3e0aebb66ef39150bbc27c24 matchcount = 562\n",
      "F1 - 3e1d46017fbfcc8136bd1e9b matchcount = 557\n",
      "F1 - 412da1891c4780f6f0f7f4bc matchcount = 604\n",
      "F1 - 6d89334316127640cff99800 matchcount = 92\n",
      "F1 - 72963a8c7eb520c56f88a536 matchcount = 157\n",
      "F1 - 7d2d723a30cce824aad9915b matchcount = 175\n",
      "F1 - 947e17f82dbddfbdb4cb2447 matchcount = 478\n",
      "F1 - 986924433ab01afa81a59e7a matchcount = 568\n",
      "F1 - a3c5aadf824a220327e9cdc6 matchcount = 403\n",
      "F1 - ac1a2e8f11ab64d729199969 matchcount = 165\n",
      "F1 - bb84ab5e77fc9f5fdbd52827 matchcount = 611\n",
      "F1 - bd0f2c8626679895f3338ca5 matchcount = 26\n",
      "F1 - bd5921cd1008382e2f537b53 matchcount = 128\n",
      "F1 - ce80c08d743f15e6586741f6 matchcount = 568\n",
      "F1 - d592885af4e6e380c376dc55 matchcount = 51\n",
      "F1 - d6e09245089299ec8e5173e7 matchcount = 455\n",
      "F1 - dd4cbd69218f610f27cf33c8 matchcount = 337\n",
      "F1 - de9cef0d69383e47bd74a64c matchcount = 647\n",
      "F1 - e91afaba9603500e8e28a454 matchcount = 583\n",
      "F1 - ea777463a91a1293fc79fc52 matchcount = 574\n",
      "F1 - ec9aee8ee72b1902bd83edf5 matchcount = 674\n",
      "F1 - ed77f28aeaf89b317bc380fa matchcount = 413\n",
      "F1 - ffcd9524c80c0fa5bb859eaf matchcount = 20\n",
      "F2 - 046cfa46be49fc10834815c6 matchcount = 635\n",
      "F2 - 05d052dde78384b0c543d89c matchcount = 417\n",
      "F2 - 0c06cc9f21d172618d74c6c8 matchcount = 29\n",
      "F2 - 146035943a1482883ed98570 matchcount = 8\n",
      "F2 - 1ef2771dfea25d508142ba06 matchcount = 540\n",
      "F2 - 3506b3b626f494b0f0b934ca matchcount = 567\n",
      "F2 - 3e0aebb66ef39150bbc27c24 matchcount = 493\n",
      "F2 - 3e1d46017fbfcc8136bd1e9b matchcount = 536\n",
      "F2 - 412da1891c4780f6f0f7f4bc matchcount = 567\n",
      "F2 - 6d89334316127640cff99800 matchcount = 58\n",
      "F2 - 72963a8c7eb520c56f88a536 matchcount = 109\n",
      "F2 - 7d2d723a30cce824aad9915b matchcount = 125\n",
      "F2 - 947e17f82dbddfbdb4cb2447 matchcount = 434\n",
      "F2 - 986924433ab01afa81a59e7a matchcount = 525\n",
      "F2 - a3c5aadf824a220327e9cdc6 matchcount = 417\n",
      "F2 - ac1a2e8f11ab64d729199969 matchcount = 114\n",
      "F2 - bb84ab5e77fc9f5fdbd52827 matchcount = 572\n",
      "F2 - bd0f2c8626679895f3338ca5 matchcount = 9\n",
      "F2 - bd5921cd1008382e2f537b53 matchcount = 75\n",
      "F2 - ce80c08d743f15e6586741f6 matchcount = 552\n",
      "F2 - d592885af4e6e380c376dc55 matchcount = 21\n",
      "F2 - d6e09245089299ec8e5173e7 matchcount = 430\n",
      "F2 - dd4cbd69218f610f27cf33c8 matchcount = 354\n",
      "F2 - de9cef0d69383e47bd74a64c matchcount = 583\n",
      "F2 - e91afaba9603500e8e28a454 matchcount = 518\n",
      "F2 - ea777463a91a1293fc79fc52 matchcount = 529\n",
      "F2 - ec9aee8ee72b1902bd83edf5 matchcount = 623\n",
      "F2 - ed77f28aeaf89b317bc380fa matchcount = 438\n",
      "F2 - ffcd9524c80c0fa5bb859eaf matchcount = 5\n",
      "F3 - 046cfa46be49fc10834815c6 matchcount = 509\n",
      "F3 - 05d052dde78384b0c543d89c matchcount = 311\n",
      "F3 - 0c06cc9f21d172618d74c6c8 matchcount = 20\n",
      "F3 - 146035943a1482883ed98570 matchcount = 5\n",
      "F3 - 1ef2771dfea25d508142ba06 matchcount = 424\n",
      "F3 - 3506b3b626f494b0f0b934ca matchcount = 436\n",
      "F3 - 3e0aebb66ef39150bbc27c24 matchcount = 374\n",
      "F3 - 3e1d46017fbfcc8136bd1e9b matchcount = 439\n",
      "F3 - 412da1891c4780f6f0f7f4bc matchcount = 461\n",
      "F3 - 6d89334316127640cff99800 matchcount = 44\n",
      "F3 - 72963a8c7eb520c56f88a536 matchcount = 82\n",
      "F3 - 7d2d723a30cce824aad9915b matchcount = 97\n",
      "F3 - 947e17f82dbddfbdb4cb2447 matchcount = 346\n",
      "F3 - 986924433ab01afa81a59e7a matchcount = 410\n",
      "F3 - a3c5aadf824a220327e9cdc6 matchcount = 407\n",
      "F3 - ac1a2e8f11ab64d729199969 matchcount = 90\n",
      "F3 - bb84ab5e77fc9f5fdbd52827 matchcount = 464\n",
      "F3 - bd0f2c8626679895f3338ca5 matchcount = 2\n",
      "F3 - bd5921cd1008382e2f537b53 matchcount = 59\n",
      "F3 - ce80c08d743f15e6586741f6 matchcount = 412\n",
      "F3 - d592885af4e6e380c376dc55 matchcount = 15\n",
      "F3 - d6e09245089299ec8e5173e7 matchcount = 339\n",
      "F3 - dd4cbd69218f610f27cf33c8 matchcount = 364\n",
      "F3 - de9cef0d69383e47bd74a64c matchcount = 457\n",
      "F3 - e91afaba9603500e8e28a454 matchcount = 385\n",
      "F3 - ea777463a91a1293fc79fc52 matchcount = 409\n",
      "F3 - ec9aee8ee72b1902bd83edf5 matchcount = 490\n",
      "F3 - ed77f28aeaf89b317bc380fa matchcount = 451\n",
      "F3 - ffcd9524c80c0fa5bb859eaf matchcount = 4\n",
      "B1 - 046cfa46be49fc10834815c6 matchcount = 213\n",
      "B1 - 05d052dde78384b0c543d89c matchcount = 62\n",
      "B1 - 0c06cc9f21d172618d74c6c8 matchcount = 260\n",
      "B1 - 146035943a1482883ed98570 matchcount = 189\n",
      "B1 - 1ef2771dfea25d508142ba06 matchcount = 86\n",
      "B1 - 3506b3b626f494b0f0b934ca matchcount = 283\n",
      "B1 - 3e0aebb66ef39150bbc27c24 matchcount = 273\n",
      "B1 - 3e1d46017fbfcc8136bd1e9b matchcount = 170\n",
      "B1 - 412da1891c4780f6f0f7f4bc matchcount = 130\n",
      "B1 - 6d89334316127640cff99800 matchcount = 264\n",
      "B1 - 72963a8c7eb520c56f88a536 matchcount = 299\n",
      "B1 - 7d2d723a30cce824aad9915b matchcount = 308\n",
      "B1 - 947e17f82dbddfbdb4cb2447 matchcount = 278\n",
      "B1 - 986924433ab01afa81a59e7a matchcount = 234\n",
      "B1 - a3c5aadf824a220327e9cdc6 matchcount = 79\n",
      "B1 - ac1a2e8f11ab64d729199969 matchcount = 303\n",
      "B1 - bb84ab5e77fc9f5fdbd52827 matchcount = 114\n",
      "B1 - bd0f2c8626679895f3338ca5 matchcount = 267\n",
      "B1 - bd5921cd1008382e2f537b53 matchcount = 239\n",
      "B1 - ce80c08d743f15e6586741f6 matchcount = 91\n",
      "B1 - d592885af4e6e380c376dc55 matchcount = 138\n",
      "B1 - d6e09245089299ec8e5173e7 matchcount = 262\n",
      "B1 - dd4cbd69218f610f27cf33c8 matchcount = 40\n",
      "B1 - de9cef0d69383e47bd74a64c matchcount = 257\n",
      "B1 - e91afaba9603500e8e28a454 matchcount = 333\n",
      "B1 - ea777463a91a1293fc79fc52 matchcount = 257\n",
      "B1 - ec9aee8ee72b1902bd83edf5 matchcount = 239\n",
      "B1 - ed77f28aeaf89b317bc380fa matchcount = 105\n",
      "B1 - ffcd9524c80c0fa5bb859eaf matchcount = 204\n"
     ]
    }
   ],
   "source": [
    "for floor in floorsInSite:\n",
    "    floorWiFiSet = set(siteTrainDataFloorWifiInfo[floor]['unique'])\n",
    "    \n",
    "    wifimatchcount = [] \n",
    "    for _,key in enumerate(siteTestDataWiFiInfo.keys()):\n",
    "        testPathWiFiSet = set(siteTestDataWiFiInfo[key][\"pathUniqueWiFiAPList\"])\n",
    "        matchlist = list(floorWiFiSet.intersection(testPathWiFiSet))\n",
    "        print(f\"{floor} - {key} matchcount = {len(matchlist)}\")\n",
    "        wifimatchcount.append(len(matchlist))\n",
    "    site_df[floor] = wifimatchcount"
   ]
  },
  {
   "cell_type": "code",
   "execution_count": 27,
   "id": "preceding-ballet",
   "metadata": {},
   "outputs": [],
   "source": [
    "site_df.to_csv(f\"{sampleTestSite}_output.csv\")"
   ]
  },
  {
   "cell_type": "code",
   "execution_count": null,
   "id": "optical-responsibility",
   "metadata": {},
   "outputs": [],
   "source": []
  }
 ],
 "metadata": {
  "kernelspec": {
   "display_name": "kaggle",
   "language": "python",
   "name": "kaggle"
  },
  "language_info": {
   "codemirror_mode": {
    "name": "ipython",
    "version": 3
   },
   "file_extension": ".py",
   "mimetype": "text/x-python",
   "name": "python",
   "nbconvert_exporter": "python",
   "pygments_lexer": "ipython3",
   "version": "3.8.8"
  }
 },
 "nbformat": 4,
 "nbformat_minor": 5
}
