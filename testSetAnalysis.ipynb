{
 "cells": [
  {
   "cell_type": "code",
   "execution_count": 12,
   "id": "another-hygiene",
   "metadata": {},
   "outputs": [],
   "source": [
    "import pandas as pd\n",
    "import numpy as np\n",
    "import os"
   ]
  },
  {
   "cell_type": "code",
   "execution_count": 13,
   "id": "tight-farming",
   "metadata": {},
   "outputs": [],
   "source": [
    "sampleSubmissionCSV = pd.read_csv('sample_submission.csv')"
   ]
  },
  {
   "cell_type": "code",
   "execution_count": 14,
   "id": "marked-sight",
   "metadata": {},
   "outputs": [
    {
     "data": {
      "text/html": [
       "<div>\n",
       "<style scoped>\n",
       "    .dataframe tbody tr th:only-of-type {\n",
       "        vertical-align: middle;\n",
       "    }\n",
       "\n",
       "    .dataframe tbody tr th {\n",
       "        vertical-align: top;\n",
       "    }\n",
       "\n",
       "    .dataframe thead th {\n",
       "        text-align: right;\n",
       "    }\n",
       "</style>\n",
       "<table border=\"1\" class=\"dataframe\">\n",
       "  <thead>\n",
       "    <tr style=\"text-align: right;\">\n",
       "      <th></th>\n",
       "      <th>site_path_timestamp</th>\n",
       "      <th>floor</th>\n",
       "      <th>x</th>\n",
       "      <th>y</th>\n",
       "    </tr>\n",
       "  </thead>\n",
       "  <tbody>\n",
       "    <tr>\n",
       "      <th>0</th>\n",
       "      <td>5a0546857ecc773753327266_046cfa46be49fc1083481...</td>\n",
       "      <td>0</td>\n",
       "      <td>75.0</td>\n",
       "      <td>75.0</td>\n",
       "    </tr>\n",
       "    <tr>\n",
       "      <th>1</th>\n",
       "      <td>5a0546857ecc773753327266_046cfa46be49fc1083481...</td>\n",
       "      <td>0</td>\n",
       "      <td>75.0</td>\n",
       "      <td>75.0</td>\n",
       "    </tr>\n",
       "    <tr>\n",
       "      <th>2</th>\n",
       "      <td>5a0546857ecc773753327266_046cfa46be49fc1083481...</td>\n",
       "      <td>0</td>\n",
       "      <td>75.0</td>\n",
       "      <td>75.0</td>\n",
       "    </tr>\n",
       "    <tr>\n",
       "      <th>3</th>\n",
       "      <td>5a0546857ecc773753327266_046cfa46be49fc1083481...</td>\n",
       "      <td>0</td>\n",
       "      <td>75.0</td>\n",
       "      <td>75.0</td>\n",
       "    </tr>\n",
       "    <tr>\n",
       "      <th>4</th>\n",
       "      <td>5a0546857ecc773753327266_046cfa46be49fc1083481...</td>\n",
       "      <td>0</td>\n",
       "      <td>75.0</td>\n",
       "      <td>75.0</td>\n",
       "    </tr>\n",
       "  </tbody>\n",
       "</table>\n",
       "</div>"
      ],
      "text/plain": [
       "                                 site_path_timestamp  floor     x     y\n",
       "0  5a0546857ecc773753327266_046cfa46be49fc1083481...      0  75.0  75.0\n",
       "1  5a0546857ecc773753327266_046cfa46be49fc1083481...      0  75.0  75.0\n",
       "2  5a0546857ecc773753327266_046cfa46be49fc1083481...      0  75.0  75.0\n",
       "3  5a0546857ecc773753327266_046cfa46be49fc1083481...      0  75.0  75.0\n",
       "4  5a0546857ecc773753327266_046cfa46be49fc1083481...      0  75.0  75.0"
      ]
     },
     "execution_count": 14,
     "metadata": {},
     "output_type": "execute_result"
    }
   ],
   "source": [
    "sampleSubmissionCSV.head()"
   ]
  },
  {
   "cell_type": "code",
   "execution_count": 15,
   "id": "greek-header",
   "metadata": {},
   "outputs": [
    {
     "data": {
      "text/html": [
       "<div>\n",
       "<style scoped>\n",
       "    .dataframe tbody tr th:only-of-type {\n",
       "        vertical-align: middle;\n",
       "    }\n",
       "\n",
       "    .dataframe tbody tr th {\n",
       "        vertical-align: top;\n",
       "    }\n",
       "\n",
       "    .dataframe thead th {\n",
       "        text-align: right;\n",
       "    }\n",
       "</style>\n",
       "<table border=\"1\" class=\"dataframe\">\n",
       "  <thead>\n",
       "    <tr style=\"text-align: right;\">\n",
       "      <th></th>\n",
       "      <th>0</th>\n",
       "      <th>1</th>\n",
       "      <th>2</th>\n",
       "    </tr>\n",
       "  </thead>\n",
       "  <tbody>\n",
       "    <tr>\n",
       "      <th>0</th>\n",
       "      <td>5a0546857ecc773753327266</td>\n",
       "      <td>046cfa46be49fc10834815c6</td>\n",
       "      <td>0000000000009</td>\n",
       "    </tr>\n",
       "    <tr>\n",
       "      <th>1</th>\n",
       "      <td>5a0546857ecc773753327266</td>\n",
       "      <td>046cfa46be49fc10834815c6</td>\n",
       "      <td>0000000009017</td>\n",
       "    </tr>\n",
       "    <tr>\n",
       "      <th>2</th>\n",
       "      <td>5a0546857ecc773753327266</td>\n",
       "      <td>046cfa46be49fc10834815c6</td>\n",
       "      <td>0000000015326</td>\n",
       "    </tr>\n",
       "  </tbody>\n",
       "</table>\n",
       "</div>"
      ],
      "text/plain": [
       "                          0                         1              2\n",
       "0  5a0546857ecc773753327266  046cfa46be49fc10834815c6  0000000000009\n",
       "1  5a0546857ecc773753327266  046cfa46be49fc10834815c6  0000000009017\n",
       "2  5a0546857ecc773753327266  046cfa46be49fc10834815c6  0000000015326"
      ]
     },
     "execution_count": 15,
     "metadata": {},
     "output_type": "execute_result"
    }
   ],
   "source": [
    "testSitePathTimestampData = sampleSubmissionCSV['site_path_timestamp'].str.split('_', expand=True)\n",
    "testSitePathTimestampData.head(3)"
   ]
  },
  {
   "cell_type": "code",
   "execution_count": 16,
   "id": "absent-charity",
   "metadata": {},
   "outputs": [
    {
     "name": "stdout",
     "output_type": "stream",
     "text": [
      "testSitePathTimestampData.columns =  RangeIndex(start=0, stop=3, step=1)\n"
     ]
    }
   ],
   "source": [
    "print(\"testSitePathTimestampData.columns = \", testSitePathTimestampData.columns)"
   ]
  },
  {
   "cell_type": "code",
   "execution_count": 18,
   "id": "executed-optimum",
   "metadata": {},
   "outputs": [
    {
     "name": "stdout",
     "output_type": "stream",
     "text": [
      "Number of train sites 204\n",
      "Number of test sites 24\n"
     ]
    }
   ],
   "source": [
    "# testSites listed as separate folders under train/\n",
    "trainSitesList = os.listdir('train/')\n",
    "print(f\"Number of train sites {len(trainSitesList)}\")\n",
    "\n",
    "uniqueTestSitesList = testSitePathTimestampData.loc[:,0].unique().tolist()\n",
    "print(f\"Number of test sites {len(uniqueTestSitesList)}\")"
   ]
  },
  {
   "cell_type": "code",
   "execution_count": 20,
   "id": "crude-distribution",
   "metadata": {},
   "outputs": [
    {
     "data": {
      "text/plain": [
       "['5a0546857ecc773753327266',\n",
       " '5c3c44b80379370013e0fd2b',\n",
       " '5d27075f03f801723c2e360f',\n",
       " '5d27096c03f801723c31e5e0',\n",
       " '5d27097f03f801723c320d97']"
      ]
     },
     "execution_count": 20,
     "metadata": {},
     "output_type": "execute_result"
    }
   ],
   "source": [
    "uniqueTestSitesList[0:5]"
   ]
  },
  {
   "cell_type": "code",
   "execution_count": null,
   "id": "suitable-space",
   "metadata": {},
   "outputs": [],
   "source": []
  }
 ],
 "metadata": {
  "kernelspec": {
   "display_name": "kaggle",
   "language": "python",
   "name": "kaggle"
  },
  "language_info": {
   "codemirror_mode": {
    "name": "ipython",
    "version": 3
   },
   "file_extension": ".py",
   "mimetype": "text/x-python",
   "name": "python",
   "nbconvert_exporter": "python",
   "pygments_lexer": "ipython3",
   "version": "3.8.8"
  }
 },
 "nbformat": 4,
 "nbformat_minor": 5
}
